{
 "cells": [
  {
   "cell_type": "code",
   "execution_count": 1,
   "metadata": {},
   "outputs": [
    {
     "data": {
      "text/plain": [
       "{'web-servers': ['Google Web Server']}"
      ]
     },
     "execution_count": 1,
     "metadata": {},
     "output_type": "execute_result"
    }
   ],
   "source": [
    "from builtwith import builtwith\n",
    "\n",
    "builtwith('http://www.google.com')"
   ]
  },
  {
   "cell_type": "code",
   "execution_count": 2,
   "metadata": {},
   "outputs": [
    {
     "data": {
      "text/plain": [
       "{'domain_name': ['NAVER.COM', 'naver.com'],\n",
       " 'registrar': 'Gabia, Inc.',\n",
       " 'whois_server': 'whois.gabia.com',\n",
       " 'referral_url': None,\n",
       " 'updated_date': [datetime.datetime(2016, 8, 5, 6, 37, 57),\n",
       "  datetime.datetime(2018, 2, 28, 11, 27, 15)],\n",
       " 'creation_date': [datetime.datetime(1997, 9, 12, 4, 0),\n",
       "  datetime.datetime(1997, 9, 12, 0, 0)],\n",
       " 'expiration_date': [datetime.datetime(2023, 9, 11, 4, 0),\n",
       "  datetime.datetime(2023, 9, 11, 0, 0)],\n",
       " 'name_servers': ['NS1.NAVER.COM',\n",
       "  'NS2.NAVER.COM',\n",
       "  'ns1.naver.com',\n",
       "  'ns2.naver.com'],\n",
       " 'status': ['clientDeleteProhibited https://icann.org/epp#clientDeleteProhibited',\n",
       "  'clientTransferProhibited https://icann.org/epp#clientTransferProhibited',\n",
       "  'clientUpdateProhibited https://icann.org/epp#clientUpdateProhibited',\n",
       "  'ok https://icann.org/epp#ok'],\n",
       " 'emails': ['white.4818@navercorp.com',\n",
       "  'dl_ssl@navercorp.com',\n",
       "  'abuse@gabia.com'],\n",
       " 'dnssec': 'unsigned',\n",
       " 'name': 'NAVER Corp.',\n",
       " 'org': 'NAVER Corp.',\n",
       " 'address': '6 Buljung-ro, Bundang-gu, Seongnam-si, Gyeonggi-do, 463-867, Korea',\n",
       " 'city': 'Gyeonggi',\n",
       " 'state': None,\n",
       " 'zipcode': '463463',\n",
       " 'country': 'KR'}"
      ]
     },
     "execution_count": 2,
     "metadata": {},
     "output_type": "execute_result"
    }
   ],
   "source": [
    "from whois import whois\n",
    "\n",
    "whois('http://www.naver.com')"
   ]
  },
  {
   "cell_type": "markdown",
   "metadata": {},
   "source": [
    "### 로봇파서\n",
    "answers qustions about whether or not a particular user agent can fetch a URL on the website that published the robots.txt"
   ]
  },
  {
   "cell_type": "code",
   "execution_count": 3,
   "metadata": {},
   "outputs": [
    {
     "data": {
      "text/plain": [
       "False"
      ]
     },
     "execution_count": 3,
     "metadata": {},
     "output_type": "execute_result"
    }
   ],
   "source": [
    "from urllib import robotparser\n",
    "\n",
    "parser = robotparser.RobotFileParser()\n",
    "parser.set_url('http://www.google.com/robots.txt')\n",
    "parser.read()\n",
    "parser.can_fetch('*', '/?h1=') "
   ]
  },
  {
   "cell_type": "code",
   "execution_count": 4,
   "metadata": {},
   "outputs": [
    {
     "data": {
      "text/plain": [
       "True"
      ]
     },
     "execution_count": 4,
     "metadata": {},
     "output_type": "execute_result"
    }
   ],
   "source": [
    "parser = robotparser.RobotFileParser()\n",
    "parser.set_url('http://cafe.naver.com/robots.txt')\n",
    "parser.read()\n",
    "parser.can_fetch('*', '/starbuckgossip')"
   ]
  },
  {
   "cell_type": "markdown",
   "metadata": {},
   "source": [
    "### urlib/request"
   ]
  },
  {
   "cell_type": "code",
   "execution_count": 2,
   "metadata": {},
   "outputs": [],
   "source": [
    "from urllib import request\n",
    "\n",
    "resp = request.urlopen('http://www.google.com')"
   ]
  },
  {
   "cell_type": "code",
   "execution_count": 3,
   "metadata": {},
   "outputs": [
    {
     "data": {
      "text/plain": [
       "'http://www.google.com'"
      ]
     },
     "execution_count": 3,
     "metadata": {},
     "output_type": "execute_result"
    }
   ],
   "source": [
    "resp.geturl()"
   ]
  },
  {
   "cell_type": "code",
   "execution_count": 4,
   "metadata": {},
   "outputs": [
    {
     "data": {
      "text/plain": [
       "200"
      ]
     },
     "execution_count": 4,
     "metadata": {},
     "output_type": "execute_result"
    }
   ],
   "source": [
    "resp.getcode()"
   ]
  },
  {
   "cell_type": "code",
   "execution_count": 5,
   "metadata": {},
   "outputs": [
    {
     "data": {
      "text/plain": [
       "[('Date', 'Wed, 15 May 2019 09:51:21 GMT'),\n",
       " ('Expires', '-1'),\n",
       " ('Cache-Control', 'private, max-age=0'),\n",
       " ('Content-Type', 'text/html; charset=ISO-8859-1'),\n",
       " ('P3P', 'CP=\"This is not a P3P policy! See g.co/p3phelp for more info.\"'),\n",
       " ('Server', 'gws'),\n",
       " ('X-XSS-Protection', '0'),\n",
       " ('X-Frame-Options', 'SAMEORIGIN'),\n",
       " ('Set-Cookie',\n",
       "  '1P_JAR=2019-05-15-09; expires=Fri, 14-Jun-2019 09:51:21 GMT; path=/; domain=.google.com'),\n",
       " ('Set-Cookie',\n",
       "  'NID=183=B23tGiqZeKiPF_GWlSK8kPf7bImZdPbQPy7aAFBvipZZ4--RLuqSf066jeqwiTyV_ohziZDdueWxeDDS0DtkaokM_V-EfitpNjc3MHddenk0XmO1yjOFDynrAYOQ8FlMmacMB96rNANDP4fQLVu8epQ_GV3nIQ68PVhRhlYjIVM; expires=Thu, 14-Nov-2019 09:51:21 GMT; path=/; domain=.google.com; HttpOnly'),\n",
       " ('Accept-Ranges', 'none'),\n",
       " ('Vary', 'Accept-Encoding'),\n",
       " ('Connection', 'close')]"
      ]
     },
     "execution_count": 5,
     "metadata": {},
     "output_type": "execute_result"
    }
   ],
   "source": [
    "resp.getheaders()"
   ]
  },
  {
   "cell_type": "markdown",
   "metadata": {},
   "source": [
    "# 박보영 검색"
   ]
  },
  {
   "cell_type": "code",
   "execution_count": 13,
   "metadata": {},
   "outputs": [
    {
     "name": "stdout",
     "output_type": "stream",
     "text": [
      "403\n",
      "Forbidden\n",
      "Content-Type: text/html; charset=UTF-8\n",
      "Date: Wed, 15 May 2019 10:09:31 GMT\n",
      "Server: gws\n",
      "Cache-Control: private\n",
      "X-XSS-Protection: 0\n",
      "X-Frame-Options: SAMEORIGIN\n",
      "Alt-Svc: quic=\":443\"; ma=2592000; v=\"46,44,43,39\"\n",
      "Accept-Ranges: none\n",
      "Vary: Accept-Encoding\n",
      "Connection: close\n",
      "\n",
      "\n"
     ]
    }
   ],
   "source": [
    "from urllib import error\n",
    "\n",
    "try:\n",
    "    resp = request.urlopen('https://www.google.com/search?ei=vjPIXLq4J5DmwQPElJOoDQ&q=%EB%B0%95%EB%B3%B4%EC%98%81&oq=%EB%B0%95%EB%B3%B4%EC%98%81&gs_l=psy-ab.3..0i67l3j0i131l3j0i67j0j0i131j0.3377.3949..4013...0.0..0.90.354.4......0....1..gws-wiz.nODVn5n3xr8')\n",
    "except error.HTTPError as e:\n",
    "    print(e.code)\n",
    "    print(e.reason)\n",
    "    print(e.headers)"
   ]
  },
  {
   "cell_type": "code",
   "execution_count": 14,
   "metadata": {},
   "outputs": [],
   "source": [
    "from urllib import parse\n",
    "\n",
    "url = 'https://www.google.com/search'\n",
    "header = {'user-agent':'Mozilla/5.0 (Windows NT 10.0; Win64; x64) AppleWebKit/537.36 (KHTML, like Gecko) Chrome/73.0.3683.103 Safari/537.36'}\n",
    "\n",
    "def download(url, params={}, retries=3):\n",
    "    resp = None\n",
    "    \n",
    "    try:\n",
    "        req = request.Request(url + '?' + parse.urlencode(params), headers=header)\n",
    "        resp = request.urlopen(req)\n",
    "    except error.HTTPError as e:\n",
    "        if 500 <= e.code < 600 and retries > 0:\n",
    "            resp = download(url, params, retries-1)\n",
    "        else:\n",
    "            print(e.code)\n",
    "            print(e.reason)\n",
    "            print(e.geturl())\n",
    "            print(e.headers)\n",
    "            \n",
    "    return resp"
   ]
  },
  {
   "cell_type": "code",
   "execution_count": 15,
   "metadata": {},
   "outputs": [
    {
     "data": {
      "text/plain": [
       "'q=%EB%B0%95%EB%B3%B4%EC%98%81'"
      ]
     },
     "execution_count": 15,
     "metadata": {},
     "output_type": "execute_result"
    }
   ],
   "source": [
    "params = {'q':'박보영'}\n",
    "parse.urlencode(params)"
   ]
  },
  {
   "cell_type": "code",
   "execution_count": 16,
   "metadata": {},
   "outputs": [
    {
     "data": {
      "text/plain": [
       "'https://www.google.com/urljoin'"
      ]
     },
     "execution_count": 16,
     "metadata": {},
     "output_type": "execute_result"
    }
   ],
   "source": [
    "parse.urlparse(url)\n",
    "parse.urljoin(url,'urljoin')"
   ]
  },
  {
   "cell_type": "code",
   "execution_count": 17,
   "metadata": {},
   "outputs": [
    {
     "data": {
      "text/plain": [
       "['https', 'www.google.com', '/search', '', 'q=%EB%B0%95%EB%B3%B4%EC%98%81', '']"
      ]
     },
     "execution_count": 17,
     "metadata": {},
     "output_type": "execute_result"
    }
   ],
   "source": [
    "result = parse.urlparse('https://www.google.com/search?q=%EB%B0%95%EB%B3%B4%EC%98%81')\n",
    "[_ for _ in result]"
   ]
  },
  {
   "cell_type": "code",
   "execution_count": 18,
   "metadata": {},
   "outputs": [
    {
     "data": {
      "text/plain": [
       "'박보영'"
      ]
     },
     "execution_count": 18,
     "metadata": {},
     "output_type": "execute_result"
    }
   ],
   "source": [
    "parse.unquote('%EB%B0%95%EB%B3%B4%EC%98%81')"
   ]
  },
  {
   "cell_type": "code",
   "execution_count": 19,
   "metadata": {},
   "outputs": [
    {
     "data": {
      "text/plain": [
       "('%EB%B0%95%20%EB%B3%B4%20%EC%98%81', '%EB%B0%95+%EB%B3%B4+%EC%98%81')"
      ]
     },
     "execution_count": 19,
     "metadata": {},
     "output_type": "execute_result"
    }
   ],
   "source": [
    "parse.quote('박 보 영'), parse.quote_plus('박 보 영')"
   ]
  },
  {
   "cell_type": "markdown",
   "metadata": {},
   "source": [
    "# requests"
   ]
  },
  {
   "cell_type": "code",
   "execution_count": 22,
   "metadata": {},
   "outputs": [],
   "source": [
    "import requests\n",
    "\n",
    "resp = requests.get('http://www.google.com/search', params={'q':'박보영'})\n",
    "# resp.text"
   ]
  },
  {
   "cell_type": "code",
   "execution_count": 23,
   "metadata": {},
   "outputs": [
    {
     "data": {
      "text/plain": [
       "(200,\n",
       " 'OK',\n",
       " {'Date': 'Wed, 15 May 2019 10:10:59 GMT', 'Expires': '-1', 'Cache-Control': 'private, max-age=0', 'Content-Type': 'text/html; charset=ISO-8859-1', 'P3P': 'CP=\"This is not a P3P policy! See g.co/p3phelp for more info.\"', 'Content-Encoding': 'gzip', 'Server': 'gws', 'X-XSS-Protection': '0', 'X-Frame-Options': 'SAMEORIGIN', 'Transfer-Encoding': 'chunked', 'Set-Cookie': '1P_JAR=2019-05-15-10; expires=Fri, 14-Jun-2019 10:10:59 GMT; path=/; domain=.google.com, CGIC=IgMqLyo; expires=Mon, 11-Nov-2019 10:10:59 GMT; path=/complete/search; domain=.google.com; HttpOnly, CGIC=IgMqLyo; expires=Mon, 11-Nov-2019 10:10:59 GMT; path=/search; domain=.google.com; HttpOnly, NID=183=MeelhFolOy0te6L2LnTib_cK05rBvra7vQnbwb5BX-vXecHZv3TQPcgFXN_ycESTXRTpszHzd4JJdpvqvu__FYtMCeLJE-gs0YnQyO1aM0aThV4rzKdnoAmPjWH4apLJadZW6oycmXjOzu_Lgws1vd2pNol5cWTl4y0eTM4uDl0; expires=Thu, 14-Nov-2019 10:10:59 GMT; path=/; domain=.google.com; HttpOnly'})"
      ]
     },
     "execution_count": 23,
     "metadata": {},
     "output_type": "execute_result"
    }
   ],
   "source": [
    "resp.status_code, resp.reason, resp.headers"
   ]
  },
  {
   "cell_type": "code",
   "execution_count": 24,
   "metadata": {},
   "outputs": [
    {
     "data": {
      "text/plain": [
       "{'User-Agent': 'python-requests/2.20.1', 'Accept-Encoding': 'gzip, deflate', 'Accept': '*/*', 'Connection': 'keep-alive'}"
      ]
     },
     "execution_count": 24,
     "metadata": {},
     "output_type": "execute_result"
    }
   ],
   "source": [
    "resp.request.headers"
   ]
  },
  {
   "cell_type": "code",
   "execution_count": null,
   "metadata": {},
   "outputs": [],
   "source": []
  }
 ],
 "metadata": {
  "kernelspec": {
   "display_name": "Python 3",
   "language": "python",
   "name": "python3"
  },
  "language_info": {
   "codemirror_mode": {
    "name": "ipython",
    "version": 3
   },
   "file_extension": ".py",
   "mimetype": "text/x-python",
   "name": "python",
   "nbconvert_exporter": "python",
   "pygments_lexer": "ipython3",
   "version": "3.6.6"
  }
 },
 "nbformat": 4,
 "nbformat_minor": 2
}
