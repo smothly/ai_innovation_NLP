{
 "cells": [
  {
   "cell_type": "markdown",
   "metadata": {},
   "source": [
    "# 5.10 프로젝트 : 뉴스기사 분야별로 크롤링하여 저장!"
   ]
  },
  {
   "cell_type": "code",
   "execution_count": 1,
   "metadata": {},
   "outputs": [],
   "source": [
    "from urllib import parse\n",
    "\n",
    "header = {'user-agent':'Mozilla/5.0 (Windows NT 10.0; Win64; x64) AppleWebKit/537.36 (KHTML, like Gecko) Chrome/73.0.3683.103 Safari/537.36'}\n",
    "# Mozilla/5.0 (Windows NT 10.0; Win64; x64) AppleWebKit/537.36 (KHTML, like Gecko) Chrome/74.0.3729.131 Safari/537.36\n",
    "def getDownload(url, params={}, retries=3):\n",
    "    resp = None\n",
    "    \n",
    "    try:\n",
    "        resp = requests.get(url, params=params, headers=header)\n",
    "        resp.raise_for_status()\n",
    "    except requests.exceptions.HTTPError as e:\n",
    "        if 500 <= e.response.status_code < 600 and retries > 0:\n",
    "            print(retries)\n",
    "            resp = getDownload(url, params, retries-1)\n",
    "        else:\n",
    "            print(e.response.status_code)\n",
    "            print(e.response.reason)\n",
    "            print(e.response.headers)\n",
    "            \n",
    "    return resp"
   ]
  },
  {
   "cell_type": "markdown",
   "metadata": {},
   "source": [
    "# 크롤 관련 라이브러리들 import"
   ]
  },
  {
   "cell_type": "code",
   "execution_count": 2,
   "metadata": {},
   "outputs": [],
   "source": [
    "import requests\n",
    "from bs4 import BeautifulSoup\n",
    "from selenium import webdriver\n",
    "import time"
   ]
  },
  {
   "cell_type": "markdown",
   "metadata": {},
   "source": [
    "# 다음\n",
    "## 사회, 정치, 경제, 국제, 문화, IT로 나눠서"
   ]
  },
  {
   "cell_type": "code",
   "execution_count": 3,
   "metadata": {},
   "outputs": [],
   "source": [
    "def daum_news_detail_crawl(links):\n",
    "    for link in links:\n",
    "        # 뉴스로만 향하는 링크들만\n",
    "        if link.startswith(\"http://v.media.daum.net/v/\"):\n",
    "\n",
    "            article_id = link.split(\"/\")[-1]\n",
    "\n",
    "            html = getDownload(link)\n",
    "            detail_dom = BeautifulSoup(html.content, \"lxml\")\n",
    "\n",
    "            # 파일 생성\n",
    "            file_name = \"./news_crawl_project/\" + field + \"-\" + article_id\n",
    "            f = open(file_name, 'w', encoding=\"utf-8\")\n",
    "\n",
    "            for _ in detail_dom.select(\"#harmonyContainer > section > p\"):\n",
    "    #           각 p태그 파일에 write\n",
    "                f.write(_.text)\n",
    "\n",
    "            print(file_name, \"생성 완료\")\n",
    "            time.sleep(1)\n",
    "            f.close()"
   ]
  },
  {
   "cell_type": "code",
   "execution_count": 4,
   "metadata": {},
   "outputs": [],
   "source": [
    "browser = webdriver.Chrome()\n",
    "url = \"https://media.daum.net/\"\n",
    "browser.get(url)"
   ]
  },
  {
   "cell_type": "markdown",
   "metadata": {},
   "source": [
    "### 사회"
   ]
  },
  {
   "cell_type": "code",
   "execution_count": 5,
   "metadata": {},
   "outputs": [],
   "source": [
    "# 분야이름 \n",
    "field = browser.find_elements_by_css_selector(\"#kakaoGnb > div > ul > li:nth-child(2) > a\")[0].text\n",
    "# 사회분야 클릭\n",
    "browser.find_elements_by_css_selector(\"#kakaoGnb > div > ul > li:nth-child(2) > a\")[0].click()"
   ]
  },
  {
   "cell_type": "markdown",
   "metadata": {},
   "source": [
    "### 페이지 소스 받아오기"
   ]
  },
  {
   "cell_type": "code",
   "execution_count": 6,
   "metadata": {},
   "outputs": [],
   "source": [
    "dom = BeautifulSoup(browser.page_source, \"lxml\")"
   ]
  },
  {
   "cell_type": "markdown",
   "metadata": {},
   "source": [
    "### 세부링크 가져와서 urljoin -> url방문 -> 내용 긁어오기\n",
    "#### 처음엔 생으로 짜고 이것을 함수로 만들기"
   ]
  },
  {
   "cell_type": "code",
   "execution_count": 7,
   "metadata": {},
   "outputs": [
    {
     "name": "stdout",
     "output_type": "stream",
     "text": [
      "./news_crawl_project/사회-20190513062035345 생성 완료\n",
      "./news_crawl_project/사회-20190513094335643 생성 완료\n",
      "./news_crawl_project/사회-20190513084927580 생성 완료\n",
      "./news_crawl_project/사회-20190512201751395 생성 완료\n",
      "./news_crawl_project/사회-20190513085400696 생성 완료\n",
      "./news_crawl_project/사회-20190513093911480 생성 완료\n",
      "./news_crawl_project/사회-20190512200604282 생성 완료\n",
      "./news_crawl_project/사회-20190512202751497 생성 완료\n",
      "./news_crawl_project/사회-20190513091508561 생성 완료\n",
      "./news_crawl_project/사회-20190512142611791 생성 완료\n",
      "./news_crawl_project/사회-20190513082100939 생성 완료\n",
      "./news_crawl_project/사회-20190513040401158 생성 완료\n",
      "./news_crawl_project/사회-20190513030153635 생성 완료\n",
      "./news_crawl_project/사회-20190513060007002 생성 완료\n",
      "./news_crawl_project/사회-20190513033616948 생성 완료\n",
      "./news_crawl_project/사회-20190513033613938 생성 완료\n",
      "./news_crawl_project/사회-20190513090142005 생성 완료\n",
      "./news_crawl_project/사회-20190513090014913 생성 완료\n",
      "./news_crawl_project/사회-20190513064750551 생성 완료\n",
      "./news_crawl_project/사회-20190513064402519 생성 완료\n",
      "./news_crawl_project/사회-20190513060039078 생성 완료\n"
     ]
    }
   ],
   "source": [
    "links = [_[\"href\"] for _ in dom.select(\".section_cate.section_headline .link_txt\") if _.has_attr('href')]\n",
    "\n",
    "for link in links:\n",
    "    # 뉴스로만 향하는 링크들만\n",
    "    if link.startswith(\"http://v.media.daum.net/v/\"):\n",
    "\n",
    "        article_id = link.split(\"/\")[-1]\n",
    "\n",
    "        html = getDownload(link)\n",
    "        detail_dom = BeautifulSoup(html.content, \"lxml\")\n",
    "        \n",
    "        # 파일 생성\n",
    "        file_name = \"./news_crawl_project/\" + field + \"-\" + article_id\n",
    "        f = open(file_name, 'w', encoding=\"utf-8\")\n",
    "        \n",
    "        for _ in detail_dom.select(\"#harmonyContainer > section > p\"):\n",
    "#           각 p태그 파일에 write\n",
    "            f.write(_.text)\n",
    "        \n",
    "        print(file_name, \"생성 완료\")\n",
    "        \n",
    "        f.close()\n",
    "        #harmonyContainer > section > p:nth-child(3)\n",
    "        "
   ]
  },
  {
   "cell_type": "markdown",
   "metadata": {},
   "source": [
    "## 정치"
   ]
  },
  {
   "cell_type": "code",
   "execution_count": 8,
   "metadata": {},
   "outputs": [],
   "source": [
    "field = browser.find_elements_by_xpath(\"//*[@id='kakaoGnb']/div/ul/li[3]/a\")[0].text\n",
    "browser.find_elements_by_xpath(\"//*[@id='kakaoGnb']/div/ul/li[3]/a\")[0].click()"
   ]
  },
  {
   "cell_type": "code",
   "execution_count": 9,
   "metadata": {},
   "outputs": [
    {
     "name": "stdout",
     "output_type": "stream",
     "text": [
      "./news_crawl_project/정치-20190513041800225 생성 완료\n",
      "./news_crawl_project/정치-20190513094216601 생성 완료\n",
      "./news_crawl_project/정치-20190512211802036 생성 완료\n",
      "./news_crawl_project/정치-20190512171908557 생성 완료\n",
      "./news_crawl_project/정치-20190512172549668 생성 완료\n",
      "./news_crawl_project/정치-20190513093652383 생성 완료\n",
      "./news_crawl_project/정치-20190512122150386 생성 완료\n",
      "./news_crawl_project/정치-20190513083610269 생성 완료\n",
      "./news_crawl_project/정치-20190513084007360 생성 완료\n",
      "./news_crawl_project/정치-20190513050006473 생성 완료\n",
      "./news_crawl_project/정치-20190513083940350 생성 완료\n",
      "./news_crawl_project/정치-20190513061500286 생성 완료\n",
      "./news_crawl_project/정치-20190513040601181 생성 완료\n",
      "./news_crawl_project/정치-20190513040301115 생성 완료\n",
      "./news_crawl_project/정치-20190513082849103 생성 완료\n",
      "./news_crawl_project/정치-20190512180334496 생성 완료\n",
      "./news_crawl_project/정치-20190513093125154 생성 완료\n",
      "./news_crawl_project/정치-20190513092408859 생성 완료\n",
      "./news_crawl_project/정치-20190513083849324 생성 완료\n",
      "./news_crawl_project/정치-20190513082456017 생성 완료\n",
      "./news_crawl_project/정치-20190513074627188 생성 완료\n"
     ]
    }
   ],
   "source": [
    "dom = BeautifulSoup(browser.page_source, \"lxml\")\n",
    "links = [_[\"href\"] for _ in dom.select(\".section_cate.section_headline .link_txt\") if _.has_attr('href')]\n",
    "\n",
    "daum_news_detail_crawl(links)"
   ]
  },
  {
   "cell_type": "markdown",
   "metadata": {},
   "source": [
    "## 경제"
   ]
  },
  {
   "cell_type": "code",
   "execution_count": 10,
   "metadata": {},
   "outputs": [
    {
     "name": "stdout",
     "output_type": "stream",
     "text": [
      "./news_crawl_project/경제-20190512183608114 생성 완료\n",
      "./news_crawl_project/경제-20190513093509311 생성 완료\n",
      "./news_crawl_project/경제-20190512174214023 생성 완료\n",
      "./news_crawl_project/경제-20190512173642912 생성 완료\n",
      "./news_crawl_project/경제-20190513092243818 생성 완료\n",
      "./news_crawl_project/경제-20190513092148795 생성 완료\n",
      "./news_crawl_project/경제-20190513083837321 생성 완료\n",
      "./news_crawl_project/경제-20190513082602042 생성 완료\n",
      "./news_crawl_project/경제-20190513092213808 생성 완료\n",
      "./news_crawl_project/경제-20190512175604330 생성 완료\n",
      "./news_crawl_project/경제-20190513072653952 생성 완료\n",
      "./news_crawl_project/경제-20190513040701189 생성 완료\n",
      "./news_crawl_project/경제-20190513092132785 생성 완료\n",
      "./news_crawl_project/경제-20190513044311380 생성 완료\n",
      "./news_crawl_project/경제-20190512184936315 생성 완료\n",
      "./news_crawl_project/경제-20190513092701969 생성 완료\n",
      "./news_crawl_project/경제-20190513091004376 생성 완료\n",
      "./news_crawl_project/경제-20190513090007900 생성 완료\n",
      "./news_crawl_project/경제-20190513085030607 생성 완료\n",
      "./news_crawl_project/경제-20190513084644494 생성 완료\n"
     ]
    }
   ],
   "source": [
    "field = browser.find_elements_by_css_selector(\"#kakaoGnb > div > ul > li:nth-child(4) > a\")[0].text\n",
    "browser.find_elements_by_css_selector(\"#kakaoGnb > div > ul > li:nth-child(4) > a\")[0].click()\n",
    "\n",
    "dom = BeautifulSoup(browser.page_source, \"lxml\")\n",
    "\n",
    "links = [_[\"href\"] for _ in dom.select(\".section_cate.section_headline .link_txt\") if _.has_attr('href')]\n",
    "\n",
    "daum_news_detail_crawl(links)"
   ]
  },
  {
   "cell_type": "markdown",
   "metadata": {},
   "source": [
    "## 국제"
   ]
  },
  {
   "cell_type": "code",
   "execution_count": 11,
   "metadata": {},
   "outputs": [
    {
     "name": "stdout",
     "output_type": "stream",
     "text": [
      "./news_crawl_project/국제-20190513093056127 생성 완료\n",
      "./news_crawl_project/국제-20190513074106138 생성 완료\n",
      "./news_crawl_project/국제-20190513030110579 생성 완료\n",
      "./news_crawl_project/국제-20190512171749520 생성 완료\n",
      "./news_crawl_project/국제-20190513092202801 생성 완료\n",
      "./news_crawl_project/국제-20190512183826152 생성 완료\n",
      "./news_crawl_project/국제-20190512101948166 생성 완료\n",
      "./news_crawl_project/국제-20190513072822971 생성 완료\n",
      "./news_crawl_project/국제-20190513084826563 생성 완료\n",
      "./news_crawl_project/국제-20190513080731601 생성 완료\n",
      "./news_crawl_project/국제-20190513084116384 생성 완료\n",
      "./news_crawl_project/국제-20190513010244785 생성 완료\n",
      "./news_crawl_project/국제-20190512230159807 생성 완료\n",
      "./news_crawl_project/국제-20190512212904164 생성 완료\n",
      "./news_crawl_project/국제-20190513074708194 생성 완료\n",
      "./news_crawl_project/국제-20190513030041548 생성 완료\n",
      "./news_crawl_project/국제-20190513093533332 생성 완료\n",
      "./news_crawl_project/국제-20190513093457299 생성 완료\n",
      "./news_crawl_project/국제-20190513093002088 생성 완료\n",
      "./news_crawl_project/국제-20190513092048742 생성 완료\n",
      "./news_crawl_project/국제-20190513090921349 생성 완료\n"
     ]
    }
   ],
   "source": [
    "field = browser.find_elements_by_css_selector(\"#kakaoGnb > div > ul > li:nth-child(5) > a\")[0].text\n",
    "browser.find_elements_by_css_selector(\"#kakaoGnb > div > ul > li:nth-child(5) > a\")[0].click()\n",
    "\n",
    "dom = BeautifulSoup(browser.page_source, \"lxml\")\n",
    "\n",
    "links = [_[\"href\"] for _ in dom.select(\".section_cate.section_headline .link_txt\") if _.has_attr('href')]\n",
    "\n",
    "daum_news_detail_crawl(links)"
   ]
  },
  {
   "cell_type": "markdown",
   "metadata": {},
   "source": [
    "## 문화"
   ]
  },
  {
   "cell_type": "code",
   "execution_count": 12,
   "metadata": {},
   "outputs": [
    {
     "name": "stdout",
     "output_type": "stream",
     "text": [
      "./news_crawl_project/문화-20190513083758308 생성 완료\n",
      "./news_crawl_project/문화-20190512194406009 생성 완료\n",
      "./news_crawl_project/문화-20190512183243049 생성 완료\n",
      "./news_crawl_project/문화-20190513054353827 생성 완료\n",
      "./news_crawl_project/문화-20190513033630973 생성 완료\n",
      "./news_crawl_project/문화-20190513024934471 생성 완료\n",
      "./news_crawl_project/문화-20190512212702143 생성 완료\n",
      "./news_crawl_project/문화-20190513030039546 생성 완료\n",
      "./news_crawl_project/문화-20190512172743720 생성 완료\n",
      "./news_crawl_project/문화-20190513082701062 생성 완료\n",
      "./news_crawl_project/문화-20190513060001954 생성 완료\n",
      "./news_crawl_project/문화-20190513044357400 생성 완료\n",
      "./news_crawl_project/문화-20190513044308379 생성 완료\n",
      "./news_crawl_project/문화-20190513030142618 생성 완료\n",
      "./news_crawl_project/문화-20190513030040547 생성 완료\n",
      "./news_crawl_project/문화-20190512224512704 생성 완료\n"
     ]
    }
   ],
   "source": [
    "field = browser.find_elements_by_css_selector(\"#kakaoGnb > div > ul > li:nth-child(6) > a\")[0].text\n",
    "browser.find_elements_by_css_selector(\"#kakaoGnb > div > ul > li:nth-child(6) > a\")[0].click()\n",
    "\n",
    "dom = BeautifulSoup(browser.page_source, \"lxml\")\n",
    "\n",
    "links = [_[\"href\"] for _ in dom.select(\".section_cate.section_headline .link_txt\") if _.has_attr('href')]\n",
    "\n",
    "daum_news_detail_crawl(links)\n",
    "\n",
    "        #harmonyContainer > section > p:nth-child(3)\n",
    "        "
   ]
  },
  {
   "cell_type": "markdown",
   "metadata": {},
   "source": [
    "## IT"
   ]
  },
  {
   "cell_type": "code",
   "execution_count": 13,
   "metadata": {},
   "outputs": [
    {
     "name": "stdout",
     "output_type": "stream",
     "text": [
      "./news_crawl_project/IT-20190513083758308 생성 완료\n",
      "./news_crawl_project/IT-20190512194406009 생성 완료\n",
      "./news_crawl_project/IT-20190512183243049 생성 완료\n",
      "./news_crawl_project/IT-20190513054353827 생성 완료\n",
      "./news_crawl_project/IT-20190513033630973 생성 완료\n",
      "./news_crawl_project/IT-20190513024934471 생성 완료\n",
      "./news_crawl_project/IT-20190512212702143 생성 완료\n",
      "./news_crawl_project/IT-20190513030039546 생성 완료\n",
      "./news_crawl_project/IT-20190512172743720 생성 완료\n",
      "./news_crawl_project/IT-20190513082701062 생성 완료\n",
      "./news_crawl_project/IT-20190513060001954 생성 완료\n",
      "./news_crawl_project/IT-20190513044357400 생성 완료\n",
      "./news_crawl_project/IT-20190513044308379 생성 완료\n",
      "./news_crawl_project/IT-20190513030142618 생성 완료\n",
      "./news_crawl_project/IT-20190513030040547 생성 완료\n",
      "./news_crawl_project/IT-20190512224512704 생성 완료\n"
     ]
    }
   ],
   "source": [
    "field = browser.find_elements_by_css_selector(\"#kakaoGnb > div > ul > li:nth-child(7) > a\")[0].text\n",
    "browser.find_elements_by_css_selector(\"#kakaoGnb > div > ul > li:nth-child(7) > a\")[0].click()\n",
    "\n",
    "dom = BeautifulSoup(browser.page_source, \"lxml\")\n",
    "\n",
    "daum_news_detail_crawl(links)"
   ]
  },
  {
   "cell_type": "markdown",
   "metadata": {},
   "source": [
    "# 네이트 뉴스"
   ]
  },
  {
   "cell_type": "code",
   "execution_count": 14,
   "metadata": {},
   "outputs": [],
   "source": [
    "browser = webdriver.Chrome()\n",
    "url = \"https://news.nate.com\"\n",
    "browser.get(url)"
   ]
  },
  {
   "cell_type": "code",
   "execution_count": 15,
   "metadata": {},
   "outputs": [],
   "source": [
    "def nate_news_detail_crawl(links):\n",
    "    print(field, \"분야 개수 : \", len(links))\n",
    "    for link in links:\n",
    "        if link.startswith(\"//news.nate.com/view/\"):\n",
    "            article_id = link.split(\"/\")[-1].split('?')[0]\n",
    "\n",
    "            html = getDownload(\"https:\" + link)\n",
    "            detail_dom = BeautifulSoup(html.content, \"lxml\")\n",
    "\n",
    "            # 파일 생성\n",
    "            file_name = \"./news_crawl_project/\" + field + \"-\" + article_id\n",
    "            f = open(file_name, 'w', encoding=\"utf-8\")\n",
    "\n",
    "            for _ in detail_dom.select(\"#realArtcContents\"):\n",
    "    #           각 p태그 파일에 write\n",
    "                f.write(_.text)\n",
    "\n",
    "            print(file_name, \"생성 완료\")\n",
    "            time.sleep(1)"
   ]
  },
  {
   "cell_type": "markdown",
   "metadata": {},
   "source": [
    "### 사회"
   ]
  },
  {
   "cell_type": "code",
   "execution_count": 16,
   "metadata": {},
   "outputs": [],
   "source": [
    "field = browser.find_element_by_class_name(\"news03\").text\n",
    "browser.find_element_by_class_name(\"news03\").click()"
   ]
  },
  {
   "cell_type": "code",
   "execution_count": 17,
   "metadata": {},
   "outputs": [
    {
     "name": "stdout",
     "output_type": "stream",
     "text": [
      "정치 분야 개수 :  37\n",
      "./news_crawl_project/정치-20190513n06194 생성 완료\n",
      "./news_crawl_project/정치-20190513n09328 생성 완료\n",
      "./news_crawl_project/정치-20190513n04649 생성 완료\n",
      "./news_crawl_project/정치-20190513n02274 생성 완료\n",
      "./news_crawl_project/정치-20190513n00016 생성 완료\n",
      "./news_crawl_project/정치-20190512n14938 생성 완료\n",
      "./news_crawl_project/정치-20190512n11285 생성 완료\n",
      "./news_crawl_project/정치-20190511n11640 생성 완료\n",
      "./news_crawl_project/정치-20190513n03316 생성 완료\n",
      "./news_crawl_project/정치-20190424n13115 생성 완료\n",
      "./news_crawl_project/정치-20190423n02942 생성 완료\n",
      "./news_crawl_project/정치-20190416n33068 생성 완료\n",
      "./news_crawl_project/정치-20190409n02932 생성 완료\n",
      "./news_crawl_project/정치-20190409n02920 생성 완료\n",
      "./news_crawl_project/정치-20190409n02918 생성 완료\n",
      "./news_crawl_project/정치-20190329n23402 생성 완료\n",
      "./news_crawl_project/정치-20190513n07783 생성 완료\n",
      "./news_crawl_project/정치-20190504n03884 생성 완료\n",
      "./news_crawl_project/정치-20190419n15813 생성 완료\n",
      "./news_crawl_project/정치-20190418n42692 생성 완료\n",
      "./news_crawl_project/정치-20190418n16138 생성 완료\n",
      "./news_crawl_project/정치-20190418n24005 생성 완료\n",
      "./news_crawl_project/정치-20190411n06721 생성 완료\n",
      "./news_crawl_project/정치-20190513n03247 생성 완료\n",
      "./news_crawl_project/정치-20190513n05651 생성 완료\n",
      "./news_crawl_project/정치-20190513n02035 생성 완료\n",
      "./news_crawl_project/정치-20190512n03223 생성 완료\n",
      "./news_crawl_project/정치-20190512n02360 생성 완료\n",
      "./news_crawl_project/정치-20190510n33288 생성 완료\n",
      "./news_crawl_project/정치-20190510n19472 생성 완료\n",
      "./news_crawl_project/정치-20190513n02566 생성 완료\n",
      "./news_crawl_project/정치-20190513n04582 생성 완료\n",
      "./news_crawl_project/정치-20190513n03399 생성 완료\n",
      "./news_crawl_project/정치-20190509n16490 생성 완료\n",
      "./news_crawl_project/정치-20190509n16072 생성 완료\n",
      "./news_crawl_project/정치-20190508n16692 생성 완료\n",
      "./news_crawl_project/정치-20190513n02868 생성 완료\n"
     ]
    }
   ],
   "source": [
    "dom = BeautifulSoup(browser.page_source, \"lxml\")\n",
    "\n",
    "links = [_[\"href\"] for _ in dom.select(\"#newsContents a\") if _.has_attr('href')]\n",
    "\n",
    "nate_news_detail_crawl(links)"
   ]
  },
  {
   "cell_type": "markdown",
   "metadata": {},
   "source": [
    "### 경제"
   ]
  },
  {
   "cell_type": "code",
   "execution_count": 18,
   "metadata": {},
   "outputs": [
    {
     "name": "stdout",
     "output_type": "stream",
     "text": [
      "경제 분야 개수 :  35\n",
      "./news_crawl_project/경제-20190513n08157 생성 완료\n",
      "./news_crawl_project/경제-20190513n08283 생성 완료\n",
      "./news_crawl_project/경제-20190513n08008 생성 완료\n",
      "./news_crawl_project/경제-20190513n07751 생성 완료\n",
      "./news_crawl_project/경제-20190513n07816 생성 완료\n",
      "./news_crawl_project/경제-20190513n06802 생성 완료\n",
      "./news_crawl_project/경제-20190513n04774 생성 완료\n",
      "./news_crawl_project/경제-20190511n00628 생성 완료\n",
      "./news_crawl_project/경제-20190511n00432 생성 완료\n",
      "./news_crawl_project/경제-20190511n00413 생성 완료\n",
      "./news_crawl_project/경제-20190510n34548 생성 완료\n",
      "./news_crawl_project/경제-20190510n12267 생성 완료\n",
      "./news_crawl_project/경제-20190510n02659 생성 완료\n",
      "./news_crawl_project/경제-20190510n03225 생성 완료\n",
      "./news_crawl_project/경제-20190512n21683 생성 완료\n",
      "./news_crawl_project/경제-20190513n02052 생성 완료\n",
      "./news_crawl_project/경제-20190512n08333 생성 완료\n",
      "./news_crawl_project/경제-20190510n21288 생성 완료\n",
      "./news_crawl_project/경제-20190506n10665 생성 완료\n",
      "./news_crawl_project/경제-20190506n01495 생성 완료\n",
      "./news_crawl_project/경제-20190502n42737 생성 완료\n",
      "./news_crawl_project/경제-20190512n14796 생성 완료\n",
      "./news_crawl_project/경제-20190512n13964 생성 완료\n",
      "./news_crawl_project/경제-20190512n14186 생성 완료\n",
      "./news_crawl_project/경제-20190512n01975 생성 완료\n",
      "./news_crawl_project/경제-20190430n06246 생성 완료\n",
      "./news_crawl_project/경제-20190425n08086 생성 완료\n",
      "./news_crawl_project/경제-20190425n05910 생성 완료\n",
      "./news_crawl_project/경제-20190512n11243 생성 완료\n",
      "./news_crawl_project/경제-20190512n04481 생성 완료\n",
      "./news_crawl_project/경제-20190511n07221 생성 완료\n",
      "./news_crawl_project/경제-20190510n23962 생성 완료\n",
      "./news_crawl_project/경제-20190510n16085 생성 완료\n",
      "./news_crawl_project/경제-20190509n30489 생성 완료\n",
      "./news_crawl_project/경제-20190512n05052 생성 완료\n"
     ]
    }
   ],
   "source": [
    "field = browser.find_element_by_class_name(\"news04\").text\n",
    "browser.find_element_by_class_name(\"news04\").click()\n",
    "\n",
    "dom = BeautifulSoup(browser.page_source, \"lxml\")\n",
    "\n",
    "links = [_[\"href\"] for _ in dom.select(\"#newsContents a\") if _.has_attr('href')]\n",
    "\n",
    "nate_news_detail_crawl(links)"
   ]
  },
  {
   "cell_type": "markdown",
   "metadata": {},
   "source": [
    "### 사회"
   ]
  },
  {
   "cell_type": "code",
   "execution_count": 19,
   "metadata": {},
   "outputs": [
    {
     "name": "stdout",
     "output_type": "stream",
     "text": [
      "사회 분야 개수 :  36\n",
      "./news_crawl_project/사회-20190513n07382 생성 완료\n",
      "./news_crawl_project/사회-20190513n09162 생성 완료\n",
      "./news_crawl_project/사회-20190513n06724 생성 완료\n",
      "./news_crawl_project/사회-20190513n06596 생성 완료\n",
      "./news_crawl_project/사회-20190513n02011 생성 완료\n",
      "./news_crawl_project/사회-20190513n03290 생성 완료\n",
      "./news_crawl_project/사회-20190513n02623 생성 완료\n",
      "./news_crawl_project/사회-20190512n01829 생성 완료\n",
      "./news_crawl_project/사회-20190506n13065 생성 완료\n",
      "./news_crawl_project/사회-20190430n21773 생성 완료\n",
      "./news_crawl_project/사회-20190430n17383 생성 완료\n",
      "./news_crawl_project/사회-20190429n32287 생성 완료\n",
      "./news_crawl_project/사회-20190513n08435 생성 완료\n",
      "./news_crawl_project/사회-20190512n13398 생성 완료\n",
      "./news_crawl_project/사회-20190512n06776 생성 완료\n",
      "./news_crawl_project/사회-20190510n02449 생성 완료\n",
      "./news_crawl_project/사회-20190510n02236 생성 완료\n",
      "./news_crawl_project/사회-20190509n14355 생성 완료\n",
      "./news_crawl_project/사회-20190507n24391 생성 완료\n",
      "./news_crawl_project/사회-20190507n23198 생성 완료\n",
      "./news_crawl_project/사회-20190513n07673 생성 완료\n",
      "./news_crawl_project/사회-20190509n20928 생성 완료\n",
      "./news_crawl_project/사회-20190508n21298 생성 완료\n",
      "./news_crawl_project/사회-20190506n15882 생성 완료\n",
      "./news_crawl_project/사회-20190503n16007 생성 완료\n",
      "./news_crawl_project/사회-20190402n27718 생성 완료\n",
      "./news_crawl_project/사회-20190328n24532 생성 완료\n",
      "./news_crawl_project/사회-20190513n07043 생성 완료\n",
      "./news_crawl_project/사회-20190509n25738 생성 완료\n",
      "./news_crawl_project/사회-20190509n07272 생성 완료\n",
      "./news_crawl_project/사회-20190509n05497 생성 완료\n",
      "./news_crawl_project/사회-20190507n14207 생성 완료\n",
      "./news_crawl_project/사회-20190507n11391 생성 완료\n",
      "./news_crawl_project/사회-20190429n17692 생성 완료\n",
      "./news_crawl_project/사회-20190425n30420 생성 완료\n",
      "./news_crawl_project/사회-20190513n02017 생성 완료\n"
     ]
    }
   ],
   "source": [
    "field = browser.find_element_by_class_name(\"news05\").text\n",
    "browser.find_element_by_class_name(\"news05\").click()\n",
    "\n",
    "dom = BeautifulSoup(browser.page_source, \"lxml\")\n",
    "\n",
    "links = [_[\"href\"] for _ in dom.select(\"#newsContents a\") if _.has_attr('href')]\n",
    "\n",
    "nate_news_detail_crawl(links)"
   ]
  },
  {
   "cell_type": "markdown",
   "metadata": {},
   "source": [
    "### 세계"
   ]
  },
  {
   "cell_type": "code",
   "execution_count": 20,
   "metadata": {},
   "outputs": [
    {
     "name": "stdout",
     "output_type": "stream",
     "text": [
      "세계 분야 개수 :  37\n",
      "./news_crawl_project/세계-20190513n02013 생성 완료\n",
      "./news_crawl_project/세계-20190513n00186 생성 완료\n",
      "./news_crawl_project/세계-20190513n02012 생성 완료\n",
      "./news_crawl_project/세계-20190513n02784 생성 완료\n",
      "./news_crawl_project/세계-20190513n00187 생성 완료\n",
      "./news_crawl_project/세계-20190512n18980 생성 완료\n",
      "./news_crawl_project/세계-20190512n17137 생성 완료\n",
      "./news_crawl_project/세계-20190512n12393 생성 완료\n",
      "./news_crawl_project/세계-20190513n04656 생성 완료\n",
      "./news_crawl_project/세계-20190512n19979 생성 완료\n",
      "./news_crawl_project/세계-20190509n24104 생성 완료\n",
      "./news_crawl_project/세계-20190509n17445 생성 완료\n",
      "./news_crawl_project/세계-20190501n04602 생성 완료\n",
      "./news_crawl_project/세계-20190429n09032 생성 완료\n",
      "./news_crawl_project/세계-20190513n08639 생성 완료\n",
      "./news_crawl_project/세계-20190513n08959 생성 완료\n",
      "./news_crawl_project/세계-20190512n01267 생성 완료\n",
      "./news_crawl_project/세계-20190511n12773 생성 완료\n",
      "./news_crawl_project/세계-20190511n04175 생성 완료\n",
      "./news_crawl_project/세계-20190511n04559 생성 완료\n",
      "./news_crawl_project/세계-20190513n04983 생성 완료\n",
      "./news_crawl_project/세계-20190513n02080 생성 완료\n",
      "./news_crawl_project/세계-20190508n03174 생성 완료\n",
      "./news_crawl_project/세계-20190507n26982 생성 완료\n",
      "./news_crawl_project/세계-20190507n05122 생성 완료\n",
      "./news_crawl_project/세계-20190513n01734 생성 완료\n",
      "./news_crawl_project/세계-20190513n03610 생성 완료\n",
      "./news_crawl_project/세계-20190513n03703 생성 완료\n",
      "./news_crawl_project/세계-20190513n01702 생성 완료\n",
      "./news_crawl_project/세계-20190511n01925 생성 완료\n",
      "./news_crawl_project/세계-20190509n19685 생성 완료\n",
      "./news_crawl_project/세계-20190504n01623 생성 완료\n",
      "./news_crawl_project/세계-20190503n21343 생성 완료\n",
      "./news_crawl_project/세계-20190513n05692 생성 완료\n",
      "./news_crawl_project/세계-20190513n05693 생성 완료\n",
      "./news_crawl_project/세계-20190513n03880 생성 완료\n",
      "./news_crawl_project/세계-20190513n03876 생성 완료\n"
     ]
    }
   ],
   "source": [
    "field = browser.find_element_by_class_name(\"news06\").text\n",
    "browser.find_element_by_class_name(\"news06\").click()\n",
    "\n",
    "dom = BeautifulSoup(browser.page_source, \"lxml\")\n",
    "\n",
    "links = [_[\"href\"] for _ in dom.select(\"#newsContents a\") if _.has_attr('href')]\n",
    "\n",
    "nate_news_detail_crawl(links)"
   ]
  },
  {
   "cell_type": "markdown",
   "metadata": {},
   "source": [
    "### IT/과학"
   ]
  },
  {
   "cell_type": "code",
   "execution_count": 21,
   "metadata": {},
   "outputs": [
    {
     "name": "stdout",
     "output_type": "stream",
     "text": [
      "IT 분야 개수 :  36\n",
      "./news_crawl_project/IT-20190513n03691 생성 완료\n",
      "./news_crawl_project/IT-20190510n03515 생성 완료\n",
      "./news_crawl_project/IT-20190509n18569 생성 완료\n",
      "./news_crawl_project/IT-20190509n02250 생성 완료\n",
      "./news_crawl_project/IT-20190509n03000 생성 완료\n",
      "./news_crawl_project/IT-20190513n03604 생성 완료\n",
      "./news_crawl_project/IT-20190511n03232 생성 완료\n",
      "./news_crawl_project/IT-20190510n03568 생성 완료\n",
      "./news_crawl_project/IT-20190509n03472 생성 완료\n",
      "./news_crawl_project/IT-20190508n03456 생성 완료\n",
      "./news_crawl_project/IT-20190503n03443 생성 완료\n",
      "./news_crawl_project/IT-20190502n04283 생성 완료\n",
      "./news_crawl_project/IT-20190513n02215 생성 완료\n",
      "./news_crawl_project/IT-20190513n02988 생성 완료\n",
      "./news_crawl_project/IT-20190513n01830 생성 완료\n",
      "./news_crawl_project/IT-20190512n02404 생성 완료\n",
      "./news_crawl_project/IT-20190510n10194 생성 완료\n",
      "./news_crawl_project/IT-20190510n10283 생성 완료\n",
      "./news_crawl_project/IT-20190510n00040 생성 완료\n",
      "./news_crawl_project/IT-20190513n01622 생성 완료\n",
      "./news_crawl_project/IT-20190414n02741 생성 완료\n",
      "./news_crawl_project/IT-20190414n01747 생성 완료\n",
      "./news_crawl_project/IT-20190413n14335 생성 완료\n",
      "./news_crawl_project/IT-20190413n01226 생성 완료\n",
      "./news_crawl_project/IT-20190412n02007 생성 완료\n",
      "./news_crawl_project/IT-20190403n03101 생성 완료\n",
      "./news_crawl_project/IT-20190513n01824 생성 완료\n",
      "./news_crawl_project/IT-20190513n02989 생성 완료\n",
      "./news_crawl_project/IT-20190512n03496 생성 완료\n",
      "./news_crawl_project/IT-20190511n02410 생성 완료\n",
      "./news_crawl_project/IT-20190510n01856 생성 완료\n",
      "./news_crawl_project/IT-20190510n02270 생성 완료\n",
      "./news_crawl_project/IT-20190505n02690 생성 완료\n",
      "./news_crawl_project/IT-20190513n09222 생성 완료\n",
      "./news_crawl_project/IT-20190513n09199 생성 완료\n",
      "./news_crawl_project/IT-20190513n09143 생성 완료\n"
     ]
    }
   ],
   "source": [
    "field = browser.find_element_by_class_name(\"news07\").text[:2]\n",
    "browser.find_element_by_class_name(\"news07\").click()\n",
    "\n",
    "dom = BeautifulSoup(browser.page_source, \"lxml\")\n",
    "\n",
    "links = [_[\"href\"] for _ in dom.select(\"#newsContents a\") if _.has_attr('href')]\n",
    "\n",
    "nate_news_detail_crawl(links)"
   ]
  },
  {
   "cell_type": "markdown",
   "metadata": {},
   "source": [
    "# 번외 : 네이버 뉴스\n",
    "## 이번엔 beautifulsoup만 써서 많이 본 뉴스 가져오기"
   ]
  },
  {
   "cell_type": "code",
   "execution_count": 22,
   "metadata": {},
   "outputs": [],
   "source": [
    "url = \"https://news.naver.com/\"\n",
    "html = getDownload(url)\n",
    "dom = BeautifulSoup(html.content, \"lxml\")"
   ]
  },
  {
   "cell_type": "markdown",
   "metadata": {},
   "source": [
    "### 필드 리스트 따로뽑고 10개씩 짤라서 하기"
   ]
  },
  {
   "cell_type": "code",
   "execution_count": 23,
   "metadata": {},
   "outputs": [
    {
     "data": {
      "text/plain": [
       "6"
      ]
     },
     "execution_count": 23,
     "metadata": {},
     "output_type": "execute_result"
    }
   ],
   "source": [
    "field_list = dom.select(\".category_ranking\")[0].text.split(\" \")\n",
    "field_list = list(filter(None, field_list))\n",
    "len(field_list)"
   ]
  },
  {
   "cell_type": "markdown",
   "metadata": {},
   "source": [
    "### 랭크가 10개씩 있으니 10개될때마다 1로 리셋하면서 긁어오자"
   ]
  },
  {
   "cell_type": "code",
   "execution_count": 34,
   "metadata": {},
   "outputs": [
    {
     "data": {
      "text/plain": [
       "'0004226208'"
      ]
     },
     "execution_count": 34,
     "metadata": {},
     "output_type": "execute_result"
    }
   ],
   "source": [
    "dom.select(\".section_list_ranking a\")[-1][\"href\"].split(\"=\")[5].split(\"&\")[0]"
   ]
  },
  {
   "cell_type": "code",
   "execution_count": 25,
   "metadata": {},
   "outputs": [
    {
     "name": "stdout",
     "output_type": "stream",
     "text": [
      "./news_crawl_project/정치-naver1 생성 완료\n",
      "./news_crawl_project/정치-naver2 생성 완료\n",
      "./news_crawl_project/정치-naver3 생성 완료\n",
      "./news_crawl_project/정치-naver4 생성 완료\n",
      "./news_crawl_project/정치-naver5 생성 완료\n",
      "./news_crawl_project/정치-naver6 생성 완료\n",
      "./news_crawl_project/정치-naver7 생성 완료\n",
      "./news_crawl_project/정치-naver8 생성 완료\n",
      "./news_crawl_project/정치-naver9 생성 완료\n",
      "./news_crawl_project/정치-naver10 생성 완료\n",
      "./news_crawl_project/경제-naver1 생성 완료\n",
      "./news_crawl_project/경제-naver2 생성 완료\n",
      "./news_crawl_project/경제-naver3 생성 완료\n",
      "./news_crawl_project/경제-naver4 생성 완료\n",
      "./news_crawl_project/경제-naver5 생성 완료\n",
      "./news_crawl_project/경제-naver6 생성 완료\n",
      "./news_crawl_project/경제-naver7 생성 완료\n",
      "./news_crawl_project/경제-naver8 생성 완료\n",
      "./news_crawl_project/경제-naver9 생성 완료\n",
      "./news_crawl_project/경제-naver10 생성 완료\n",
      "./news_crawl_project/사회-naver1 생성 완료\n",
      "./news_crawl_project/사회-naver2 생성 완료\n",
      "./news_crawl_project/사회-naver3 생성 완료\n",
      "./news_crawl_project/사회-naver4 생성 완료\n",
      "./news_crawl_project/사회-naver5 생성 완료\n",
      "./news_crawl_project/사회-naver6 생성 완료\n",
      "./news_crawl_project/사회-naver7 생성 완료\n",
      "./news_crawl_project/사회-naver8 생성 완료\n",
      "./news_crawl_project/사회-naver9 생성 완료\n",
      "./news_crawl_project/사회-naver10 생성 완료\n",
      "./news_crawl_project/생활-naver1 생성 완료\n",
      "./news_crawl_project/생활-naver2 생성 완료\n",
      "./news_crawl_project/생활-naver3 생성 완료\n",
      "./news_crawl_project/생활-naver4 생성 완료\n",
      "./news_crawl_project/생활-naver5 생성 완료\n",
      "./news_crawl_project/생활-naver6 생성 완료\n",
      "./news_crawl_project/생활-naver7 생성 완료\n",
      "./news_crawl_project/생활-naver8 생성 완료\n",
      "./news_crawl_project/생활-naver9 생성 완료\n",
      "./news_crawl_project/생활-naver10 생성 완료\n",
      "./news_crawl_project/세계-naver1 생성 완료\n",
      "./news_crawl_project/세계-naver2 생성 완료\n",
      "./news_crawl_project/세계-naver3 생성 완료\n",
      "./news_crawl_project/세계-naver4 생성 완료\n",
      "./news_crawl_project/세계-naver5 생성 완료\n",
      "./news_crawl_project/세계-naver6 생성 완료\n",
      "./news_crawl_project/세계-naver7 생성 완료\n",
      "./news_crawl_project/세계-naver8 생성 완료\n",
      "./news_crawl_project/세계-naver9 생성 완료\n",
      "./news_crawl_project/세계-naver10 생성 완료\n",
      "./news_crawl_project/IT-naver1 생성 완료\n",
      "./news_crawl_project/IT-naver2 생성 완료\n",
      "./news_crawl_project/IT-naver3 생성 완료\n",
      "./news_crawl_project/IT-naver4 생성 완료\n",
      "./news_crawl_project/IT-naver5 생성 완료\n",
      "./news_crawl_project/IT-naver6 생성 완료\n",
      "./news_crawl_project/IT-naver7 생성 완료\n",
      "./news_crawl_project/IT-naver8 생성 완료\n",
      "./news_crawl_project/IT-naver9 생성 완료\n",
      "./news_crawl_project/IT-naver10 생성 완료\n"
     ]
    }
   ],
   "source": [
    "rank = 1\n",
    "index = 0\n",
    "field = field_list[index]\n",
    "links = dom.select(\".section_list_ranking a\")\n",
    "\n",
    "for _ in links:\n",
    "    \n",
    "    link = requests.compat.urljoin(url, _[\"href\"])\n",
    "    html = getDownload(link)\n",
    "    detail_dom = BeautifulSoup(html.content, \"lxml\")\n",
    "    \n",
    "    # /로 필드이름이 있으면 디렉토리로 인식해서 예외문을 만들었다.\n",
    "    try:\n",
    "        file_name = \"./news_crawl_project/\" + field + \"-naver\" + _[\"href\"].split(\"=\")[5].split(\"&\")[0]\n",
    "        f = open(file_name, 'w', encoding=\"utf-8\")\n",
    "    except FileNotFoundError:\n",
    "        file_name = \"./news_crawl_project/\" + field.split(\"/\")[0] + \"-naver\" + _[\"href\"].split(\"=\")[5].split(\"&\")[0]\n",
    "        f = open(file_name, 'w', encoding=\"utf-8\")\n",
    "\n",
    "\n",
    "    for _ in detail_dom.select(\"#articleBodyContents\"):\n",
    "        f.write(_.text)\n",
    "\n",
    "    print(file_name, \"생성 완료\")\n",
    "#     time.sleep(1)\n",
    "   \n",
    "    rank += 1\n",
    "    \n",
    "    # rank랑 field 리셋\n",
    "    if rank > 10 :\n",
    "        index += 1\n",
    "        rank = 1\n",
    "        if index < len(field_list):\n",
    "            field = field_list[index]\n",
    "        \n",
    "        \n"
   ]
  },
  {
   "cell_type": "code",
   "execution_count": null,
   "metadata": {},
   "outputs": [],
   "source": []
  },
  {
   "cell_type": "code",
   "execution_count": null,
   "metadata": {},
   "outputs": [],
   "source": []
  },
  {
   "cell_type": "code",
   "execution_count": null,
   "metadata": {},
   "outputs": [],
   "source": []
  }
 ],
 "metadata": {
  "kernelspec": {
   "display_name": "Python 3",
   "language": "python",
   "name": "python3"
  },
  "language_info": {
   "codemirror_mode": {
    "name": "ipython",
    "version": 3
   },
   "file_extension": ".py",
   "mimetype": "text/x-python",
   "name": "python",
   "nbconvert_exporter": "python",
   "pygments_lexer": "ipython3",
   "version": "3.6.6"
  }
 },
 "nbformat": 4,
 "nbformat_minor": 2
}
