{
 "cells": [
  {
   "cell_type": "markdown",
   "metadata": {},
   "source": [
    "# 5.10 프로젝트 : 뉴스기사 분야별로 크롤링하여 저장!"
   ]
  },
  {
   "cell_type": "code",
   "execution_count": 1,
   "metadata": {},
   "outputs": [],
   "source": [
    "from urllib import parse\n",
    "\n",
    "header = {'user-agent':'Mozilla/5.0 (Windows NT 10.0; Win64; x64) AppleWebKit/537.36 (KHTML, like Gecko) Chrome/73.0.3683.103 Safari/537.36'}\n",
    "# Mozilla/5.0 (Windows NT 10.0; Win64; x64) AppleWebKit/537.36 (KHTML, like Gecko) Chrome/74.0.3729.131 Safari/537.36\n",
    "def getDownload(url, params={}, retries=3):\n",
    "    resp = None\n",
    "    \n",
    "    try:\n",
    "        resp = requests.get(url, params=params, headers=header)\n",
    "        resp.raise_for_status()\n",
    "    except requests.exceptions.HTTPError as e:\n",
    "        if 500 <= e.response.status_code < 600 and retries > 0:\n",
    "            print(retries)\n",
    "            resp = getDownload(url, params, retries-1)\n",
    "        else:\n",
    "            print(e.response.status_code)\n",
    "            print(e.response.reason)\n",
    "            print(e.response.headers)\n",
    "            \n",
    "    return resp"
   ]
  },
  {
   "cell_type": "markdown",
   "metadata": {},
   "source": [
    "# 크롤 관련 라이브러리들 import"
   ]
  },
  {
   "cell_type": "code",
   "execution_count": 2,
   "metadata": {},
   "outputs": [],
   "source": [
    "import requests\n",
    "from bs4 import BeautifulSoup\n",
    "from selenium import webdriver\n",
    "import time"
   ]
  },
  {
   "cell_type": "markdown",
   "metadata": {},
   "source": [
    "# 다음\n",
    "## 사회, 정치, 경제, 국제, 문화, IT로 나눠서"
   ]
  },
  {
   "cell_type": "code",
   "execution_count": null,
   "metadata": {},
   "outputs": [],
   "source": [
    "def daum_news_detail_crawl(links):\n",
    "    for link in links:\n",
    "        # 뉴스로만 향하는 링크들만\n",
    "        if link.startswith(\"http://v.media.daum.net/v/\"):\n",
    "\n",
    "            article_id = link.split(\"/\")[-1]\n",
    "\n",
    "            html = getDownload(link)\n",
    "            detail_dom = BeautifulSoup(html.content, \"lxml\")\n",
    "\n",
    "            # 파일 생성\n",
    "            file_name = \"./news_crawl_project/\" + field + \"-\" + article_id\n",
    "            f = open(file_name, 'w', encoding=\"utf-8\")\n",
    "\n",
    "            for _ in detail_dom.select(\"#harmonyContainer > section > p\"):\n",
    "    #           각 p태그 파일에 write\n",
    "                f.write(_.text)\n",
    "\n",
    "            print(file_name, \"생성 완료\")\n",
    "            time.sleep(1)\n",
    "            f.close()"
   ]
  },
  {
   "cell_type": "code",
   "execution_count": null,
   "metadata": {},
   "outputs": [],
   "source": [
    "browser = webdriver.Chrome()\n",
    "url = \"https://media.daum.net/\"\n",
    "browser.get(url)"
   ]
  },
  {
   "cell_type": "markdown",
   "metadata": {},
   "source": [
    "### 사회"
   ]
  },
  {
   "cell_type": "code",
   "execution_count": null,
   "metadata": {},
   "outputs": [],
   "source": [
    "# 분야이름 \n",
    "field = browser.find_elements_by_css_selector(\"#kakaoGnb > div > ul > li:nth-child(2) > a\")[0].text\n",
    "# 사회분야 클릭\n",
    "browser.find_elements_by_css_selector(\"#kakaoGnb > div > ul > li:nth-child(2) > a\")[0].click()"
   ]
  },
  {
   "cell_type": "markdown",
   "metadata": {},
   "source": [
    "### 페이지 소스 받아오기"
   ]
  },
  {
   "cell_type": "code",
   "execution_count": null,
   "metadata": {},
   "outputs": [],
   "source": [
    "dom = BeautifulSoup(browser.page_source, \"lxml\")"
   ]
  },
  {
   "cell_type": "markdown",
   "metadata": {},
   "source": [
    "### 세부링크 가져와서 urljoin -> url방문 -> 내용 긁어오기\n",
    "#### 처음엔 생으로 짜고 이것을 함수로 만들기"
   ]
  },
  {
   "cell_type": "code",
   "execution_count": null,
   "metadata": {},
   "outputs": [],
   "source": [
    "links = [_[\"href\"] for _ in dom.select(\".section_cate.section_headline .link_txt\") if _.has_attr('href')]\n",
    "\n",
    "for link in links:\n",
    "    # 뉴스로만 향하는 링크들만\n",
    "    if link.startswith(\"http://v.media.daum.net/v/\"):\n",
    "\n",
    "        article_id = link.split(\"/\")[-1]\n",
    "\n",
    "        html = getDownload(link)\n",
    "        detail_dom = BeautifulSoup(html.content, \"lxml\")\n",
    "        \n",
    "        # 파일 생성\n",
    "        file_name = \"./news_crawl_project/\" + field + \"-\" + article_id\n",
    "        f = open(file_name, 'w', encoding=\"utf-8\")\n",
    "        \n",
    "        for _ in detail_dom.select(\"#harmonyContainer > section > p\"):\n",
    "#           각 p태그 파일에 write\n",
    "            f.write(_.text)\n",
    "        \n",
    "        print(file_name, \"생성 완료\")\n",
    "        \n",
    "        f.close()\n",
    "        #harmonyContainer > section > p:nth-child(3)\n",
    "        "
   ]
  },
  {
   "cell_type": "markdown",
   "metadata": {},
   "source": [
    "## 정치"
   ]
  },
  {
   "cell_type": "code",
   "execution_count": null,
   "metadata": {},
   "outputs": [],
   "source": [
    "field = browser.find_elements_by_xpath(\"//*[@id='kakaoGnb']/div/ul/li[3]/a\")[0].text\n",
    "browser.find_elements_by_xpath(\"//*[@id='kakaoGnb']/div/ul/li[3]/a\")[0].click()"
   ]
  },
  {
   "cell_type": "code",
   "execution_count": null,
   "metadata": {},
   "outputs": [],
   "source": [
    "dom = BeautifulSoup(browser.page_source, \"lxml\")\n",
    "links = [_[\"href\"] for _ in dom.select(\".section_cate.section_headline .link_txt\") if _.has_attr('href')]\n",
    "\n",
    "daum_news_detail_crawl(links)"
   ]
  },
  {
   "cell_type": "markdown",
   "metadata": {},
   "source": [
    "## 경제"
   ]
  },
  {
   "cell_type": "code",
   "execution_count": null,
   "metadata": {},
   "outputs": [],
   "source": [
    "field = browser.find_elements_by_css_selector(\"#kakaoGnb > div > ul > li:nth-child(4) > a\")[0].text\n",
    "browser.find_elements_by_css_selector(\"#kakaoGnb > div > ul > li:nth-child(4) > a\")[0].click()\n",
    "\n",
    "dom = BeautifulSoup(browser.page_source, \"lxml\")\n",
    "\n",
    "links = [_[\"href\"] for _ in dom.select(\".section_cate.section_headline .link_txt\") if _.has_attr('href')]\n",
    "\n",
    "daum_news_detail_crawl(links)"
   ]
  },
  {
   "cell_type": "markdown",
   "metadata": {},
   "source": [
    "## 국제"
   ]
  },
  {
   "cell_type": "code",
   "execution_count": null,
   "metadata": {},
   "outputs": [],
   "source": [
    "field = browser.find_elements_by_css_selector(\"#kakaoGnb > div > ul > li:nth-child(5) > a\")[0].text\n",
    "browser.find_elements_by_css_selector(\"#kakaoGnb > div > ul > li:nth-child(5) > a\")[0].click()\n",
    "\n",
    "dom = BeautifulSoup(browser.page_source, \"lxml\")\n",
    "\n",
    "links = [_[\"href\"] for _ in dom.select(\".section_cate.section_headline .link_txt\") if _.has_attr('href')]\n",
    "\n",
    "daum_news_detail_crawl(links)"
   ]
  },
  {
   "cell_type": "markdown",
   "metadata": {},
   "source": [
    "## 문화"
   ]
  },
  {
   "cell_type": "code",
   "execution_count": null,
   "metadata": {},
   "outputs": [],
   "source": [
    "field = browser.find_elements_by_css_selector(\"#kakaoGnb > div > ul > li:nth-child(6) > a\")[0].text\n",
    "browser.find_elements_by_css_selector(\"#kakaoGnb > div > ul > li:nth-child(6) > a\")[0].click()\n",
    "\n",
    "dom = BeautifulSoup(browser.page_source, \"lxml\")\n",
    "\n",
    "links = [_[\"href\"] for _ in dom.select(\".section_cate.section_headline .link_txt\") if _.has_attr('href')]\n",
    "\n",
    "daum_news_detail_crawl(links)\n",
    "\n",
    "        #harmonyContainer > section > p:nth-child(3)\n",
    "        "
   ]
  },
  {
   "cell_type": "markdown",
   "metadata": {},
   "source": [
    "## IT"
   ]
  },
  {
   "cell_type": "code",
   "execution_count": null,
   "metadata": {},
   "outputs": [],
   "source": [
    "field = browser.find_elements_by_css_selector(\"#kakaoGnb > div > ul > li:nth-child(7) > a\")[0].text\n",
    "browser.find_elements_by_css_selector(\"#kakaoGnb > div > ul > li:nth-child(7) > a\")[0].click()\n",
    "\n",
    "dom = BeautifulSoup(browser.page_source, \"lxml\")\n",
    "\n",
    "daum_news_detail_crawl(links)"
   ]
  },
  {
   "cell_type": "markdown",
   "metadata": {},
   "source": [
    "# 네이트 뉴스"
   ]
  },
  {
   "cell_type": "code",
   "execution_count": 3,
   "metadata": {},
   "outputs": [],
   "source": [
    "browser = webdriver.Chrome()\n",
    "url = \"https://news.nate.com\"\n",
    "browser.get(url)"
   ]
  },
  {
   "cell_type": "code",
   "execution_count": 4,
   "metadata": {},
   "outputs": [],
   "source": [
    "def nate_news_detail_crawl(links):\n",
    "    print(field, \"분야 개수 : \", len(links))\n",
    "    for link in links:\n",
    "        if link.startswith(\"//news.nate.com/view/\"):\n",
    "            article_id = link.split(\"/\")[-1].split('?')[0]\n",
    "\n",
    "            html = getDownload(\"https:\" + link)\n",
    "            detail_dom = BeautifulSoup(html.content, \"lxml\")\n",
    "\n",
    "            # 파일 생성\n",
    "            file_name = \"./news_crawl_project/\" + field + \"-\" + article_id\n",
    "            f = open(file_name, 'w', encoding=\"utf-8\")\n",
    "\n",
    "            for _ in detail_dom.select(\"#realArtcContents\"):\n",
    "    #           각 p태그 파일에 write\n",
    "                f.write(_.text)\n",
    "\n",
    "            print(file_name, \"생성 완료\")\n",
    "            time.sleep(1)"
   ]
  },
  {
   "cell_type": "markdown",
   "metadata": {},
   "source": [
    "### 사회"
   ]
  },
  {
   "cell_type": "code",
   "execution_count": 5,
   "metadata": {},
   "outputs": [],
   "source": [
    "field = browser.find_element_by_class_name(\"news03\").text\n",
    "browser.find_element_by_class_name(\"news03\").click()"
   ]
  },
  {
   "cell_type": "code",
   "execution_count": 6,
   "metadata": {},
   "outputs": [
    {
     "name": "stdout",
     "output_type": "stream",
     "text": [
      "정치 분야 개수 :  43\n",
      "./news_crawl_project/정치-20190510n33943 생성 완료\n",
      "./news_crawl_project/정치-20190510n34694 생성 완료\n",
      "./news_crawl_project/정치-20190510n33811 생성 완료\n",
      "./news_crawl_project/정치-20190510n30801 생성 완료\n",
      "./news_crawl_project/정치-20190510n33982 생성 완료\n",
      "./news_crawl_project/정치-20190510n28476 생성 완료\n",
      "./news_crawl_project/정치-20190510n22582 생성 완료\n",
      "./news_crawl_project/정치-20190510n10775 생성 완료\n",
      "./news_crawl_project/정치-20190510n33288 생성 완료\n",
      "./news_crawl_project/정치-20190510n19472 생성 완료\n",
      "./news_crawl_project/정치-20190510n17916 생성 완료\n",
      "./news_crawl_project/정치-20190510n11053 생성 완료\n",
      "./news_crawl_project/정치-20190510n11654 생성 완료\n",
      "./news_crawl_project/정치-20190508n28159 생성 완료\n",
      "./news_crawl_project/정치-20190508n30739 생성 완료\n",
      "./news_crawl_project/정치-20190508n21728 생성 완료\n",
      "./news_crawl_project/정치-20190510n30241 생성 완료\n",
      "./news_crawl_project/정치-20190510n31292 생성 완료\n",
      "./news_crawl_project/정치-20190510n28476 생성 완료\n",
      "./news_crawl_project/정치-20190510n17741 생성 완료\n",
      "./news_crawl_project/정치-20190510n21961 생성 완료\n",
      "./news_crawl_project/정치-20190510n05792 생성 완료\n",
      "./news_crawl_project/정치-20190510n05397 생성 완료\n",
      "./news_crawl_project/정치-20190510n29476 생성 완료\n",
      "./news_crawl_project/정치-20190510n26999 생성 완료\n",
      "./news_crawl_project/정치-20190510n06743 생성 완료\n",
      "./news_crawl_project/정치-20190510n10431 생성 완료\n",
      "./news_crawl_project/정치-20190510n06324 생성 완료\n",
      "./news_crawl_project/정치-20190510n04968 생성 완료\n",
      "./news_crawl_project/정치-20190510n30797 생성 완료\n",
      "./news_crawl_project/정치-20190510n12431 생성 완료\n",
      "./news_crawl_project/정치-20190510n12417 생성 완료\n",
      "./news_crawl_project/정치-20190419n16389 생성 완료\n",
      "./news_crawl_project/정치-20190419n14200 생성 완료\n",
      "./news_crawl_project/정치-20190410n21571 생성 완료\n",
      "./news_crawl_project/정치-20190410n20948 생성 완료\n",
      "./news_crawl_project/정치-20190410n20269 생성 완료\n",
      "./news_crawl_project/정치-20190510n28244 생성 완료\n",
      "./news_crawl_project/정치-20190508n40255 생성 완료\n",
      "./news_crawl_project/정치-20190508n40170 생성 완료\n",
      "./news_crawl_project/정치-20190508n17569 생성 완료\n",
      "./news_crawl_project/정치-20190508n37884 생성 완료\n",
      "./news_crawl_project/정치-20190508n16727 생성 완료\n"
     ]
    }
   ],
   "source": [
    "dom = BeautifulSoup(browser.page_source, \"lxml\")\n",
    "\n",
    "links = [_[\"href\"] for _ in dom.select(\"#newsContents a\") if _.has_attr('href')]\n",
    "\n",
    "nate_news_detail_crawl(links)"
   ]
  },
  {
   "cell_type": "markdown",
   "metadata": {},
   "source": [
    "### 경제"
   ]
  },
  {
   "cell_type": "code",
   "execution_count": 7,
   "metadata": {},
   "outputs": [
    {
     "name": "stdout",
     "output_type": "stream",
     "text": [
      "경제 분야 개수 :  31\n",
      "./news_crawl_project/경제-20190510n23962 생성 완료\n",
      "./news_crawl_project/경제-20190510n16085 생성 완료\n",
      "./news_crawl_project/경제-20190509n30489 생성 완료\n",
      "./news_crawl_project/경제-20190509n26166 생성 완료\n",
      "./news_crawl_project/경제-20190508n17337 생성 완료\n",
      "./news_crawl_project/경제-20190505n02259 생성 완료\n",
      "./news_crawl_project/경제-20190510n20716 생성 완료\n",
      "./news_crawl_project/경제-20190509n21628 생성 완료\n",
      "./news_crawl_project/경제-20190509n08358 생성 완료\n",
      "./news_crawl_project/경제-20190508n10724 생성 완료\n",
      "./news_crawl_project/경제-20190429n36193 생성 완료\n",
      "./news_crawl_project/경제-20190424n03150 생성 완료\n",
      "./news_crawl_project/경제-20190510n22323 생성 완료\n",
      "./news_crawl_project/경제-20190509n43393 생성 완료\n",
      "./news_crawl_project/경제-20190509n37082 생성 완료\n",
      "./news_crawl_project/경제-20190509n20700 생성 완료\n",
      "./news_crawl_project/경제-20190509n30055 생성 완료\n",
      "./news_crawl_project/경제-20190509n13451 생성 완료\n",
      "./news_crawl_project/경제-20190510n21561 생성 완료\n",
      "./news_crawl_project/경제-20190509n16568 생성 완료\n",
      "./news_crawl_project/경제-20190509n18588 생성 완료\n",
      "./news_crawl_project/경제-20190509n00892 생성 완료\n",
      "./news_crawl_project/경제-20190509n03244 생성 완료\n",
      "./news_crawl_project/경제-20190509n01602 생성 완료\n",
      "./news_crawl_project/경제-20190510n12890 생성 완료\n",
      "./news_crawl_project/경제-20190510n03220 생성 완료\n",
      "./news_crawl_project/경제-20190510n12539 생성 완료\n",
      "./news_crawl_project/경제-20190510n12545 생성 완료\n",
      "./news_crawl_project/경제-20190510n12267 생성 완료\n",
      "./news_crawl_project/경제-20190510n03225 생성 완료\n"
     ]
    }
   ],
   "source": [
    "field = browser.find_element_by_class_name(\"news04\").text\n",
    "browser.find_element_by_class_name(\"news04\").click()\n",
    "\n",
    "dom = BeautifulSoup(browser.page_source, \"lxml\")\n",
    "\n",
    "links = [_[\"href\"] for _ in dom.select(\"#newsContents a\") if _.has_attr('href')]\n",
    "\n",
    "nate_news_detail_crawl(links)"
   ]
  },
  {
   "cell_type": "markdown",
   "metadata": {},
   "source": [
    "### 사회"
   ]
  },
  {
   "cell_type": "code",
   "execution_count": 8,
   "metadata": {},
   "outputs": [
    {
     "name": "stdout",
     "output_type": "stream",
     "text": [
      "사회 분야 개수 :  35\n",
      "./news_crawl_project/사회-20190510n29526 생성 완료\n",
      "./news_crawl_project/사회-20190510n19983 생성 완료\n",
      "./news_crawl_project/사회-20190510n20307 생성 완료\n",
      "./news_crawl_project/사회-20190510n09675 생성 완료\n",
      "./news_crawl_project/사회-20190510n02247 생성 완료\n",
      "./news_crawl_project/사회-20190509n42190 생성 완료\n",
      "./news_crawl_project/사회-20190509n42453 생성 완료\n",
      "./news_crawl_project/사회-20190510n28426 생성 완료\n",
      "./news_crawl_project/사회-20190510n03290 생성 완료\n",
      "./news_crawl_project/사회-20190510n00686 생성 완료\n",
      "./news_crawl_project/사회-20190510n00835 생성 완료\n",
      "./news_crawl_project/사회-20190509n45302 생성 완료\n",
      "./news_crawl_project/사회-20190509n42242 생성 완료\n",
      "./news_crawl_project/사회-20190509n42189 생성 완료\n",
      "./news_crawl_project/사회-20190509n38732 생성 완료\n",
      "./news_crawl_project/사회-20190510n24778 생성 완료\n",
      "./news_crawl_project/사회-20190428n07619 생성 완료\n",
      "./news_crawl_project/사회-20190425n26851 생성 완료\n",
      "./news_crawl_project/사회-20190425n02644 생성 완료\n",
      "./news_crawl_project/사회-20190425n05017 생성 완료\n",
      "./news_crawl_project/사회-20190423n10526 생성 완료\n",
      "./news_crawl_project/사회-20190422n38414 생성 완료\n",
      "./news_crawl_project/사회-20190510n24112 생성 완료\n",
      "./news_crawl_project/사회-20190510n24161 생성 완료\n",
      "./news_crawl_project/사회-20190510n20195 생성 완료\n",
      "./news_crawl_project/사회-20190510n23310 생성 완료\n",
      "./news_crawl_project/사회-20190510n23017 생성 완료\n",
      "./news_crawl_project/사회-20190510n22905 생성 완료\n",
      "./news_crawl_project/사회-20190425n28921 생성 완료\n",
      "./news_crawl_project/사회-20190301n01620 생성 완료\n",
      "./news_crawl_project/사회-20190123n18339 생성 완료\n",
      "./news_crawl_project/사회-20190117n11287 생성 완료\n",
      "./news_crawl_project/사회-20190117n11660 생성 완료\n",
      "./news_crawl_project/사회-20190117n12110 생성 완료\n",
      "./news_crawl_project/사회-20190510n17733 생성 완료\n"
     ]
    }
   ],
   "source": [
    "field = browser.find_element_by_class_name(\"news05\").text\n",
    "browser.find_element_by_class_name(\"news05\").click()\n",
    "\n",
    "dom = BeautifulSoup(browser.page_source, \"lxml\")\n",
    "\n",
    "links = [_[\"href\"] for _ in dom.select(\"#newsContents a\") if _.has_attr('href')]\n",
    "\n",
    "nate_news_detail_crawl(links)"
   ]
  },
  {
   "cell_type": "markdown",
   "metadata": {},
   "source": [
    "### 세계"
   ]
  },
  {
   "cell_type": "code",
   "execution_count": 9,
   "metadata": {},
   "outputs": [
    {
     "name": "stdout",
     "output_type": "stream",
     "text": [
      "세계 분야 개수 :  40\n",
      "./news_crawl_project/세계-20190510n36462 생성 완료\n",
      "./news_crawl_project/세계-20190510n35841 생성 완료\n",
      "./news_crawl_project/세계-20190510n34762 생성 완료\n",
      "./news_crawl_project/세계-20190510n30877 생성 완료\n",
      "./news_crawl_project/세계-20190510n33174 생성 완료\n",
      "./news_crawl_project/세계-20190509n32096 생성 완료\n",
      "./news_crawl_project/세계-20190509n38565 생성 완료\n",
      "./news_crawl_project/세계-20190509n04808 생성 완료\n",
      "./news_crawl_project/세계-20190509n00287 생성 완료\n",
      "./news_crawl_project/세계-20190509n02000 생성 완료\n",
      "./news_crawl_project/세계-20190510n30497 생성 완료\n",
      "./news_crawl_project/세계-20190510n19645 생성 완료\n",
      "./news_crawl_project/세계-20190510n13688 생성 완료\n",
      "./news_crawl_project/세계-20190509n29777 생성 완료\n",
      "./news_crawl_project/세계-20190509n03529 생성 완료\n",
      "./news_crawl_project/세계-20190507n20728 생성 완료\n",
      "./news_crawl_project/세계-20190507n22333 생성 완료\n",
      "./news_crawl_project/세계-20190507n05523 생성 완료\n",
      "./news_crawl_project/세계-20190510n24922 생성 완료\n",
      "./news_crawl_project/세계-20190510n25158 생성 완료\n",
      "./news_crawl_project/세계-20190510n18926 생성 완료\n",
      "./news_crawl_project/세계-20190510n22599 생성 완료\n",
      "./news_crawl_project/세계-20190510n18483 생성 완료\n",
      "./news_crawl_project/세계-20190510n11569 생성 완료\n",
      "./news_crawl_project/세계-20190510n10106 생성 완료\n",
      "./news_crawl_project/세계-20190510n03712 생성 완료\n",
      "./news_crawl_project/세계-20190509n24104 생성 완료\n",
      "./news_crawl_project/세계-20190509n17445 생성 완료\n",
      "./news_crawl_project/세계-20190501n04602 생성 완료\n",
      "./news_crawl_project/세계-20190429n09032 생성 완료\n",
      "./news_crawl_project/세계-20190429n13308 생성 완료\n",
      "./news_crawl_project/세계-20190429n06935 생성 완료\n",
      "./news_crawl_project/세계-20190429n06968 생성 완료\n",
      "./news_crawl_project/세계-20190510n36129 생성 완료\n",
      "./news_crawl_project/세계-20190510n35968 생성 완료\n",
      "./news_crawl_project/세계-20190510n35841 생성 완료\n",
      "./news_crawl_project/세계-20190510n35651 생성 완료\n",
      "./news_crawl_project/세계-20190510n35558 생성 완료\n",
      "./news_crawl_project/세계-20190510n35298 생성 완료\n",
      "./news_crawl_project/세계-20190510n34827 생성 완료\n"
     ]
    }
   ],
   "source": [
    "field = browser.find_element_by_class_name(\"news06\").text\n",
    "browser.find_element_by_class_name(\"news06\").click()\n",
    "\n",
    "dom = BeautifulSoup(browser.page_source, \"lxml\")\n",
    "\n",
    "links = [_[\"href\"] for _ in dom.select(\"#newsContents a\") if _.has_attr('href')]\n",
    "\n",
    "nate_news_detail_crawl(links)"
   ]
  },
  {
   "cell_type": "markdown",
   "metadata": {},
   "source": [
    "### IT/과학"
   ]
  },
  {
   "cell_type": "code",
   "execution_count": 11,
   "metadata": {},
   "outputs": [
    {
     "name": "stdout",
     "output_type": "stream",
     "text": [
      "IT 분야 개수 :  36\n",
      "./news_crawl_project/IT-20190510n10194 생성 완료\n",
      "./news_crawl_project/IT-20190510n10283 생성 완료\n",
      "./news_crawl_project/IT-20190510n00040 생성 완료\n",
      "./news_crawl_project/IT-20190510n01503 생성 완료\n",
      "./news_crawl_project/IT-20190509n13265 생성 완료\n",
      "./news_crawl_project/IT-20190509n05130 생성 완료\n",
      "./news_crawl_project/IT-20190510n03515 생성 완료\n",
      "./news_crawl_project/IT-20190509n18569 생성 완료\n",
      "./news_crawl_project/IT-20190509n02250 생성 완료\n",
      "./news_crawl_project/IT-20190509n03000 생성 완료\n",
      "./news_crawl_project/IT-20190510n03568 생성 완료\n",
      "./news_crawl_project/IT-20190509n03472 생성 완료\n",
      "./news_crawl_project/IT-20190508n03456 생성 완료\n",
      "./news_crawl_project/IT-20190503n03443 생성 완료\n",
      "./news_crawl_project/IT-20190502n04283 생성 완료\n",
      "./news_crawl_project/IT-20190510n01856 생성 완료\n",
      "./news_crawl_project/IT-20190510n02270 생성 완료\n",
      "./news_crawl_project/IT-20190505n02690 생성 완료\n",
      "./news_crawl_project/IT-20190504n02086 생성 완료\n",
      "./news_crawl_project/IT-20190502n17987 생성 완료\n",
      "./news_crawl_project/IT-20190428n01358 생성 완료\n",
      "./news_crawl_project/IT-20190427n02168 생성 완료\n",
      "./news_crawl_project/IT-20190426n02988 생성 완료\n",
      "./news_crawl_project/IT-20190509n05082 생성 완료\n",
      "./news_crawl_project/IT-20190508n05428 생성 완료\n",
      "./news_crawl_project/IT-20190507n33566 생성 완료\n",
      "./news_crawl_project/IT-20190501n05134 생성 완료\n",
      "./news_crawl_project/IT-20190430n25782 생성 완료\n",
      "./news_crawl_project/IT-20190510n36439 생성 완료\n",
      "./news_crawl_project/IT-20190510n34332 생성 완료\n",
      "./news_crawl_project/IT-20190510n33653 생성 완료\n",
      "./news_crawl_project/IT-20190510n33310 생성 완료\n",
      "./news_crawl_project/IT-20190510n33261 생성 완료\n",
      "./news_crawl_project/IT-20190510n33196 생성 완료\n",
      "./news_crawl_project/IT-20190510n32983 생성 완료\n",
      "./news_crawl_project/IT-20190510n31224 생성 완료\n"
     ]
    }
   ],
   "source": [
    "field = browser.find_element_by_class_name(\"news07\").text[:2]\n",
    "browser.find_element_by_class_name(\"news07\").click()\n",
    "\n",
    "dom = BeautifulSoup(browser.page_source, \"lxml\")\n",
    "\n",
    "links = [_[\"href\"] for _ in dom.select(\"#newsContents a\") if _.has_attr('href')]\n",
    "\n",
    "nate_news_detail_crawl(links)"
   ]
  },
  {
   "cell_type": "markdown",
   "metadata": {},
   "source": [
    "# 번외 : 네이버 뉴스\n",
    "## 이번엔 beautifulsoup만 써서 많이 본 뉴스 가져오기"
   ]
  },
  {
   "cell_type": "code",
   "execution_count": 63,
   "metadata": {},
   "outputs": [],
   "source": [
    "url = \"https://news.naver.com/\"\n",
    "html = getDownload(url)\n",
    "dom = BeautifulSoup(html.content, \"lxml\")"
   ]
  },
  {
   "cell_type": "markdown",
   "metadata": {},
   "source": [
    "### 필드 리스트 따로뽑고 10개씩 짤라서 하기"
   ]
  },
  {
   "cell_type": "code",
   "execution_count": 71,
   "metadata": {},
   "outputs": [
    {
     "data": {
      "text/plain": [
       "6"
      ]
     },
     "execution_count": 71,
     "metadata": {},
     "output_type": "execute_result"
    }
   ],
   "source": [
    "field_list = dom.select(\".category_ranking\")[0].text.split(\" \")\n",
    "field_list = list(filter(None, field_list))\n",
    "len(field_list)"
   ]
  },
  {
   "cell_type": "markdown",
   "metadata": {},
   "source": [
    "### 랭크가 10개씩 있으니 10개될때마다 1로 리셋하면서 긁어오자"
   ]
  },
  {
   "cell_type": "code",
   "execution_count": 78,
   "metadata": {},
   "outputs": [
    {
     "data": {
      "text/plain": [
       "<a class=\"nclicks(rig.ranksci)\" href=\"/main/ranking/read.nhn?mid=etc&amp;sid1=111&amp;rankingType=popular_day&amp;oid=366&amp;aid=0000433800&amp;date=20190510&amp;type=1&amp;rankingSeq=10&amp;rankingSectionId=105\" title=\"넷마블, 'BTS월드' 출시 임박…10일부터 국내외 동시 사전등록\">넷마블, 'BTS월드' 출시 임박…10일부터 국내외 동시 사전등록</a>"
      ]
     },
     "execution_count": 78,
     "metadata": {},
     "output_type": "execute_result"
    }
   ],
   "source": [
    "dom.select(\".section_list_ranking a\")[-1]"
   ]
  },
  {
   "cell_type": "code",
   "execution_count": 77,
   "metadata": {},
   "outputs": [
    {
     "name": "stdout",
     "output_type": "stream",
     "text": [
      "./news_crawl_project/정치-naver1 생성 완료\n",
      "./news_crawl_project/정치-naver2 생성 완료\n",
      "./news_crawl_project/정치-naver3 생성 완료\n",
      "./news_crawl_project/정치-naver4 생성 완료\n",
      "./news_crawl_project/정치-naver5 생성 완료\n",
      "./news_crawl_project/정치-naver6 생성 완료\n",
      "./news_crawl_project/정치-naver7 생성 완료\n",
      "./news_crawl_project/정치-naver8 생성 완료\n",
      "./news_crawl_project/정치-naver9 생성 완료\n",
      "./news_crawl_project/정치-naver10 생성 완료\n",
      "./news_crawl_project/경제-naver1 생성 완료\n",
      "./news_crawl_project/경제-naver2 생성 완료\n",
      "./news_crawl_project/경제-naver3 생성 완료\n",
      "./news_crawl_project/경제-naver4 생성 완료\n",
      "./news_crawl_project/경제-naver5 생성 완료\n",
      "./news_crawl_project/경제-naver6 생성 완료\n",
      "./news_crawl_project/경제-naver7 생성 완료\n",
      "./news_crawl_project/경제-naver8 생성 완료\n",
      "./news_crawl_project/경제-naver9 생성 완료\n",
      "./news_crawl_project/경제-naver10 생성 완료\n",
      "./news_crawl_project/사회-naver1 생성 완료\n",
      "./news_crawl_project/사회-naver2 생성 완료\n",
      "./news_crawl_project/사회-naver3 생성 완료\n",
      "./news_crawl_project/사회-naver4 생성 완료\n",
      "./news_crawl_project/사회-naver5 생성 완료\n",
      "./news_crawl_project/사회-naver6 생성 완료\n",
      "./news_crawl_project/사회-naver7 생성 완료\n",
      "./news_crawl_project/사회-naver8 생성 완료\n",
      "./news_crawl_project/사회-naver9 생성 완료\n",
      "./news_crawl_project/사회-naver10 생성 완료\n",
      "./news_crawl_project/생활-naver1 생성 완료\n",
      "./news_crawl_project/생활-naver2 생성 완료\n",
      "./news_crawl_project/생활-naver3 생성 완료\n",
      "./news_crawl_project/생활-naver4 생성 완료\n",
      "./news_crawl_project/생활-naver5 생성 완료\n",
      "./news_crawl_project/생활-naver6 생성 완료\n",
      "./news_crawl_project/생활-naver7 생성 완료\n",
      "./news_crawl_project/생활-naver8 생성 완료\n",
      "./news_crawl_project/생활-naver9 생성 완료\n",
      "./news_crawl_project/생활-naver10 생성 완료\n",
      "./news_crawl_project/세계-naver1 생성 완료\n",
      "./news_crawl_project/세계-naver2 생성 완료\n",
      "./news_crawl_project/세계-naver3 생성 완료\n",
      "./news_crawl_project/세계-naver4 생성 완료\n",
      "./news_crawl_project/세계-naver5 생성 완료\n",
      "./news_crawl_project/세계-naver6 생성 완료\n",
      "./news_crawl_project/세계-naver7 생성 완료\n",
      "./news_crawl_project/세계-naver8 생성 완료\n",
      "./news_crawl_project/세계-naver9 생성 완료\n",
      "./news_crawl_project/세계-naver10 생성 완료\n",
      "./news_crawl_project/IT-naver1 생성 완료\n",
      "./news_crawl_project/IT-naver2 생성 완료\n",
      "./news_crawl_project/IT-naver3 생성 완료\n",
      "./news_crawl_project/IT-naver4 생성 완료\n",
      "./news_crawl_project/IT-naver5 생성 완료\n",
      "./news_crawl_project/IT-naver6 생성 완료\n",
      "./news_crawl_project/IT-naver7 생성 완료\n",
      "./news_crawl_project/IT-naver8 생성 완료\n",
      "./news_crawl_project/IT-naver9 생성 완료\n",
      "./news_crawl_project/IT-naver10 생성 완료\n"
     ]
    }
   ],
   "source": [
    "rank = 1\n",
    "index = 0\n",
    "field = field_list[index]\n",
    "links = dom.select(\".section_list_ranking a\")\n",
    "\n",
    "for _ in links:\n",
    "    \n",
    "    link = requests.compat.urljoin(url, _[\"href\"])\n",
    "    html = getDownload(link)\n",
    "    detail_dom = BeautifulSoup(html.content, \"lxml\")\n",
    "    \n",
    "    # /로 필드이름이 있으면 디렉토리로 인식해서 예외문을 만들었다.\n",
    "    try:\n",
    "        file_name = \"./news_crawl_project/\" + field + \"-naver\" + str(rank)\n",
    "        f = open(file_name, 'w', encoding=\"utf-8\")\n",
    "    except FileNotFoundError:\n",
    "        file_name = \"./news_crawl_project/\" + field.split(\"/\")[0] + \"-naver\" + str(rank)\n",
    "        f = open(file_name, 'w', encoding=\"utf-8\")\n",
    "\n",
    "\n",
    "    for _ in detail_dom.select(\"#articleBodyContents\"):\n",
    "        f.write(_.text)\n",
    "\n",
    "    print(file_name, \"생성 완료\")\n",
    "#     time.sleep(1)\n",
    "   \n",
    "    rank += 1\n",
    "    \n",
    "    # rank랑 field 리셋\n",
    "    if rank > 10 :\n",
    "        index += 1\n",
    "        rank = 1\n",
    "        if index < len(field_list):\n",
    "            field = field_list[index]\n",
    "        \n",
    "        \n"
   ]
  },
  {
   "cell_type": "code",
   "execution_count": null,
   "metadata": {},
   "outputs": [],
   "source": []
  },
  {
   "cell_type": "code",
   "execution_count": null,
   "metadata": {},
   "outputs": [],
   "source": []
  }
 ],
 "metadata": {
  "kernelspec": {
   "display_name": "Python 3",
   "language": "python",
   "name": "python3"
  },
  "language_info": {
   "codemirror_mode": {
    "name": "ipython",
    "version": 3
   },
   "file_extension": ".py",
   "mimetype": "text/x-python",
   "name": "python",
   "nbconvert_exporter": "python",
   "pygments_lexer": "ipython3",
   "version": "3.6.6"
  }
 },
 "nbformat": 4,
 "nbformat_minor": 2
}
