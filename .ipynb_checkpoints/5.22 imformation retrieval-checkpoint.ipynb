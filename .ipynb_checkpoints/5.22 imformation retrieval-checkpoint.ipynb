{
 "cells": [
  {
   "cell_type": "markdown",
   "metadata": {},
   "source": [
    "# 정보검색 retrieval\n",
    "### http://www.cs.virginia.edu/~hw5x/Course/IR2015/_site/lectures/\n",
    "# 사용자의 need에 맞게 정보를 제공하는 것!\n",
    "### 주요이슈\n",
    "### 1. 쿼리표현 : 문법적 차이, 의미적 차이\n",
    "### 2. 문서표현 : 효율적인 접근을 위한 자료구조\n",
    "### 3. 검색모델"
   ]
  },
  {
   "cell_type": "markdown",
   "metadata": {},
   "source": [
    "1. Indexer<br>\n",
    "    - Crawler (Focused) => repository(collection)<br>\n",
    "    - Document Analyzer => Html, Tokenizing, Normalizing<br>\n",
    "                            Stemming(BPE), Ngram, MA, POS, Stopwords, RE, Pharses<br>\n",
    "                            => preprocessing\n",
    "    - Features => Lexicon<br>\n",
    "    - Document(Query) Representation => Bag Of Words (BOW)\n",
    "      Document-Term Mat, Term-Document Mat.(핵심)\n",
    "      => Inverted Document Indexing(역문헌 구조)\n",
    "      \n",
    "2. Relevance(Ranking)\n",
    "    - Weighting(TF-IDF), Similarity(Cosine:0-1, Euclidean)<br>\n",
    "    - Sorting\n",
    "3. Results<br>\n",
    "    - 끝(Top k)"
   ]
  },
  {
   "cell_type": "code",
   "execution_count": null,
   "metadata": {},
   "outputs": [],
   "source": [
    "# Lexicon\n",
    "from konlpy.corpus import kobill\n",
    "def getLexicon():\n",
    "    lexicon = list()\n",
    "    for document in [kobill.open(idx).read() for idx in kobill.fileids()]:\n",
    "        for term in document.split():\n",
    "            if term not in lexicon:\n",
    "                lexicon.append(term)\n",
    "        return lexicon\n",
    "        "
   ]
  },
  {
   "cell_type": "code",
   "execution_count": null,
   "metadata": {},
   "outputs": [],
   "source": [
    "."
   ]
  },
  {
   "cell_type": "code",
   "execution_count": null,
   "metadata": {},
   "outputs": [],
   "source": []
  },
  {
   "cell_type": "code",
   "execution_count": null,
   "metadata": {},
   "outputs": [],
   "source": []
  }
 ],
 "metadata": {
  "kernelspec": {
   "display_name": "Python 3",
   "language": "python",
   "name": "python3"
  },
  "language_info": {
   "codemirror_mode": {
    "name": "ipython",
    "version": 3
   },
   "file_extension": ".py",
   "mimetype": "text/x-python",
   "name": "python",
   "nbconvert_exporter": "python",
   "pygments_lexer": "ipython3",
   "version": "3.6.6"
  }
 },
 "nbformat": 4,
 "nbformat_minor": 2
}
