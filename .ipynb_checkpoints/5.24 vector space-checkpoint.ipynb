{
 "cells": [
  {
   "cell_type": "code",
   "execution_count": 1,
   "metadata": {},
   "outputs": [],
   "source": [
    "from konlpy.corpus import kobill\n",
    "from collections import defaultdict\n",
    "\n",
    "def documentRepresentation5():\n",
    "    documentList = defaultdict(lambda: defaultdict(int))\n",
    "    for idx in kobill.fileids():\n",
    "        for term in kobill.open(idx).read().split():\n",
    "            documentList[idx][term] += 1\n",
    "    return documentList"
   ]
  },
  {
   "cell_type": "code",
   "execution_count": 2,
   "metadata": {},
   "outputs": [],
   "source": [
    "collection = {\n",
    "    ('Document1', 'This is a a a a a a a a sample'),\n",
    "    ('Document2', 'This is another sample'),\n",
    "    ('Document3', 'This is not a sample')\n",
    "}"
   ]
  },
  {
   "cell_type": "code",
   "execution_count": 6,
   "metadata": {},
   "outputs": [],
   "source": [
    "DTM = defaultdict(lambda: defaultdict(int))\n",
    "for docName, docConternt in collection:\n",
    "    for term in docConternt.lower().split():\n",
    "        DTM[docName][term] += 1\n",
    "        \n",
    "TDM = defaultdict(lambda: defaultdict(int))\n",
    "for idx, termList in DTM.items():\n",
    "    for term, freq in termList.items():\n",
    "        TDM[term][idx] = freq"
   ]
  },
  {
   "cell_type": "code",
   "execution_count": 7,
   "metadata": {},
   "outputs": [
    {
     "data": {
      "text/plain": [
       "dict_values([defaultdict(<class 'int'>, {'this': 1, 'is': 1, 'another': 1, 'sample': 1}), defaultdict(<class 'int'>, {'this': 1, 'is': 1, 'not': 1, 'a': 1, 'sample': 1}), defaultdict(<class 'int'>, {'this': 1, 'is': 1, 'a': 8, 'sample': 1})])"
      ]
     },
     "execution_count": 7,
     "metadata": {},
     "output_type": "execute_result"
    }
   ],
   "source": [
    "# N=len(DTM), |V|=len(TDM), DTM.keys(), V=TDM.keys()\n",
    "# maxTF(in Document1) = max(DTM['Document1'].values())\n",
    "\n",
    "N = len(DTM)\n",
    "\n",
    "DTM.values()"
   ]
  },
  {
   "cell_type": "code",
   "execution_count": null,
   "metadata": {},
   "outputs": [],
   "source": [
    "from math import log2\n",
    "\n",
    "TWM = defaultdict(lambda:defaultdict(float))\n",
    "for idx, termList in DTM.items():\n",
    "    maxTF = max(termList.values())\n",
    "    for term, freq in termList.items():\n",
    "        TF = freq/maxTF\n",
    "        IDF = log2(N/len(TDM[term]))\n",
    "        TWM[term][idx] = TF*IDF"
   ]
  },
  {
   "cell_type": "code",
   "execution_count": null,
   "metadata": {},
   "outputs": [],
   "source": [
    "TWM # 다양한 빈도속에서 옥석이 가려낼 것임"
   ]
  },
  {
   "cell_type": "code",
   "execution_count": 59,
   "metadata": {},
   "outputs": [],
   "source": [
    "from konlpy.corpus import kobill\n",
    "from konlpy.tag import Komoran\n",
    "from math import sqrt\n",
    "\n",
    "ma = Komoran()\n",
    "DTM = defaultdict(lambda: defaultdict(int))\n",
    "for idx in kobill.fileids():\n",
    "#     ma.pos() : 형태소/품사\n",
    "#     ma.morphs() : 형태소/\n",
    "#     ma.nouns() : 명사\n",
    "    for term in kobill.open(idx).read().split():\n",
    "        for token in ma.pos(term):\n",
    "            DTM[idx][\"/\".join(token)] += 1\n",
    "#             DTM[docName][term] += 1\n",
    "        \n",
    "TDM = defaultdict(lambda: defaultdict(int))\n",
    "for idx, termList in DTM.items():\n",
    "    for term, freq in termList.items():\n",
    "        TDM[term][idx] = freq\n",
    "        \n",
    "TWM = defaultdict(lambda:defaultdict(float))\n",
    "DVL = defaultdict(float)\n",
    "\n",
    "N = len(DTM)\n",
    "for idx, termList in DTM.items():\n",
    "    maxTF = max(termList.values())\n",
    "    for term, freq in termList.items():\n",
    "        TF = freq/(maxTF + 1)\n",
    "        IDF = log2(N/len(TDM[term]))\n",
    "        TWM[term][idx] = TF*IDF\n",
    "        DVL[idx] += TWM[term][idx]**2\n",
    "        \n",
    "for idx, length in DVL.items():\n",
    "    DVL[idx] = sqrt(length)"
   ]
  },
  {
   "cell_type": "code",
   "execution_count": null,
   "metadata": {},
   "outputs": [],
   "source": [
    "TWM"
   ]
  },
  {
   "cell_type": "markdown",
   "metadata": {},
   "source": [
    "# similarity\n",
    "## 유클리디안 디스턴스는 점으로 보기 때문에 문서의 의미를 전부 못담고 패널티가 너무크다\n",
    "## -> 그래서 세타값인 코사인 유사도를 가지고 할 것이다.\n",
    "## 단위벡터를 사용하기 때문에"
   ]
  },
  {
   "cell_type": "code",
   "execution_count": 62,
   "metadata": {},
   "outputs": [
    {
     "data": {
      "text/plain": [
       "defaultdict(int,\n",
       "            {'국방/NNP': 1,\n",
       "             '의/JKG': 1,\n",
       "             '의무/NNG': 3,\n",
       "             '와/JC': 1,\n",
       "             '보편/NNG': 1,\n",
       "             '적/XSN': 1,\n",
       "             '에/JKB': 1,\n",
       "             '대하/VV': 1,\n",
       "             'ㄴ/ETM': 1,\n",
       "             '를/JKO': 1,\n",
       "             '찾/VV': 1,\n",
       "             '아/EC': 1,\n",
       "             '주/VX': 1,\n",
       "             '시/EP': 1,\n",
       "             '어요/EF': 1,\n",
       "             './SF': 1})"
      ]
     },
     "execution_count": 62,
     "metadata": {},
     "output_type": "execute_result"
    }
   ],
   "source": [
    "query = \"국방의 의무와 보편적 의무에 대한 의무를 찾아주세요.\"\n",
    "\n",
    "TQM = defaultdict(int)\n",
    "QWM = defaultdict(float)\n",
    "\n",
    "for term in query.split():\n",
    "    for token in ma.pos(term):\n",
    "        TQM[\"/\".join(token)] += 1\n",
    "TQM"
   ]
  },
  {
   "cell_type": "code",
   "execution_count": 63,
   "metadata": {},
   "outputs": [],
   "source": [
    "maxTF = max(TQM.values())\n",
    "alpha = 0.5 # 0.5 ~ 1 사이로 스케일링을 하겠다\n",
    "\n",
    "for term, freq in TQM.items():\n",
    "    TF = alpha + (1-alpha)*(freq/maxTF)\n",
    "    DF = len(TWM[term]) if len(TWM[term]) > 0 else 1\n",
    "    IDF = log2(len(TWM[term]) + 1) # smoothing idf\n",
    "    QWM[term] = TF*IDF\n",
    "#     ID = N/1"
   ]
  },
  {
   "cell_type": "code",
   "execution_count": 64,
   "metadata": {},
   "outputs": [
    {
     "data": {
      "text/plain": [
       "(10,\n",
       " defaultdict(float,\n",
       "             {'국방/NNP': 1.0566416671474372,\n",
       "              '의/JKG': 2.306287745758198,\n",
       "              '의무/NNG': 1.0,\n",
       "              '와/JC': 2.214618729924908,\n",
       "              '보편/NNG': 0.0,\n",
       "              '적/XSN': 2.214618729924908,\n",
       "              '에/JKB': 2.306287745758198,\n",
       "              '대하/VV': 2.306287745758198,\n",
       "              'ㄴ/ETM': 2.306287745758198,\n",
       "              '를/JKO': 2.306287745758198,\n",
       "              '찾/VV': 0.0,\n",
       "              '아/EC': 2.306287745758198,\n",
       "              '주/VX': 2.0,\n",
       "              '시/EP': 0.0,\n",
       "              '어요/EF': 0.0,\n",
       "              './SF': 2.306287745758198}))"
      ]
     },
     "execution_count": 64,
     "metadata": {},
     "output_type": "execute_result"
    }
   ],
   "source": [
    "N, QWM"
   ]
  },
  {
   "cell_type": "code",
   "execution_count": 65,
   "metadata": {},
   "outputs": [],
   "source": [
    "candidateList = defaultdict(float)\n",
    "for term, weight1 in QWM.items():\n",
    "    for doc, weight2 in TWM[term].items():\n",
    "        innerProduct = weight1 * weight2\n",
    "        candidateList[doc] += innerProduct\n",
    "\n",
    "for doc, sim in candidateList.items():\n",
    "    candidateList[doc] = sim/DVL[doc]"
   ]
  },
  {
   "cell_type": "code",
   "execution_count": 66,
   "metadata": {},
   "outputs": [
    {
     "name": "stdout",
     "output_type": "stream",
     "text": [
      "문서이름 : 1809899.txt / 유사도:0.0365\n",
      "['결혼중개업의 관리에 관한 법률 일부개정법률안\\n\\n(한선교의원 대표발의 )\\n\\n 의 안\\n 번 호\\n\\n9899\\n\\n발의연월일 : 2010.', '11.', '15.']\n",
      "\n",
      "문서이름 : 1809896.txt / 유사도:0.0327\n",
      "['행정절차법 일부개정법률안\\n\\n(유선호의원 대표발의 )\\n\\n 의 안\\n 번 호\\n\\n9896\\n\\n발의연월일 : 2010.', '11.', '15.']\n",
      "\n",
      "문서이름 : 1809895.txt / 유사도:0.0313\n",
      "['하도급거래 공정화에 관한 법률 일부개정법률안\\n\\n(유선호의원 대표발의 )\\n\\n 의 안\\n 번 호\\n\\n9895\\n\\n발의연월일 : 2010.', '11.', '15.']\n",
      "\n",
      "문서이름 : 1809891.txt / 유사도:0.0307\n",
      "['국가공무원법 일부개정법률안\\n\\n(정의화의원 대표발의 )\\n\\n 의 안\\n 번 호\\n\\n9891\\n\\n발의연월일 : 2010.', '11.', '12.']\n",
      "\n",
      "문서이름 : 1809890.txt / 유사도:0.0307\n",
      "['지방공무원법 일부개정법률안\\n\\n(정의화의원 대표발의 )\\n\\n 의 안\\n 번 호\\n\\n9890\\n\\n발의연월일 : 2010.', '11.', '12.']\n",
      "\n"
     ]
    }
   ],
   "source": [
    "from nltk.tokenize import sent_tokenize\n",
    "\n",
    "K = 5 \n",
    "for doc, sim in sorted(candidateList.items(), key=lambda x:x[1], reverse=True)[:K]:\n",
    "    print(\"문서이름 : {0} / 유사도:{1:.4f}\".format(doc, sim))\n",
    "    print(sent_tokenize(kobill.open(doc).read())[:3])\n",
    "    print(\"\")"
   ]
  },
  {
   "cell_type": "code",
   "execution_count": 72,
   "metadata": {},
   "outputs": [],
   "source": [
    "# kobill.open(\"1809899.txt\").read()"
   ]
  },
  {
   "cell_type": "code",
   "execution_count": 73,
   "metadata": {},
   "outputs": [
    {
     "data": {
      "text/plain": [
       "defaultdict(float, {'1809899.txt': 0.04678771964630088})"
      ]
     },
     "execution_count": 73,
     "metadata": {},
     "output_type": "execute_result"
    }
   ],
   "source": [
    "TWM[\"의무/NNG\"]"
   ]
  },
  {
   "cell_type": "markdown",
   "metadata": {},
   "source": [
    "### 유클리디안으로 하기"
   ]
  },
  {
   "cell_type": "code",
   "execution_count": 74,
   "metadata": {},
   "outputs": [],
   "source": [
    "candidateList = defaultdict(float)\n",
    "for term, docList in TWM.items():\n",
    "    for doc, weight in docList.items():\n",
    "        weight2 = QWM[term]\n",
    "        candidateList[doc] += (weight1 - weight2) ** 2\n",
    "\n",
    "for doc, sim in candidateList.items():\n",
    "    candidateList[doc] = sqrt(sim)"
   ]
  },
  {
   "cell_type": "code",
   "execution_count": 75,
   "metadata": {},
   "outputs": [
    {
     "name": "stdout",
     "output_type": "stream",
     "text": [
      "1809890.txt 841 484 1947\n",
      "1809891.txt 834 480 1941\n",
      "1809892.txt 984 516 2250\n",
      "1809893.txt 840 490 1942\n",
      "1809894.txt 242 206 520\n",
      "1809895.txt 394 272 889\n",
      "1809896.txt 1939 624 4217\n",
      "1809897.txt 788 409 1430\n",
      "1809898.txt 821 405 1466\n",
      "1809899.txt 1677 532 3899\n"
     ]
    },
    {
     "data": {
      "text/plain": [
       "defaultdict(float,\n",
       "            {'1809890.txt': 50.212539862022986,\n",
       "             '1809891.txt': 50.0002330667599,\n",
       "             '1809892.txt': 51.87972610485477,\n",
       "             '1809893.txt': 50.52932750782118,\n",
       "             '1809897.txt': 46.02846482431516,\n",
       "             '1809898.txt': 45.79676540344613,\n",
       "             '1809894.txt': 32.534192322549686,\n",
       "             '1809895.txt': 37.401926676798105,\n",
       "             '1809896.txt': 57.148525813603165,\n",
       "             '1809899.txt': 52.70884144871727})"
      ]
     },
     "execution_count": 75,
     "metadata": {},
     "output_type": "execute_result"
    }
   ],
   "source": [
    "# candidateList, \\\n",
    "for doc in DTM:\n",
    "    print(doc, len(kobill.open(doc).read().split()),\n",
    "         len(DTM[doc]), sum(DTM[doc].values()))\n",
    "candidateList"
   ]
  },
  {
   "cell_type": "code",
   "execution_count": 76,
   "metadata": {},
   "outputs": [
    {
     "name": "stdout",
     "output_type": "stream",
     "text": [
      "문서이름 : 1809894.txt / 유사도:32.5342\n",
      "['고등교육법 일부개정법률안\\n\\n(안상수의원 대표발의 )\\n\\n 의 안\\n 번 호\\n\\n9894\\n\\n발의연월일 : 2010.', '11.', '15.']\n",
      "\n",
      "문서이름 : 1809895.txt / 유사도:37.4019\n",
      "['하도급거래 공정화에 관한 법률 일부개정법률안\\n\\n(유선호의원 대표발의 )\\n\\n 의 안\\n 번 호\\n\\n9895\\n\\n발의연월일 : 2010.', '11.', '15.']\n",
      "\n",
      "문서이름 : 1809898.txt / 유사도:45.7968\n",
      "['국군부대의 소말리아 해역 파견연장 동의안\\n\\n의안\\n                                                                  제출연월일 :  2010.', '11.', '15.']\n",
      "\n",
      "문서이름 : 1809897.txt / 유사도:46.0285\n",
      "['국군부대의 아랍에미리트(UAE)군 교육훈련 지원 등에 \\n관한 파견 동의안\\n\\n의안\\n                                                                  제출연월일 :  2010.', '11.', '15.']\n",
      "\n",
      "문서이름 : 1809891.txt / 유사도:50.0002\n",
      "['국가공무원법 일부개정법률안\\n\\n(정의화의원 대표발의 )\\n\\n 의 안\\n 번 호\\n\\n9891\\n\\n발의연월일 : 2010.', '11.', '12.']\n",
      "\n"
     ]
    }
   ],
   "source": [
    "from nltk.tokenize import sent_tokenize\n",
    "\n",
    "K = 5 \n",
    "for doc, sim in sorted(candidateList.items(), key=lambda x:x[1])[:K]:\n",
    "    print(\"문서이름 : {0} / 유사도:{1:.4f}\".format(doc, sim))\n",
    "    print(sent_tokenize(kobill.open(doc).read())[:3])\n",
    "    print(\"\")"
   ]
  },
  {
   "cell_type": "code",
   "execution_count": null,
   "metadata": {},
   "outputs": [],
   "source": []
  },
  {
   "cell_type": "code",
   "execution_count": null,
   "metadata": {},
   "outputs": [],
   "source": []
  },
  {
   "cell_type": "code",
   "execution_count": null,
   "metadata": {},
   "outputs": [],
   "source": []
  }
 ],
 "metadata": {
  "kernelspec": {
   "display_name": "Python 3",
   "language": "python",
   "name": "python3"
  },
  "language_info": {
   "codemirror_mode": {
    "name": "ipython",
    "version": 3
   },
   "file_extension": ".py",
   "mimetype": "text/x-python",
   "name": "python",
   "nbconvert_exporter": "python",
   "pygments_lexer": "ipython3",
   "version": "3.6.6"
  }
 },
 "nbformat": 4,
 "nbformat_minor": 2
}
