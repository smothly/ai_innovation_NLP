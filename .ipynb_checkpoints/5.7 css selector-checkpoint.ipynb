{
 "cells": [
  {
   "cell_type": "markdown",
   "metadata": {},
   "source": [
    "# 5.7 수업 내용\n",
    "# 지난 수업 selector + Crawling "
   ]
  },
  {
   "cell_type": "markdown",
   "metadata": {},
   "source": [
    "# CSS SELECTOR"
   ]
  },
  {
   "cell_type": "code",
   "execution_count": 7,
   "metadata": {},
   "outputs": [],
   "source": [
    "import requests\n",
    "from bs4 import BeautifulSoup"
   ]
  },
  {
   "cell_type": "code",
   "execution_count": 2,
   "metadata": {},
   "outputs": [],
   "source": [
    "from urllib import parse\n",
    "\n",
    "header = {'user-agent':'Mozilla/5.0 (Windows NT 10.0; Win64; x64) AppleWebKit/537.36 (KHTML, like Gecko) Chrome/73.0.3683.103 Safari/537.36'}\n",
    "\n",
    "def getDownload(url, params={}, retries=3):\n",
    "    resp = None\n",
    "    \n",
    "    try:\n",
    "        resp = requests.get(url, params=params, headers=header)\n",
    "        resp.raise_for_status()\n",
    "    except requests.exceptions.HTTPError as e:\n",
    "        if 500 <= e.response.status_code < 600 and retries > 0:\n",
    "            print(retries)\n",
    "            resp = getDownload(url, params, retries-1)\n",
    "        else:\n",
    "            print(e.response.status_code)\n",
    "            print(e.response.reason)\n",
    "            print(e.response.headers)\n",
    "            \n",
    "    return resp"
   ]
  },
  {
   "cell_type": "markdown",
   "metadata": {},
   "source": [
    "# 다음"
   ]
  },
  {
   "cell_type": "code",
   "execution_count": 37,
   "metadata": {},
   "outputs": [],
   "source": [
    "html = getDownload(\"https://search.daum.net/search\", {\"q\":\"박보영\"})\n",
    "daum = BeautifulSoup(html.text, \"lxml\")"
   ]
  },
  {
   "cell_type": "code",
   "execution_count": 12,
   "metadata": {},
   "outputs": [
    {
     "data": {
      "text/plain": [
       "['http://v.media.daum.net/v/20190507140359069?f=o',\n",
       " 'http://v.media.daum.net/v/20190507175153358?f=o',\n",
       " 'http://v.media.daum.net/v/20190507185002021?f=o',\n",
       " 'http://v.media.daum.net/v/20190507175700537?f=o',\n",
       " 'http://papa0717.tistory.com/223',\n",
       " 'http://dudrms606.tistory.com/367',\n",
       " 'http://adam24eve.tistory.com/858',\n",
       " 'http://k3k2y.tistory.com/35',\n",
       " 'https://ko.wikipedia.org/wiki/%EB%B0%95%EB%B3%B4%EC%98%81',\n",
       " 'https://ko.wikipedia.org/wiki/%EB%B0%95%EB%B3%B4%EC%98%81%20%28%EB%B2%95%EC%A1%B0%EC%9D%B8%29',\n",
       " 'http://cafe.daum.net/subdued20club/ReHf/2280152?q=%EB%B0%95%EB%B3%B4%EC%98%81',\n",
       " 'http://cafe.daum.net/subdued20club/ReHf/2282606?q=%EB%B0%95%EB%B3%B4%EC%98%81',\n",
       " 'http://cafe.daum.net/ASMONACOFC/gAVU/1243818?q=%EB%B0%95%EB%B3%B4%EC%98%81',\n",
       " 'http://cafe.daum.net/ok1221/9Zdf/1524913?q=%EB%B0%95%EB%B3%B4%EC%98%81',\n",
       " 'http://tip.daum.net/answer/54503481?q=%EB%B0%95%EB%B3%B4%EC%98%81',\n",
       " 'http://tip.daum.net/answer/54767339?q=%EB%B0%95%EB%B3%B4%EC%98%81',\n",
       " 'http://tip.daum.net/answer/55072609?q=%EB%B0%95%EB%B3%B4%EC%98%81',\n",
       " 'http://tip.daum.net/answer/54866982?q=%EB%B0%95%EB%B3%B4%EC%98%81',\n",
       " 'http://gall.dcinside.com/board/lists/?id=parkboyoung',\n",
       " 'http://cafe.daum.net/parkboyoungfd',\n",
       " 'http://channels.vlive.tv/FCE49/video',\n",
       " 'http://www.bjc.or.kr/',\n",
       " 'javascript:;',\n",
       " 'javascript:;',\n",
       " 'javascript:;',\n",
       " 'javascript:;',\n",
       " 'javascript:;']"
      ]
     },
     "execution_count": 12,
     "metadata": {},
     "output_type": "execute_result"
    }
   ],
   "source": [
    "[_[\"href\"] for _ in daum.select(\"div.wrap_tit > a\")]"
   ]
  },
  {
   "cell_type": "markdown",
   "metadata": {},
   "source": [
    "# 네이버"
   ]
  },
  {
   "cell_type": "code",
   "execution_count": 27,
   "metadata": {},
   "outputs": [],
   "source": [
    "html = getDownload(\"https://www.naver.com/\")\n",
    "naver = BeautifulSoup(html.text, \"lxml\")"
   ]
  },
  {
   "cell_type": "code",
   "execution_count": 36,
   "metadata": {},
   "outputs": [
    {
     "data": {
      "text/plain": [
       "['하나경',\n",
       " '울산대교',\n",
       " '강은비',\n",
       " '한서희',\n",
       " '맥반석닭갈비',\n",
       " '정용국',\n",
       " '고양 창릉',\n",
       " '생방송 오늘저녁',\n",
       " '3기 신도시',\n",
       " '삼성바이오로직스',\n",
       " '어비스',\n",
       " '이다해',\n",
       " '강이준',\n",
       " '심재철',\n",
       " '부천 대장동',\n",
       " '양의지',\n",
       " '초면에 사랑합니다',\n",
       " '공민규',\n",
       " '규현',\n",
       " '한선교',\n",
       " '하나경',\n",
       " '울산대교',\n",
       " '강은비',\n",
       " '한서희',\n",
       " '맥반석닭갈비',\n",
       " '정용국',\n",
       " '고양 창릉',\n",
       " '생방송 오늘저녁',\n",
       " '3기 신도시',\n",
       " '삼성바이오로직스',\n",
       " '어비스',\n",
       " '이다해',\n",
       " '강이준',\n",
       " '심재철',\n",
       " '부천 대장동',\n",
       " '양의지',\n",
       " '초면에 사랑합니다',\n",
       " '공민규',\n",
       " '규현',\n",
       " '한선교']"
      ]
     },
     "execution_count": 36,
     "metadata": {},
     "output_type": "execute_result"
    }
   ],
   "source": [
    "[_.get_text() for _ in naver.select('.area_hotkeyword .ah_k ')]"
   ]
  },
  {
   "cell_type": "markdown",
   "metadata": {},
   "source": [
    "# Crawling"
   ]
  },
  {
   "cell_type": "markdown",
   "metadata": {},
   "source": [
    "단어들 인덱스할 것임<br>\n",
    "scrapy vs beautifulsoup 차이<br>\n",
    "scrapy는 프레임워크 bs는 라이브러리<br>\n",
    "페이지 한번 방문할 때 마다 링크를 축적해가며 다시 세팅하여 크롤한다<br>"
   ]
  },
  {
   "cell_type": "code",
   "execution_count": 8,
   "metadata": {},
   "outputs": [],
   "source": [
    "seed = \"http://example.webscraping.com/places/default/index\"\n",
    "html = getDownload(seed)\n",
    "dom = BeautifulSoup(html.content, 'lxml')"
   ]
  },
  {
   "cell_type": "code",
   "execution_count": 9,
   "metadata": {},
   "outputs": [],
   "source": [
    "links = [_[\"href\"] for _ in dom.select(\"a\")]\n",
    "# #이면 자바스크립트 시작기호? 무시해야함\n",
    "# url 정규화 필요\n",
    "# "
   ]
  },
  {
   "cell_type": "code",
   "execution_count": 10,
   "metadata": {},
   "outputs": [
    {
     "name": "stdout",
     "output_type": "stream",
     "text": [
      "http://example.webscraping.com/places/default/user/register?_next=/places/default/index\n",
      "http://example.webscraping.com/places/default/user/login?_next=/places/default/index\n",
      "http://example.webscraping.com/places/default/index\n",
      "http://example.webscraping.com/places/default/search\n",
      "http://example.webscraping.com/places/default/view/Afghanistan-1\n",
      "http://example.webscraping.com/places/default/view/Aland-Islands-2\n",
      "http://example.webscraping.com/places/default/view/Albania-3\n",
      "http://example.webscraping.com/places/default/view/Algeria-4\n",
      "http://example.webscraping.com/places/default/view/American-Samoa-5\n",
      "http://example.webscraping.com/places/default/view/Andorra-6\n",
      "http://example.webscraping.com/places/default/view/Angola-7\n",
      "http://example.webscraping.com/places/default/view/Anguilla-8\n",
      "http://example.webscraping.com/places/default/view/Antarctica-9\n",
      "http://example.webscraping.com/places/default/view/Antigua-and-Barbuda-10\n",
      "http://example.webscraping.com/places/default/index/1\n"
     ]
    }
   ],
   "source": [
    "for link in links:\n",
    "    # # , /, http, https 가 올 것임\n",
    "    if link[0] == \"/\":\n",
    "        print(requests.compat.urljoin(seed, link))"
   ]
  },
  {
   "cell_type": "markdown",
   "metadata": {},
   "source": [
    "# url 축적하면서 돌리는 함수"
   ]
  },
  {
   "cell_type": "code",
   "execution_count": 71,
   "metadata": {},
   "outputs": [],
   "source": [
    "threshold = 3\n",
    "\n",
    "\n",
    "def urlExtractor(seed, limit):\n",
    "    if limit > threshold:\n",
    "        return []\n",
    "    html = getDownload(seed)\n",
    "    dom = BeautifulSoup(html.content, \"lxml\")\n",
    "    \n",
    "    links = [_[\"href\"] for _ in dom.select(\"a\") if _.has_attr('href')]\n",
    "    \n",
    "    unseen = list()\n",
    "    \n",
    "    for link in links:\n",
    "        if link[0] == \"/\" and len(link) > 1:\n",
    "            newLink = requests.compat.urljoin(seed, link)            \n",
    "            if newLink not in unseen:\n",
    "                unseen.append((newLink, limit + 1))\n",
    "            else:\n",
    "                print(\"Skipped2\", link)\n",
    "        # 외부로 나가는 주소\n",
    "        elif link.startswith(\"http\"):\n",
    "            unseen.append((link, limit + 1))\n",
    "        else:    \n",
    "            print(\"Skipped1\", link)\n",
    "            \n",
    "    return unseen\n"
   ]
  },
  {
   "cell_type": "code",
   "execution_count": 45,
   "metadata": {},
   "outputs": [
    {
     "ename": "TypeError",
     "evalue": "urlExtractor() missing 1 required positional argument: 'limit'",
     "output_type": "error",
     "traceback": [
      "\u001b[1;31m---------------------------------------------------------------------------\u001b[0m",
      "\u001b[1;31mTypeError\u001b[0m                                 Traceback (most recent call last)",
      "\u001b[1;32m<ipython-input-45-dfec6dbaf1d9>\u001b[0m in \u001b[0;36m<module>\u001b[1;34m\u001b[0m\n\u001b[1;32m----> 1\u001b[1;33m \u001b[0murlExtractor\u001b[0m\u001b[1;33m(\u001b[0m\u001b[0mseed\u001b[0m\u001b[1;33m)\u001b[0m\u001b[1;33m\u001b[0m\u001b[0m\n\u001b[0m",
      "\u001b[1;31mTypeError\u001b[0m: urlExtractor() missing 1 required positional argument: 'limit'"
     ]
    }
   ],
   "source": [
    "urlExtractor(seed)"
   ]
  },
  {
   "cell_type": "code",
   "execution_count": 46,
   "metadata": {},
   "outputs": [
    {
     "ename": "InvalidSchema",
     "evalue": "No connection adapters were found for '('https://ko.wikipedia.org/wiki/%EB%B0%95%EB%B3%B4%EC%98%81_(%EB%8F%99%EC%9D%8C%EC%9D%B4%EC%9D%98)', 4)'",
     "output_type": "error",
     "traceback": [
      "\u001b[1;31m---------------------------------------------------------------------------\u001b[0m",
      "\u001b[1;31mInvalidSchema\u001b[0m                             Traceback (most recent call last)",
      "\u001b[1;32m<ipython-input-46-fd10775674b8>\u001b[0m in \u001b[0;36m<module>\u001b[1;34m\u001b[0m\n\u001b[0;32m      1\u001b[0m \u001b[1;31m# 처음에 강제실행 한번\u001b[0m\u001b[1;33m\u001b[0m\u001b[1;33m\u001b[0m\u001b[0m\n\u001b[1;32m----> 2\u001b[1;33m \u001b[0mqueue\u001b[0m \u001b[1;33m=\u001b[0m \u001b[0murlExtractor\u001b[0m\u001b[1;33m(\u001b[0m\u001b[0mseed\u001b[0m\u001b[1;33m,\u001b[0m \u001b[1;36m3\u001b[0m\u001b[1;33m)\u001b[0m\u001b[1;33m\u001b[0m\u001b[0m\n\u001b[0m\u001b[0;32m      3\u001b[0m \u001b[1;33m\u001b[0m\u001b[0m\n\u001b[0;32m      4\u001b[0m \u001b[1;32mimport\u001b[0m \u001b[0mtime\u001b[0m\u001b[1;33m\u001b[0m\u001b[0m\n\u001b[0;32m      5\u001b[0m \u001b[1;32mimport\u001b[0m \u001b[0mrandom\u001b[0m\u001b[1;33m\u001b[0m\u001b[0m\n",
      "\u001b[1;32m<ipython-input-44-240480c5607d>\u001b[0m in \u001b[0;36murlExtractor\u001b[1;34m(seed, limit)\u001b[0m\n\u001b[0;32m      5\u001b[0m     \u001b[1;32mif\u001b[0m \u001b[0mint\u001b[0m\u001b[1;33m(\u001b[0m\u001b[0mlimit\u001b[0m\u001b[1;33m)\u001b[0m \u001b[1;33m>\u001b[0m \u001b[0mint\u001b[0m\u001b[1;33m(\u001b[0m\u001b[0mthreshold\u001b[0m\u001b[1;33m)\u001b[0m\u001b[1;33m:\u001b[0m\u001b[1;33m\u001b[0m\u001b[0m\n\u001b[0;32m      6\u001b[0m         \u001b[1;32mreturn\u001b[0m \u001b[1;33m[\u001b[0m\u001b[1;33m]\u001b[0m\u001b[1;33m\u001b[0m\u001b[0m\n\u001b[1;32m----> 7\u001b[1;33m     \u001b[0mhtml\u001b[0m \u001b[1;33m=\u001b[0m \u001b[0mgetDownload\u001b[0m\u001b[1;33m(\u001b[0m\u001b[0mseed\u001b[0m\u001b[1;33m)\u001b[0m\u001b[1;33m\u001b[0m\u001b[0m\n\u001b[0m\u001b[0;32m      8\u001b[0m     \u001b[0mdom\u001b[0m \u001b[1;33m=\u001b[0m \u001b[0mBeautifulSoup\u001b[0m\u001b[1;33m(\u001b[0m\u001b[0mhtml\u001b[0m\u001b[1;33m.\u001b[0m\u001b[0mcontent\u001b[0m\u001b[1;33m,\u001b[0m \u001b[1;34m\"lxml\"\u001b[0m\u001b[1;33m)\u001b[0m\u001b[1;33m\u001b[0m\u001b[0m\n\u001b[0;32m      9\u001b[0m \u001b[1;33m\u001b[0m\u001b[0m\n",
      "\u001b[1;32m<ipython-input-2-ed74d260ff65>\u001b[0m in \u001b[0;36mgetDownload\u001b[1;34m(url, params, retries)\u001b[0m\n\u001b[0;32m      7\u001b[0m \u001b[1;33m\u001b[0m\u001b[0m\n\u001b[0;32m      8\u001b[0m     \u001b[1;32mtry\u001b[0m\u001b[1;33m:\u001b[0m\u001b[1;33m\u001b[0m\u001b[0m\n\u001b[1;32m----> 9\u001b[1;33m         \u001b[0mresp\u001b[0m \u001b[1;33m=\u001b[0m \u001b[0mrequests\u001b[0m\u001b[1;33m.\u001b[0m\u001b[0mget\u001b[0m\u001b[1;33m(\u001b[0m\u001b[0murl\u001b[0m\u001b[1;33m,\u001b[0m \u001b[0mparams\u001b[0m\u001b[1;33m=\u001b[0m\u001b[0mparams\u001b[0m\u001b[1;33m,\u001b[0m \u001b[0mheaders\u001b[0m\u001b[1;33m=\u001b[0m\u001b[0mheader\u001b[0m\u001b[1;33m)\u001b[0m\u001b[1;33m\u001b[0m\u001b[0m\n\u001b[0m\u001b[0;32m     10\u001b[0m         \u001b[0mresp\u001b[0m\u001b[1;33m.\u001b[0m\u001b[0mraise_for_status\u001b[0m\u001b[1;33m(\u001b[0m\u001b[1;33m)\u001b[0m\u001b[1;33m\u001b[0m\u001b[0m\n\u001b[0;32m     11\u001b[0m     \u001b[1;32mexcept\u001b[0m \u001b[0mrequests\u001b[0m\u001b[1;33m.\u001b[0m\u001b[0mexceptions\u001b[0m\u001b[1;33m.\u001b[0m\u001b[0mHTTPError\u001b[0m \u001b[1;32mas\u001b[0m \u001b[0me\u001b[0m\u001b[1;33m:\u001b[0m\u001b[1;33m\u001b[0m\u001b[0m\n",
      "\u001b[1;32m~\\AppData\\Roaming\\Python\\Python36\\site-packages\\requests\\api.py\u001b[0m in \u001b[0;36mget\u001b[1;34m(url, params, **kwargs)\u001b[0m\n\u001b[0;32m     73\u001b[0m \u001b[1;33m\u001b[0m\u001b[0m\n\u001b[0;32m     74\u001b[0m     \u001b[0mkwargs\u001b[0m\u001b[1;33m.\u001b[0m\u001b[0msetdefault\u001b[0m\u001b[1;33m(\u001b[0m\u001b[1;34m'allow_redirects'\u001b[0m\u001b[1;33m,\u001b[0m \u001b[1;32mTrue\u001b[0m\u001b[1;33m)\u001b[0m\u001b[1;33m\u001b[0m\u001b[0m\n\u001b[1;32m---> 75\u001b[1;33m     \u001b[1;32mreturn\u001b[0m \u001b[0mrequest\u001b[0m\u001b[1;33m(\u001b[0m\u001b[1;34m'get'\u001b[0m\u001b[1;33m,\u001b[0m \u001b[0murl\u001b[0m\u001b[1;33m,\u001b[0m \u001b[0mparams\u001b[0m\u001b[1;33m=\u001b[0m\u001b[0mparams\u001b[0m\u001b[1;33m,\u001b[0m \u001b[1;33m**\u001b[0m\u001b[0mkwargs\u001b[0m\u001b[1;33m)\u001b[0m\u001b[1;33m\u001b[0m\u001b[0m\n\u001b[0m\u001b[0;32m     76\u001b[0m \u001b[1;33m\u001b[0m\u001b[0m\n\u001b[0;32m     77\u001b[0m \u001b[1;33m\u001b[0m\u001b[0m\n",
      "\u001b[1;32m~\\AppData\\Roaming\\Python\\Python36\\site-packages\\requests\\api.py\u001b[0m in \u001b[0;36mrequest\u001b[1;34m(method, url, **kwargs)\u001b[0m\n\u001b[0;32m     58\u001b[0m     \u001b[1;31m# cases, and look like a memory leak in others.\u001b[0m\u001b[1;33m\u001b[0m\u001b[1;33m\u001b[0m\u001b[0m\n\u001b[0;32m     59\u001b[0m     \u001b[1;32mwith\u001b[0m \u001b[0msessions\u001b[0m\u001b[1;33m.\u001b[0m\u001b[0mSession\u001b[0m\u001b[1;33m(\u001b[0m\u001b[1;33m)\u001b[0m \u001b[1;32mas\u001b[0m \u001b[0msession\u001b[0m\u001b[1;33m:\u001b[0m\u001b[1;33m\u001b[0m\u001b[0m\n\u001b[1;32m---> 60\u001b[1;33m         \u001b[1;32mreturn\u001b[0m \u001b[0msession\u001b[0m\u001b[1;33m.\u001b[0m\u001b[0mrequest\u001b[0m\u001b[1;33m(\u001b[0m\u001b[0mmethod\u001b[0m\u001b[1;33m=\u001b[0m\u001b[0mmethod\u001b[0m\u001b[1;33m,\u001b[0m \u001b[0murl\u001b[0m\u001b[1;33m=\u001b[0m\u001b[0murl\u001b[0m\u001b[1;33m,\u001b[0m \u001b[1;33m**\u001b[0m\u001b[0mkwargs\u001b[0m\u001b[1;33m)\u001b[0m\u001b[1;33m\u001b[0m\u001b[0m\n\u001b[0m\u001b[0;32m     61\u001b[0m \u001b[1;33m\u001b[0m\u001b[0m\n\u001b[0;32m     62\u001b[0m \u001b[1;33m\u001b[0m\u001b[0m\n",
      "\u001b[1;32m~\\AppData\\Roaming\\Python\\Python36\\site-packages\\requests\\sessions.py\u001b[0m in \u001b[0;36mrequest\u001b[1;34m(self, method, url, params, data, headers, cookies, files, auth, timeout, allow_redirects, proxies, hooks, stream, verify, cert, json)\u001b[0m\n\u001b[0;32m    531\u001b[0m         }\n\u001b[0;32m    532\u001b[0m         \u001b[0msend_kwargs\u001b[0m\u001b[1;33m.\u001b[0m\u001b[0mupdate\u001b[0m\u001b[1;33m(\u001b[0m\u001b[0msettings\u001b[0m\u001b[1;33m)\u001b[0m\u001b[1;33m\u001b[0m\u001b[0m\n\u001b[1;32m--> 533\u001b[1;33m         \u001b[0mresp\u001b[0m \u001b[1;33m=\u001b[0m \u001b[0mself\u001b[0m\u001b[1;33m.\u001b[0m\u001b[0msend\u001b[0m\u001b[1;33m(\u001b[0m\u001b[0mprep\u001b[0m\u001b[1;33m,\u001b[0m \u001b[1;33m**\u001b[0m\u001b[0msend_kwargs\u001b[0m\u001b[1;33m)\u001b[0m\u001b[1;33m\u001b[0m\u001b[0m\n\u001b[0m\u001b[0;32m    534\u001b[0m \u001b[1;33m\u001b[0m\u001b[0m\n\u001b[0;32m    535\u001b[0m         \u001b[1;32mreturn\u001b[0m \u001b[0mresp\u001b[0m\u001b[1;33m\u001b[0m\u001b[0m\n",
      "\u001b[1;32m~\\AppData\\Roaming\\Python\\Python36\\site-packages\\requests\\sessions.py\u001b[0m in \u001b[0;36msend\u001b[1;34m(self, request, **kwargs)\u001b[0m\n\u001b[0;32m    638\u001b[0m \u001b[1;33m\u001b[0m\u001b[0m\n\u001b[0;32m    639\u001b[0m         \u001b[1;31m# Get the appropriate adapter to use\u001b[0m\u001b[1;33m\u001b[0m\u001b[1;33m\u001b[0m\u001b[0m\n\u001b[1;32m--> 640\u001b[1;33m         \u001b[0madapter\u001b[0m \u001b[1;33m=\u001b[0m \u001b[0mself\u001b[0m\u001b[1;33m.\u001b[0m\u001b[0mget_adapter\u001b[0m\u001b[1;33m(\u001b[0m\u001b[0murl\u001b[0m\u001b[1;33m=\u001b[0m\u001b[0mrequest\u001b[0m\u001b[1;33m.\u001b[0m\u001b[0murl\u001b[0m\u001b[1;33m)\u001b[0m\u001b[1;33m\u001b[0m\u001b[0m\n\u001b[0m\u001b[0;32m    641\u001b[0m \u001b[1;33m\u001b[0m\u001b[0m\n\u001b[0;32m    642\u001b[0m         \u001b[1;31m# Start time (approximately) of the request\u001b[0m\u001b[1;33m\u001b[0m\u001b[1;33m\u001b[0m\u001b[0m\n",
      "\u001b[1;32m~\\AppData\\Roaming\\Python\\Python36\\site-packages\\requests\\sessions.py\u001b[0m in \u001b[0;36mget_adapter\u001b[1;34m(self, url)\u001b[0m\n\u001b[0;32m    729\u001b[0m \u001b[1;33m\u001b[0m\u001b[0m\n\u001b[0;32m    730\u001b[0m         \u001b[1;31m# Nothing matches :-/\u001b[0m\u001b[1;33m\u001b[0m\u001b[1;33m\u001b[0m\u001b[0m\n\u001b[1;32m--> 731\u001b[1;33m         \u001b[1;32mraise\u001b[0m \u001b[0mInvalidSchema\u001b[0m\u001b[1;33m(\u001b[0m\u001b[1;34m\"No connection adapters were found for '%s'\"\u001b[0m \u001b[1;33m%\u001b[0m \u001b[0murl\u001b[0m\u001b[1;33m)\u001b[0m\u001b[1;33m\u001b[0m\u001b[0m\n\u001b[0m\u001b[0;32m    732\u001b[0m \u001b[1;33m\u001b[0m\u001b[0m\n\u001b[0;32m    733\u001b[0m     \u001b[1;32mdef\u001b[0m \u001b[0mclose\u001b[0m\u001b[1;33m(\u001b[0m\u001b[0mself\u001b[0m\u001b[1;33m)\u001b[0m\u001b[1;33m:\u001b[0m\u001b[1;33m\u001b[0m\u001b[0m\n",
      "\u001b[1;31mInvalidSchema\u001b[0m: No connection adapters were found for '('https://ko.wikipedia.org/wiki/%EB%B0%95%EB%B3%B4%EC%98%81_(%EB%8F%99%EC%9D%8C%EC%9D%B4%EC%9D%98)', 4)'"
     ]
    }
   ],
   "source": [
    "# 처음에 강제실행 한번\n",
    "queue = urlExtractor(seed, 3)\n",
    "\n",
    "import time\n",
    "import random\n",
    "\n",
    "seen = list()\n",
    "\n",
    "\n",
    "# 큐가 더이상 없을때까지 돌릴 거\n",
    "while queue:\n",
    "    seed = queue.pop(0)\n",
    "    seen.append(link[0])\n",
    "#     time.sleep(random.randint(1,3))\n",
    "    links = urlExtractor(link[0], link[1])\n",
    "    \n",
    "    queueURL = [_[0] for _ in queue]\n",
    "    queue.extend([_ for _ in links if _[0] not in queueURL \\\n",
    "                     and _ not in seen ])\n",
    "    \n",
    "    print(\"{0} {1} [{2}]\".format(\">\"*link[1], link[0], len(links)))\n",
    "#     html = download(link)\n",
    "#     dom = BeautifulSoup(html.content, 'lxml')\n",
    "    # links 는 unseen에 겹치면 안되고 seen에 있으면 안됨\n",
    "#     queue.extend([_ for _ in links if _ not in queue \\\n",
    "#                   and _ in seen])"
   ]
  },
  {
   "cell_type": "markdown",
   "metadata": {},
   "source": [
    "# 구글링크 traversal"
   ]
  },
  {
   "cell_type": "code",
   "execution_count": 76,
   "metadata": {},
   "outputs": [],
   "source": [
    "import requests\n",
    "from bs4 import BeautifulSoup\n",
    "\n",
    "html = getDownload(\"https://www.google.com/search\", {\"q\":\"박보영\"})\n",
    "google = BeautifulSoup(html.text, \"lxml\")"
   ]
  },
  {
   "cell_type": "code",
   "execution_count": 81,
   "metadata": {},
   "outputs": [],
   "source": [
    "queue = [(_[\"href\"], 0) for _ in google.select(\".r > a\")]"
   ]
  },
  {
   "cell_type": "code",
   "execution_count": 83,
   "metadata": {},
   "outputs": [
    {
     "name": "stdout",
     "output_type": "stream",
     "text": [
      "('https://ko.wikipedia.org/wiki/%EB%B0%95%EB%B3%B4%EC%98%81%EC%9D%98_%EC%9E%91%ED%92%88_%EB%AA%A9%EB%A1%9D', 0)\n",
      "Skipped1 #mw-head\n",
      "Skipped1 #p-search\n",
      "Skipped1 #출연_작품\n",
      "Skipped1 #영화\n",
      "Skipped1 #드라마\n",
      "Skipped1 #기타_활동\n",
      "Skipped1 #뮤직비디오\n",
      "Skipped1 #음반\n",
      "Skipped1 #화보\n",
      "Skipped1 #텔레비전_프로그램\n",
      "Skipped1 #라디오_프로그램\n",
      "Skipped1 #홍보대사\n",
      "Skipped1 #광고\n",
      "Skipped1 #같이_보기\n",
      "Skipped1 #각주\n",
      "Skipped1 #외부_링크\n",
      "Skipped1 #cite_note-1\n",
      "Skipped1 #cite_note-2\n",
      "Skipped1 #cite_note-3\n",
      "Skipped1 #cite_note-4\n",
      "Skipped1 #cite_note-5\n",
      "Skipped1 #cite_note-6\n",
      "Skipped1 #cite_note-7\n",
      "Skipped1 #cite_note-8\n",
      "Skipped1 #cite_note-9\n",
      "Skipped1 #cite_note-10\n",
      "Skipped1 #cite_note-11\n",
      "Skipped1 #cite_note-12\n",
      "Skipped1 #cite_note-13\n",
      "Skipped1 #cite_note-14\n",
      "Skipped1 #cite_note-15\n",
      "Skipped1 #cite_note-16\n",
      "Skipped1 #cite_note-17\n",
      "Skipped1 #cite_note-18\n",
      "Skipped1 #cite_note-19\n",
      "Skipped1 #cite_note-20\n",
      "Skipped1 #cite_note-21\n",
      "Skipped1 #cite_note-22\n",
      "Skipped1 #cite_note-23\n",
      "Skipped1 #cite_note-24\n",
      "Skipped1 #cite_note-25\n",
      "Skipped1 #cite_note-26\n",
      "Skipped1 #cite_note-27\n",
      "Skipped1 #cite_note-28\n",
      "Skipped1 #cite_note-29\n",
      "Skipped1 #cite_note-30\n",
      "Skipped1 #cite_note-31\n",
      "Skipped1 #cite_note-32\n",
      "Skipped1 #cite_note-33\n",
      "Skipped1 #cite_note-34\n",
      "Skipped1 #cite_note-35\n",
      "Skipped1 #cite_note-36\n",
      "Skipped1 #cite_note-37\n",
      "Skipped1 #cite_note-38\n",
      "Skipped1 #cite_note-39\n",
      "Skipped1 #cite_note-40\n",
      "Skipped1 #cite_note-41\n",
      "Skipped1 #cite_note-42\n",
      "Skipped1 #cite_note-43\n",
      "Skipped1 #cite_note-44\n",
      "Skipped1 #cite_note-45\n",
      "Skipped1 #cite_note-46\n",
      "Skipped1 #cite_note-47\n",
      "Skipped1 #cite_note-48\n",
      "Skipped1 #cite_note-49\n",
      "Skipped1 #cite_note-50\n",
      "Skipped1 #cite_note-51\n",
      "Skipped1 #cite_note-52\n",
      "Skipped1 #cite_note-53\n",
      "Skipped1 #cite_note-54\n",
      "Skipped1 #cite_note-55\n",
      "Skipped1 #cite_note-56\n",
      "Skipped1 #cite_note-57\n",
      "Skipped1 #cite_note-58\n",
      "Skipped1 #cite_note-59\n",
      "Skipped1 #cite_note-60\n",
      "Skipped1 #cite_note-61\n",
      "Skipped1 #cite_note-62\n",
      "Skipped1 #cite_note-63\n",
      "Skipped1 #cite_note-64\n",
      "Skipped1 #cite_note-65\n",
      "Skipped1 #cite_note-66\n",
      "Skipped1 #cite_note-67\n",
      "Skipped1 #cite_note-68\n",
      "Skipped1 #cite_note-69\n",
      "Skipped1 #cite_note-70\n",
      "Skipped1 #cite_note-71\n",
      "Skipped1 #cite_note-72\n",
      "Skipped1 #cite_note-73\n",
      "Skipped1 #cite_note-74\n",
      "Skipped1 #cite_note-75\n",
      "Skipped1 #cite_note-76\n",
      "Skipped1 #cite_note-77\n",
      "Skipped1 #cite_note-78\n",
      "Skipped1 #cite_note-79\n",
      "Skipped1 #cite_note-80\n",
      "Skipped1 #cite_note-81\n",
      "Skipped1 #cite_note-82\n",
      "Skipped1 #cite_note-83\n",
      "Skipped1 #cite_ref-1\n",
      "Skipped1 #cite_ref-2\n",
      "Skipped1 #cite_ref-3\n",
      "Skipped1 #cite_ref-4\n",
      "Skipped1 #cite_ref-5\n",
      "Skipped1 #cite_ref-6\n",
      "Skipped1 #cite_ref-7\n",
      "Skipped1 #cite_ref-8\n",
      "Skipped1 #cite_ref-9\n",
      "Skipped1 #cite_ref-10\n",
      "Skipped1 #cite_ref-11\n",
      "Skipped1 #cite_ref-12\n",
      "Skipped1 #cite_ref-13\n",
      "Skipped1 #cite_ref-14\n",
      "Skipped1 #cite_ref-15\n",
      "Skipped1 #cite_ref-16\n",
      "Skipped1 #cite_ref-17\n",
      "Skipped1 #cite_ref-18\n",
      "Skipped1 #cite_ref-19\n",
      "Skipped1 #cite_ref-20\n",
      "Skipped1 #cite_ref-21\n",
      "Skipped1 #cite_ref-22\n",
      "Skipped1 #cite_ref-23\n",
      "Skipped1 #cite_ref-24\n",
      "Skipped1 #cite_ref-25\n",
      "Skipped1 #cite_ref-26\n",
      "Skipped1 #cite_ref-27\n",
      "Skipped1 #cite_ref-28\n",
      "Skipped1 #cite_ref-29\n",
      "Skipped1 #cite_ref-30\n",
      "Skipped1 #cite_ref-31\n",
      "Skipped1 #cite_ref-32\n",
      "Skipped1 #cite_ref-33\n",
      "Skipped1 #cite_ref-34\n",
      "Skipped1 #cite_ref-35\n",
      "Skipped1 #cite_ref-36\n",
      "Skipped1 #cite_ref-37\n",
      "Skipped1 #cite_ref-38\n",
      "Skipped1 #cite_ref-39\n",
      "Skipped1 #cite_ref-40\n",
      "Skipped1 #cite_ref-41\n",
      "Skipped1 #cite_ref-42\n",
      "Skipped1 #cite_ref-43\n",
      "Skipped1 #cite_ref-44\n",
      "Skipped1 #cite_ref-45\n",
      "Skipped1 #cite_ref-46\n",
      "Skipped1 #cite_ref-47\n",
      "Skipped1 #cite_ref-48\n",
      "Skipped1 #cite_ref-49\n",
      "Skipped1 #cite_ref-50\n",
      "Skipped1 #cite_ref-51\n",
      "Skipped1 #cite_ref-52\n",
      "Skipped1 #cite_ref-53\n",
      "Skipped1 #cite_ref-54\n",
      "Skipped1 #cite_ref-55\n",
      "Skipped1 #cite_ref-56\n",
      "Skipped1 #cite_ref-57\n",
      "Skipped1 #cite_ref-58\n",
      "Skipped1 #cite_ref-59\n",
      "Skipped1 #cite_ref-60\n",
      "Skipped1 #cite_ref-61\n",
      "Skipped1 #cite_ref-62\n",
      "Skipped1 #cite_ref-63\n",
      "Skipped1 #cite_ref-64\n",
      "Skipped1 #cite_ref-65\n",
      "Skipped1 #cite_ref-66\n",
      "Skipped1 #cite_ref-67\n",
      "Skipped1 #cite_ref-68\n",
      "Skipped1 #cite_ref-69\n",
      "Skipped1 #cite_ref-70\n",
      "Skipped1 #cite_ref-71\n",
      "Skipped1 #cite_ref-72\n",
      "Skipped1 #cite_ref-73\n",
      "Skipped1 #cite_ref-74\n",
      "Skipped1 #cite_ref-75\n",
      "Skipped1 #cite_ref-76\n",
      "Skipped1 #cite_ref-77\n",
      "Skipped1 #cite_ref-78\n",
      "Skipped1 #cite_ref-79\n",
      "Skipped1 #cite_ref-80\n",
      "Skipped1 #cite_ref-81\n",
      "Skipped1 #cite_ref-82\n",
      "Skipped1 #cite_ref-83\n",
      "[('https://ko.wikipedia.org/wiki/%ED%8C%8C%EC%9D%BC:%EC%98%81%ED%99%94_%27%EB%84%88%EC%9D%98_%EA%B2%B0%ED%98%BC%EC%8B%9D%27_%EC%96%B8%EB%A1%A0%EC%8B%9C%EC%82%AC%ED%9A%8C_%EB%B0%95%EB%B3%B4%EC%98%81.jpg', 1), ('https://ko.wikipedia.org/wiki/%ED%8C%8C%EC%9D%BC:%EC%98%81%ED%99%94_%27%EB%84%88%EC%9D%98_%EA%B2%B0%ED%98%BC%EC%8B%9D%27_%EC%96%B8%EB%A1%A0%EC%8B%9C%EC%82%AC%ED%9A%8C_%EB%B0%95%EB%B3%B4%EC%98%81.jpg', 1), ('https://ko.wikipedia.org/wiki/%EB%8C%80%ED%95%9C%EB%AF%BC%EA%B5%AD', 1), ('https://ko.wikipedia.org/wiki/%EB%B0%B0%EC%9A%B0', 1), ('https://ko.wikipedia.org/wiki/%EB%B0%95%EB%B3%B4%EC%98%81', 1), ('https://ko.wikipedia.org/w/index.php?title=%EB%B0%95%EB%B3%B4%EC%98%81%EC%9D%98_%EC%9E%91%ED%92%88_%EB%AA%A9%EB%A1%9D&action=edit&section=1', 1), ('https://ko.wikipedia.org/w/index.php?title=%EB%B0%95%EB%B3%B4%EC%98%81%EC%9D%98_%EC%9E%91%ED%92%88_%EB%AA%A9%EB%A1%9D&action=edit&section=2', 1), ('https://ko.wikipedia.org/wiki/%EC%9A%B8%ED%95%99%EA%B5%90_%EC%9D%B4%ED%8B%B0', 1), ('https://ko.wikipedia.org/wiki/%EC%B4%88%EA%B0%90%EA%B0%81_%EC%BB%A4%ED%94%8C', 1), ('https://ko.wikipedia.org/wiki/%EA%B3%BC%EC%86%8D%EC%8A%A4%EC%BA%94%EB%93%A4', 1), ('https://ko.wikipedia.org/wiki/%EC%8B%9C%EC%84%A0_1318', 1), ('https://ko.wikipedia.org/wiki/%EB%A6%AC%EC%98%A4_(%EC%98%81%ED%99%94)', 1), ('https://ko.wikipedia.org/wiki/%EB%AF%B8%ED%99%95%EC%9D%B8_%EB%8F%99%EC%98%81%EC%83%81:_%EC%A0%88%EB%8C%80%ED%81%B4%EB%A6%AD%EA%B8%88%EC%A7%80', 1), ('https://ko.wikipedia.org/wiki/%EB%8A%91%EB%8C%80%EC%86%8C%EB%85%84_(%EC%98%81%ED%99%94)', 1), ('https://ko.wikipedia.org/wiki/%EB%88%88%EC%9D%98_%EC%97%AC%EC%99%95_(2012%EB%85%84_%EC%98%81%ED%99%94)', 1), ('https://ko.wikipedia.org/wiki/%ED%94%BC%EB%81%93%EB%8A%94_%EC%B2%AD%EC%B6%98', 1), ('https://ko.wikipedia.org/wiki/%EA%B2%BD%EC%84%B1%ED%95%99%EA%B5%90:_%EC%82%AC%EB%9D%BC%EC%A7%84_%EC%86%8C%EB%85%80%EB%93%A4', 1), ('https://ko.wikipedia.org/wiki/%EB%8F%8C%EC%97%B0%EB%B3%80%EC%9D%B4_(%EC%98%81%ED%99%94)', 1), ('https://ko.wikipedia.org/wiki/%EC%97%B4%EC%A0%95%EA%B0%99%EC%9D%80%EC%86%8C%EB%A6%AC%ED%95%98%EA%B3%A0%EC%9E%88%EB%84%A4', 1), ('https://ko.wikipedia.org/wiki/%EB%84%88%EC%9D%98_%EA%B2%B0%ED%98%BC%EC%8B%9D_(%EC%98%81%ED%99%94)', 1), ('https://ko.wikipedia.org/w/index.php?title=%EB%B0%95%EB%B3%B4%EC%98%81%EC%9D%98_%EC%9E%91%ED%92%88_%EB%AA%A9%EB%A1%9D&action=edit&section=3', 1), ('https://ko.wikipedia.org/wiki/%EB%B9%84%EB%B0%80%EC%9D%98_%EA%B5%90%EC%A0%95', 1), ('https://ko.wikipedia.org/wiki/%EB%A7%88%EB%85%80%EC%9C%A0%ED%9D%AC', 1), ('https://ko.wikipedia.org/wiki/%EB%8B%AC%EB%A0%A4%EB%9D%BC_%EA%B3%A0%EB%93%B1%EC%96%B4', 1), ('https://ko.wikipedia.org/wiki/%EC%99%95%EA%B3%BC_%EB%82%98_(%EB%93%9C%EB%9D%BC%EB%A7%88)', 1), ('https://ko.wikipedia.org/wiki/%ED%8F%90%EB%B9%84_%EC%9C%A4%EC%94%A8', 1), ('https://ko.wikipedia.org/wiki/%EC%A0%95%EA%B8%80%ED%94%BC%EC%89%AC', 1), ('https://ko.wikipedia.org/wiki/%EC%B5%9C%EA%B0%95%EC%B9%A0%EC%9A%B0', 1), ('https://ko.wikipedia.org/wiki/%EC%8A%A4%ED%83%80%EC%9D%98_%EC%97%B0%EC%9D%B8', 1), ('https://ko.wikipedia.org/wiki/%EC%98%A4_%EB%82%98%EC%9D%98_%EA%B7%80%EC%8B%A0%EB%8B%98', 1), ('https://ko.wikipedia.org/wiki/%ED%9E%98%EC%8E%88%EC%97%AC%EC%9E%90_%EB%8F%84%EB%B4%89%EC%88%9C', 1), ('https://ko.wikipedia.org/wiki/%EC%96%B4%EB%B9%84%EC%8A%A4_(%EB%93%9C%EB%9D%BC%EB%A7%88)', 1), ('https://ko.wikipedia.org/w/index.php?title=%EB%B0%95%EB%B3%B4%EC%98%81%EC%9D%98_%EC%9E%91%ED%92%88_%EB%AA%A9%EB%A1%9D&action=edit&section=4', 1), ('https://ko.wikipedia.org/w/index.php?title=%EB%B0%95%EB%B3%B4%EC%98%81%EC%9D%98_%EC%9E%91%ED%92%88_%EB%AA%A9%EB%A1%9D&action=edit&section=5', 1), ('https://ko.wikipedia.org/wiki/%EA%B5%AC%EC%A0%95%ED%98%84', 1), ('https://ko.wikipedia.org/wiki/%ED%94%8C%EB%9D%BC%EC%9D%B4_%ED%88%AC_%EB%8D%94_%EC%8A%A4%EC%B9%B4%EC%9D%B4', 1), ('https://ko.wikipedia.org/wiki/%EB%B0%95%ED%98%9C%EA%B2%BD_(1974%EB%85%84)', 1), ('https://ko.wikipedia.org/wiki/%EC%95%84%EC%9D%B4%EC%9C%A0', 1), ('https://ko.wikipedia.org/wiki/%EB%B9%84%EC%8A%A4%ED%8A%B8_(%EC%9D%8C%EC%95%85_%EA%B7%B8%EB%A3%B9)', 1), ('https://ko.wikipedia.org/wiki/%EC%8A%A4%ED%94%BC%EB%93%9C_(%EB%8C%80%ED%95%9C%EB%AF%BC%EA%B5%AD%EC%9D%98_%EC%9D%8C%EC%95%85_%EA%B7%B8%EB%A3%B9)', 1), ('https://ko.wikipedia.org/wiki/%EB%B0%95%EB%B3%B4%EC%98%81', 1), ('https://ko.wikipedia.org/w/index.php?title=%EB%B0%95%EB%B3%B4%EC%98%81%EC%9D%98_%EC%9E%91%ED%92%88_%EB%AA%A9%EB%A1%9D&action=edit&section=6', 1), ('https://ko.wikipedia.org/wiki/%EA%B3%BC%EC%86%8D%EC%8A%A4%EC%BA%94%EB%93%A4', 1), ('https://ko.wikipedia.org/wiki/%EB%8A%91%EB%8C%80%EC%86%8C%EB%85%84_(%EC%98%81%ED%99%94)', 1), ('https://ko.wikipedia.org/wiki/%EB%B0%95%EB%B3%B4%EC%98%81', 1), ('https://ko.wikipedia.org/wiki/%EC%8A%A4%ED%94%BC%EB%93%9C_(%EB%8C%80%ED%95%9C%EB%AF%BC%EA%B5%AD%EC%9D%98_%EC%9D%8C%EC%95%85_%EA%B7%B8%EB%A3%B9)', 1), ('https://ko.wikipedia.org/wiki/%ED%94%BC%EB%81%93%EB%8A%94_%EC%B2%AD%EC%B6%98', 1), ('https://ko.wikipedia.org/wiki/%EC%98%A4_%EB%82%98%EC%9D%98_%EA%B7%80%EC%8B%A0%EB%8B%98', 1), ('https://ko.wikipedia.org/wiki/%EB%84%88%EC%9D%98_%EA%B2%B0%ED%98%BC%EC%8B%9D', 1), ('https://ko.wikipedia.org/w/index.php?title=%EB%B0%95%EB%B3%B4%EC%98%81%EC%9D%98_%EC%9E%91%ED%92%88_%EB%AA%A9%EB%A1%9D&action=edit&section=7', 1), ('https://ko.wikipedia.org/wiki/%EC%94%A8%EB%84%A421', 1), ('https://ko.wikipedia.org/wiki/%ED%95%84%EB%A6%842.0', 1), ('https://ko.wikipedia.org/wiki/%EB%8C%80%ED%95%99%EB%82%B4%EC%9D%BC', 1), ('https://ko.wikipedia.org/wiki/%ED%94%BC%EC%94%A8%EC%82%AC%EB%9E%91', 1), ('https://ko.wikipedia.org/wiki/%EB%B3%B4%EA%B7%B8%EA%B1%B8', 1), ('https://ko.wikipedia.org/w/index.php?title=%EC%96%BC%EB%A3%A8%EC%96%B4_%EC%BD%94%EB%A6%AC%EC%95%84&action=edit&redlink=1', 1), ('https://ko.wikipedia.org/wiki/%EC%94%A8%EB%84%A421', 1), ('https://ko.wikipedia.org/wiki/%EC%97%98%EB%A5%B4', 1), ('https://ko.wikipedia.org/wiki/%EC%97%98%EB%A5%B4', 1), ('https://ko.wikipedia.org/wiki/%EC%BD%94%EC%8A%A4%EB%AA%A8%ED%8F%B4%EB%A6%AC%ED%83%84', 1), ('https://ko.wikipedia.org/wiki/%EB%B3%B4%EA%B7%B8_(%EC%9E%A1%EC%A7%80)', 1), ('https://ko.wikipedia.org/wiki/%EC%94%A8%EB%84%A421', 1), ('https://ko.wikipedia.org/wiki/%EC%97%90%EC%8A%A4%EC%BD%B0%EC%9D%B4%EC%96%B4_(%EC%9E%A1%EC%A7%80)', 1), ('https://ko.wikipedia.org/wiki/%EC%9D%B8%EC%8A%A4%ED%83%80%EC%9D%BC', 1), ('https://ko.wikipedia.org/wiki/%ED%95%98%ED%8D%BC%EC%8A%A4_%EB%B0%94%EC%9E%90', 1), ('https://ko.wikipedia.org/wiki/W_(%EC%9E%A1%EC%A7%80)', 1), ('https://ko.wikipedia.org/wiki/%ED%95%98%ED%8D%BC%EC%8A%A4_%EB%B0%94%EC%9E%90', 1), ('https://ko.wikipedia.org/wiki/%EC%97%98%EB%A5%B4', 1), ('https://ko.wikipedia.org/wiki/%EB%B9%85%EC%9D%B4%EC%8A%88', 1), ('https://ko.wikipedia.org/wiki/%EC%94%A8%EB%84%A421', 1), ('https://ko.wikipedia.org/wiki/W_(%EC%9E%A1%EC%A7%80)', 1), ('https://ko.wikipedia.org/wiki/%EB%A7%A5%EC%8A%A4%EB%AC%B4%EB%B9%84', 1), ('https://ko.wikipedia.org/wiki/%EB%B3%B4%EA%B7%B8%EA%B1%B8', 1), ('https://ko.wikipedia.org/wiki/%ED%95%98%ED%8D%BC%EC%8A%A4_%EB%B0%94%EC%9E%90', 1), ('https://ko.wikipedia.org/wiki/%EB%A7%A5%EC%8A%A4%EB%AC%B4%EB%B9%84', 1), ('https://ko.wikipedia.org/wiki/%EB%A0%88%EC%9D%B4%EB%94%94%EA%B2%BD%ED%96%A5', 1), ('https://ko.wikipedia.org/wiki/%EC%97%98%EB%A5%B4', 1), ('https://ko.wikipedia.org/wiki/%EC%BD%94%EC%8A%A4%EB%AA%A8%ED%8F%B4%EB%A6%AC%ED%83%84', 1), ('https://ko.wikipedia.org/wiki/%EC%94%A8%EB%84%A421', 1), ('https://ko.wikipedia.org/wiki/%EC%9D%B8%EC%8A%A4%ED%83%80%EC%9D%BC', 1), ('https://ko.wikipedia.org/wiki/%EC%97%98%EB%A5%B4', 1), ('https://ko.wikipedia.org/wiki/%EC%97%AC%EC%84%B1%EC%A1%B0%EC%84%A0', 1), ('https://ko.wikipedia.org/wiki/%EC%9A%B0%EB%A8%BC%EC%84%BC%EC%8A%A4', 1), ('https://ko.wikipedia.org/w/index.php?title=%EB%B0%95%EB%B3%B4%EC%98%81%EC%9D%98_%EC%9E%91%ED%92%88_%EB%AA%A9%EB%A1%9D&action=edit&section=8', 1), ('https://ko.wikipedia.org/wiki/5%C2%B718_%EA%B4%91%EC%A3%BC_%EB%AF%BC%EC%A3%BC%ED%99%94_%EC%9A%B4%EB%8F%99', 1), ('https://ko.wikipedia.org/wiki/%EA%B9%80%EB%AF%B8%ED%99%94', 1), ('https://ko.wikipedia.org/wiki/%ED%80%B4%EC%A6%88!_%EC%9C%A1%EA%B0%90%EB%8C%80%EA%B2%B0', 1), ('https://ko.wikipedia.org/wiki/%ED%80%B4%EC%A6%88!_%EC%9C%A1%EA%B0%90%EB%8C%80%EA%B2%B0', 1), ('https://ko.wikipedia.org/wiki/%EC%95%99%EB%93%9C%EB%A0%88_%EA%B9%80', 1), ('https://ko.wikipedia.org/wiki/%EC%84%B8%EA%B3%84%EC%A7%80%EC%8B%9D%ED%8F%AC%EB%9F%BC', 1), ('https://ko.wikipedia.org/wiki/%EA%B0%9C%EA%B7%B8%EC%BD%98%EC%84%9C%ED%8A%B8', 1), ('https://ko.wikipedia.org/wiki/%EC%9C%A4%ED%98%95%EB%B9%88', 1), ('https://ko.wikipedia.org/wiki/%EC%9D%BC%EC%9A%94%EC%9D%BC%EC%9D%B4_%EC%A2%8B%EB%8B%A4', 1), ('https://ko.wikipedia.org/wiki/%EB%9F%B0%EB%8B%9D%EB%A7%A8', 1), ('https://ko.wikipedia.org/wiki/%ED%95%9C%EA%B5%AD%EB%A7%8C%ED%99%94%EB%B0%95%EB%AC%BC%EA%B4%80', 1), ('https://ko.wikipedia.org/wiki/%EC%84%B8%EC%83%81%EC%9D%84_%EB%B0%94%EA%BE%B8%EB%8A%94_%ED%80%B4%EC%A6%88', 1), ('https://ko.wikipedia.org/wiki/%EC%9D%B4%EA%B2%BD%EC%8B%A4', 1), ('https://ko.wikipedia.org/wiki/%EB%AC%B4%ED%95%9C%EB%8F%84%EC%A0%84', 1), ('https://ko.wikipedia.org/wiki/%EA%B8%B8_(%EA%B0%80%EC%88%98)', 1), ('https://ko.wikipedia.org/wiki/%ED%95%B4%ED%94%BC%ED%88%AC%EA%B2%8C%EB%8D%94_(%ED%85%94%EB%A0%88%EB%B9%84%EC%A0%84_%ED%94%84%EB%A1%9C%EA%B7%B8%EB%9E%A8)', 1), ('https://ko.wikipedia.org/wiki/%ED%95%9C%EA%B5%AD%EA%B5%AD%EC%A0%9C%ED%98%91%EB%A0%A5%EB%8B%A8', 1), ('https://ko.wikipedia.org/wiki/%ED%8E%98%EB%A3%A8', 1), ('https://ko.wikipedia.org/wiki/%ED%95%B4%ED%94%BC%EC%84%A0%EB%8D%B0%EC%9D%B4', 1), ('https://ko.wikipedia.org/wiki/1%EB%B0%95_2%EC%9D%BC', 1), ('https://ko.wikipedia.org/wiki/%EA%B0%9C%EA%B7%B8%EC%BD%98%EC%84%9C%ED%8A%B8', 1), ('https://ko.wikipedia.org/wiki/TV_%EC%BB%AC%ED%88%AC%EC%87%BC', 1), ('https://ko.wikipedia.org/wiki/%EA%B3%B5%EA%B0%90%ED%86%A0%ED%81%AC%EC%87%BC_%EB%86%80%EB%9F%AC%EC%99%80', 1), ('https://ko.wikipedia.org/wiki/%EB%8C%80%EA%B5%AD%EB%AF%BC_%ED%86%A0%ED%81%AC%EC%87%BC_%EC%95%88%EB%85%95%ED%95%98%EC%84%B8%EC%9A%94', 1), ('https://ko.wikipedia.org/wiki/TV_%EC%BB%AC%ED%88%AC%EC%87%BC', 1), ('https://ko.wikipedia.org/wiki/%EC%8A%88%ED%8D%BC%EC%8A%A4%ED%83%80K', 1), ('https://ko.wikipedia.org/wiki/%EC%9D%BC%EC%9A%94%EC%9D%BC%EC%9D%B4_%EC%A2%8B%EB%8B%A4', 1), ('https://ko.wikipedia.org/wiki/%EB%9F%B0%EB%8B%9D%EB%A7%A8', 1), ('https://ko.wikipedia.org/wiki/%EC%A0%91%EC%86%8D!_%EB%AC%B4%EB%B9%84%EC%9B%94%EB%93%9C', 1), ('https://ko.wikipedia.org/wiki/%ED%95%9C%EA%B5%AD%EA%B5%AD%EC%A0%9C%ED%98%91%EB%A0%A5%EB%8B%A8', 1), ('https://ko.wikipedia.org/wiki/%EC%97%98%EC%82%B4%EB%B0%94%EB%8F%84%EB%A5%B4', 1), ('https://ko.wikipedia.org/wiki/%EC%97%B0%EC%98%88%EA%B0%80%EC%A4%91%EA%B3%84', 1), ('https://ko.wikipedia.org/wiki/%ED%9C%B4%EB%A8%BC%EB%8B%A4%ED%81%90_%EC%82%AC%EB%9E%91', 1), ('https://ko.wikipedia.org/wiki/%EA%B3%B5%EA%B0%90%ED%86%A0%ED%81%AC%EC%87%BC_%EB%86%80%EB%9F%AC%EC%99%80', 1), ('https://ko.wikipedia.org/wiki/%ED%95%B4%ED%94%BC%EC%84%A0%EB%8D%B0%EC%9D%B4', 1), ('https://ko.wikipedia.org/wiki/1%EB%B0%95_2%EC%9D%BC', 1), ('https://ko.wikipedia.org/wiki/%EC%84%B9%EC%85%98TV_%EC%97%B0%EC%98%88%ED%86%B5%EC%8B%A0', 1), ('https://ko.wikipedia.org/wiki/%EC%A0%95%EA%B8%80%EC%9D%98_%EB%B2%95%EC%B9%99', 1), ('https://ko.wikipedia.org/wiki/%EB%89%B4%EC%A7%88%EB%9E%9C%EB%93%9C', 1), ('https://ko.wikipedia.org/wiki/%EA%B9%80%EB%B3%91%EB%A7%8C', 1), ('https://ko.wikipedia.org/wiki/%EA%B2%9F_%EC%9E%87_%EB%B7%B0%ED%8B%B0', 1), ('https://ko.wikipedia.org/wiki/%ED%95%B4%ED%94%BC%EC%84%A0%EB%8D%B0%EC%9D%B4', 1), ('https://ko.wikipedia.org/wiki/1%EB%B0%95_2%EC%9D%BC', 1), ('https://ko.wikipedia.org/wiki/%ED%95%9C%EA%B5%AD%EA%B5%AD%EC%A0%9C%ED%98%91%EB%A0%A5%EB%8B%A8', 1), ('https://ko.wikipedia.org/wiki/%EC%9D%B8%EB%8F%84%EB%84%A4%EC%8B%9C%EC%95%84', 1), ('https://ko.wikipedia.org/wiki/%EA%B8%88%EC%9A%94%EC%9D%BC%EC%97%94_%EC%88%98%EB%8B%A4%EB%8B%A4', 1), ('https://ko.wikipedia.org/wiki/%EC%9D%BC%EC%9A%94%EC%9D%BC%EC%9D%B4_%EC%A2%8B%EB%8B%A4', 1), ('https://ko.wikipedia.org/wiki/%EB%9F%B0%EB%8B%9D%EB%A7%A8', 1), ('https://ko.wikipedia.org/wiki/%EC%95%A0%ED%94%84%ED%84%B0%EC%8A%A4%EC%BF%A8', 1), ('https://ko.wikipedia.org/wiki/%ED%95%B4%ED%94%BC%EC%84%A0%EB%8D%B0%EC%9D%B4', 1), ('https://ko.wikipedia.org/wiki/1%EB%B0%95_2%EC%9D%BC', 1), ('https://ko.wikipedia.org/wiki/%EC%B0%A8%ED%83%9C%ED%98%84', 1), ('https://ko.wikipedia.org/wiki/%EC%BD%94%EB%AF%B8%EB%94%94%EB%B9%85%EB%A6%AC%EA%B7%B8', 1), ('https://ko.wikipedia.org/wiki/%EC%9D%BC%EC%9A%94%EC%9D%BC%EC%9D%B4_%EC%A2%8B%EB%8B%A4', 1), ('https://ko.wikipedia.org/wiki/%EB%9F%B0%EB%8B%9D%EB%A7%A8', 1), ('https://ko.wikipedia.org/wiki/%EC%84%B9%EC%85%98TV_%EC%97%B0%EC%98%88%ED%86%B5%EC%8B%A0', 1), ('https://ko.wikipedia.org/wiki/%EC%97%B0%EC%98%88%EA%B0%80%EC%A4%91%EA%B3%84', 1), ('https://ko.wikipedia.org/wiki/%EA%B0%9C%EA%B7%B8%EC%BD%98%EC%84%9C%ED%8A%B8', 1), ('https://ko.wikipedia.org/wiki/%EC%9C%84%ED%82%A4%EB%93%9C_(%ED%85%94%EB%A0%88%EB%B9%84%EC%A0%84_%ED%94%84%EB%A1%9C%EA%B7%B8%EB%9E%A8)', 1), ('https://ko.wikipedia.org/wiki/%EC%97%A0%EC%B9%B4%EC%9A%B4%ED%8A%B8%EB%8B%A4%EC%9A%B4', 1), ('https://ko.wikipedia.org/wiki/KCON', 1), ('https://ko.wikipedia.org/wiki/%ED%9E%98%EC%8E%88%EC%97%AC%EC%9E%90_%EB%8F%84%EB%B4%89%EC%88%9C', 1), ('https://ko.wikipedia.org/wiki/%ED%95%9C%EB%81%BC%EC%A4%8D%EC%87%BC', 1), ('https://ko.wikipedia.org/wiki/%EC%84%B9%EC%85%98TV_%EC%97%B0%EC%98%88%ED%86%B5%EC%8B%A0', 1), ('https://ko.wikipedia.org/wiki/%EC%84%B9%EC%85%98TV_%EC%97%B0%EC%98%88%ED%86%B5%EC%8B%A0', 1), ('https://ko.wikipedia.org/w/index.php?title=%EB%B0%95%EB%B3%B4%EC%98%81%EC%9D%98_%EC%9E%91%ED%92%88_%EB%AA%A9%EB%A1%9D&action=edit&section=9', 1), ('https://ko.wikipedia.org/wiki/%ED%8C%8C%EC%9B%8C_%ED%83%80%EC%9E%84', 1), ('https://ko.wikipedia.org/wiki/%ED%82%A4%EC%8A%A4_%EB%8D%94_%EB%9D%BC%EB%94%94%EC%98%A4', 1), ('https://ko.wikipedia.org/wiki/%ED%91%B8%EB%A5%B8%EB%B0%A4', 1), ('https://ko.wikipedia.org/wiki/%EB%91%90%EC%8B%9C%ED%83%88%EC%B6%9C_%EC%BB%AC%ED%88%AC%EC%87%BC', 1), ('https://ko.wikipedia.org/wiki/%EC%B9%9C%ED%95%9C%EC%B9%9C%EA%B5%AC', 1), ('https://ko.wikipedia.org/wiki/%EB%B3%84%EC%9D%B4_%EB%B9%9B%EB%82%98%EB%8A%94_%EB%B0%A4%EC%97%90', 1), ('https://ko.wikipedia.org/wiki/%EB%8C%80%EB%8B%A8%ED%95%9C_%EB%9D%BC%EB%94%94%EC%98%A4', 1), ('https://ko.wikipedia.org/wiki/%EB%91%90%EC%8B%9C%ED%83%88%EC%B6%9C_%EC%BB%AC%ED%88%AC%EC%87%BC', 1), ('https://ko.wikipedia.org/wiki/%EC%B9%9C%ED%95%9C%EC%B9%9C%EA%B5%AC', 1), ('https://ko.wikipedia.org/wiki/%EB%9F%AC%EB%B8%8C_%EA%B2%8C%EC%9E%84', 1), ('https://ko.wikipedia.org/wiki/%EB%91%90%EC%8B%9C%ED%83%88%EC%B6%9C_%EC%BB%AC%ED%88%AC%EC%87%BC', 1), ('https://ko.wikipedia.org/wiki/%EB%91%90%EC%8B%9C%ED%83%88%EC%B6%9C_%EC%BB%AC%ED%88%AC%EC%87%BC', 1), ('https://ko.wikipedia.org/wiki/%EB%9F%AC%EB%B8%8C_%EA%B2%8C%EC%9E%84', 1), ('https://ko.wikipedia.org/wiki/%EB%91%90%EC%8B%9C%ED%83%88%EC%B6%9C_%EC%BB%AC%ED%88%AC%EC%87%BC', 1), ('https://ko.wikipedia.org/wiki/%EB%9F%AC%EB%B8%8C_%EA%B2%8C%EC%9E%84', 1), ('https://ko.wikipedia.org/wiki/%ED%8C%9F%EC%BA%90%EC%8A%A4%ED%8A%B8', 1), ('https://ko.wikipedia.org/wiki/%EC%86%A1%EC%9D%80%EC%9D%B4', 1), ('https://ko.wikipedia.org/wiki/%EA%B9%80%EC%88%99', 1), ('https://ko.wikipedia.org/wiki/%EB%91%90%EC%8B%9C%ED%83%88%EC%B6%9C_%EC%BB%AC%ED%88%AC%EC%87%BC', 1), ('https://ko.wikipedia.org/wiki/%EB%91%90%EC%8B%9C%ED%83%88%EC%B6%9C_%EC%BB%AC%ED%88%AC%EC%87%BC', 1), ('https://ko.wikipedia.org/wiki/%EB%91%90%EC%8B%9C%ED%83%88%EC%B6%9C_%EC%BB%AC%ED%88%AC%EC%87%BC', 1), ('https://ko.wikipedia.org/wiki/%EB%91%90%EC%8B%9C%ED%83%88%EC%B6%9C_%EC%BB%AC%ED%88%AC%EC%87%BC', 1), ('https://ko.wikipedia.org/wiki/%EB%9F%AC%EB%B8%8C_%EA%B2%8C%EC%9E%84', 1), ('https://ko.wikipedia.org/wiki/%EB%91%90%EC%8B%9C%ED%83%88%EC%B6%9C_%EC%BB%AC%ED%88%AC%EC%87%BC', 1), ('https://ko.wikipedia.org/w/index.php?title=%EB%B0%95%EB%B3%B4%EC%98%81%EC%9D%98_%EC%9E%91%ED%92%88_%EB%AA%A9%EB%A1%9D&action=edit&section=10', 1), ('https://ko.wikipedia.org/wiki/%EB%8C%80%ED%95%9C%EB%AF%BC%EA%B5%AD_%EA%B8%B0%ED%9A%8D%EC%9E%AC%EC%A0%95%EB%B6%80', 1), ('https://ko.wikipedia.org/wiki/%EB%B3%B5%EA%B6%8C%EC%9C%84%EC%9B%90%ED%9A%8C', 1), ('https://ko.wikipedia.org/wiki/G20', 1), ('https://ko.wikipedia.org/wiki/%EB%B6%80%EC%B2%9C%EA%B5%AD%EC%A0%9C%ED%8C%90%ED%83%80%EC%8A%A4%ED%8B%B1%EC%98%81%ED%99%94%EC%A0%9C', 1), ('https://ko.wikipedia.org/wiki/%EC%88%98%EC%9B%90%EC%8B%9C', 1), ('https://ko.wikipedia.org/wiki/%ED%95%9C%EA%B5%AD%EA%B5%AD%EC%A0%9C%ED%98%91%EB%A0%A5%EB%8B%A8', 1), ('https://ko.wikipedia.org/wiki/%EC%96%B4%EB%A6%B0%EC%9D%B4%EC%9E%AC%EB%8B%A8', 1), ('https://ko.wikipedia.org/wiki/%EA%B2%BD%EC%B0%B0%EB%B3%91%EC%9B%90', 1), ('https://ko.wikipedia.org/wiki/CJ_CGV', 1), ('https://ko.wikipedia.org/wiki/%EB%B2%A0%ED%8A%B8%EB%82%A8', 1), ('https://ko.wikipedia.org/wiki/%EC%9D%B8%EB%8F%84%EB%84%A4%EC%8B%9C%EC%95%84', 1), ('https://ko.wikipedia.org/wiki/%EB%8C%80%ED%95%9C%EB%AF%BC%EA%B5%AD_%EA%B4%80%EC%84%B8%EC%B2%AD', 1), ('https://ko.wikipedia.org/w/index.php?title=%EB%B0%95%EB%B3%B4%EC%98%81%EC%9D%98_%EC%9E%91%ED%92%88_%EB%AA%A9%EB%A1%9D&action=edit&section=11', 1), ('https://ko.wikipedia.org/wiki/%ED%95%9C%EA%B5%AD%EC%88%98%EB%A0%A5%EC%9B%90%EC%9E%90%EB%A0%A5', 1), ('https://ko.wikipedia.org/wiki/%ED%95%9C%EA%B5%AD%EC%88%98%EB%A0%A5%EC%9B%90%EC%9E%90%EB%A0%A5', 1), ('https://ko.wikipedia.org/wiki/%EB%A1%AF%EB%8D%B0%EC%A0%9C%EA%B3%BC', 1), ('https://ko.wikipedia.org/wiki/%EB%A1%AF%EB%8D%B0_%EC%9E%90%EC%9D%BC%EB%A6%AC%ED%86%A8', 1), ('https://ko.wikipedia.org/wiki/SK%EC%BC%80%EB%AF%B8%EC%B9%BC', 1), ('https://ko.wikipedia.org/wiki/%EC%98%A4%EB%9A%9C%EA%B8%B0', 1), ('https://ko.wikipedia.org/wiki/%EC%A7%84%EB%9D%BC%EB%A9%B4', 1), ('https://ko.wikipedia.org/wiki/%EC%9A%B0%EB%A6%AC%EA%B8%88%EC%9C%B5%EA%B7%B8%EB%A3%B9', 1), ('https://ko.wikipedia.org/wiki/%EC%9A%B0%EB%A6%AC%EC%9D%80%ED%96%89', 1), ('https://ko.wikipedia.org/wiki/%ED%95%9C%EA%B5%AD%EA%B5%90%EC%9C%A1%EB%B0%A9%EC%86%A1%EA%B3%B5%EC%82%AC', 1), ('https://ko.wikipedia.org/wiki/EBSi', 1), ('https://ko.wikipedia.org/wiki/PR_(%EB%A7%88%EC%BC%80%ED%8C%85)', 1), ('https://ko.wikipedia.org/wiki/%EC%BD%94%EC%9B%A8%EC%9D%B4', 1), ('https://ko.wikipedia.org/wiki/%EB%B9%84%EB%8D%B0', 1), ('https://ko.wikipedia.org/wiki/%ED%95%9C%EC%8B%A0%EA%B3%B5%EC%98%81%EA%B7%B8%EB%A3%B9', 1), ('https://ko.wikipedia.org/wiki/%EC%95%84%EC%9B%83%EB%A0%9B', 1), ('https://ko.wikipedia.org/wiki/SK%ED%85%94%EB%A0%88%EC%BD%A4', 1), ('https://ko.wikipedia.org/wiki/%EC%A1%B4%EC%8A%A8%EC%95%A4%EB%93%9C%EC%A1%B4%EC%8A%A8', 1), ('https://ko.wikipedia.org/wiki/%ED%81%B4%EB%A6%B0%EC%95%A4%ED%81%B4%EB%A6%AC%EC%96%B4', 1), ('https://ko.wikipedia.org/wiki/%EB%86%8D%EC%8B%AC', 1), ('https://ko.wikipedia.org/wiki/%EC%95%88%EC%84%B1%ED%83%95%EB%A9%B4', 1), ('https://ko.wikipedia.org/wiki/%EC%9D%B4%EB%B2%A0%EC%9D%B4', 1), ('https://ko.wikipedia.org/wiki/G%EB%A7%88%EC%BC%93', 1), ('https://ko.wikipedia.org/wiki/%EA%B8%B0%ED%9A%8D%EC%9E%AC%EC%A0%95%EB%B6%80', 1), ('https://ko.wikipedia.org/wiki/%EB%B3%B5%EA%B6%8C%EC%9C%84%EC%9B%90%ED%9A%8C', 1), ('https://ko.wikipedia.org/wiki/%EB%B9%99%EA%B7%B8%EB%A0%88', 1), ('https://ko.wikipedia.org/wiki/%EB%86%8D%EC%97%85%ED%98%91%EB%8F%99%EC%A1%B0%ED%95%A9', 1), ('https://ko.wikipedia.org/wiki/%EC%82%BC%EC%84%B1%EA%B7%B8%EB%A3%B9', 1), ('https://ko.wikipedia.org/wiki/PR_(%EB%A7%88%EC%BC%80%ED%8C%85)', 1), ('https://ko.wikipedia.org/wiki/MPK%EA%B7%B8%EB%A3%B9', 1), ('https://ko.wikipedia.org/wiki/%EB%AF%B8%EC%8A%A4%ED%84%B0%ED%94%BC%EC%9E%90', 1), ('https://ko.wikipedia.org/wiki/%EB%A1%AF%EB%8D%B0%ED%95%98%EC%9D%B4%EB%A7%88%ED%8A%B8', 1), ('https://ko.wikipedia.org/wiki/%EB%A1%AF%EB%8D%B0%ED%95%98%EC%9D%B4%EB%A7%88%ED%8A%B8', 1), ('https://ko.wikipedia.org/wiki/%EC%9D%B4%EC%8A%A4%ED%8A%B8%EC%86%8C%ED%94%84%ED%8A%B8', 1), ('https://ko.wikipedia.org/wiki/%EC%A4%8C_(%ED%8F%AC%ED%84%B8_%EC%82%AC%EC%9D%B4%ED%8A%B8)', 1), ('https://ko.wikipedia.org/wiki/%ED%95%9C%EA%B5%AD%EB%8B%8C%ED%85%90%EB%8F%84', 1), ('https://ko.wikipedia.org/wiki/%ED%8A%80%EC%96%B4%EB%82%98%EC%99%80%EC%9A%94_%EB%8F%99%EB%AC%BC%EC%9D%98_%EC%88%B2', 1), ('https://ko.wikipedia.org/wiki/%ED%81%AC%EB%A6%AC%EB%8B%88%ED%81%AC', 1), ('https://ko.wikipedia.org/wiki/%ED%95%9C%EA%B5%AD%ED%8C%8C%ED%94%84%EB%A6%AC%EC%B9%B4%EC%83%9D%EC%82%B0%EC%9E%90%EC%9E%90%EC%A1%B0%ED%9A%8C', 1), ('https://ko.wikipedia.org/wiki/%ED%8C%8C%ED%94%84%EB%A6%AC%EC%B9%B4', 1), ('https://ko.wikipedia.org/wiki/%EB%84%A5%EC%8A%A8_%EC%BD%94%EB%A6%AC%EC%95%84', 1), ('https://ko.wikipedia.org/wiki/%EC%84%9C%EB%93%A0%EC%96%B4%ED%83%9D', 1), ('https://ko.wikipedia.org/wiki/%EC%99%80%EC%9D%B4%EB%94%94%EC%98%A8%EB%9D%BC%EC%9D%B8', 1), ('https://ko.wikipedia.org/wiki/%EA%B0%93_%EC%98%A4%EB%B8%8C_%ED%95%98%EC%9D%B4%EC%8A%A4%EC%BF%A8', 1), ('https://ko.wikipedia.org/wiki/LG%EC%9C%A0%ED%94%8C%EB%9F%AC%EC%8A%A4', 1), ('https://ko.wikipedia.org/wiki/%EC%82%AC%EB%AC%BC_%EC%9D%B8%ED%84%B0%EB%84%B7', 1), ('https://ko.wikipedia.org/wiki/%EC%82%AC%EB%AC%BC_%EC%9D%B8%ED%84%B0%EB%84%B7', 1), ('https://ko.wikipedia.org/wiki/%EB%8F%99%EC%84%9C%EC%8B%9D%ED%92%88', 1), ('https://ko.wikipedia.org/wiki/%EA%B7%B8%EB%9E%98%EB%86%80%EB%9D%BC', 1), ('https://ko.wikipedia.org/wiki/%EC%8B%9C%EB%A6%AC%EC%96%BC', 1), ('https://ko.wikipedia.org/wiki/%EC%95%A0%EB%82%98_%EC%88%98%EC%9D%B4', 1), ('https://ko.wikipedia.org/wiki/%EC%82%BC%EC%84%B1%ED%99%94%EC%9E%AC%ED%95%B4%EC%83%81%EB%B3%B4%ED%97%98', 1), ('https://ko.wikipedia.org/wiki/%EC%9E%90%EB%8F%99%EC%B0%A8%EB%B3%B4%ED%97%98', 1), ('https://ko.wikipedia.org/wiki/%EB%AC%B4%ED%95%99_(%EA%B8%B0%EC%97%85)', 1), ('https://ko.wikipedia.org/wiki/%EC%A2%8B%EC%9D%80%EB%8D%B0%EC%9D%B4', 1), ('https://ko.wikipedia.org/wiki/LG%EC%83%9D%ED%99%9C%EA%B1%B4%EA%B0%95', 1), ('https://ko.wikipedia.org/wiki/%EB%8F%99%EC%9B%90F%26B', 1), ('https://ko.wikipedia.org/wiki/%ED%95%9C%EA%B5%AD%EC%BD%94%EC%B9%B4%EC%BD%9C%EB%9D%BC', 1), ('https://ko.wikipedia.org/wiki/%EB%A1%AF%EB%8D%B0%ED%95%98%EC%9D%B4%EB%A7%88%ED%8A%B8', 1), ('https://ko.wikipedia.org/wiki/%EB%A1%AF%EB%8D%B0%ED%95%98%EC%9D%B4%EB%A7%88%ED%8A%B8', 1), ('https://ko.wikipedia.org/wiki/%ED%95%9C%EA%B5%AD%ED%8C%8C%ED%94%84%EB%A6%AC%EC%B9%B4%EC%83%9D%EC%82%B0%EC%9E%90%EC%9E%90%EC%A1%B0%ED%9A%8C', 1), ('https://ko.wikipedia.org/wiki/%ED%8C%8C%ED%94%84%EB%A6%AC%EC%B9%B4', 1), ('https://ko.wikipedia.org/wiki/%EB%8F%99%EC%95%84%EC%A0%9C%EC%95%BD', 1), ('https://ko.wikipedia.org/wiki/%EC%A7%80%EC%95%A4%ED%91%B8%EB%93%9C', 1), ('https://ko.wikipedia.org/wiki/%EA%B5%BD%EB%84%A4%EC%B9%98%ED%82%A8', 1), ('https://ko.wikipedia.org/w/index.php?title=%EB%B0%95%EB%B3%B4%EC%98%81%EC%9D%98_%EC%9E%91%ED%92%88_%EB%AA%A9%EB%A1%9D&action=edit&section=12', 1), ('https://ko.wikipedia.org/wiki/%EB%B0%95%EB%B3%B4%EC%98%81%EC%9D%98_%EC%88%98%EC%83%81_%EB%B0%8F_%ED%9B%84%EB%B3%B4_%EB%AA%A9%EB%A1%9D', 1), ('https://ko.wikipedia.org/w/index.php?title=%EB%B0%95%EB%B3%B4%EC%98%81%EC%9D%98_%EC%9E%91%ED%92%88_%EB%AA%A9%EB%A1%9D&action=edit&section=13', 1), ('http://entertain.naver.com/read?oid=038&aid=0001989636', 1), ('http://entertain.naver.com/read?oid=003&aid=0002030247', 1), ('http://entertain.naver.com/read?oid=009&aid=0002323140', 1), ('http://media.daum.net/entertain/enews/newsview?newsid=20090111091604323', 1), ('http://entertain.naver.com/read?oid=108&aid=0001967404', 1), ('http://entertain.naver.com/read?oid=001&aid=0001641074', 1), ('http://entertain.naver.com/read?oid=109&aid=0000074553', 1), ('http://entertain.naver.com/read?oid=008&aid=0002976573', 1), ('http://news.naver.com/main/read.nhn?mode=LSD&mid=sec&sid1=102&oid=028&aid=0002171746', 1), ('http://entertain.naver.com/read?oid=109&aid=0002468143', 1), ('http://entertain.naver.com/read?oid=311&aid=0000180738', 1), ('http://entertain.naver.com/read?oid=277&aid=0002067084', 1), ('http://entertain.naver.com/read?oid=001&aid=0001636534', 1), ('http://news.naver.com/main/read.nhn?mode=LSD&mid=sec&sid1=110&oid=009&aid=0002019783', 1), ('http://news.naver.com/main/read.nhn?mode=LSD&mid=sec&sid1=103&oid=001&aid=0002322889', 1), ('http://entertain.naver.com/read?oid=111&aid=0000144269', 1), ('http://entertain.naver.com/read?oid=108&aid=0002006627', 1), ('http://news.naver.com/main/read.nhn?mode=LSD&mid=sec&sid1=102&oid=079&aid=0002193285', 1), ('http://entertain.naver.com/read?oid=038&aid=0002157079', 1), ('http://entertain.naver.com/read?oid=022&aid=0002460049', 1), ('http://news.naver.com/main/read.nhn?mode=LSD&mid=sec&sid1=102&oid=277&aid=0002984444', 1), ('http://entertain.naver.com/read?oid=081&aid=0002378662', 1), ('http://news.naver.com/main/read.nhn?mode=LSD&mid=sec&sid1=102&oid=003&aid=0005895563', 1), ('http://entertain.naver.com/read?oid=213&aid=0000492809', 1), ('http://entertain.naver.com/read?oid=003&aid=0006271195', 1), ('http://entertain.naver.com/read?oid=215&aid=0000110108', 1), ('http://entertain.naver.com/read?oid=396&aid=0000350964', 1), ('http://news.naver.com/main/read.nhn?mode=LSD&mid=sec&sid1=101&oid=008&aid=0003547504', 1), ('http://news.naver.com/main/read.nhn?mode=LSD&mid=sec&sid1=101&oid=123&aid=0002134556', 1), ('http://entertain.naver.com/read?oid=144&aid=0000512152', 1), ('http://entertain.naver.com/read?oid=016&aid=0000288840', 1), ('http://entertain.naver.com/read?oid=003&aid=0000145960', 1), ('http://ktnews.com/sub/view.php?cd_news=59196&cd_cate=A010', 1), ('http://www.sportsseoul.com/news/read/97293', 1), ('http://news.naver.com/main/read.nhn?mode=LSD&mid=sec&sid1=103&oid=015&aid=0002064798', 1), ('http://entertain.naver.com/read?oid=009&aid=0002076547', 1), ('http://news.naver.com/main/read.nhn?mode=LSD&mid=sec&sid1=102&oid=003&aid=0002652610', 1), ('http://entertain.naver.com/read?oid=079&aid=0002054835', 1), ('http://news.naver.com/main/read.nhn?mode=LSD&mid=sec&sid1=101&oid=112&aid=0002006148', 1), ('http://www.betanews.net/article/462491', 1), ('http://entertain.naver.com/read?oid=079&aid=0002073593', 1), ('http://entertain.naver.com/read?oid=038&aid=0001995746', 1), ('http://entertain.naver.com/read?oid=076&aid=0002119183', 1), ('https://twitter.com/dongmool_soop/status/294326283985367040', 1), ('http://news.naver.com/main/read.nhn?mode=LSD&mid=sec&sid1=102&oid=088&aid=0000279294', 1), ('http://entertain.naver.com/read?oid=009&aid=0002904404', 1), ('https://web.archive.org/web/20160606201310/http://paprika.or.kr/index.php?mid=media01&document_srl=216', 1), ('http://paprika.or.kr/index.php?document_srl=216&mid=media01', 1), ('http://news.naver.com/main/read.nhn?mode=LSD&mid=sec&sid1=105&oid=236&aid=0000077466', 1), ('http://news.naver.com/main/read.nhn?mode=LSD&mid=sec&sid1=105&oid=236&aid=0000098384', 1), ('http://news.naver.com/main/read.nhn?mode=LSD&mid=sec&sid1=001&oid=236&aid=0000103965', 1), ('http://news.naver.com/main/read.nhn?mode=LSD&mid=sec&sid1=105&oid=236&aid=0000129397', 1), ('http://news.naver.com/main/read.nhn?mode=LSD&mid=sec&sid1=105&oid=311&aid=0000493478', 1), ('http://news.naver.com/main/read.nhn?mode=LSD&mid=sec&sid1=105&oid=241&aid=0002474286', 1), ('http://news.naver.com/main/read.nhn?mode=LSD&mid=sec&sid1=101&oid=277&aid=0003617040', 1), ('http://entertain.naver.com/read?oid=022&aid=0002946717', 1), ('http://entertain.naver.com/read?oid=016&aid=0000956340', 1), ('http://news.naver.com/main/read.nhn?mode=LSD&mid=sec&sid1=102&oid=003&aid=0006922672', 1), ('http://news.naver.com/main/read.nhn?mode=LSD&mid=sec&sid1=101&oid=018&aid=0003681278', 1), ('http://news.naver.com/main/read.nhn?mode=LSD&mid=sec&sid1=103&oid=117&aid=0002703654', 1), ('http://news.naver.com/main/read.nhn?mode=LSD&mid=sec&sid1=004&oid=421&aid=0002608880', 1), ('http://news.naver.com/main/read.nhn?mode=LSD&mid=sec&sid1=103&oid=076&aid=0002814874', 1), ('https://www.sofybodyfit.co.kr/web/story/magazine_view.asp?magSeq=163&cate=', 1), ('http://www.wikitree.co.kr/main/news_view.php?id=301444', 1), ('http://news.naver.com/main/read.nhn?mode=LSD&mid=sec&sid1=101&oid=277&aid=0003897329', 1), ('http://thinknature.kr/board/read.php?bid=8&pid=90&', 1), ('https://ko.wikipedia.org/wiki/%EC%9C%84%ED%82%A4%EB%B0%B1%EA%B3%BC:%EA%B9%A8%EC%A7%84_%EB%A7%81%ED%81%AC', 1), ('http://web.archive.org/web/*/http://thinknature.kr/board/read.php?bid=8&pid=90&', 1), ('http://entertain.naver.com/read?oid=468&aid=0000253312', 1), ('http://news.naver.com/main/read.nhn?mode=LSD&mid=sec&sid1=101&oid=277&aid=0003691700', 1), ('http://news.naver.com/main/read.nhn?mode=LSD&mid=sec&sid1=101&oid=082&aid=0000705122', 1), ('http://news.naver.com/main/read.nhn?mode=LSD&mid=sec&sid1=101&oid=277&aid=0003733986', 1), ('http://news.naver.com/main/read.nhn?mode=LSD&mid=sec&sid1=101&oid=014&aid=0003775847', 1), ('http://news.naver.com/main/read.nhn?mode=LSD&mid=sec&sid1=101&oid=015&aid=0003781982', 1), ('http://cafe.naver.com/paprikalove/82869', 1), ('http://news.naver.com/main/read.nhn?mode=LSD&mid=sec&sid1=101&oid=008&aid=0003894584', 1), ('https://news.naver.com/main/read.nhn?mode=LSD&mid=sec&sid1=102&oid=001&aid=0010520948', 1), ('https://ko.wikipedia.org/w/index.php?title=%EB%B0%95%EB%B3%B4%EC%98%81%EC%9D%98_%EC%9E%91%ED%92%88_%EB%AA%A9%EB%A1%9D&action=edit&section=14', 1), ('https://www.kmdb.or.kr/db/per/00048294', 1), ('https://ko.wikipedia.org/wiki/%ED%95%9C%EA%B5%AD%EC%98%81%ED%99%94_%EB%8D%B0%EC%9D%B4%ED%84%B0%EB%B2%A0%EC%9D%B4%EC%8A%A4', 1), ('https://www.imdb.com/name/nm3291520/', 1), ('https://ko.wikipedia.org/wiki/%EC%9D%B8%ED%84%B0%EB%84%B7_%EC%98%81%ED%99%94_%EB%8D%B0%EC%9D%B4%ED%84%B0%EB%B2%A0%EC%9D%B4%EC%8A%A4', 1), ('http://www.hancinema.net/korean_Park_Bo-young.php', 1), ('https://ko.wikipedia.org/wiki/%ED%95%9C%EC%8B%9C%EB%84%A4%EB%A7%88', 1), ('https://ko.wikipedia.org/w/index.php?title=박보영의_작품_목록&oldid=24152058', 1), ('https://ko.wikipedia.org/wiki/%ED%8A%B9%EC%88%98:%EB%B6%84%EB%A5%98', 1), ('https://ko.wikipedia.org/wiki/%EB%B6%84%EB%A5%98:%EC%97%AC%EC%9E%90_%EB%B0%B0%EC%9A%B0_%EC%9E%91%ED%92%88_%EB%AA%A9%EB%A1%9D', 1), ('https://ko.wikipedia.org/wiki/%EB%B6%84%EB%A5%98:%EA%B9%A8%EC%A7%84_%EB%A7%81%ED%81%AC%EB%A5%BC_%EA%B0%80%EC%A7%80%EA%B3%A0_%EC%9E%88%EB%8A%94_%EB%AC%B8%EC%84%9C', 1), ('https://ko.wikipedia.org/wiki/%ED%8A%B9%EC%88%98:%EB%82%B4%EC%82%AC%EC%9A%A9%EC%9E%90%ED%86%A0%EB%A1%A0', 1), ('https://ko.wikipedia.org/wiki/%ED%8A%B9%EC%88%98:%EB%82%B4%EA%B8%B0%EC%97%AC', 1), ('https://ko.wikipedia.org/w/index.php?title=%ED%8A%B9%EC%88%98:%EA%B3%84%EC%A0%95%EB%A7%8C%EB%93%A4%EA%B8%B0&returnto=%EB%B0%95%EB%B3%B4%EC%98%81%EC%9D%98+%EC%9E%91%ED%92%88+%EB%AA%A9%EB%A1%9D', 1), ('https://ko.wikipedia.org/w/index.php?title=%ED%8A%B9%EC%88%98:%EB%A1%9C%EA%B7%B8%EC%9D%B8&returnto=%EB%B0%95%EB%B3%B4%EC%98%81%EC%9D%98+%EC%9E%91%ED%92%88+%EB%AA%A9%EB%A1%9D', 1), ('https://ko.wikipedia.org/wiki/%EB%B0%95%EB%B3%B4%EC%98%81%EC%9D%98_%EC%9E%91%ED%92%88_%EB%AA%A9%EB%A1%9D', 1), ('https://ko.wikipedia.org/wiki/%ED%86%A0%EB%A1%A0:%EB%B0%95%EB%B3%B4%EC%98%81%EC%9D%98_%EC%9E%91%ED%92%88_%EB%AA%A9%EB%A1%9D', 1), ('https://ko.wikipedia.org/wiki/%EB%B0%95%EB%B3%B4%EC%98%81%EC%9D%98_%EC%9E%91%ED%92%88_%EB%AA%A9%EB%A1%9D', 1), ('https://ko.wikipedia.org/w/index.php?title=%EB%B0%95%EB%B3%B4%EC%98%81%EC%9D%98_%EC%9E%91%ED%92%88_%EB%AA%A9%EB%A1%9D&action=edit', 1), ('https://ko.wikipedia.org/w/index.php?title=%EB%B0%95%EB%B3%B4%EC%98%81%EC%9D%98_%EC%9E%91%ED%92%88_%EB%AA%A9%EB%A1%9D&action=history', 1), ('https://ko.wikipedia.org/wiki/%EC%9C%84%ED%82%A4%EB%B0%B1%EA%B3%BC:%EB%8C%80%EB%AC%B8', 1), ('https://ko.wikipedia.org/wiki/%EC%9C%84%ED%82%A4%EB%B0%B1%EA%B3%BC:%EB%8C%80%EB%AC%B8', 1), ('https://ko.wikipedia.org/wiki/%EC%9C%84%ED%82%A4%EB%B0%B1%EA%B3%BC:%EC%82%AC%EC%9A%A9%EC%9E%90_%EB%AA%A8%EC%9E%84', 1), ('https://ko.wikipedia.org/wiki/%ED%8F%AC%ED%84%B8:%EC%9A%94%EC%A6%98_%ED%99%94%EC%A0%9C', 1), ('https://ko.wikipedia.org/wiki/%ED%8A%B9%EC%88%98:%EC%B5%9C%EA%B7%BC%EB%B0%94%EB%80%9C', 1), ('https://ko.wikipedia.org/wiki/%ED%8A%B9%EC%88%98:%EB%AA%A8%EB%93%A0%EB%AC%B8%EC%84%9C', 1), ('https://ko.wikipedia.org/wiki/%ED%8A%B9%EC%88%98:%EC%9E%84%EC%9D%98%EB%AC%B8%EC%84%9C', 1), ('https://ko.wikipedia.org/wiki/%EC%9C%84%ED%82%A4%EB%B0%B1%EA%B3%BC:%EB%8F%84%EC%9B%80%EB%A7%90', 1), ('https://donate.wikimedia.org/wiki/Special:FundraiserRedirector?utm_source=donate&utm_medium=sidebar&utm_campaign=C13_ko.wikipedia.org&uselang=ko', 1), ('https://ko.wikipedia.org/wiki/%ED%8A%B9%EC%88%98:%EA%B0%80%EB%A6%AC%ED%82%A4%EB%8A%94%EB%AC%B8%EC%84%9C/%EB%B0%95%EB%B3%B4%EC%98%81%EC%9D%98_%EC%9E%91%ED%92%88_%EB%AA%A9%EB%A1%9D', 1), ('https://ko.wikipedia.org/wiki/%ED%8A%B9%EC%88%98:%EB%A7%81%ED%81%AC%EC%B5%9C%EA%B7%BC%EB%B0%94%EB%80%9C/%EB%B0%95%EB%B3%B4%EC%98%81%EC%9D%98_%EC%9E%91%ED%92%88_%EB%AA%A9%EB%A1%9D', 1), ('https://ko.wikipedia.org/wiki/위키백과:파일_올리기', 1), ('https://ko.wikipedia.org/wiki/%ED%8A%B9%EC%88%98:%ED%8A%B9%EC%88%98%EB%AC%B8%EC%84%9C', 1), ('https://ko.wikipedia.org/w/index.php?title=%EB%B0%95%EB%B3%B4%EC%98%81%EC%9D%98_%EC%9E%91%ED%92%88_%EB%AA%A9%EB%A1%9D&oldid=24152058', 1), ('https://ko.wikipedia.org/w/index.php?title=%EB%B0%95%EB%B3%B4%EC%98%81%EC%9D%98_%EC%9E%91%ED%92%88_%EB%AA%A9%EB%A1%9D&action=info', 1), ('https://www.wikidata.org/wiki/Special:EntityPage/Q28698256', 1), ('https://ko.wikipedia.org/w/index.php?title=%ED%8A%B9%EC%88%98:%EC%9D%B4%EB%AC%B8%EC%84%9C%EC%9D%B8%EC%9A%A9&page=%EB%B0%95%EB%B3%B4%EC%98%81%EC%9D%98_%EC%9E%91%ED%92%88_%EB%AA%A9%EB%A1%9D&id=24152058', 1), ('https://ko.wikipedia.org/w/index.php?title=%ED%8A%B9%EC%88%98:%EC%B1%85&bookcmd=book_creator&referer=%EB%B0%95%EB%B3%B4%EC%98%81%EC%9D%98+%EC%9E%91%ED%92%88+%EB%AA%A9%EB%A1%9D', 1), ('https://ko.wikipedia.org/w/index.php?title=%ED%8A%B9%EC%88%98:ElectronPdf&page=%EB%B0%95%EB%B3%B4%EC%98%81%EC%9D%98+%EC%9E%91%ED%92%88+%EB%AA%A9%EB%A1%9D&action=show-download-screen', 1), ('https://ko.wikipedia.org/w/index.php?title=%EB%B0%95%EB%B3%B4%EC%98%81%EC%9D%98_%EC%9E%91%ED%92%88_%EB%AA%A9%EB%A1%9D&printable=yes', 1), ('https://www.wikidata.org/wiki/Special:EntityPage/Q28698256#sitelinks-wikipedia', 1), ('https://ko.wikipedia.org/wiki/%EC%9C%84%ED%82%A4%EB%B0%B1%EA%B3%BC:Creative_Commons_Attribution-ShareAlike_3.0_Unported_License', 1), ('https://wikimediafoundation.org/wiki/Terms_of_Use/ko', 1), ('http://www.wikimediafoundation.org', 1), ('https://foundation.wikimedia.org/wiki/Privacy_policy', 1), ('https://ko.wikipedia.org/wiki/%EC%9C%84%ED%82%A4%EB%B0%B1%EA%B3%BC:%EC%86%8C%EA%B0%9C', 1), ('https://ko.wikipedia.org/wiki/%EC%9C%84%ED%82%A4%EB%B0%B1%EA%B3%BC:%EB%A9%B4%EC%B1%85_%EC%A1%B0%ED%95%AD', 1), ('https://www.mediawiki.org/wiki/Special:MyLanguage/How_to_contribute', 1), ('https://foundation.wikimedia.org/wiki/Cookie_statement', 1), ('https://ko.m.wikipedia.org/w/index.php?title=%EB%B0%95%EB%B3%B4%EC%98%81%EC%9D%98_%EC%9E%91%ED%92%88_%EB%AA%A9%EB%A1%9D&mobileaction=toggle_view_mobile', 1), ('https://wikimediafoundation.org/', 1), ('https://www.mediawiki.org/', 1)]\n"
     ]
    },
    {
     "ename": "TypeError",
     "evalue": "must be str, not int",
     "output_type": "error",
     "traceback": [
      "\u001b[1;31m---------------------------------------------------------------------------\u001b[0m",
      "\u001b[1;31mTypeError\u001b[0m                                 Traceback (most recent call last)",
      "\u001b[1;32m<ipython-input-83-8229d340fbc5>\u001b[0m in \u001b[0;36m<module>\u001b[1;34m\u001b[0m\n\u001b[0;32m     13\u001b[0m                      and _[0] not in seen ])\n\u001b[0;32m     14\u001b[0m \u001b[1;33m\u001b[0m\u001b[0m\n\u001b[1;32m---> 15\u001b[1;33m     \u001b[0mprint\u001b[0m\u001b[1;33m(\u001b[0m\u001b[1;34m\"{0} {1} [{2}]\"\u001b[0m\u001b[1;33m.\u001b[0m\u001b[0mformat\u001b[0m\u001b[1;33m(\u001b[0m\u001b[1;34m\">\"\u001b[0m\u001b[1;33m+\u001b[0m\u001b[0mlink\u001b[0m\u001b[1;33m[\u001b[0m\u001b[1;36m1\u001b[0m\u001b[1;33m]\u001b[0m\u001b[1;33m,\u001b[0m \u001b[0mlink\u001b[0m\u001b[1;33m[\u001b[0m\u001b[1;36m0\u001b[0m\u001b[1;33m]\u001b[0m\u001b[1;33m,\u001b[0m \u001b[0mlen\u001b[0m\u001b[1;33m(\u001b[0m\u001b[0mlinks\u001b[0m\u001b[1;33m)\u001b[0m\u001b[1;33m)\u001b[0m\u001b[1;33m)\u001b[0m\u001b[1;33m\u001b[0m\u001b[0m\n\u001b[0m",
      "\u001b[1;31mTypeError\u001b[0m: must be str, not int"
     ]
    }
   ],
   "source": [
    "# urlExtractor()\n",
    "# 큐가 더이상 없을때까지 돌릴 거\n",
    "while queue:\n",
    "    link = queue.pop(0)\n",
    "    seen.append(link[0])\n",
    "    \n",
    "#     time.sleep(random.randint(1,3))\n",
    "    print(link)\n",
    "    links = urlExtractor(link[0], link[1]\n",
    "    queueURL = [_[0] for _ in queue]\n",
    "    queue.extend([_ for _ in links if _[0] not in queueURL \\\n",
    "                     and _[0] not in seen ])\n",
    "    \n",
    "    print(\"{0} {1} [{2}]\".format(\">\"+link[1], link[0], len(links)))"
   ]
  },
  {
   "cell_type": "code",
   "execution_count": 64,
   "metadata": {},
   "outputs": [
    {
     "name": "stdout",
     "output_type": "stream",
     "text": [
      "https://ko.wikipedia.org/wiki/%EB%B0%95%EB%B3%B4%EC%98%81 1073\n",
      "https://ko.wikipedia.org/wiki/%EB%B0%95%EB%B3%B4%EC%98%81%EC%9D%98_%EC%9E%91%ED%92%88_%EB%AA%A9%EB%A1%9D 567\n",
      "https://namu.wiki/w/%EB%B0%95%EB%B3%B4%EC%98%81 1285\n",
      "https://www.msn.com/ko-kr/entertainment/news/%EB%B0%95%EB%B3%B4%EC%98%81-tvn-%EB%93%9C%EB%9D%BC%EB%A7%88-%EC%96%B4%EB%B9%84%EC%8A%A4-%EC%97%AC%EC%A3%BC%EC%9D%B8%EA%B3%B5/ar-BBLZzVh 59\n",
      "https://twitter.com/hashtag/%EB%B0%95%EB%B3%B4%EC%98%81 245\n",
      "https://www.hankyung.com/entertainment/article/201905030904H 195\n",
      "https://www.hankyung.com/entertainment/article/201905077647H 189\n",
      "https://www.mk.co.kr/star/hot-issues/view/2019/05/293931/ 336\n"
     ]
    }
   ],
   "source": [
    "for link in queue:\n",
    "    html = getDownload(link)\n",
    "    dom = BeautifulSoup(html.content, 'lxml')\n",
    "    print(link, len([_[\"href\"] for _ in dom.select(\"a\") if _.has_attr(\"href\")]))"
   ]
  },
  {
   "cell_type": "code",
   "execution_count": 57,
   "metadata": {},
   "outputs": [
    {
     "data": {
      "text/plain": [
       "ParseResult(scheme='https', netloc='ko.wikipedia.org', path='/wiki/%EB%B0%95%EB%B3%B4%EC%98%81', params='', query='', fragment='')"
      ]
     },
     "execution_count": 57,
     "metadata": {},
     "output_type": "execute_result"
    }
   ],
   "source": [
    "requests.compat.urlparse(queue[0])"
   ]
  },
  {
   "cell_type": "markdown",
   "metadata": {},
   "source": [
    "# 네이버 블로그만 크롤링하기"
   ]
  },
  {
   "cell_type": "code",
   "execution_count": 56,
   "metadata": {},
   "outputs": [
    {
     "data": {
      "text/plain": [
       "'blog.naver.com'"
      ]
     },
     "execution_count": 56,
     "metadata": {},
     "output_type": "execute_result"
    }
   ],
   "source": [
    "requests.compat.urlparse('https://blog.naver.com/search.naver?where=post&sm=tab_jum&query=%EB%B0%95%EB%B3%B4%EC%98%81')[1]"
   ]
  },
  {
   "cell_type": "code",
   "execution_count": null,
   "metadata": {},
   "outputs": [],
   "source": [
    "# 큐가 더이상 없을때까지 돌릴 거\n",
    "while queue:\n",
    "    seed = queue.pop(0)\n",
    "    seen.append(link[0])\n",
    "#     time.sleep(random.randint(1,3))\n",
    "    links = urlExtractor(link[0], link[1])\n",
    "    \n",
    "    queueURL = [_[0] for _ in queue]\n",
    "    queue.extend([_ for _ in links if _[0] not in queueURL \\\n",
    "                     and _ not in seen ])\n",
    "    \n",
    "    print(\"{0} {1} [{2}]\".format(\">\"+link[1], link[0], len(links)))"
   ]
  }
 ],
 "metadata": {
  "kernelspec": {
   "display_name": "Python 3",
   "language": "python",
   "name": "python3"
  },
  "language_info": {
   "codemirror_mode": {
    "name": "ipython",
    "version": 3
   },
   "file_extension": ".py",
   "mimetype": "text/x-python",
   "name": "python",
   "nbconvert_exporter": "python",
   "pygments_lexer": "ipython3",
   "version": "3.6.6"
  }
 },
 "nbformat": 4,
 "nbformat_minor": 2
}
