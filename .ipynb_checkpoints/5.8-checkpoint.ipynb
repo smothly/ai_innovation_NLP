{
 "cells": [
  {
   "cell_type": "markdown",
   "metadata": {},
   "source": [
    "# 오늘수업 : SCRAPING\n",
    "### crawling과 scraping의 차이점\n",
    "crawling은 웹페이지 전체를 다운로드 해야함, crawling 사이즈 큼, <br>\n",
    "scarping은 특정한 데이터만 가져옴, 특정부분만 추출해서 사용<br>"
   ]
  },
  {
   "cell_type": "markdown",
   "metadata": {},
   "source": [
    "# 전에 만들었던 다운로드 함수"
   ]
  },
  {
   "cell_type": "code",
   "execution_count": null,
   "metadata": {},
   "outputs": [],
   "source": [
    "from urllib import parse\n",
    "\n",
    "header = {'user-agent':'Mozilla/5.0 (Windows NT 10.0; Win64; x64) AppleWebKit/537.36 (KHTML, like Gecko) Chrome/73.0.3683.103 Safari/537.36'}\n",
    "\n",
    "def getDownload(url, params={}, retries=3):\n",
    "    resp = None\n",
    "    \n",
    "    try:\n",
    "        resp = requests.get(url, params=params, headers=header)\n",
    "        resp.raise_for_status()\n",
    "    except requests.exceptions.HTTPError as e:\n",
    "        if 500 <= e.response.status_code < 600 and retries > 0:\n",
    "            print(retries)\n",
    "            resp = getDownload(url, params, retries-1)\n",
    "        else:\n",
    "            print(e.response.status_code)\n",
    "            print(e.response.reason)\n",
    "            print(e.response.headers)\n",
    "            \n",
    "    return resp"
   ]
  },
  {
   "cell_type": "code",
   "execution_count": null,
   "metadata": {},
   "outputs": [],
   "source": [
    "import requests\n",
    "from bs4 import BeautifulSoup"
   ]
  },
  {
   "cell_type": "markdown",
   "metadata": {},
   "source": [
    "# 예제사이트로 scraping 하기"
   ]
  },
  {
   "cell_type": "code",
   "execution_count": null,
   "metadata": {},
   "outputs": [],
   "source": [
    "url = \"http://example.webscraping.com/places/default/index\"\n",
    "html = getDownload(url)\n",
    "dom = BeautifulSoup(html.content, 'lxml')"
   ]
  },
  {
   "cell_type": "markdown",
   "metadata": {},
   "source": [
    "### 국가명 가져오기"
   ]
  },
  {
   "cell_type": "code",
   "execution_count": null,
   "metadata": {},
   "outputs": [],
   "source": [
    "nationNameList = [_.text.strip() for _ in dom.select(\"#results a\")]"
   ]
  },
  {
   "cell_type": "markdown",
   "metadata": {},
   "source": [
    "### 이미지 가져오기"
   ]
  },
  {
   "cell_type": "code",
   "execution_count": null,
   "metadata": {},
   "outputs": [],
   "source": [
    "imgList = [requests.compat.urljoin(url, _[\"src\"]) for _ in dom.select(\"#results a > img\")]\n",
    "\n",
    "for src in imgList:\n",
    "    img = getDownload(src)\n",
    "    with open(src.split(\"/\")[-1], \"wb\") as f:\n",
    "        f.write(img.content)\n",
    "#     print(src.split)\n",
    "#     print(html.url)\n",
    "    print(img.headers[\"Content-Type\"].split('/')[0] == \"image\")     # content-type을 봐야함!!\n",
    "#     break"
   ]
  },
  {
   "cell_type": "markdown",
   "metadata": {},
   "source": [
    "### validator.w3.org/unicorn/ - 웹페이지 문법검사 페이지 : href 같은 속성이 누락되는 것 확인 해줘야 함"
   ]
  },
  {
   "cell_type": "markdown",
   "metadata": {},
   "source": [
    "# 뽐뿌 뽐뿌게시판 가져오기"
   ]
  },
  {
   "cell_type": "code",
   "execution_count": 128,
   "metadata": {},
   "outputs": [],
   "source": [
    "url = \"http://www.ppomppu.co.kr/zboard/zboard.php\"\n",
    "params = {\"id\":\"ppomppu\"}\n",
    "html = getDownload(url, params)"
   ]
  },
  {
   "cell_type": "markdown",
   "metadata": {},
   "source": [
    "### 인코딩 확인 필수"
   ]
  },
  {
   "cell_type": "code",
   "execution_count": 66,
   "metadata": {},
   "outputs": [
    {
     "data": {
      "text/plain": [
       "'euc-kr'"
      ]
     },
     "execution_count": 66,
     "metadata": {},
     "output_type": "execute_result"
    }
   ],
   "source": [
    "html.encoding"
   ]
  },
  {
   "cell_type": "code",
   "execution_count": 67,
   "metadata": {},
   "outputs": [
    {
     "data": {
      "text/plain": [
       "'<!DOCTYPE '"
      ]
     },
     "execution_count": 67,
     "metadata": {},
     "output_type": "execute_result"
    }
   ],
   "source": [
    "html.text[:10]"
   ]
  },
  {
   "cell_type": "markdown",
   "metadata": {},
   "source": [
    "### 바이트 받아서 스트링으로 바꿨다가 다시 바이트로 변환"
   ]
  },
  {
   "cell_type": "code",
   "execution_count": 76,
   "metadata": {},
   "outputs": [],
   "source": [
    "html = html.content.decode(\"euc-kr\", \"ignore\").encode(\"utf-8\").decode(\"utf-8\") "
   ]
  },
  {
   "cell_type": "markdown",
   "metadata": {},
   "source": [
    "## 뽐뿌사이트 게시판 가져오기"
   ]
  },
  {
   "cell_type": "code",
   "execution_count": 101,
   "metadata": {},
   "outputs": [],
   "source": [
    "dom = BeautifulSoup(html.content, \"lxml\")\n",
    "# 안되면 lxml -> html.parser"
   ]
  },
  {
   "cell_type": "code",
   "execution_count": 91,
   "metadata": {},
   "outputs": [
    {
     "data": {
      "text/plain": [
       "['(끌올) [옥션] 타타와 초콜릿 케잌쿠키 2BOX (8510원/무료)',\n",
       " '[인터파크]해외커클랜드 시그니처 푸어 허니 2.27kg/벌꿀 2개 (42,500/무료)',\n",
       " '[위메프] 착한리필 25L 10매(18,900원/무료배송) 최종혜택가 15,120원',\n",
       " '[옥션] 토니모리 올인원 에센스 120ml 1+1 (12,750/무배)',\n",
       " '[옥션] 다이나킹 R7 로봇청소기(299,000/무배)',\n",
       " '[옥션] 립톤 아이스티 복숭아 1500g + 콜드브루 컵 (스마일클럽만 7,800원/무료배송)',\n",
       " '[티몬] 순한칫솔 초극세모 4개입 외 10원품목들 (10/무료배송데이)',\n",
       " '[SKT 초콜릿] 컬쳐 105,000원권 (95,000/무료) - 계좌이체딜',\n",
       " '[위메프] 오뚜기 육개장 매운맛(용기)86g x 24개 (9,900원 무배)',\n",
       " '영화 배심원들 1+1 롯데시네마',\n",
       " '[지마켓] 버블플랍 균일가 4900원 2개구매시 1개 증정 (4900원/무료배송)',\n",
       " '[G마켓] (사료)고연어11.3키로(84.900/무료)',\n",
       " '[옥션] 천연사이다 190ml*60캔 (11,090/무배)',\n",
       " '[11번가] 소니 WF-SP700N 블루투스 이어폰 (119,000/무료)',\n",
       " '[위메프] 동원샘물 2L*18 (6,650원/무료배송)',\n",
       " '[위메프] 트리오 주방세제 14kg 슈퍼 대용량 (9,555원, 무료)']"
      ]
     },
     "execution_count": 91,
     "metadata": {},
     "output_type": "execute_result"
    }
   ],
   "source": [
    "[_.text.strip() for _ in dom.select(\".list_title\")]"
   ]
  },
  {
   "cell_type": "code",
   "execution_count": 139,
   "metadata": {},
   "outputs": [
    {
     "name": "stdout",
     "output_type": "stream",
     "text": [
      "아이템 개수 :  20\n",
      "{'name': '(끌올) [옥션] 타타와 초콜릿 케잌쿠키 2BOX (8510원/무료)', 'img': 'http://cdn.ppomppu.co.kr/zboard/data/_thumb/ppomppu/9/small_316729.jpg?t=20190508194258', 'url': 'http://www.ppomppu.co.kr/zboard/view.php?id=ppomppu&page=1&divpage=55&&no=316729', 'reg': '19:36:25', 'thumbsup': 2, 'thumbsdown': 0, 'hit': '781'}\n"
     ]
    }
   ],
   "source": [
    "itemList = list()\n",
    "# 행단위로 가져오기 위함 \n",
    "# 정규식 뜻 : tr에서 class가 list로 시작하는 애들\n",
    "for _ in dom.select(\"tr[class^='list']\")[1:]:\n",
    "    item = dict()\n",
    "#     tdList = _.select(\"td\")\n",
    "    tdList = _.find_all(\"td\", recursive=False)\n",
    "    item[\"name\"] = tdList[3].select_one(\"a > font\").text.strip()\n",
    "    item[\"img\"] = requests.compat.urljoin(url, \\\n",
    "                                          tdList[3].select_one(\"img.thumb_border\")[\"src\"]) # 이미지 경로\n",
    "    item[\"url\"] = requests.compat.urljoin(url, \\\n",
    "                                      tdList[3].select_one(\"img.thumb_border\").find_parent()[\"href\"]) # 상세페이지 경로\n",
    "    item[\"reg\"] = tdList[4].text.strip()\n",
    "    if len(tdList[5]) > 0:\n",
    "        thumbs = tdList[5].text.strip().split(\" - \")\n",
    "        item[\"thumbsup\"] = int(thumbs[0])\n",
    "        item[\"thumbsdown\"] = int(thumbs[1])\n",
    "    else:\n",
    "        item[\"thumbsup\"] = 0\n",
    "        item[\"thumbsdown\"] = 0\n",
    "    item[\"hit\"] = tdList[6].text.strip()\n",
    "    itemList.append(item)\n",
    "    \n",
    "    \n",
    "print(\"아이템 개수 : \", len(itemList))\n",
    "print(itemList[0])\n",
    "# itemList[0][\"name\"]\n",
    "# print(itemList[0][\"name\"])"
   ]
  },
  {
   "cell_type": "markdown",
   "metadata": {},
   "source": [
    "# 뽐뿌 자유게시판 가져오기"
   ]
  },
  {
   "cell_type": "code",
   "execution_count": 181,
   "metadata": {},
   "outputs": [],
   "source": [
    "url = \"http://www.ppomppu.co.kr/zboard/zboard.php\"\n",
    "params = {\"id\":\"freeboard\"}\n",
    "html = getDownload(url, params)"
   ]
  },
  {
   "cell_type": "code",
   "execution_count": 182,
   "metadata": {},
   "outputs": [],
   "source": [
    "dom = BeautifulSoup(html.content, \"lxml\")"
   ]
  },
  {
   "cell_type": "code",
   "execution_count": 215,
   "metadata": {},
   "outputs": [
    {
     "name": "stdout",
     "output_type": "stream",
     "text": [
      "제목 : 뽐뿌베팅 걸어봅니다.\n",
      "상세페이지 url : http://www.ppomppu.co.kr/zboard/view.php?id=freeboard&page=1&divpage=1202&no=6435666\n",
      "내용 : 네덜란드 시간으로 오후1시50분이네요.\n",
      "네덜란드 시간으로 오후9시가 되면 경기 시작합니다.\n",
      "과연 리버풀을 만날 결승 팀은 어디가 될까요?\n",
      "   \n",
      " \n",
      "결승진출 기준으로 뽐뿌베팅 걸어봅니다.\n"
     ]
    }
   ],
   "source": [
    "for _ in dom.select(\"font.list_title\")[1:]:\n",
    "    print(\"제목 :\", _.text.strip())\n",
    "    detail_url = requests.compat.urljoin(url, _.find_parent()[\"href\"])\n",
    "    print(\"상세페이지 url :\", detail_url)\n",
    "    html = getDownload(detail_url)\n",
    "    detail_dom = BeautifulSoup(html.content, \"lxml\")\n",
    "    \n",
    "    print(\"내용 :\", detail_dom.select_one(\".board-contents\").text.strip())\n",
    "    break\n",
    "\n",
    "# 안되면 1. parser upgrade => lxml\n",
    "#        2. html구조 확인"
   ]
  },
  {
   "cell_type": "code",
   "execution_count": 171,
   "metadata": {},
   "outputs": [
    {
     "ename": "AttributeError",
     "evalue": "'list' object has no attribute 'text'",
     "output_type": "error",
     "traceback": [
      "\u001b[1;31m---------------------------------------------------------------------------\u001b[0m",
      "\u001b[1;31mAttributeError\u001b[0m                            Traceback (most recent call last)",
      "\u001b[1;32m<ipython-input-171-bf1fe4e2b066>\u001b[0m in \u001b[0;36m<module>\u001b[1;34m\u001b[0m\n\u001b[0;32m      4\u001b[0m     \u001b[0mtdList\u001b[0m \u001b[1;33m=\u001b[0m \u001b[0m_\u001b[0m\u001b[1;33m.\u001b[0m\u001b[0mfind_all\u001b[0m\u001b[1;33m(\u001b[0m\u001b[1;34m\"td\"\u001b[0m\u001b[1;33m,\u001b[0m \u001b[0mrecursive\u001b[0m\u001b[1;33m=\u001b[0m\u001b[1;32mFalse\u001b[0m\u001b[1;33m)\u001b[0m\u001b[1;33m\u001b[0m\u001b[0m\n\u001b[0;32m      5\u001b[0m     \u001b[0mpost\u001b[0m \u001b[1;33m=\u001b[0m \u001b[0mdict\u001b[0m\u001b[1;33m(\u001b[0m\u001b[1;33m)\u001b[0m\u001b[1;33m\u001b[0m\u001b[0m\n\u001b[1;32m----> 6\u001b[1;33m     \u001b[0mpost\u001b[0m\u001b[1;33m[\u001b[0m\u001b[1;34m\"title\"\u001b[0m\u001b[1;33m]\u001b[0m \u001b[1;33m=\u001b[0m \u001b[0mtdList\u001b[0m\u001b[1;33m[\u001b[0m\u001b[1;36m2\u001b[0m\u001b[1;33m]\u001b[0m\u001b[1;33m.\u001b[0m\u001b[0mselect\u001b[0m\u001b[1;33m(\u001b[0m\u001b[1;34m\".list_title\"\u001b[0m\u001b[1;33m)\u001b[0m\u001b[1;33m.\u001b[0m\u001b[0mtext\u001b[0m\u001b[1;33m.\u001b[0m\u001b[0mstrip\u001b[0m\u001b[1;33m(\u001b[0m\u001b[1;33m)\u001b[0m\u001b[1;33m\u001b[0m\u001b[0m\n\u001b[0m\u001b[0;32m      7\u001b[0m     \u001b[0mprint\u001b[0m\u001b[1;33m(\u001b[0m\u001b[0mtdList\u001b[0m\u001b[1;33m[\u001b[0m\u001b[1;36m2\u001b[0m\u001b[1;33m]\u001b[0m\u001b[1;33m)\u001b[0m\u001b[1;33m\u001b[0m\u001b[0m\n\u001b[0;32m      8\u001b[0m \u001b[1;31m#     post[\"writer\"] = tdList[2].select_one(\".list_name\").text.strip()\u001b[0m\u001b[1;33m\u001b[0m\u001b[1;33m\u001b[0m\u001b[0m\n",
      "\u001b[1;31mAttributeError\u001b[0m: 'list' object has no attribute 'text'"
     ]
    }
   ],
   "source": [
    "postList = list()\n",
    "\n",
    "for _ in dom.select(\"tr[class^='list']\")[1:]:\n",
    "    tdList = _.find_all(\"td\", recursive=False)\n",
    "    post = dict()\n",
    "    post[\"title\"] = tdList[2].select_one(\".list_title\").text.strip()\n",
    "    print(tdList[2])\n",
    "#     post[\"writer\"] = tdList[2].select_one(\".list_name\").text.strip()\n",
    "    \n",
    "#     print(_)class=\"list_name\"\n",
    "    break\n",
    "\n",
    "    "
   ]
  },
  {
   "cell_type": "code",
   "execution_count": null,
   "metadata": {},
   "outputs": [],
   "source": []
  }
 ],
 "metadata": {
  "kernelspec": {
   "display_name": "Python 3",
   "language": "python",
   "name": "python3"
  },
  "language_info": {
   "codemirror_mode": {
    "name": "ipython",
    "version": 3
   },
   "file_extension": ".py",
   "mimetype": "text/x-python",
   "name": "python",
   "nbconvert_exporter": "python",
   "pygments_lexer": "ipython3",
   "version": "3.6.6"
  }
 },
 "nbformat": 4,
 "nbformat_minor": 2
}
