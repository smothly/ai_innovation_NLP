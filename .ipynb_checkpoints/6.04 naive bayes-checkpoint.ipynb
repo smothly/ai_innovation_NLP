{
 "cells": [
  {
   "cell_type": "markdown",
   "metadata": {},
   "source": [
    "# 6.04\n",
    "## 조건부확률 P(A, B)/P(B) = P(A|B)\n",
    "### 결합확률을 알면 개별확률, 조건부 확률 둘다 찾을 수 있다.\n",
    "## 결합확률을 어떻게 구할거냐면 chain rule 적용해서 P(A|B, C,.. Z)P(B|C ... Z) ...\n",
    "## NAIVE BAYES\n",
    "## Bayes Theorm\n",
    "## mle는 경험만 가지고 측정한다. 사전확률을 추가해서 map로 "
   ]
  },
  {
   "cell_type": "code",
   "execution_count": 51,
   "metadata": {},
   "outputs": [],
   "source": [
    "trainingData =[\n",
    "    (1, \"Chinese Beijing Chinese\", True),\n",
    "    (2, \"Chinese Chinese Shanhai\", True),\n",
    "    (3, \"Chinese Macao\", True),\n",
    "    (4, \"Tokyo Japan Chinese\", False)\n",
    "]\n",
    "\n",
    "testingData = (5, \" Chinese Tokyo Japan\")"
   ]
  },
  {
   "cell_type": "code",
   "execution_count": 52,
   "metadata": {},
   "outputs": [
    {
     "data": {
      "text/plain": [
       "['chinese', 'shanhai', 'tokyo', 'macao', 'japan', 'beijing']"
      ]
     },
     "execution_count": 52,
     "metadata": {},
     "output_type": "execute_result"
    }
   ],
   "source": [
    "V = list(set(([term for _ in trainingData\n",
    "        for term in _[1].lower().split()])))\n",
    "V"
   ]
  },
  {
   "cell_type": "code",
   "execution_count": 53,
   "metadata": {},
   "outputs": [
    {
     "data": {
      "text/plain": [
       "4"
      ]
     },
     "execution_count": 53,
     "metadata": {},
     "output_type": "execute_result"
    }
   ],
   "source": [
    "N = len(trainingData)\n",
    "N"
   ]
  },
  {
   "cell_type": "code",
   "execution_count": 54,
   "metadata": {},
   "outputs": [],
   "source": [
    "trueData = [_ for _ in trainingData if _[2]]\n",
    "falseData = [_ for _ in trainingData if not _[2]]"
   ]
  },
  {
   "cell_type": "code",
   "execution_count": 55,
   "metadata": {},
   "outputs": [],
   "source": [
    "from collections import defaultdict\n",
    "\n",
    "prior = list()\n",
    "\n",
    "        \n",
    "Tct = defaultdict(int)\n",
    "for data in trueData:  \n",
    "    Nc = len(trueData)\n",
    "    PriorC = Nc/N\n",
    "    for term in data[1].lower().split():\n",
    "        Tct[term] += 1\n",
    "\n",
    "_Tct = defaultdict(int)\n",
    "for data in falseData:  \n",
    "    _Nc = len(falseData)\n",
    "    _PriorC = _Nc/N\n",
    "    for term in data[1].lower().split():\n",
    "        _Tct[term] += 1"
   ]
  },
  {
   "cell_type": "code",
   "execution_count": 56,
   "metadata": {},
   "outputs": [
    {
     "data": {
      "text/plain": [
       "defaultdict(int, {'chinese': 5, 'beijing': 1, 'shanhai': 1, 'macao': 1})"
      ]
     },
     "execution_count": 56,
     "metadata": {},
     "output_type": "execute_result"
    }
   ],
   "source": [
    "Tct"
   ]
  },
  {
   "cell_type": "code",
   "execution_count": 57,
   "metadata": {},
   "outputs": [],
   "source": [
    "condProbC = defaultdict(float)\n",
    "_condProbC = defaultdict(float)\n",
    "\n",
    "countSum = sum(Tct.values())\n",
    "_countSum = sum(_Tct.values())\n",
    "\n",
    "for term, freq in Tct.items():\n",
    "    condProbC[term] = (freq+1)/(countSum + len(V))\n",
    "\n",
    "for term, freq in _Tct.items():\n",
    "    _condProbC[term] = (freq+1)/(_countSum + len(V))"
   ]
  },
  {
   "cell_type": "code",
   "execution_count": 58,
   "metadata": {},
   "outputs": [
    {
     "data": {
      "text/plain": [
       "(8, 3)"
      ]
     },
     "execution_count": 58,
     "metadata": {},
     "output_type": "execute_result"
    }
   ],
   "source": [
    "countSum, _countSum"
   ]
  },
  {
   "cell_type": "code",
   "execution_count": 59,
   "metadata": {},
   "outputs": [
    {
     "data": {
      "text/plain": [
       "(defaultdict(float,\n",
       "             {'chinese': 0.42857142857142855,\n",
       "              'beijing': 0.14285714285714285,\n",
       "              'shanhai': 0.14285714285714285,\n",
       "              'macao': 0.14285714285714285}),\n",
       " defaultdict(float,\n",
       "             {'tokyo': 0.2222222222222222,\n",
       "              'japan': 0.2222222222222222,\n",
       "              'chinese': 0.2222222222222222}))"
      ]
     },
     "execution_count": 59,
     "metadata": {},
     "output_type": "execute_result"
    }
   ],
   "source": [
    "condProbC, _condProbC"
   ]
  },
  {
   "cell_type": "code",
   "execution_count": 60,
   "metadata": {},
   "outputs": [
    {
     "name": "stdout",
     "output_type": "stream",
     "text": [
      "False -5.898526551448713 0.0027434842249657062\n"
     ]
    }
   ],
   "source": [
    "# P(C)multi(P(Tct|C)) ===> log(P(C)) + SUM(P(Tct|C))\n",
    "from math import log, exp\n",
    "\n",
    "# Prior Probability\n",
    "result = log(PriorC)\n",
    "_result = log(_PriorC)\n",
    "\n",
    "# joint probability => conditional independence\n",
    "for term in testingData[1].lower().split():\n",
    "    # multi -> log sum\n",
    "    result += log((Tct[term]+1)/(countSum+len(V)))\n",
    "    _result += log((_Tct[term]+1)/(_countSum+len(V)))\n",
    "\n",
    "# optimal classfier\n",
    "if result > _result:\n",
    "    print(\"True\", result, exp(result))\n",
    "else:\n",
    "    print(\"False\", _result, exp(_result))"
   ]
  },
  {
   "cell_type": "code",
   "execution_count": 61,
   "metadata": {},
   "outputs": [
    {
     "data": {
      "text/plain": [
       "(0.42857142857142855, 0.2222222222222222, 0.2222222222222222)"
      ]
     },
     "execution_count": 61,
     "metadata": {},
     "output_type": "execute_result"
    }
   ],
   "source": [
    "condProbC[\"chinese\"], _condProbC[\"chinese\"], _condProbC[\"tokyo\"] "
   ]
  },
  {
   "cell_type": "code",
   "execution_count": null,
   "metadata": {},
   "outputs": [],
   "source": []
  },
  {
   "cell_type": "code",
   "execution_count": null,
   "metadata": {},
   "outputs": [],
   "source": []
  }
 ],
 "metadata": {
  "kernelspec": {
   "display_name": "Python 3",
   "language": "python",
   "name": "python3"
  },
  "language_info": {
   "codemirror_mode": {
    "name": "ipython",
    "version": 3
   },
   "file_extension": ".py",
   "mimetype": "text/x-python",
   "name": "python",
   "nbconvert_exporter": "python",
   "pygments_lexer": "ipython3",
   "version": "3.6.6"
  }
 },
 "nbformat": 4,
 "nbformat_minor": 2
}
