{
 "cells": [
  {
   "cell_type": "code",
   "execution_count": 1,
   "metadata": {},
   "outputs": [
    {
     "data": {
      "text/plain": [
       "{'web-servers': ['Google Web Server']}"
      ]
     },
     "execution_count": 1,
     "metadata": {},
     "output_type": "execute_result"
    }
   ],
   "source": [
    "from builtwith import builtwith\n",
    "\n",
    "builtwith('http://www.google.com')"
   ]
  },
  {
   "cell_type": "code",
   "execution_count": 2,
   "metadata": {},
   "outputs": [
    {
     "data": {
      "text/plain": [
       "{'domain_name': ['NAVER.COM', 'naver.com'],\n",
       " 'registrar': 'Gabia, Inc.',\n",
       " 'whois_server': 'whois.gabia.com',\n",
       " 'referral_url': None,\n",
       " 'updated_date': [datetime.datetime(2016, 8, 5, 6, 37, 57),\n",
       "  datetime.datetime(2018, 2, 28, 11, 27, 15)],\n",
       " 'creation_date': [datetime.datetime(1997, 9, 12, 4, 0),\n",
       "  datetime.datetime(1997, 9, 12, 0, 0)],\n",
       " 'expiration_date': [datetime.datetime(2023, 9, 11, 4, 0),\n",
       "  datetime.datetime(2023, 9, 11, 0, 0)],\n",
       " 'name_servers': ['NS1.NAVER.COM',\n",
       "  'NS2.NAVER.COM',\n",
       "  'ns1.naver.com',\n",
       "  'ns2.naver.com'],\n",
       " 'status': ['clientDeleteProhibited https://icann.org/epp#clientDeleteProhibited',\n",
       "  'clientTransferProhibited https://icann.org/epp#clientTransferProhibited',\n",
       "  'clientUpdateProhibited https://icann.org/epp#clientUpdateProhibited',\n",
       "  'ok https://icann.org/epp#ok'],\n",
       " 'emails': ['white.4818@navercorp.com',\n",
       "  'dl_ssl@navercorp.com',\n",
       "  'abuse@gabia.com'],\n",
       " 'dnssec': 'unsigned',\n",
       " 'name': 'NAVER Corp.',\n",
       " 'org': 'NAVER Corp.',\n",
       " 'address': '6 Buljung-ro, Bundang-gu, Seongnam-si, Gyeonggi-do, 463-867, Korea',\n",
       " 'city': 'Gyeonggi',\n",
       " 'state': None,\n",
       " 'zipcode': '463463',\n",
       " 'country': 'KR'}"
      ]
     },
     "execution_count": 2,
     "metadata": {},
     "output_type": "execute_result"
    }
   ],
   "source": [
    "from whois import whois\n",
    "\n",
    "whois('http://www.naver.com')"
   ]
  },
  {
   "cell_type": "code",
   "execution_count": 3,
   "metadata": {},
   "outputs": [
    {
     "data": {
      "text/plain": [
       "False"
      ]
     },
     "execution_count": 3,
     "metadata": {},
     "output_type": "execute_result"
    }
   ],
   "source": [
    "from urllib import robotparser\n",
    "\n",
    "parser = robotparser.RobotFileParser()\n",
    "parser.set_url('http://www.google.com/robots.txt')\n",
    "parser.read()\n",
    "parser.can_fetch('*', '/?h1=') "
   ]
  },
  {
   "cell_type": "code",
   "execution_count": 4,
   "metadata": {},
   "outputs": [
    {
     "data": {
      "text/plain": [
       "True"
      ]
     },
     "execution_count": 4,
     "metadata": {},
     "output_type": "execute_result"
    }
   ],
   "source": [
    "parser = robotparser.RobotFileParser()\n",
    "parser.set_url('http://cafe.naver.com/robots.txt')\n",
    "parser.read()\n",
    "parser.can_fetch('*', '/starbuckgossip')"
   ]
  },
  {
   "cell_type": "code",
   "execution_count": null,
   "metadata": {},
   "outputs": [],
   "source": []
  }
 ],
 "metadata": {
  "kernelspec": {
   "display_name": "Python 3",
   "language": "python",
   "name": "python3"
  },
  "language_info": {
   "codemirror_mode": {
    "name": "ipython",
    "version": 3
   },
   "file_extension": ".py",
   "mimetype": "text/x-python",
   "name": "python",
   "nbconvert_exporter": "python",
   "pygments_lexer": "ipython3",
   "version": "3.6.6"
  }
 },
 "nbformat": 4,
 "nbformat_minor": 2
}
