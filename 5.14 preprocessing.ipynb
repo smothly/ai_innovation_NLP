{
 "cells": [
  {
   "cell_type": "markdown",
   "metadata": {},
   "source": [
    "# 5.14 자연어분석 전처리\n",
    "### 형태소 분석 - 문장을 형태소로 품사부착!\n",
    "### 구문 분석 - 주어 목적어 서술어와 같은 구문단위를 찾음\n",
    "### 의미분석 - 문장이 의미적으로 올바른 문장인지를 판단\n",
    "### 담론분석 - 대화 흐름상 어떤 의미를 가지는지를 찾음\n",
    "### 일단 형태소 분석 - 영어는 stemming 우리나라는 형태소 분석"
   ]
  },
  {
   "cell_type": "markdown",
   "metadata": {},
   "source": [
    "# KONLPY 설치 : JDK 설치 - JPype 설치 - KoNlPy설치\n",
    "### 설치 후 테스트"
   ]
  },
  {
   "cell_type": "code",
   "execution_count": 1,
   "metadata": {},
   "outputs": [],
   "source": [
    "from konlpy.tag import Kkma\n",
    "\n",
    "Kkma().pos(\"아버지가 방에 들어가신다.\")"
   ]
  },
  {
   "cell_type": "markdown",
   "metadata": {},
   "source": [
    "### corpus 보기"
   ]
  },
  {
   "cell_type": "code",
   "execution_count": 6,
   "metadata": {},
   "outputs": [
    {
     "data": {
      "text/plain": [
       "['1809890.txt',\n",
       " '1809891.txt',\n",
       " '1809892.txt',\n",
       " '1809893.txt',\n",
       " '1809894.txt',\n",
       " '1809895.txt',\n",
       " '1809896.txt',\n",
       " '1809897.txt',\n",
       " '1809898.txt',\n",
       " '1809899.txt']"
      ]
     },
     "execution_count": 6,
     "metadata": {},
     "output_type": "execute_result"
    }
   ],
   "source": [
    "from konlpy.corpus import kolaw, kobill\n",
    "kolaw.fileids()\n",
    "kobill.fileids()"
   ]
  },
  {
   "cell_type": "code",
   "execution_count": 15,
   "metadata": {},
   "outputs": [
    {
     "name": "stdout",
     "output_type": "stream",
     "text": [
      "어절 개수 : 4178\n",
      "줄 개수 : 356\n"
     ]
    }
   ],
   "source": [
    "corpus = kolaw.open(kolaw.fileids()[0]).read()\n",
    "print('어절 개수 :',len(corpus.split())) # 100만어절 정도부터 시작 1000만어절 1억절이 되야 실험할정도가 됨\n",
    "print('줄 개수 :', len(corpus.splitlines())) # 몇 라인인지 보는거 "
   ]
  },
  {
   "cell_type": "markdown",
   "metadata": {},
   "source": [
    "### 문단 -> 문장(split) => tokenize -> 어절(word) tokenize\n",
    "### -+=!@#$%^; ',' => 구두점 -> puctuation"
   ]
  },
  {
   "cell_type": "code",
   "execution_count": 22,
   "metadata": {},
   "outputs": [],
   "source": [
    "from nltk.corpus import brown,  # 기본서 brown\n",
    "len(brown.fileids()) # tagged corpus 품사 부착된 말뭉치\n",
    "corpus = brown.open(brown.fileids()[0]).read()"
   ]
  },
  {
   "cell_type": "code",
   "execution_count": 23,
   "metadata": {},
   "outputs": [
    {
     "data": {
      "text/plain": [
       "(2242, 238)"
      ]
     },
     "execution_count": 23,
     "metadata": {},
     "output_type": "execute_result"
    }
   ],
   "source": [
    "len(corpus.split()), len(corpus.splitlines())"
   ]
  },
  {
   "cell_type": "code",
   "execution_count": 26,
   "metadata": {},
   "outputs": [
    {
     "data": {
      "text/plain": [
       "['The/at', 'Fulton/np-tl']"
      ]
     },
     "execution_count": 26,
     "metadata": {},
     "output_type": "execute_result"
    }
   ],
   "source": [
    "corpus.split()[:2]"
   ]
  },
  {
   "cell_type": "markdown",
   "metadata": {},
   "source": [
    "### nltk 다운로드"
   ]
  },
  {
   "cell_type": "code",
   "execution_count": 33,
   "metadata": {},
   "outputs": [
    {
     "name": "stdout",
     "output_type": "stream",
     "text": [
      "[nltk_data] Downloading package brown to\n",
      "[nltk_data]     C:\\Users\\USER\\AppData\\Roaming\\nltk_data...\n",
      "[nltk_data]   Package brown is already up-to-date!\n",
      "[nltk_data] Downloading package gutenberg to\n",
      "[nltk_data]     C:\\Users\\USER\\AppData\\Roaming\\nltk_data...\n",
      "[nltk_data]   Package gutenberg is already up-to-date!\n",
      "[nltk_data] Downloading package punkt to\n",
      "[nltk_data]     C:\\Users\\USER\\AppData\\Roaming\\nltk_data...\n",
      "[nltk_data]   Package punkt is already up-to-date!\n",
      "[nltk_data] Downloading package stopwords to\n",
      "[nltk_data]     C:\\Users\\USER\\AppData\\Roaming\\nltk_data...\n",
      "[nltk_data]   Package stopwords is already up-to-date!\n"
     ]
    },
    {
     "data": {
      "text/plain": [
       "True"
      ]
     },
     "execution_count": 33,
     "metadata": {},
     "output_type": "execute_result"
    }
   ],
   "source": [
    "import nltk\n",
    "nltk.download(\"brown\")\n",
    "nltk.download(\"gutenberg\")\n",
    "nltk.download(\"punkt\")\n",
    "nltk.download(\"stopwords\")"
   ]
  },
  {
   "cell_type": "code",
   "execution_count": 39,
   "metadata": {},
   "outputs": [
    {
     "data": {
      "text/plain": [
       "(31, 25)"
      ]
     },
     "execution_count": 39,
     "metadata": {},
     "output_type": "execute_result"
    }
   ],
   "source": [
    "from nltk.tokenize import sent_tokenize, word_tokenize, TweetTokenizer #문장, 딘아, 트윗터토크나이저(감정 표현에 많이 쓰임)\n",
    "\n",
    "sentences = sent_tokenize(corpus)\n",
    "tokens = terms = word_tokenize(sentences[0])\n",
    "len(tokens), len(sentences[0].split()) # 서로 다름 우리는 언어학에 기초한 라이브러리들을 사용해야함"
   ]
  },
  {
   "cell_type": "code",
   "execution_count": 40,
   "metadata": {},
   "outputs": [
    {
     "data": {
      "text/plain": [
       "['The/at',\n",
       " 'Fulton/np-tl',\n",
       " 'County/nn-tl',\n",
       " 'Grand/jj-tl',\n",
       " 'Jury/nn-tl',\n",
       " 'said/vbd',\n",
       " 'Friday/nr',\n",
       " 'an/at',\n",
       " 'investigation/nn',\n",
       " 'of/in',\n",
       " \"Atlanta's/np\",\n",
       " '$',\n",
       " 'recent/jj',\n",
       " 'primary/nn',\n",
       " 'election/nn',\n",
       " 'produced/vbd',\n",
       " '``',\n",
       " '/',\n",
       " '``',\n",
       " 'no/at',\n",
       " 'evidence/nn',\n",
       " '``',\n",
       " '/',\n",
       " \"''\",\n",
       " 'that/cs',\n",
       " 'any/dti',\n",
       " 'irregularities/nns',\n",
       " 'took/vbd',\n",
       " 'place/nn',\n",
       " './',\n",
       " '.']"
      ]
     },
     "execution_count": 40,
     "metadata": {},
     "output_type": "execute_result"
    }
   ],
   "source": [
    "tokens"
   ]
  },
  {
   "cell_type": "code",
   "execution_count": 159,
   "metadata": {},
   "outputs": [],
   "source": [
    "corpus = \"\"\"\n",
    "경기지역 버스 노조가 15일 파업을 예고한 가운데, 경기도가 일반 시내버스와 직행좌석버스의 요금을 각각 200원, 400원 인상하기로 전격 결정했다. 주 52시간제 시행에 따른 인력충원과 임금 보전 문제 등을 놓고 협상을 벌여온 버스 노동자와 버스 업체 간 합의 가능성이 커진 셈이다.\n",
    " \n",
    "이재명 경기도지사는 14일 오후 서울 여의도 더불어민주당사에서 이해찬 민주당 대표, 김현미 국토교통부 장관과 만난 뒤, 이같이 합의했다고 밝혔다.\n",
    " \n",
    "이재명 지사는 브리핑에서 \"경기도 버스 요금을 인상할 수밖에 없다\"며 \"지금 상태로 계속 갈 경우 결국 대규모 감차 운행이나 배차 축소로 인한 도민들의 교통 불편이 극심하게 될 가능성이 크고, 사회적으로 여러 가지 심각한 문제들이 예상되기 때문\"이라고 설명했다.\n",
    " \n",
    "이 지사는 이어 \"버스 파업을 앞두고 있고, 주 52시간제 정착이나 근로시간 단축, 운행조건 개선을 통한 도민의 안전확보가 시급한 과제인데, 해결 방법이 참으로 마땅치 않다\"며 안타까워했다.\n",
    "\n",
    "9월부터 인상 적용... 정부, 광역버스 업무 국가사무로 이관\n",
    " \n",
    "구체적인 내용을 보면, 경기도는 오는 9월께부터 일반 시내버스 요금을 현행 1250원에서 1450원으로, 직행좌석버스 요금을 2400원에서 2800원으로 각각 인상키로 했다. 버스요금을 인상하라고 꾸준히 압박해 온 정부의 요구를 사실상 경기도가 수용한 것이다. \n",
    "\n",
    "대신, 정부는 광역버스 업무를 국가사무로 이관해야 한다는 경기도의 요구를 받아들였다. 정부는 또 버스 공영차고지, 격지 노선 등을 정부의 국고 보조금 지원 대상으로 전환, 지방자치단체의 부담을 덜어주기로 했다. \n",
    "\"\"\""
   ]
  },
  {
   "cell_type": "markdown",
   "metadata": {},
   "source": [
    "### nltk는 영어 기준이라 한글이 어떻게 짤리는지 봐야함\n",
    "### 식량을 => 구두점 + 식량 + 어미면 식량이 중요한 부분이다를 판단해야함"
   ]
  },
  {
   "cell_type": "code",
   "execution_count": 160,
   "metadata": {},
   "outputs": [
    {
     "data": {
      "text/plain": [
       "(216, 183)"
      ]
     },
     "execution_count": 160,
     "metadata": {},
     "output_type": "execute_result"
    }
   ],
   "source": [
    "setences = sent_tokenize(corpus)\n",
    "len(sentences), len(corpus.splitlines())\n",
    "len(word_tokenize(corpus)), len(corpus.split())"
   ]
  },
  {
   "cell_type": "code",
   "execution_count": 161,
   "metadata": {},
   "outputs": [],
   "source": [
    "from nltk.tokenize import regexp_tokenize"
   ]
  },
  {
   "cell_type": "code",
   "execution_count": 162,
   "metadata": {},
   "outputs": [
    {
     "data": {
      "text/plain": [
       "['오늘은.', '화요일입니다.!', ':) ;( ㅠㅠ']"
      ]
     },
     "execution_count": 162,
     "metadata": {},
     "output_type": "execute_result"
    }
   ],
   "source": [
    "# Bag of words / one-hot encoding -> sparse representation -> vector\n",
    "# 모두가 독립이기 때문에 모두다 feature이다\n",
    "sent_tokenize(\"오늘은. 화요일입니다.! :) ;( ㅠㅠ\") # 문장"
   ]
  },
  {
   "cell_type": "code",
   "execution_count": 163,
   "metadata": {},
   "outputs": [
    {
     "data": {
      "text/plain": [
       "['오늘은', '.', '화요일입니다.', '!', ':', ')', ';', '(', 'ㅠㅠ']"
      ]
     },
     "execution_count": 163,
     "metadata": {},
     "output_type": "execute_result"
    }
   ],
   "source": [
    "word_tokenize(\"오늘은. 화요일입니다.! :) ;( ㅠㅠ\", preserve_line=False) # 어절"
   ]
  },
  {
   "cell_type": "code",
   "execution_count": 164,
   "metadata": {},
   "outputs": [
    {
     "data": {
      "text/plain": [
       "['오늘은', '.', '화요일입니다', '.', '!', ':)', ';(', 'ㅠㅠ']"
      ]
     },
     "execution_count": 164,
     "metadata": {},
     "output_type": "execute_result"
    }
   ],
   "source": [
    "TweetTokenizer().tokenize(\"오늘은. 화요일입니다.! :) ;( ㅠㅠ\") # 트윗어절"
   ]
  },
  {
   "cell_type": "code",
   "execution_count": 165,
   "metadata": {},
   "outputs": [
    {
     "data": {
      "text/plain": [
       "['^^', 'ㅠㅠ']"
      ]
     },
     "execution_count": 165,
     "metadata": {},
     "output_type": "execute_result"
    }
   ],
   "source": [
    "regexp_tokenize(\"오늘은. ^^화요일입니다.! :) ;( ㅠㅠ\", r\"\\^\\^|ㅠㅠ\") # 정규식표현으로 써준친구만 추출함"
   ]
  },
  {
   "cell_type": "code",
   "execution_count": 166,
   "metadata": {},
   "outputs": [],
   "source": [
    "from nltk.corpus import gutenberg\n",
    "corpus = gutenberg.open(gutenberg.fileids()[0]).read()"
   ]
  },
  {
   "cell_type": "code",
   "execution_count": 167,
   "metadata": {},
   "outputs": [
    {
     "data": {
      "text/plain": [
       "\"She was the youngest of the two daughters of a most affectionate,\\nindulgent father; and had, in consequence of her sister's marriage,\\nbeen mistress of his house from a very early period.\""
      ]
     },
     "execution_count": 167,
     "metadata": {},
     "output_type": "execute_result"
    }
   ],
   "source": [
    "sentences = sent_tokenize(corpus)\n",
    "sentences[1]"
   ]
  },
  {
   "cell_type": "markdown",
   "metadata": {},
   "source": [
    "### 정규식 표현으로 tokenize 하기"
   ]
  },
  {
   "cell_type": "code",
   "execution_count": 168,
   "metadata": {},
   "outputs": [
    {
     "data": {
      "text/plain": [
       "['She',\n",
       " 'was',\n",
       " 'the',\n",
       " 'youngest',\n",
       " 'of',\n",
       " 'the',\n",
       " 'two',\n",
       " 'daughters',\n",
       " 'of',\n",
       " 'a',\n",
       " 'most',\n",
       " 'affectionate',\n",
       " 'indulgent',\n",
       " 'father',\n",
       " 'and',\n",
       " 'had',\n",
       " 'in',\n",
       " 'consequence',\n",
       " 'of',\n",
       " 'her',\n",
       " 'sister',\n",
       " 's',\n",
       " 'marriage',\n",
       " 'been',\n",
       " 'mistress',\n",
       " 'of',\n",
       " 'his',\n",
       " 'house',\n",
       " 'from',\n",
       " 'a',\n",
       " 'very',\n",
       " 'early',\n",
       " 'period']"
      ]
     },
     "execution_count": 168,
     "metadata": {},
     "output_type": "execute_result"
    }
   ],
   "source": [
    "# [12345] => 저중에 1개\n",
    "# 영어 소문자와 대문자로만 이루어진 토큰을 뽑겠다\n",
    "pattern = r\"([A-Za-z]+)\"\n",
    "# pattern = r\"([A-Za-z]{2})\"\n",
    "# 한글\n",
    "# pattern = r\"([ㄱ-ㅎㅏ-ㅣ가-힣]+)\"\n",
    "regexp_tokenize(sentences[1], pattern)"
   ]
  },
  {
   "cell_type": "markdown",
   "metadata": {},
   "source": [
    "# 지프의 법칙\n",
    "## 어떤 문서에서 어떤 단어가 많이 나오면 그 단어는 중요하지 않다! - 반비례 관계 => 불용어 처리 해야함\n",
    "## 단어:빈도 -> 순위"
   ]
  },
  {
   "cell_type": "code",
   "execution_count": 169,
   "metadata": {},
   "outputs": [],
   "source": [
    "from nltk import Text\n",
    "# from nltk.collections\n",
    "\n",
    "textObj = Text(word_tokenize(corpus))"
   ]
  },
  {
   "cell_type": "code",
   "execution_count": 170,
   "metadata": {},
   "outputs": [
    {
     "data": {
      "text/plain": [
       "(191785,\n",
       " 8406,\n",
       " FreqDist({',': 12016, '.': 6355, 'to': 5125, 'the': 4844, 'and': 4653, 'of': 4272, 'I': 3177, '--': 3100, 'a': 3001, \"''\": 2452, ...}))"
      ]
     },
     "execution_count": 170,
     "metadata": {},
     "output_type": "execute_result"
    }
   ],
   "source": [
    "len(textObj), len(set(textObj)), textObj.vocab()"
   ]
  },
  {
   "cell_type": "code",
   "execution_count": 171,
   "metadata": {},
   "outputs": [
    {
     "data": {
      "image/png": "[encoded data removed]",
      "text/plain": [
       "<Figure size 432x288 with 1 Axes>"
      ]
     },
     "metadata": {
      "needs_background": "light"
     },
     "output_type": "display_data"
    }
   ],
   "source": [
    "textObj.plot(20)"
   ]
  },
  {
   "cell_type": "code",
   "execution_count": 172,
   "metadata": {},
   "outputs": [],
   "source": [
    "from konlpy.corpus import kolaw\n",
    "corpus = kolaw.open(kolaw.fileids()[0]).read()"
   ]
  },
  {
   "cell_type": "markdown",
   "metadata": {},
   "source": [
    "### matplotlib 한글설정"
   ]
  },
  {
   "cell_type": "code",
   "execution_count": 181,
   "metadata": {},
   "outputs": [],
   "source": [
    "from matplotlib import rc, font_manager\n",
    "path = \"c:/Windows/Fonts/NanumGothic.ttf\"\n",
    "font = font_manager.FontProperties(fname=path).get_name()\n",
    "rc(\"font\", family=font)"
   ]
  },
  {
   "cell_type": "code",
   "execution_count": 182,
   "metadata": {},
   "outputs": [
    {
     "data": {
      "image/png": "[encoded data removed]",
      "text/plain": [
       "<Figure size 432x288 with 1 Axes>"
      ]
     },
     "metadata": {
      "needs_background": "light"
     },
     "output_type": "display_data"
    }
   ],
   "source": [
    "textObj = Text(word_tokenize(corpus))\n",
    "textObj.plot(20)"
   ]
  },
  {
   "cell_type": "markdown",
   "metadata": {},
   "source": [
    "# 저장한 뉴스기사로 파일읽기"
   ]
  },
  {
   "cell_type": "code",
   "execution_count": 200,
   "metadata": {},
   "outputs": [],
   "source": [
    "import os\n",
    "\n",
    "base = \"./news_crawl_project/\"\n",
    "for _ in os.listdir(base):\n",
    "    with open(base + _, encoding='utf-8') as fp:\n",
    "        corpus += fp.read()\n",
    "        "
   ]
  },
  {
   "cell_type": "code",
   "execution_count": 201,
   "metadata": {},
   "outputs": [
    {
     "data": {
      "text/plain": [
       "604979"
      ]
     },
     "execution_count": 201,
     "metadata": {},
     "output_type": "execute_result"
    }
   ],
   "source": [
    "len(corpus.split())"
   ]
  },
  {
   "cell_type": "code",
   "execution_count": 202,
   "metadata": {},
   "outputs": [],
   "source": [
    "textObj = Text(word_tokenize(corpus))"
   ]
  },
  {
   "cell_type": "code",
   "execution_count": 203,
   "metadata": {},
   "outputs": [
    {
     "data": {
      "text/plain": [
       "(782947,\n",
       " 105194,\n",
       " FreqDist({'.': 24111, ',': 23441, ')': 19837, '(': 19813, \"''\": 8295, '``': 7048, ';': 6392, 'to': 5130, 'the': 4863, 'and': 4668, ...}))"
      ]
     },
     "execution_count": 203,
     "metadata": {},
     "output_type": "execute_result"
    }
   ],
   "source": [
    "len(textObj), len(set(textObj)), textObj.vocab()"
   ]
  },
  {
   "cell_type": "code",
   "execution_count": 204,
   "metadata": {},
   "outputs": [
    {
     "data": {
      "text/plain": [
       "[('.', 24111),\n",
       " (',', 23441),\n",
       " (')', 19837),\n",
       " ('(', 19813),\n",
       " (\"''\", 8295),\n",
       " ('``', 7048),\n",
       " (';', 6392),\n",
       " ('to', 5130),\n",
       " ('the', 4863),\n",
       " ('and', 4668)]"
      ]
     },
     "execution_count": 204,
     "metadata": {},
     "output_type": "execute_result"
    }
   ],
   "source": [
    "textObj.vocab().most_common(10)"
   ]
  },
  {
   "cell_type": "code",
   "execution_count": 211,
   "metadata": {},
   "outputs": [
    {
     "data": {
      "image/png": "[encoded data removed]",
      "text/plain": [
       "<Figure size 432x288 with 1 Axes>"
      ]
     },
     "metadata": {
      "needs_background": "light"
     },
     "output_type": "display_data"
    },
    {
     "name": "stdout",
     "output_type": "stream",
     "text": [
      "iframe resize; var frmTarget; nate news; function setYoutube; flash\n",
      "오류를; 오류를 우회하기; Mr. Knightley; Mrs. Weston; function\n",
      "_flash_removeCallback; Mr. Elton; Frank Churchill; Miss Woodhouse; 도널드\n",
      "트럼프; 것으로 보인다; 것으로 알려졌다; Mr. Weston; Mrs. Elton; Miss Bates; Miss\n",
      "Fairfax; Jane Fairfax\n"
     ]
    }
   ],
   "source": [
    "# textObj.count('중국')\n",
    "# textObj.concordance('중국')\n",
    "textObj.dispersion_plot([\"중국\", \"한국\"])\n",
    "textObj.collocations() # 자주나오는 패턴들"
   ]
  },
  {
   "cell_type": "code",
   "execution_count": 192,
   "metadata": {},
   "outputs": [],
   "source": [
    "corpus = gutenberg.open(gutenberg.fileids()[0]).read()\n",
    "textObj = Text(word_tokenize(corpus))\n"
   ]
  },
  {
   "cell_type": "code",
   "execution_count": 199,
   "metadata": {},
   "outputs": [
    {
     "data": {
      "image/png": "[encoded data removed]",
      "text/plain": [
       "<Figure size 432x288 with 1 Axes>"
      ]
     },
     "metadata": {
      "needs_background": "light"
     },
     "output_type": "display_data"
    },
    {
     "name": "stdout",
     "output_type": "stream",
     "text": [
      "she it he i weston you her harriet elton him me knightley jane that\n",
      "and the all there they them\n",
      "\n",
      "Mr. Knightley; Mrs. Weston; Frank Churchill; Mr. Elton; Miss\n",
      "Woodhouse; Miss Bates; Mrs. Elton; Miss Fairfax; Mr. Weston; Jane\n",
      "Fairfax; every thing; Mr. Woodhouse; every body; young man; great\n",
      "deal; dare say; Maple Grove; Mrs. Goddard; John Knightley; Miss Smith\n"
     ]
    }
   ],
   "source": [
    "# textObj.count('Emma')\n",
    "textObj.dispersion_plot(['Emma', 'Jane'])\n",
    "textObj.similar(\"Emma\")\n",
    "print(\"\")\n",
    "textObj.collocations()"
   ]
  },
  {
   "cell_type": "code",
   "execution_count": 206,
   "metadata": {},
   "outputs": [],
   "source": [
    "corpus = kolaw.open(kolaw.fileids()[0]).read()\n",
    "kolaw = Text(word_tokenize(corpus))"
   ]
  },
  {
   "cell_type": "code",
   "execution_count": 210,
   "metadata": {},
   "outputs": [
    {
     "name": "stdout",
     "output_type": "stream",
     "text": [
      "법률이 정하는; 법률로 정한다; 사항은 법률로; 권리를 가진다; 의하지 아니하고는; 필요한 사항은; 경우를 제외하고는;\n",
      "대통령이 임명한다; 규칙을 제정할; 찬성이 있어야; 자유를 가진다; 자문에 응하기; 국회의 동의를; 저촉되지 아니하는; 헌법에\n",
      "의하여; 대통령의 자문에; 법률에 저촉되지; 임기는 6년으로; 아니하는 범위안에서; 국회재적의원 3분의\n"
     ]
    }
   ],
   "source": [
    "kolaw.collocations()\n",
    "# kolaw.similar(\"국민\")"
   ]
  },
  {
   "cell_type": "code",
   "execution_count": null,
   "metadata": {},
   "outputs": [],
   "source": []
  }
 ],
 "metadata": {
  "kernelspec": {
   "display_name": "Python 3",
   "language": "python",
   "name": "python3"
  },
  "language_info": {
   "codemirror_mode": {
    "name": "ipython",
    "version": 3
   },
   "file_extension": ".py",
   "mimetype": "text/x-python",
   "name": "python",
   "nbconvert_exporter": "python",
   "pygments_lexer": "ipython3",
   "version": "3.6.6"
  }
 },
 "nbformat": 4,
 "nbformat_minor": 2
}
