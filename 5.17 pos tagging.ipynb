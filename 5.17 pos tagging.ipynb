{
 "cells": [
  {
   "cell_type": "markdown",
   "metadata": {},
   "source": [
    "##### "
   ]
  },
  {
   "cell_type": "code",
   "execution_count": 2,
   "metadata": {},
   "outputs": [
    {
     "data": {
      "text/plain": [
       "['she', 'sells', 'seashells', 'on', 'the', 'seashore']"
      ]
     },
     "execution_count": 2,
     "metadata": {},
     "output_type": "execute_result"
    }
   ],
   "source": [
    "from nltk.tokenize import word_tokenize, sent_tokenize\n",
    "import re\n",
    "from string import punctuation\n",
    "\n",
    "sentence = 'She sells seashells on the seashore.'\n",
    "\n",
    "tokens = word_tokenize(sentence.lower())\n",
    "tokens = [_ for _ in tokens if not re.search(r'[{0}]'.format(punctuation), _)]\n",
    "\n",
    "tokens"
   ]
  },
  {
   "cell_type": "code",
   "execution_count": 3,
   "metadata": {},
   "outputs": [
    {
     "data": {
      "text/plain": [
       "['she', 'sells', 'seashells', 'seashore']"
      ]
     },
     "execution_count": 3,
     "metadata": {},
     "output_type": "execute_result"
    }
   ],
   "source": [
    "from nltk import pos_tag\n",
    "from nltk.help import upenn_tagset\n",
    "\n",
    "[_[0] for _ in pos_tag(tokens) if _[1] not in ['DT', 'IN']]"
   ]
  },
  {
   "cell_type": "code",
   "execution_count": 4,
   "metadata": {},
   "outputs": [
    {
     "name": "stdout",
     "output_type": "stream",
     "text": [
      "[nltk_data] Downloading package maxent_treebank_pos_tagger to\n",
      "[nltk_data]     C:\\Users\\USER\\AppData\\Roaming\\nltk_data...\n",
      "[nltk_data]   Package maxent_treebank_pos_tagger is already up-to-\n",
      "[nltk_data]       date!\n",
      "[nltk_data] Downloading package tagsets to\n",
      "[nltk_data]     C:\\Users\\USER\\AppData\\Roaming\\nltk_data...\n",
      "[nltk_data]   Package tagsets is already up-to-date!\n"
     ]
    },
    {
     "data": {
      "text/plain": [
       "True"
      ]
     },
     "execution_count": 4,
     "metadata": {},
     "output_type": "execute_result"
    }
   ],
   "source": [
    "import nltk\n",
    "\n",
    "nltk.download('maxent_treebank_pos_tagger')\n",
    "nltk.download('tagsets')"
   ]
  },
  {
   "cell_type": "code",
   "execution_count": 5,
   "metadata": {},
   "outputs": [
    {
     "name": "stdout",
     "output_type": "stream",
     "text": [
      "IN: preposition or conjunction, subordinating\n",
      "    astride among uppon whether out inside pro despite on by throughout\n",
      "    below within for towards near behind atop around if like until below\n",
      "    next into if beside ...\n",
      "DT: determiner\n",
      "    all an another any both del each either every half la many much nary\n",
      "    neither no some such that the them these this those\n"
     ]
    },
    {
     "data": {
      "text/plain": [
       "(None, None)"
      ]
     },
     "execution_count": 5,
     "metadata": {},
     "output_type": "execute_result"
    }
   ],
   "source": [
    "upenn_tagset('IN'), upenn_tagset('DT')"
   ]
  },
  {
   "cell_type": "code",
   "execution_count": 6,
   "metadata": {},
   "outputs": [],
   "source": [
    "from nltk.corpus import gutenberg\n",
    "\n",
    "corpus = gutenberg.open('austen-emma.txt').read()\n",
    "posTags = pos_tag(word_tokenize(corpus.lower()))"
   ]
  },
  {
   "cell_type": "code",
   "execution_count": 7,
   "metadata": {},
   "outputs": [
    {
     "data": {
      "text/plain": [
       "<Figure size 640x480 with 1 Axes>"
      ]
     },
     "metadata": {},
     "output_type": "display_data"
    },
    {
     "data": {
      "text/plain": [
       "<Figure size 640x480 with 1 Axes>"
      ]
     },
     "metadata": {},
     "output_type": "display_data"
    },
    {
     "data": {
      "text/plain": [
       "(None, None)"
      ]
     },
     "execution_count": 7,
     "metadata": {},
     "output_type": "execute_result"
    }
   ],
   "source": [
    "from nltk import Text\n",
    "import matplotlib.pyplot as plt\n",
    "\n",
    "Text([_[1] for _ in posTags]).plot(30), \\\n",
    "Text([_[0] for _ in posTags]).plot(30)"
   ]
  },
  {
   "cell_type": "code",
   "execution_count": 8,
   "metadata": {},
   "outputs": [
    {
     "data": {
      "text/plain": [
       "(['the', 'little', 'yellow', 'dog', 'barked', 'at', 'the', 'persian', 'cat'],\n",
       " ['little', 'yellow', 'dog', 'barked', 'persian', 'cat'])"
      ]
     },
     "execution_count": 8,
     "metadata": {},
     "output_type": "execute_result"
    }
   ],
   "source": [
    "sentence = 'The little yellow dog barked at the Persian Cat'\n",
    "\n",
    "tokens = word_tokenize(sentence.lower())\n",
    "tokens = [_ for _ in tokens if not re.search(r'[{0}]'.format(punctuation), _)]\n",
    "\n",
    "tokens, \\\n",
    "[_[0] for _ in pos_tag(tokens) if _[1] not in ['DT', 'IN']]"
   ]
  },
  {
   "cell_type": "markdown",
   "metadata": {},
   "source": [
    "### 형태소 분석기 마다 성능 차이가 있고 장,단점이 존재\n",
    "### Mecab은 Window 환경에서 구동 X"
   ]
  },
  {
   "cell_type": "code",
   "execution_count": 14,
   "metadata": {},
   "outputs": [],
   "source": [
    "# 띄어쓰기 성능\n",
    "sentence1 = '아버지가방에들어가신다.'\n",
    "# 형태소 분석\n",
    "sentence2 = '아버지가 방에 들어가신다.'\n",
    "# 신조어/비속어\n",
    "sentence3 = '아이폰 갤럭시 안드로이드 창렬하다 혜자스럽게'"
   ]
  },
  {
   "cell_type": "code",
   "execution_count": 16,
   "metadata": {},
   "outputs": [
    {
     "name": "stdout",
     "output_type": "stream",
     "text": [
      "[('아버지가방에들어가', 'N'), ('이', 'J'), ('시ㄴ다', 'E'), ('.', 'S')]\n",
      "[('아버지', 'N'), ('가', 'J'), ('방', 'N'), ('에', 'J'), ('들', 'P'), ('어', 'E'), ('가', 'P'), ('시ㄴ다', 'E'), ('.', 'S')]\n",
      "[('아이폰', 'N'), ('갤럭시', 'N'), ('안드로이드', 'N'), ('창렬하다', 'N'), ('혜자스럽', 'N'), ('게', 'J')]\n"
     ]
    }
   ],
   "source": [
    "from konlpy.tag import Hannanum # 한나눔(KAIST)\n",
    "\n",
    "hannanum = Hannanum()\n",
    "print(hannanum.pos(sentence1))\n",
    "print(hannanum.pos(sentence2))\n",
    "print(hannanum.pos(sentence3))"
   ]
  },
  {
   "cell_type": "code",
   "execution_count": 17,
   "metadata": {},
   "outputs": [
    {
     "name": "stdout",
     "output_type": "stream",
     "text": [
      "[('아버지', 'NNG'), ('가방', 'NNG'), ('에', 'JKM'), ('들어가', 'VV'), ('시', 'EPH'), ('ㄴ다', 'EFN'), ('.', 'SF')]\n",
      "[('아버지', 'NNG'), ('가', 'JKS'), ('방', 'NNG'), ('에', 'JKM'), ('들어가', 'VV'), ('시', 'EPH'), ('ㄴ다', 'EFN'), ('.', 'SF')]\n",
      "[('아이', 'NNG'), ('폰', 'NNG'), ('개', 'VV'), ('ㄹ', 'ETD'), ('럭', 'UN'), ('시', 'NNG'), ('안', 'NNG'), ('드로', 'NNG'), ('이드', 'NNG'), ('창', 'NNG'), ('렬', 'UN'), ('하', 'XSV'), ('다', 'ECS'), ('혜', 'UN'), ('자', 'NNG'), ('스럽', 'XSA'), ('게', 'ECD')]\n"
     ]
    }
   ],
   "source": [
    "from konlpy.tag import Kkma # 꼬꼬마 (서울대)\n",
    "\n",
    "ma = Kkma()\n",
    "\n",
    "print(ma.pos(sentence1))\n",
    "print(ma.pos(sentence2))\n",
    "print(ma.pos(sentence3))"
   ]
  },
  {
   "cell_type": "code",
   "execution_count": 18,
   "metadata": {},
   "outputs": [
    {
     "name": "stdout",
     "output_type": "stream",
     "text": [
      "[('아버지', 'NNG'), ('가방', 'NNP'), ('에', 'JKB'), ('들어가', 'VV'), ('시', 'EP'), ('ㄴ다', 'EF'), ('.', 'SF')]\n",
      "[('아버지', 'NNG'), ('가', 'JKS'), ('방', 'NNG'), ('에', 'JKB'), ('들어가', 'VV'), ('시', 'EP'), ('ㄴ다', 'EF'), ('.', 'SF')]\n",
      "[('아이폰', 'NNP'), ('갤럭시', 'NNP'), ('안드로이드', 'NNP'), ('창려', 'NNP'), ('ㄹ', 'JKO'), ('하', 'VV'), ('다', 'EC'), ('혜자', 'NNP'), ('스럽', 'XSA'), ('게', 'EC')]\n"
     ]
    }
   ],
   "source": [
    "from konlpy.tag import Komoran\n",
    "\n",
    "komoran = Komoran()\n",
    "\n",
    "print(komoran.pos(sentence1))\n",
    "print(komoran.pos(sentence2))\n",
    "print(komoran.pos(sentence3))"
   ]
  },
  {
   "cell_type": "code",
   "execution_count": 20,
   "metadata": {},
   "outputs": [
    {
     "name": "stdout",
     "output_type": "stream",
     "text": [
      "[('아버지', 'Noun'), ('가방', 'Noun'), ('에', 'Josa'), ('들어가신다', 'Verb'), ('.', 'Punctuation')]\n",
      "[('아버지', 'Noun'), ('가', 'Josa'), ('방', 'Noun'), ('에', 'Josa'), ('들어가신다', 'Verb'), ('.', 'Punctuation')]\n",
      "[('아이폰', 'Noun'), ('갤럭시', 'Noun'), ('안드로이드', 'Noun'), ('창렬하', 'Noun'), ('다', 'Josa'), ('혜자', 'Noun'), ('스럽게', 'Josa')]\n"
     ]
    }
   ],
   "source": [
    "from konlpy.tag import Okt # Twitter\n",
    "\n",
    "okt = Okt()\n",
    "print(okt.pos(sentence1))\n",
    "print(okt.pos(sentence2))\n",
    "print(okt.pos(sentence3))"
   ]
  },
  {
   "cell_type": "markdown",
   "metadata": {},
   "source": [
    "# 한글 형태소 분석기 성능\n",
    "## 띄어쓰기 성능 : Kkma = Komoran > Okt > Hannanum\n",
    "## 형태소 분석 성능 :\n",
    "### (문어체) Kkma = Komoran > Hannanum > Okt\n",
    "### (구어체) Komoran > Okt = Hannanum > Kkma"
   ]
  },
  {
   "cell_type": "code",
   "execution_count": 21,
   "metadata": {},
   "outputs": [],
   "source": [
    "from konlpy.corpus import kolaw\n",
    "\n",
    "corpus = kolaw.open(kolaw.fileids()[0]).read()"
   ]
  },
  {
   "cell_type": "code",
   "execution_count": 22,
   "metadata": {},
   "outputs": [],
   "source": [
    "tokens = list()\n",
    "for sentence in sent_tokenize(corpus):\n",
    "    tokens.extend(word_tokenize(sentence))"
   ]
  },
  {
   "cell_type": "code",
   "execution_count": 25,
   "metadata": {},
   "outputs": [
    {
     "data": {
      "image/png": "[encoded data removed]",
      "text/plain": [
       "<Figure size 432x288 with 1 Axes>"
      ]
     },
     "metadata": {
      "needs_background": "light"
     },
     "output_type": "display_data"
    }
   ],
   "source": [
    "from matplotlib import rc, font_manager\n",
    "path = \"c:/Windows/Fonts/NanumGothic.ttf\"\n",
    "font = font_manager.FontProperties(fname=path).get_name()\n",
    "rc(\"font\", family=font)\n",
    "\n",
    "Text(tokens).plot(20)"
   ]
  },
  {
   "cell_type": "code",
   "execution_count": null,
   "metadata": {},
   "outputs": [],
   "source": []
  }
 ],
 "metadata": {
  "kernelspec": {
   "display_name": "Python 3",
   "language": "python",
   "name": "python3"
  },
  "language_info": {
   "codemirror_mode": {
    "name": "ipython",
    "version": 3
   },
   "file_extension": ".py",
   "mimetype": "text/x-python",
   "name": "python",
   "nbconvert_exporter": "python",
   "pygments_lexer": "ipython3",
   "version": "3.6.6"
  }
 },
 "nbformat": 4,
 "nbformat_minor": 2
}
