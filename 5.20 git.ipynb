{
 "cells": [
  {
   "cell_type": "markdown",
   "metadata": {},
   "source": [
    "# 오픈소스 디벨로퍼\n",
    "## 오픈소스의 기술내용이 아닌 개발 메커니즘\n",
    "## git은 히스토리 뿐만 아니라 콜라보레이션 툴\n",
    "## 풀리퀘스트 / 이슈 설명 실습"
   ]
  },
  {
   "cell_type": "markdown",
   "metadata": {},
   "source": [
    "gcc -pg fibonacci.c\n",
    "uftrace하면 코드의 실행과정을 낱낱이 보여줌\n",
    "\n",
    "커밋단위는 이해하기 쉬운 단위가 제일 좋음 - 리뷰하기 제일 좋은 단위\n",
    "\n",
    "머지도 중요하지만 리뷰 앤 디스커션도중요\n",
    "\n",
    "리뷰 "
   ]
  },
  {
   "cell_type": "code",
   "execution_count": null,
   "metadata": {},
   "outputs": [],
   "source": []
  }
 ],
 "metadata": {
  "kernelspec": {
   "display_name": "Python 3",
   "language": "python",
   "name": "python3"
  },
  "language_info": {
   "codemirror_mode": {
    "name": "ipython",
    "version": 3
   },
   "file_extension": ".py",
   "mimetype": "text/x-python",
   "name": "python",
   "nbconvert_exporter": "python",
   "pygments_lexer": "ipython3",
   "version": "3.6.6"
  }
 },
 "nbformat": 4,
 "nbformat_minor": 2
}
