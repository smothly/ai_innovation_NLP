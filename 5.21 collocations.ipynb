{
 "cells": [
  {
   "cell_type": "markdown",
   "metadata": {},
   "source": [
    "# collocations : 단어의 시퀀스\n",
    "### frequency, pointwise mutual information, t test 등으로 할 것ㅇ미\n"
   ]
  },
  {
   "cell_type": "code",
   "execution_count": null,
   "metadata": {},
   "outputs": [],
   "source": [
    "from nltk.collocations import BigramCollocationFinder\n",
    "from nltk.collocations import BigramAssocMeasures\n",
    "from nltk.collocations import TrigramCollocationFinder\n",
    "from nltk.collocations import TrigramAssocMeasures\n",
    "from nltk.corpus import gutenberg\n",
    "from nltk.tokenize import word_tokenize\n",
    "\n",
    "corpus = gutenberg.open(gutenberg.fileids()[0]).read()\n",
    "tokens = word_tokenize(corpus) # => 어절(구두점)\n"
   ]
  },
  {
   "cell_type": "code",
   "execution_count": null,
   "metadata": {},
   "outputs": [],
   "source": [
    "bigram = BigramCollocationFinder.from_words(tokens)\n",
    "trigram = TrigramCollocationFinder.from_words(tokens)"
   ]
  },
  {
   "cell_type": "code",
   "execution_count": null,
   "metadata": {},
   "outputs": [],
   "source": [
    "type(bigram.ngram_fd) # .items()"
   ]
  },
  {
   "cell_type": "code",
   "execution_count": null,
   "metadata": {},
   "outputs": [],
   "source": [
    "bigram.ngram_fd.most_common(10) # .items()"
   ]
  },
  {
   "cell_type": "code",
   "execution_count": null,
   "metadata": {},
   "outputs": [],
   "source": [
    "bigram.nbest(BigramAssocMeasures.pmi, 10)\n",
    "# => 정제된(품사) 단어 쌍 ((\"형태소\", \"품사\"), \"형태소\", \"품사\")"
   ]
  },
  {
   "cell_type": "code",
   "execution_count": null,
   "metadata": {},
   "outputs": [],
   "source": [
    "from nltk import pos_tag\n",
    "from string import punctuation\n",
    "from nltk.corpus import stopwords\n",
    "\n",
    "stopword = stopwords.open(\"english\").read()\n",
    "pattern = re.compile(r\"[{0}]\".format(re.escape(punctuation)))\n",
    "\n",
    "print(len(tokens))\n",
    "tokens = [_ for _ in tokens if not pattern.search(_)]\n",
    "print(len(tokens))\n"
   ]
  },
  {
   "cell_type": "code",
   "execution_count": null,
   "metadata": {},
   "outputs": [],
   "source": [
    "bigram = BigramCollocationFinder.from_words(tokens)\n",
    "trigram = TrigramCollocationFinder.from_words(tokens)\n",
    "\n",
    "bigram.ngram_fd.most_common(10), \\\n",
    "bigram.nbest(BigramAssocMeasures.pmi, 10)"
   ]
  },
  {
   "cell_type": "markdown",
   "metadata": {},
   "source": [
    "### 형태소 분석으로 collocation"
   ]
  },
  {
   "cell_type": "code",
   "execution_count": null,
   "metadata": {},
   "outputs": [],
   "source": [
    "from nltk.help import upenn_tagset\n",
    "upenn_tagset()"
   ]
  },
  {
   "cell_type": "code",
   "execution_count": null,
   "metadata": {},
   "outputs": [],
   "source": [
    "# (\"형태소\", \"품사\") 형태로 될것임\n",
    "tokens = [_[0] for _ in pos_tag(corpus) if not pattern.search(_[0])] # 1로 바꿔서 하면 품사빈도를 볼 수 있음"
   ]
  },
  {
   "cell_type": "code",
   "execution_count": null,
   "metadata": {},
   "outputs": [],
   "source": [
    "len(tokens)"
   ]
  },
  {
   "cell_type": "code",
   "execution_count": null,
   "metadata": {},
   "outputs": [],
   "source": [
    "bigram = BigramCollocationFinder.from_words(tokens)\n",
    "trigram = TrigramCollocationFinder.from_words(tokens)\n",
    "\n",
    "bigram.ngram_fd.most_common(10), \\\n",
    "bigram.nbest(BigramAssocMeasures.pmi, 10)\n",
    "\n",
    "# 결과가 거의 똑같이 나옴"
   ]
  },
  {
   "cell_type": "markdown",
   "metadata": {},
   "source": [
    "### 한글"
   ]
  },
  {
   "cell_type": "code",
   "execution_count": null,
   "metadata": {},
   "outputs": [],
   "source": [
    "from konlpy.corpus import kolaw\n",
    "from konlpy.tag import Komoran\n",
    "corpus = kolaw.open(kolaw.fileids()[0]).read()\n",
    "tokens = word_tokenize(corpus)"
   ]
  },
  {
   "cell_type": "code",
   "execution_count": null,
   "metadata": {},
   "outputs": [],
   "source": [
    "len(tokens)\n",
    "bigram = BigramCollocationFinder.from_words(tokens)\n",
    "bigram.ngram_fd.most_common(10), \\\n",
    "bigram.nbest(BigramAssocMeasures.chi_sq, 10)"
   ]
  },
  {
   "cell_type": "code",
   "execution_count": null,
   "metadata": {},
   "outputs": [],
   "source": [
    "ma = Komoran().pos\n",
    "pos = list()\n",
    "for _ in tokens:\n",
    "    if not pattern.search(_):\n",
    "        pos.extend(ma(_))"
   ]
  },
  {
   "cell_type": "code",
   "execution_count": null,
   "metadata": {},
   "outputs": [],
   "source": [
    "len(tokens), len(pos) # 한글은 형태소 분석하면 늘어남 형태소 단위라"
   ]
  },
  {
   "cell_type": "code",
   "execution_count": null,
   "metadata": {},
   "outputs": [],
   "source": [
    "bigram = BigramCollocationFinder.from_words(pos)\n",
    "bigram.ngram_fd.most_common(10), \\\n",
    "bigram.nbest(BigramAssocMeasures.chi_sq, 10)"
   ]
  },
  {
   "cell_type": "code",
   "execution_count": null,
   "metadata": {},
   "outputs": [],
   "source": [
    "trigram = TrigramCollocationFinder.from_words(pos)\n",
    "trigram.ngram_fd.most_common(10), \\\n",
    "trigram.nbest(TrigramAssocMeasures.chi_sq, 10)"
   ]
  },
  {
   "cell_type": "code",
   "execution_count": null,
   "metadata": {},
   "outputs": [],
   "source": [
    "morphemes = [_[0] for _ in pos]\n",
    "_pos = [_[1] for _ in pos]\n",
    "\n",
    "bigram = BigramCollocationFinder.from_words(morphemes)\n",
    "bigram.ngram_fd.most_common(10), \\\n",
    "bigram.nbest(BigramAssocMeasures.chi_sq, 10)"
   ]
  },
  {
   "cell_type": "code",
   "execution_count": null,
   "metadata": {},
   "outputs": [],
   "source": [
    "Komoran().tagset"
   ]
  },
  {
   "cell_type": "markdown",
   "metadata": {},
   "source": [
    "### 뉴스기사로 해보기"
   ]
  },
  {
   "cell_type": "code",
   "execution_count": null,
   "metadata": {},
   "outputs": [],
   "source": [
    "import os\n",
    "\n",
    "base = \"./news_crawl_project/\"\n",
    "morphemes = list()\n",
    "tokens = list()\n",
    "    \n",
    "for _ in os.listdir(base):\n",
    "    with open(base + _, encoding='utf-8') as fp:\n",
    "        text = fp.read()\n",
    "    tokens.extend(word_tokenize(text))"
   ]
  },
  {
   "cell_type": "code",
   "execution_count": null,
   "metadata": {},
   "outputs": [],
   "source": [
    "tokens[:20]"
   ]
  },
  {
   "cell_type": "code",
   "execution_count": null,
   "metadata": {},
   "outputs": [],
   "source": [
    "ma = Komoran().pos\n",
    "pos = list()\n",
    "for _ in tokens:\n",
    "    if not pattern.search(_):\n",
    "        pos.extend(ma(_))"
   ]
  },
  {
   "cell_type": "code",
   "execution_count": null,
   "metadata": {},
   "outputs": [],
   "source": [
    "bigram = BigramCollocationFinder.from_words(pos)\n",
    "bigram.ngram_fd.most_common(10), \\\n",
    "bigram.nbest(BigramAssocMeasures.pmi, 10)"
   ]
  },
  {
   "cell_type": "code",
   "execution_count": null,
   "metadata": {},
   "outputs": [],
   "source": [
    "morphemes = [_[0] for _ in pos]\n",
    "_pos = [_[1] for _ in pos]\n",
    "\n",
    "bigram = BigramCollocationFinder.from_words(morphemes)\n",
    "bigram.ngram_fd.most_common(10), \\\n",
    "bigram.nbest(BigramAssocMeasures.chi_sq, 10)"
   ]
  },
  {
   "cell_type": "markdown",
   "metadata": {},
   "source": [
    "# pharse 구문분석\n",
    "### 트리의 형태로 분석\n",
    "### re를 이용하고 그걸로 parser 할 것임\n",
    "### 단어레벨보다 더 높은 레벨에서 볼 수 있음"
   ]
  },
  {
   "cell_type": "code",
   "execution_count": null,
   "metadata": {},
   "outputs": [],
   "source": [
    "sentence = \"The little yellow dog barked at the cat\"\n",
    "tokens = pos_tag(word_tokenize(sentence))"
   ]
  },
  {
   "cell_type": "code",
   "execution_count": null,
   "metadata": {},
   "outputs": [],
   "source": [
    "tokens"
   ]
  },
  {
   "cell_type": "code",
   "execution_count": null,
   "metadata": {},
   "outputs": [],
   "source": [
    "upenn_tagset(\"VBD\") # 품사태거 우리나라는 세종 21, 형태소분석기마닥 다르므로 따로 봐야함"
   ]
  },
  {
   "cell_type": "code",
   "execution_count": null,
   "metadata": {},
   "outputs": [],
   "source": [
    "from nltk.chunk.regexp import RegexpParser\n",
    "\n",
    "grammer = RegexpParser(\"NP: {<DT><NN>}\")\n"
   ]
  },
  {
   "cell_type": "code",
   "execution_count": null,
   "metadata": {},
   "outputs": [],
   "source": [
    "grammer = RegexpParser(\"NP: {<DT><JJ>*<NN>}\")\n",
    "parseTree = grammer.parse(tokens)\n",
    "parseTree.draw()\n",
    "parseTree.pprint()"
   ]
  },
  {
   "cell_type": "code",
   "execution_count": null,
   "metadata": {},
   "outputs": [],
   "source": [
    "grammer = RegexpParser(\"\"\"\n",
    "    DT: {<DT>}\n",
    "    JJ: {<JJ>}\n",
    "    NN: {<NN>}\n",
    "    VBD: {<VBD>}\n",
    "    IN: {<IN>}\n",
    "    NP: {<DT><JJ>*<NN>}\n",
    "\"\"\")\n",
    "parseTree = grammer.parse(tokens)\n",
    "parseTree.draw()\n",
    "parseTree.pprint()"
   ]
  },
  {
   "cell_type": "code",
   "execution_count": null,
   "metadata": {},
   "outputs": [],
   "source": [
    "len([_ for _ in parseTree.subtrees()])"
   ]
  },
  {
   "cell_type": "code",
   "execution_count": null,
   "metadata": {},
   "outputs": [],
   "source": [
    "for _ in parseTree.subtrees():\n",
    "    if _.label() == \"NP\":\n",
    "        print(_.label())\n",
    "        print(\" \".join([_[0] for _ in _.leaves()]))"
   ]
  },
  {
   "cell_type": "markdown",
   "metadata": {},
   "source": [
    "## 한글 구문분석"
   ]
  },
  {
   "cell_type": "code",
   "execution_count": null,
   "metadata": {},
   "outputs": [],
   "source": [
    "from konlpy.tag import Okt\n",
    "ma = Okt().pos\n",
    "\n",
    "sentence = \"내 친구가 잠을 많이 잔다.\"\n",
    "tokens = ma(sentence)"
   ]
  },
  {
   "cell_type": "code",
   "execution_count": null,
   "metadata": {},
   "outputs": [],
   "source": [
    "tokens"
   ]
  },
  {
   "cell_type": "code",
   "execution_count": null,
   "metadata": {},
   "outputs": [],
   "source": [
    "grammer = RegexpParser(\"\"\"\n",
    "    NP: {<Noun>{2,}<Josa>}\n",
    "    VP: {<Adverb><Verb><Punctuation>}\n",
    "\"\"\")\n",
    "grammer.parse(tokens).draw()"
   ]
  },
  {
   "cell_type": "code",
   "execution_count": null,
   "metadata": {},
   "outputs": [],
   "source": [
    "for _ in parseTree.subtrees():\n",
    "    if _.label() == \"NP\":\n",
    "        print(\" \".join([_[0] for _ in _.leaves()]))"
   ]
  },
  {
   "cell_type": "markdown",
   "metadata": {},
   "source": [
    "### 구문분석 실습"
   ]
  },
  {
   "cell_type": "code",
   "execution_count": null,
   "metadata": {},
   "outputs": [],
   "source": [
    "# 1번\n",
    "sentence = \"i shot an elephant in my pajamas.\"\n",
    "tokens = pos_tag(word_tokenize(sentence))"
   ]
  },
  {
   "cell_type": "code",
   "execution_count": null,
   "metadata": {},
   "outputs": [],
   "source": [
    "grammer = RegexpParser(\"\"\"\n",
    "    N: {<NN>}\n",
    "    Det: {<DT>|<PRP.+>}\n",
    "    V: {<V.*>}\n",
    "    P: {<IN>}\n",
    "    NP: {<Det><N>}\n",
    "    NP : {<PRP>|<Det><N>}\n",
    "    PP : {<P><NP>}\n",
    "    VP: {<V><NP>}\n",
    "    VP: {<VP><PP>}\n",
    "\"\"\")\n",
    "grammer.parse(tokens).draw()"
   ]
  },
  {
   "cell_type": "code",
   "execution_count": null,
   "metadata": {},
   "outputs": [],
   "source": [
    "# 2번 - 구문분석할 때 중의성 문제\n",
    "sentence = \"the dog saw a man in the park\"\n",
    "tokens = pos_tag(word_tokenize(sentence))"
   ]
  },
  {
   "cell_type": "code",
   "execution_count": null,
   "metadata": {},
   "outputs": [],
   "source": [
    "tokens"
   ]
  },
  {
   "cell_type": "code",
   "execution_count": null,
   "metadata": {},
   "outputs": [],
   "source": [
    "grammer = RegexpParser(\"\"\"\n",
    "    N: {<NN>}\n",
    "    Det: {<DT>}\n",
    "    P: {<IN>}\n",
    "    V: {<V.*>}\n",
    "    NP: {<Det><N>$}\n",
    "    PP: {<P><NP>}\n",
    "    NP: {<Det><N><PP>}\n",
    "    NP: {<Det><N>}\n",
    "    VP: {<V><NP>}\n",
    "    VP: {<VP><PP>}\n",
    "\"\"\")\n",
    "grammer.parse(tokens).draw()"
   ]
  },
  {
   "cell_type": "code",
   "execution_count": null,
   "metadata": {},
   "outputs": [],
   "source": [
    "# 3번\n",
    "sentence = \"the angry bear chased the frightened little squirrel\"\n",
    "tokens = pos_tag(word_tokenize(sentence))"
   ]
  },
  {
   "cell_type": "code",
   "execution_count": null,
   "metadata": {},
   "outputs": [],
   "source": [
    "tokens"
   ]
  },
  {
   "cell_type": "code",
   "execution_count": null,
   "metadata": {},
   "outputs": [],
   "source": [
    "grammer = RegexpParser(\"\"\"\n",
    "    N: {<NN>}\n",
    "    Adj: {<JJ>}\n",
    "    Nom: {<Adj><N>}\n",
    "    Nom: {<Adj><Nom>}\n",
    "    Det: {<DT>}\n",
    "    NP: {<Det><Nom>}\n",
    "    V: {<VBD>}\n",
    "    VP: {<V><NP>}\n",
    "    \n",
    "\"\"\")\n",
    "grammer.parse(tokens).draw()"
   ]
  },
  {
   "cell_type": "code",
   "execution_count": null,
   "metadata": {},
   "outputs": [],
   "source": [
    "# 4번 - 품사 구문의 중의성 문제\n",
    "sentence = \"the little bear saw the fine fat trout in the brook\"\n",
    "\n",
    "from nltk.tag.stanford import StanfordPOSTagger\n",
    "MODEL = \"../python_library/stanford-postagger-full-2018-10-16/models/english-bidirectional-distsim.tagger\"\n",
    "PARSER = \"../python_library/stanford-postagger-full-2018-10-16/stanford-postagger-3.9.2.jar\"\n",
    "pos = StanfordPOSTagger(MODEL, PARSER)\n",
    "\n",
    "tokens = pos.tag(word_tokenize(sentence))"
   ]
  },
  {
   "cell_type": "code",
   "execution_count": null,
   "metadata": {},
   "outputs": [],
   "source": [
    "tokens"
   ]
  },
  {
   "cell_type": "code",
   "execution_count": null,
   "metadata": {},
   "outputs": [],
   "source": [
    "grammer = RegexpParser(\"\"\"\n",
    "    N: {<NN>|<NNS>}\n",
    "    Adj: {<JJ>}\n",
    "    P: {<IN>}\n",
    "    Nom: {<N>|<Adj>{1,}<N>}\n",
    "    Det: {<DT>}\n",
    "    NP: {<Det><Nom>}\n",
    "    V: {<VBD>}\n",
    "    VP: {<V><NP>}\n",
    "    PP: {<P><NP>}\n",
    "    VP: {<VP><PP>}\n",
    "    \n",
    "\"\"\")\n",
    "grammer.parse(tokens).draw()"
   ]
  },
  {
   "cell_type": "markdown",
   "metadata": {},
   "source": [
    "# WORDCLOUD - 단순히 빈도만 가지고 하기"
   ]
  },
  {
   "cell_type": "code",
   "execution_count": 15,
   "metadata": {},
   "outputs": [],
   "source": [
    "import os\n",
    "\n",
    "base = \"./news_crawl_project/\"\n",
    "corpus = list()\n",
    "for _ in os.listdir(base):\n",
    "    if _.startswith(\"IT\"):\n",
    "        with open(base + _, encoding='utf-8') as fp:\n",
    "            corpus.append(fp.read())"
   ]
  },
  {
   "cell_type": "code",
   "execution_count": 16,
   "metadata": {},
   "outputs": [],
   "source": [
    "from konlpy.tag import Komoran\n",
    "from nltk.tokenize import sent_tokenize, word_tokenize\n",
    "\n",
    "ma = Komoran()\n",
    "tokens = list()\n",
    "\n",
    "for doc in corpus:\n",
    "    for _ in word_tokenize(doc):\n",
    "        tokens.extend([noun for noun in ma.nouns(_)\n",
    "                      if len(noun) > 1])"
   ]
  },
  {
   "cell_type": "code",
   "execution_count": 17,
   "metadata": {},
   "outputs": [
    {
     "data": {
      "text/plain": [
       "[('기자', 267),\n",
       " ('게임', 260),\n",
       " ('의료', 181),\n",
       " ('시장', 166),\n",
       " ('한국', 164),\n",
       " ('출시', 158),\n",
       " ('경우', 156),\n",
       " ('서비스', 153),\n",
       " ('국내', 152),\n",
       " ('사용', 150)]"
      ]
     },
     "execution_count": 17,
     "metadata": {},
     "output_type": "execute_result"
    }
   ],
   "source": [
    "from nltk.probability import FreqDist\n",
    "fd = FreqDist(tokens)\n",
    "fd.most_common(10)"
   ]
  },
  {
   "cell_type": "code",
   "execution_count": 18,
   "metadata": {},
   "outputs": [],
   "source": [
    "from wordcloud import WordCloud\n",
    "font = \"c:/Windows/Fonts/NanumGothic.ttf\"\n",
    "wc = WordCloud(font, max_words=30, background_color=\"white\")"
   ]
  },
  {
   "cell_type": "code",
   "execution_count": 19,
   "metadata": {},
   "outputs": [
    {
     "data": {
      "image/png": "[encoded data removed]",
      "text/plain": [
       "<PIL.Image.Image image mode=RGB size=400x200 at 0x236559E5D30>"
      ]
     },
     "execution_count": 19,
     "metadata": {},
     "output_type": "execute_result"
    }
   ],
   "source": [
    "wc.generate_from_frequencies(fd)\n",
    "wc.to_image()"
   ]
  },
  {
   "cell_type": "code",
   "execution_count": null,
   "metadata": {},
   "outputs": [],
   "source": []
  }
 ],
 "metadata": {
  "kernelspec": {
   "display_name": "Python 3",
   "language": "python",
   "name": "python3"
  },
  "language_info": {
   "codemirror_mode": {
    "name": "ipython",
    "version": 3
   },
   "file_extension": ".py",
   "mimetype": "text/x-python",
   "name": "python",
   "nbconvert_exporter": "python",
   "pygments_lexer": "ipython3",
   "version": "3.6.6"
  }
 },
 "nbformat": 4,
 "nbformat_minor": 2
}
