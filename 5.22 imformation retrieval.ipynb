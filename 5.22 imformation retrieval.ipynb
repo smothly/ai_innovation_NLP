{
 "cells": [
  {
   "cell_type": "markdown",
   "metadata": {},
   "source": [
    "# 정보검색 retrieval\n",
    "### http://www.cs.virginia.edu/~hw5x/Course/IR2015/_site/lectures/\n",
    "# 사용자의 need에 맞게 정보를 제공하는 것!\n",
    "### 주요이슈\n",
    "### 1. 쿼리표현 : 문법적 차이, 의미적 차이\n",
    "### 2. 문서표현 : 효율적인 접근을 위한 자료구조\n",
    "### 3. 검색모델"
   ]
  },
  {
   "cell_type": "markdown",
   "metadata": {},
   "source": [
    "1. Indexer<br>\n",
    "    - Crawler (Focused) => repository(collection)<br>\n",
    "    - Document Analyzer => Html, Tokenizing, Normalizing<br>\n",
    "                            Stemming(BPE), Ngram, MA, POS, Stopwords, RE, Pharses\n",
    "                            => preprocessing\n",
    "    - Features => Lexicon<br>\n",
    "    - Document(Query) Representation => Bag Of Words (BOW)\n",
    "      Document-Term Mat, Term-Document Mat.(핵심)\n",
    "      => Inverted Document Indexing(역문헌 구조)\n",
    "      \n",
    "2. Relevance(Ranking)\n",
    "    - Weighting(TF-IDF), Similarity(Cosine:0-1, Euclidean)<br>\n",
    "    - Sorting\n",
    "3. Results<br>\n",
    "    - 끝(Top k)"
   ]
  },
  {
   "cell_type": "markdown",
   "metadata": {},
   "source": [
    "# Lexicon"
   ]
  },
  {
   "cell_type": "code",
   "execution_count": 38,
   "metadata": {},
   "outputs": [
    {
     "name": "stdout",
     "output_type": "stream",
     "text": [
      "149 ms ± 18.3 ms per loop (mean ± std. dev. of 7 runs, 1 loop each)\n"
     ]
    }
   ],
   "source": [
    "%timeit getLexicon1()"
   ]
  },
  {
   "cell_type": "code",
   "execution_count": 39,
   "metadata": {},
   "outputs": [
    {
     "name": "stdout",
     "output_type": "stream",
     "text": [
      "137 ms ± 9.2 ms per loop (mean ± std. dev. of 7 runs, 1 loop each)\n"
     ]
    }
   ],
   "source": [
    "%timeit getLexicon2()"
   ]
  },
  {
   "cell_type": "code",
   "execution_count": 19,
   "metadata": {},
   "outputs": [],
   "source": [
    "lexicon = getLexicon2()"
   ]
  },
  {
   "cell_type": "code",
   "execution_count": 20,
   "metadata": {},
   "outputs": [
    {
     "data": {
      "text/plain": [
       "2638"
      ]
     },
     "execution_count": 20,
     "metadata": {},
     "output_type": "execute_result"
    }
   ],
   "source": [
    "len(lexicon)"
   ]
  },
  {
   "cell_type": "markdown",
   "metadata": {},
   "source": [
    "### documentRepresentation 성능 향상 방법"
   ]
  },
  {
   "cell_type": "code",
   "execution_count": 21,
   "metadata": {},
   "outputs": [],
   "source": [
    "#      1, 2, 3 .. 2638 => Bag Of Words\n",
    "# doc1 0  0  0         => doc개수 * 2638\n",
    "# doc2 1  1  1\n",
    "def documentRepresentation1():\n",
    "    documentList = list()\n",
    "    for document in [kobill.open(idx).read() for idx in kobill.fileids()]:\n",
    "        bow = list(0 for _ in range(len(lexicon)))\n",
    "        for term in document.split():\n",
    "            bow[lexicon.index(term)] = 1\n",
    "        documentList.append(bow)\n",
    "    return documentList"
   ]
  },
  {
   "cell_type": "code",
   "execution_count": 26,
   "metadata": {},
   "outputs": [
    {
     "data": {
      "text/plain": [
       "2638"
      ]
     },
     "execution_count": 26,
     "metadata": {},
     "output_type": "execute_result"
    }
   ],
   "source": [
    "temp = documentRepresentation1()\n",
    "len(temp[0])"
   ]
  },
  {
   "cell_type": "markdown",
   "metadata": {},
   "source": [
    "### 리스트로 표현했지만 파이썬은 dict로 sparse한 문제점을 해결할 수 있음!"
   ]
  },
  {
   "cell_type": "code",
   "execution_count": 53,
   "metadata": {},
   "outputs": [],
   "source": [
    "def documentRepresentation2():\n",
    "    documentList = list()\n",
    "    for document in [kobill.open(idx).read() for idx in kobill.fileids()]:\n",
    "        bow = dict()\n",
    "        for term in document.split():\n",
    "            bow[lexicon.index(term)] = 1\n",
    "        documentList.append(bow)\n",
    "    return documentList\n",
    "\n",
    "# 있는지 없는지만 검사하니까 index를 굳이 뒤질 필요가 없음\n",
    "def documentRepresentation3():\n",
    "    documentList = list()\n",
    "    for document in [kobill.open(idx).read() for idx in kobill.fileids()]:\n",
    "        bow = dict()\n",
    "        for term in document.split():\n",
    "            bow[term] = 1\n",
    "        documentList.append(bow)\n",
    "    return documentList"
   ]
  },
  {
   "cell_type": "code",
   "execution_count": 29,
   "metadata": {},
   "outputs": [
    {
     "data": {
      "text/plain": [
       "541"
      ]
     },
     "execution_count": 29,
     "metadata": {},
     "output_type": "execute_result"
    }
   ],
   "source": [
    "temp = documentRepresentation2()\n",
    "len(temp[0].keys())"
   ]
  },
  {
   "cell_type": "code",
   "execution_count": 31,
   "metadata": {},
   "outputs": [
    {
     "data": {
      "text/plain": [
       "541"
      ]
     },
     "execution_count": 31,
     "metadata": {},
     "output_type": "execute_result"
    }
   ],
   "source": [
    "temp = documentRepresentation3()\n",
    "len(temp[0].keys())"
   ]
  },
  {
   "cell_type": "code",
   "execution_count": 35,
   "metadata": {},
   "outputs": [
    {
     "name": "stdout",
     "output_type": "stream",
     "text": [
      "314 ms ± 48.3 ms per loop (mean ± std. dev. of 7 runs, 1 loop each)\n"
     ]
    }
   ],
   "source": [
    "%timeit documentRepresentation1()"
   ]
  },
  {
   "cell_type": "code",
   "execution_count": 36,
   "metadata": {},
   "outputs": [
    {
     "name": "stdout",
     "output_type": "stream",
     "text": [
      "324 ms ± 46.5 ms per loop (mean ± std. dev. of 7 runs, 1 loop each)\n"
     ]
    }
   ],
   "source": [
    "%timeit documentRepresentation2()"
   ]
  },
  {
   "cell_type": "code",
   "execution_count": 37,
   "metadata": {},
   "outputs": [
    {
     "name": "stdout",
     "output_type": "stream",
     "text": [
      "8.79 ms ± 774 µs per loop (mean ± std. dev. of 7 runs, 100 loops each)\n"
     ]
    }
   ],
   "source": [
    "%timeit documentRepresentation3()"
   ]
  },
  {
   "cell_type": "markdown",
   "metadata": {},
   "source": [
    "### 빈도수에 대한 가중치가 없다"
   ]
  },
  {
   "cell_type": "code",
   "execution_count": 54,
   "metadata": {},
   "outputs": [],
   "source": [
    "from collections import defaultdict\n",
    "def documentRepresentation4():\n",
    "    documentList = list()\n",
    "    for document in [kobill.open(idx).read() for idx in kobill.fileids()]:\n",
    "        bow = defaultdict(int)\n",
    "        for term in document.split():\n",
    "            bow[term] += 1\n",
    "        documentList.append(bow)\n",
    "    return documentList"
   ]
  },
  {
   "cell_type": "code",
   "execution_count": null,
   "metadata": {},
   "outputs": [],
   "source": [
    "doc = documentRepresentation4()\n",
    "doc[0]"
   ]
  },
  {
   "cell_type": "code",
   "execution_count": 57,
   "metadata": {},
   "outputs": [
    {
     "name": "stdout",
     "output_type": "stream",
     "text": [
      "8.43 ms ± 748 µs per loop (mean ± std. dev. of 7 runs, 100 loops each)\n"
     ]
    }
   ],
   "source": [
    "%timeit documentRepresentation3()"
   ]
  },
  {
   "cell_type": "code",
   "execution_count": 58,
   "metadata": {},
   "outputs": [
    {
     "name": "stdout",
     "output_type": "stream",
     "text": [
      "9.55 ms ± 502 µs per loop (mean ± std. dev. of 7 runs, 100 loops each)\n"
     ]
    }
   ],
   "source": [
    "%timeit documentRepresentation4()"
   ]
  },
  {
   "cell_type": "code",
   "execution_count": 64,
   "metadata": {},
   "outputs": [],
   "source": [
    "def documentRepresentation5():\n",
    "    documentList = defaultdict(lambda: defaultdict(int))\n",
    "    for idx in kobill.fileids():\n",
    "        for term in kobill.open(idx).read().split():\n",
    "            documentList[idx][term] += 1\n",
    "    return documentList"
   ]
  },
  {
   "cell_type": "code",
   "execution_count": 65,
   "metadata": {},
   "outputs": [],
   "source": [
    "docList = documentRepresentation5()"
   ]
  },
  {
   "cell_type": "code",
   "execution_count": null,
   "metadata": {},
   "outputs": [],
   "source": [
    "docList.keys()\n",
    "docList['1809891.txt']"
   ]
  },
  {
   "cell_type": "markdown",
   "metadata": {},
   "source": [
    "## doc term M => term doc M"
   ]
  },
  {
   "cell_type": "code",
   "execution_count": 92,
   "metadata": {},
   "outputs": [],
   "source": [
    "# Boolean 검색 => 집합론\n",
    "# DTM\n",
    "query = \"국회 의원 국민\"\n",
    "result = list()\n",
    "\n",
    "def booleanResult1():\n",
    "    for term in query.split():\n",
    "        searchResult = list()\n",
    "        for idx, termList in docList.items():\n",
    "            if term in termList.keys():\n",
    "                searchResult.append(idx)\n",
    "        result.append(searchResult)\n",
    "    one = result.pop()\n",
    "    while result:\n",
    "        temp = result.pop()\n",
    "        one = list(set(one).intersection(temp))\n",
    "    return one"
   ]
  },
  {
   "cell_type": "code",
   "execution_count": 101,
   "metadata": {},
   "outputs": [],
   "source": [
    "# TDM    doc1 doc2 doc3\n",
    "# term1 :  3    1    9 \n",
    "# term2 :  1    2    5 \n",
    "# query문의 term을 기준으로 볼 수 있으니까\n",
    "# key만 가져오면 lexicon\n",
    "# 보통 lexicon을 hash로 두고 doc vector를 posting으로 둠 pointer를 스위치하는 게 보통 \n",
    "\n",
    "\n",
    "TDM = defaultdict(lambda:defaultdict(int))\n",
    "for idx, termList in docList.items():\n",
    "    for term, freq in termList.items():\n",
    "        TDM[term][idx] = freq\n",
    "        \n",
    "        \n",
    "def booleanResult2():\n",
    "    result = list()\n",
    "\n",
    "    for term in query.split():\n",
    "        result.append(list(TDM[term].keys()))\n",
    "        \n",
    "    one = result.pop()\n",
    "    while result:\n",
    "        temp = result.pop()\n",
    "        one = list(set(one).intersection(temp))\n",
    "    return one"
   ]
  },
  {
   "cell_type": "code",
   "execution_count": 102,
   "metadata": {},
   "outputs": [
    {
     "name": "stdout",
     "output_type": "stream",
     "text": [
      "11 µs ± 1.66 µs per loop (mean ± std. dev. of 7 runs, 100000 loops each)\n"
     ]
    }
   ],
   "source": [
    "%timeit booleanResult1()"
   ]
  },
  {
   "cell_type": "code",
   "execution_count": 103,
   "metadata": {},
   "outputs": [
    {
     "name": "stdout",
     "output_type": "stream",
     "text": [
      "4.52 µs ± 416 ns per loop (mean ± std. dev. of 7 runs, 100000 loops each)\n"
     ]
    }
   ],
   "source": [
    "%timeit booleanResult2()"
   ]
  },
  {
   "cell_type": "code",
   "execution_count": null,
   "metadata": {},
   "outputs": [],
   "source": []
  }
 ],
 "metadata": {
  "kernelspec": {
   "display_name": "Python 3",
   "language": "python",
   "name": "python3"
  },
  "language_info": {
   "codemirror_mode": {
    "name": "ipython",
    "version": 3
   },
   "file_extension": ".py",
   "mimetype": "text/x-python",
   "name": "python",
   "nbconvert_exporter": "python",
   "pygments_lexer": "ipython3",
   "version": "3.6.6"
  }
 },
 "nbformat": 4,
 "nbformat_minor": 2
}
