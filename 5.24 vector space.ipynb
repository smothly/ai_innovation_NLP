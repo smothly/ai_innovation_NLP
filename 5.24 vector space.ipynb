{
 "cells": [
  {
   "cell_type": "code",
   "execution_count": 1,
   "metadata": {},
   "outputs": [],
   "source": [
    "from konlpy.corpus import kobill\n",
    "from collections import defaultdict\n",
    "\n",
    "def documentRepresentation5():\n",
    "    documentList = defaultdict(lambda: defaultdict(int))\n",
    "    for idx in kobill.fileids():\n",
    "        for term in kobill.open(idx).read().split():\n",
    "            documentList[idx][term] += 1\n",
    "    return documentList"
   ]
  },
  {
   "cell_type": "code",
   "execution_count": 2,
   "metadata": {},
   "outputs": [],
   "source": [
    "collection = {\n",
    "    ('Document1', 'This is a a a a a a a a sample'),\n",
    "    ('Document2', 'This is another sample'),\n",
    "    ('Document3', 'This is not a sample')\n",
    "}"
   ]
  },
  {
   "cell_type": "code",
   "execution_count": 6,
   "metadata": {},
   "outputs": [],
   "source": [
    "DTM = defaultdict(lambda: defaultdict(int))\n",
    "for docName, docConternt in collection:\n",
    "    for term in docConternt.lower().split():\n",
    "        DTM[docName][term] += 1\n",
    "        \n",
    "TDM = defaultdict(lambda: defaultdict(int))\n",
    "for idx, termList in DTM.items():\n",
    "    for term, freq in termList.items():\n",
    "        TDM[term][idx] = freq"
   ]
  },
  {
   "cell_type": "code",
   "execution_count": 7,
   "metadata": {},
   "outputs": [
    {
     "data": {
      "text/plain": [
       "dict_values([defaultdict(<class 'int'>, {'this': 1, 'is': 1, 'another': 1, 'sample': 1}), defaultdict(<class 'int'>, {'this': 1, 'is': 1, 'not': 1, 'a': 1, 'sample': 1}), defaultdict(<class 'int'>, {'this': 1, 'is': 1, 'a': 8, 'sample': 1})])"
      ]
     },
     "execution_count": 7,
     "metadata": {},
     "output_type": "execute_result"
    }
   ],
   "source": [
    "# N=len(DTM), |V|=len(TDM), DTM.keys(), V=TDM.keys()\n",
    "# maxTF(in Document1) = max(DTM['Document1'].values())\n",
    "\n",
    "N = len(DTM)\n",
    "\n",
    "DTM.values()"
   ]
  },
  {
   "cell_type": "code",
   "execution_count": 19,
   "metadata": {},
   "outputs": [],
   "source": [
    "from math import log2\n",
    "\n",
    "TWM = defaultdict(lambda:defaultdict(float))\n",
    "for idx, termList in DTM.items():\n",
    "    maxTF = max(termList.values())\n",
    "    for term, freq in termList.items():\n",
    "        TF = freq/maxTF\n",
    "        IDF = log2(N/len(TDM[term]))\n",
    "        TWM[term][idx] = TF*IDF\n",
    "        \n",
    "        "
   ]
  },
  {
   "cell_type": "code",
   "execution_count": 20,
   "metadata": {},
   "outputs": [
    {
     "data": {
      "text/plain": [
       "defaultdict(<function __main__.<lambda>()>,\n",
       "            {'this': defaultdict(float,\n",
       "                         {'Document2': 0.0,\n",
       "                          'Document3': 0.0,\n",
       "                          'Document1': 0.0}),\n",
       "             'is': defaultdict(float,\n",
       "                         {'Document2': 0.0,\n",
       "                          'Document3': 0.0,\n",
       "                          'Document1': 0.0}),\n",
       "             'another': defaultdict(float, {'Document2': 1.584962500721156}),\n",
       "             'sample': defaultdict(float,\n",
       "                         {'Document2': 0.0,\n",
       "                          'Document3': 0.0,\n",
       "                          'Document1': 0.0}),\n",
       "             'not': defaultdict(float, {'Document3': 1.584962500721156}),\n",
       "             'a': defaultdict(float,\n",
       "                         {'Document3': 0.5849625007211562,\n",
       "                          'Document1': 0.5849625007211562})})"
      ]
     },
     "execution_count": 20,
     "metadata": {},
     "output_type": "execute_result"
    }
   ],
   "source": [
    "TWM # 다양한 빈도속에서 옥석이 가려낼 것임"
   ]
  },
  {
   "cell_type": "code",
   "execution_count": 21,
   "metadata": {},
   "outputs": [],
   "source": [
    "from konlpy.corpus import kobill\n",
    "from konlpy.tag import Komoran\n",
    "from math import sqrt\n",
    "\n",
    "ma = Komoran()\n",
    "DTM = defaultdict(lambda: defaultdict(int))\n",
    "for idx in kobill.fileids():\n",
    "#     ma.pos() : 형태소/품사\n",
    "#     ma.morphs() : 형태소, 형태소 ...\n",
    "#     ma.nouns() : 명사, 명사 ...\n",
    "    for term in kobill.open(idx).read().split():\n",
    "        for token in ma.pos(term):\n",
    "            DTM[idx][\"/\".join(token)] += 1\n",
    "#             DTM[docName][term] += 1\n",
    "        \n",
    "TDM = defaultdict(lambda: defaultdict(int))\n",
    "for idx, termList in DTM.items():\n",
    "    for term, freq in termList.items():\n",
    "        TDM[term][idx] = freq\n",
    "        \n",
    "TWM = defaultdict(lambda:defaultdict(float))\n",
    "DVL = defaultdict(float)\n",
    "\n",
    "N = len(DTM)\n",
    "for idx, termList in DTM.items():\n",
    "    maxTF = max(termList.values())\n",
    "    for term, freq in termList.items():\n",
    "        TF = freq/(maxTF + 1)\n",
    "        IDF = log2(N/len(TDM[term]))\n",
    "        TWM[term][idx] = TF*IDF\n",
    "        DVL[idx] += TWM[term][idx]**2\n",
    "        \n",
    "for idx, length in DVL.items():\n",
    "    DVL[idx] = sqrt(length)"
   ]
  },
  {
   "cell_type": "code",
   "execution_count": 23,
   "metadata": {},
   "outputs": [
    {
     "data": {
      "text/plain": [
       "defaultdict(float,\n",
       "            {'1809890.txt': 1.5139677253857564,\n",
       "             '1809891.txt': 1.51273592886795,\n",
       "             '1809892.txt': 1.389903004021774,\n",
       "             '1809893.txt': 1.5948700159365905,\n",
       "             '1809894.txt': 3.4211226711134883,\n",
       "             '1809895.txt': 2.5130955975730007,\n",
       "             '1809896.txt': 2.0256978581464455,\n",
       "             '1809897.txt': 2.9143263234869248,\n",
       "             '1809898.txt': 2.4906165500672466,\n",
       "             '1809899.txt': 2.059529616511176})"
      ]
     },
     "execution_count": 23,
     "metadata": {},
     "output_type": "execute_result"
    }
   ],
   "source": [
    "DVL"
   ]
  },
  {
   "cell_type": "markdown",
   "metadata": {},
   "source": [
    "# similarity\n",
    "## 유클리디안 디스턴스는 점으로 보기 때문에 문서의 의미를 전부 못담고 패널티가 너무크다\n",
    "## -> 그래서 세타값인 코사인 유사도를 가지고 할 것이다.\n",
    "## 단위벡터를 사용하기 때문에"
   ]
  },
  {
   "cell_type": "code",
   "execution_count": 31,
   "metadata": {},
   "outputs": [
    {
     "name": "stdout",
     "output_type": "stream",
     "text": [
      "문서이름:1809899.txt / 유사도:0.0509\n",
      "['결혼중개업의 관리에 관한 법률 일부개정법률안\\n\\n(한선교의원 대표발의 )\\n\\n 의 안\\n 번 호\\n\\n9899\\n\\n발의연월일 : 2010.', '11.', '15.']\n",
      "문서이름:1809898.txt / 유사도:0.0215\n",
      "['국군부대의 소말리아 해역 파견연장 동의안\\n\\n의안\\n                                                                  제출연월일 :  2010.', '11.', '15.']\n",
      "문서이름:1809897.txt / 유사도:0.0204\n",
      "['국군부대의 아랍에미리트(UAE)군 교육훈련 지원 등에 \\n관한 파견 동의안\\n\\n의안\\n                                                                  제출연월일 :  2010.', '11.', '15.']\n",
      "문서이름:1809891.txt / 유사도:0.0040\n",
      "['국가공무원법 일부개정법률안\\n\\n(정의화의원 대표발의 )\\n\\n 의 안\\n 번 호\\n\\n9891\\n\\n발의연월일 : 2010.', '11.', '12.']\n",
      "문서이름:1809890.txt / 유사도:0.0040\n",
      "['지방공무원법 일부개정법률안\\n\\n(정의화의원 대표발의 )\\n\\n 의 안\\n 번 호\\n\\n9890\\n\\n발의연월일 : 2010.', '11.', '12.']\n"
     ]
    }
   ],
   "source": [
    "from nltk.tokenize import sent_tokenize\n",
    "\n",
    "query = '국방의 의무와 보편적 의무에 대한 의무를 찾아주세요.'\n",
    "\n",
    "TQM = defaultdict(int)\n",
    "QWM = defaultdict(float)\n",
    "\n",
    "for term in query.split():\n",
    "    for token in ma.pos(term):\n",
    "        TQM['/'.join(token)] += 1\n",
    "        \n",
    "alpha = 0.5\n",
    "maxTF = max(TQM.values())\n",
    "for term, ferq in TQM.items():\n",
    "    TF = alpha + (1-alpha)*(freq/maxTF)\n",
    "    DF = len(TWM[term]) if len(TWM[term]) > 0 else 1\n",
    "    IDF = log2(N/DF)\n",
    "    QWM[term] = TF*IDF\n",
    "    \n",
    "candidateList = defaultdict(float)\n",
    "for term, weight1 in QWM.items():\n",
    "    for doc, weight2 in TWM[term].items():\n",
    "        innerProduct = weight1 * weight2\n",
    "        candidateList[doc] += innerProduct\n",
    "        \n",
    "for doc, sim in candidateList.items():\n",
    "    candidateList[doc] = sim/DVL[doc]\n",
    "    \n",
    "K = 5\n",
    "for doc, sim in sorted(candidateList.items(), key=lambda x:x[1], reverse=True)[:K]:\n",
    "    print('문서이름:{0} / 유사도:{1:.4f}'.format(doc, sim))\n",
    "    print(sent_tokenize(kobill.open(doc).read())[:3])"
   ]
  },
  {
   "cell_type": "code",
   "execution_count": 43,
   "metadata": {},
   "outputs": [
    {
     "data": {
      "text/plain": [
       "defaultdict(int,\n",
       "            {'국방/NNP': 1,\n",
       "             '의/JKG': 1,\n",
       "             '의무/NNG': 3,\n",
       "             '와/JC': 1,\n",
       "             '보편/NNG': 1,\n",
       "             '적/XSN': 1,\n",
       "             '에/JKB': 1,\n",
       "             '대하/VV': 1,\n",
       "             'ㄴ/ETM': 1,\n",
       "             '를/JKO': 1,\n",
       "             '찾/VV': 1,\n",
       "             '아/EC': 1,\n",
       "             '주/VX': 1,\n",
       "             '시/EP': 1,\n",
       "             '어요/EF': 1,\n",
       "             './SF': 1})"
      ]
     },
     "execution_count": 43,
     "metadata": {},
     "output_type": "execute_result"
    }
   ],
   "source": [
    "query = '국방의 의무와 보편적 의무에 대한 의무를 찾아주세요.'\n",
    "\n",
    "TQM = defaultdict(int)\n",
    "QWM = defaultdict(float)\n",
    "\n",
    "for term in query.split():\n",
    "    for token in ma.pos(term):\n",
    "        TQM['/'.join(token)] += 1\n",
    "TQM"
   ]
  },
  {
   "cell_type": "code",
   "execution_count": 50,
   "metadata": {},
   "outputs": [],
   "source": [
    "alpha = 0.5\n",
    "maxTF = max(TQM.values())\n",
    "for term, ferq in TQM.items():\n",
    "    TF = alpha + (1-alpha)*(freq/maxTF)\n",
    "    DF = len(TWM[term]) if len(TWM[term]) > 0 else 1\n",
    "    IDF = log2(N/DF)\n",
    "    QWM[term] = TF*IDF"
   ]
  },
  {
   "cell_type": "code",
   "execution_count": 51,
   "metadata": {},
   "outputs": [
    {
     "data": {
      "text/plain": [
       "(10,\n",
       " defaultdict(float,\n",
       "             {'국방/NNP': 1.5479520632582413,\n",
       "              '의/JKG': 0.0,\n",
       "              '의무/NNG': 2.214618729924908,\n",
       "              '와/JC': 0.10133539563003337,\n",
       "              '보편/NNG': 2.214618729924908,\n",
       "              '적/XSN': 0.10133539563003337,\n",
       "              '에/JKB': 0.0,\n",
       "              '대하/VV': 0.0,\n",
       "              'ㄴ/ETM': 0.0,\n",
       "              '를/JKO': 0.0,\n",
       "              '찾/VV': 2.214618729924908,\n",
       "              '아/EC': 0.0,\n",
       "              '주/VX': 0.34304878188650545,\n",
       "              '시/EP': 2.214618729924908,\n",
       "              '어요/EF': 2.214618729924908,\n",
       "              './SF': 0.0}))"
      ]
     },
     "execution_count": 51,
     "metadata": {},
     "output_type": "execute_result"
    }
   ],
   "source": [
    "N, QWM"
   ]
  },
  {
   "cell_type": "code",
   "execution_count": 52,
   "metadata": {},
   "outputs": [],
   "source": [
    "candidateList = defaultdict(float)\n",
    "for term, weight1 in QWM.items():\n",
    "    for doc, weight2 in TWM[term].items():\n",
    "        innerProduct = weight1 * weight2\n",
    "        candidateList[doc] += innerProduct\n",
    "        \n",
    "for doc, sim in candidateList.items():\n",
    "    candidateList[doc] = sim/DVL[doc]"
   ]
  },
  {
   "cell_type": "code",
   "execution_count": 53,
   "metadata": {},
   "outputs": [
    {
     "name": "stdout",
     "output_type": "stream",
     "text": [
      "문서이름 : 1809899.txt / 유사도:0.0509\n",
      "['결혼중개업의 관리에 관한 법률 일부개정법률안\\n\\n(한선교의원 대표발의 )\\n\\n 의 안\\n 번 호\\n\\n9899\\n\\n발의연월일 : 2010.', '11.', '15.']\n",
      "\n",
      "문서이름 : 1809898.txt / 유사도:0.0215\n",
      "['국군부대의 소말리아 해역 파견연장 동의안\\n\\n의안\\n                                                                  제출연월일 :  2010.', '11.', '15.']\n",
      "\n",
      "문서이름 : 1809897.txt / 유사도:0.0204\n",
      "['국군부대의 아랍에미리트(UAE)군 교육훈련 지원 등에 \\n관한 파견 동의안\\n\\n의안\\n                                                                  제출연월일 :  2010.', '11.', '15.']\n",
      "\n",
      "문서이름 : 1809891.txt / 유사도:0.0040\n",
      "['국가공무원법 일부개정법률안\\n\\n(정의화의원 대표발의 )\\n\\n 의 안\\n 번 호\\n\\n9891\\n\\n발의연월일 : 2010.', '11.', '12.']\n",
      "\n",
      "문서이름 : 1809890.txt / 유사도:0.0040\n",
      "['지방공무원법 일부개정법률안\\n\\n(정의화의원 대표발의 )\\n\\n 의 안\\n 번 호\\n\\n9890\\n\\n발의연월일 : 2010.', '11.', '12.']\n",
      "\n"
     ]
    }
   ],
   "source": [
    "from nltk.tokenize import sent_tokenize\n",
    "\n",
    "K = 5 \n",
    "for doc, sim in sorted(candidateList.items(), key=lambda x:x[1], reverse=True)[:K]:\n",
    "    print(\"문서이름 : {0} / 유사도:{1:.4f}\".format(doc, sim))\n",
    "    print(sent_tokenize(kobill.open(doc).read())[:3])\n",
    "    print(\"\")"
   ]
  },
  {
   "cell_type": "code",
   "execution_count": 72,
   "metadata": {},
   "outputs": [],
   "source": [
    "# kobill.open(\"1809899.txt\").read()"
   ]
  },
  {
   "cell_type": "code",
   "execution_count": 54,
   "metadata": {},
   "outputs": [
    {
     "data": {
      "text/plain": [
       "defaultdict(float, {'1809899.txt': 0.04678771964630088})"
      ]
     },
     "execution_count": 54,
     "metadata": {},
     "output_type": "execute_result"
    }
   ],
   "source": [
    "TWM[\"의무/NNG\"]"
   ]
  },
  {
   "cell_type": "markdown",
   "metadata": {},
   "source": [
    "### 유클리디안으로 하기"
   ]
  },
  {
   "cell_type": "code",
   "execution_count": 62,
   "metadata": {},
   "outputs": [
    {
     "name": "stdout",
     "output_type": "stream",
     "text": [
      "1809890.txt 841 484 1947\n",
      "1809891.txt 834 480 1941\n",
      "1809892.txt 984 516 2250\n",
      "1809893.txt 840 490 1942\n",
      "1809894.txt 242 206 520\n",
      "1809895.txt 394 272 889\n",
      "1809896.txt 1939 624 4217\n",
      "1809897.txt 788 409 1430\n",
      "1809898.txt 821 405 1466\n",
      "1809899.txt 1677 532 3899\n"
     ]
    },
    {
     "data": {
      "text/plain": [
       "defaultdict(float,\n",
       "            {'1809890.txt': 1.5550626224016812,\n",
       "             '1809891.txt': 1.5538634034460859,\n",
       "             '1809892.txt': 1.435498611350987,\n",
       "             '1809893.txt': 1.633815708477598,\n",
       "             '1809897.txt': 3.302848274077221,\n",
       "             '1809898.txt': 2.9377263509745783,\n",
       "             '1809894.txt': 3.4211226711134897,\n",
       "             '1809895.txt': 2.5157501870556507,\n",
       "             '1809896.txt': 2.0572101455799565,\n",
       "             '1809899.txt': 2.992807843973513})"
      ]
     },
     "execution_count": 62,
     "metadata": {},
     "output_type": "execute_result"
    }
   ],
   "source": [
    "candidateList = defaultdict(float)\n",
    "for term, docList in TWM.items():\n",
    "    for doc, weight1 in docList.items():\n",
    "        weight2 = QWM[term]\n",
    "        candidateList[doc] += (weight1 - weight2)**2 \n",
    "        \n",
    "for doc, sim in candidateList.items():\n",
    "    candidateList[doc] = sqrt(sim)\n",
    "\n",
    "for doc in DTM:\n",
    "    print(doc, len(kobill.open(doc).read().split()), len(DTM[doc]), sum(DTM[doc].values()))\n",
    "candidateList"
   ]
  },
  {
   "cell_type": "code",
   "execution_count": 63,
   "metadata": {},
   "outputs": [
    {
     "name": "stdout",
     "output_type": "stream",
     "text": [
      "문서이름:1809892.txt / 거리:1.4355\n",
      "['교육공무원법 일부개정법률안\\n\\n(정의화의원 대표발의 )\\n\\n 의 안\\n 번 호\\n\\n9892\\n\\n발의연월일 : 2010.', '11.', '12.']\n",
      "\n",
      "문서이름:1809891.txt / 거리:1.5539\n",
      "['국가공무원법 일부개정법률안\\n\\n(정의화의원 대표발의 )\\n\\n 의 안\\n 번 호\\n\\n9891\\n\\n발의연월일 : 2010.', '11.', '12.']\n",
      "\n",
      "문서이름:1809890.txt / 거리:1.5551\n",
      "['지방공무원법 일부개정법률안\\n\\n(정의화의원 대표발의 )\\n\\n 의 안\\n 번 호\\n\\n9890\\n\\n발의연월일 : 2010.', '11.', '12.']\n",
      "\n",
      "문서이름:1809893.txt / 거리:1.6338\n",
      "['남녀고용평등과 일 ·가정 양립 지원에 관한 법률 \\n\\n일부개정법률안\\n\\n(정의화의원 대표발의 )\\n\\n 의 안\\n 번 호\\n\\n9893\\n\\n발의연월일 : 2010.', '11.', '12.']\n",
      "\n",
      "문서이름:1809896.txt / 거리:2.0572\n",
      "['행정절차법 일부개정법률안\\n\\n(유선호의원 대표발의 )\\n\\n 의 안\\n 번 호\\n\\n9896\\n\\n발의연월일 : 2010.', '11.', '15.']\n",
      "\n"
     ]
    }
   ],
   "source": [
    "from nltk.tokenize import sent_tokenize\n",
    "\n",
    "K = 5\n",
    "for doc, sim in sorted(candidateList.items(), key=lambda x:x[1])[:K]:\n",
    "    print('문서이름:{0} / 거리:{1:.4f}'.format(doc, sim))\n",
    "    print(sent_tokenize(kobill.open(doc).read())[:3])\n",
    "    print()"
   ]
  },
  {
   "cell_type": "code",
   "execution_count": null,
   "metadata": {},
   "outputs": [],
   "source": []
  }
 ],
 "metadata": {
  "kernelspec": {
   "display_name": "Python 3",
   "language": "python",
   "name": "python3"
  },
  "language_info": {
   "codemirror_mode": {
    "name": "ipython",
    "version": 3
   },
   "file_extension": ".py",
   "mimetype": "text/x-python",
   "name": "python",
   "nbconvert_exporter": "python",
   "pygments_lexer": "ipython3",
   "version": "3.6.6"
  }
 },
 "nbformat": 4,
 "nbformat_minor": 2
}
