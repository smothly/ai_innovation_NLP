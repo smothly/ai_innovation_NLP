{
 "cells": [
  {
   "cell_type": "code",
   "execution_count": 2,
   "metadata": {},
   "outputs": [],
   "source": [
    "from bs4 import BeautifulSoup"
   ]
  },
  {
   "cell_type": "code",
   "execution_count": 3,
   "metadata": {},
   "outputs": [],
   "source": [
    "# Test html \n",
    "html = '''\n",
    "<html>\n",
    "    <head></head>\n",
    "    <body>\n",
    "        <div id = 'result'>\n",
    "           <p class = 'row'>\n",
    "               <a class = 'red'>Go to page1</a>\n",
    "               <a class = 'blue'>Go to page2</a>\n",
    "            </p>\n",
    "        </div>\n",
    "    </body>\n",
    "</html>\n",
    "'''\n",
    "\n",
    "dom = BeautifulSoup(html, 'lxml')"
   ]
  },
  {
   "cell_type": "code",
   "execution_count": 4,
   "metadata": {},
   "outputs": [
    {
     "data": {
      "text/plain": [
       "(bs4.element.Tag, bs4.element.Tag)"
      ]
     },
     "execution_count": 4,
     "metadata": {},
     "output_type": "execute_result"
    }
   ],
   "source": [
    "type(dom.html.head), type(dom.html)"
   ]
  },
  {
   "cell_type": "code",
   "execution_count": 5,
   "metadata": {},
   "outputs": [
    {
     "data": {
      "text/plain": [
       "(<a class=\"red\">Go to page1</a>, <a class=\"red\">Go to page1</a>)"
      ]
     },
     "execution_count": 5,
     "metadata": {},
     "output_type": "execute_result"
    }
   ],
   "source": [
    "dom.a, dom.find('a')"
   ]
  },
  {
   "cell_type": "code",
   "execution_count": 6,
   "metadata": {},
   "outputs": [
    {
     "name": "stdout",
     "output_type": "stream",
     "text": [
      "a ['red'] Go to page1\n",
      "a ['blue'] Go to page2\n"
     ]
    }
   ],
   "source": [
    "for tag in dom.find_all('a'):\n",
    "    print(tag.name, tag['class'], tag.text)"
   ]
  },
  {
   "cell_type": "code",
   "execution_count": 7,
   "metadata": {},
   "outputs": [
    {
     "data": {
      "text/plain": [
       "[<a class=\"blue\">Go to page2</a>]"
      ]
     },
     "execution_count": 7,
     "metadata": {},
     "output_type": "execute_result"
    }
   ],
   "source": [
    "dom.find_all('a', {'class':'blue'})"
   ]
  },
  {
   "cell_type": "code",
   "execution_count": 8,
   "metadata": {},
   "outputs": [
    {
     "data": {
      "text/plain": [
       "[<div id=\"result\">\n",
       " <p class=\"row\">\n",
       " <a class=\"red\">Go to page1</a>\n",
       " <a class=\"blue\">Go to page2</a>\n",
       " </p>\n",
       " </div>, <a class=\"red\">Go to page1</a>, <a class=\"blue\">Go to page2</a>]"
      ]
     },
     "execution_count": 8,
     "metadata": {},
     "output_type": "execute_result"
    }
   ],
   "source": [
    "dom.find_all(['div', 'a'])"
   ]
  },
  {
   "cell_type": "code",
   "execution_count": 9,
   "metadata": {},
   "outputs": [
    {
     "data": {
      "text/plain": [
       "[<div id=\"result\">\n",
       " <p class=\"row\">\n",
       " <a class=\"red\">Go to page1</a>\n",
       " <a class=\"blue\">Go to page2</a>\n",
       " </p>\n",
       " </div>]"
      ]
     },
     "execution_count": 9,
     "metadata": {},
     "output_type": "execute_result"
    }
   ],
   "source": [
    "dom.find_all('', {'id':'result'}) "
   ]
  },
  {
   "cell_type": "markdown",
   "metadata": {},
   "source": [
    "### http://pythonscraping.com/pages/page3.html (Test Url)"
   ]
  },
  {
   "cell_type": "code",
   "execution_count": 11,
   "metadata": {},
   "outputs": [],
   "source": [
    "from urllib import parse\n",
    "import requests\n",
    "\n",
    "header = {'user-agent':'Mozilla/5.0 (Windows NT 10.0; Win64; x64) AppleWebKit/537.36 (KHTML, like Gecko) Chrome/73.0.3683.103 Safari/537.36'}\n",
    "\n",
    "def getDownload(url, params={}, retries=3):\n",
    "    resp = None\n",
    "    \n",
    "    try:\n",
    "        resp = requests.get(url, params=params, headers=header)\n",
    "        resp.raise_for_status()\n",
    "    except requests.exceptions.HTTPError as e:\n",
    "        if 500 <= e.response.status_code < 600 and retries > 0:\n",
    "            print(retries)\n",
    "            resp = getDownload(url, params, retries-1)\n",
    "        else:\n",
    "            print(e.response.status_code)\n",
    "            print(e.response.reason)\n",
    "            print(e.response.headers)\n",
    "            \n",
    "    return resp"
   ]
  },
  {
   "cell_type": "code",
   "execution_count": 12,
   "metadata": {},
   "outputs": [],
   "source": [
    "# html.text\n",
    "url = 'http://pythonscraping.com/pages/page3.html'\n",
    "html = getDownload(url)\n",
    "dom = BeautifulSoup(html.text, 'lxml')\n",
    "footer = dom.find('div', {'id':'footer'})"
   ]
  },
  {
   "cell_type": "code",
   "execution_count": 13,
   "metadata": {},
   "outputs": [
    {
     "data": {
      "text/plain": [
       "('div', {'id': 'wrapper'})"
      ]
     },
     "execution_count": 13,
     "metadata": {},
     "output_type": "execute_result"
    }
   ],
   "source": [
    "parent = footer.find_parent()\n",
    "parent.name, parent.attrs"
   ]
  },
  {
   "cell_type": "code",
   "execution_count": 16,
   "metadata": {},
   "outputs": [],
   "source": [
    "# children tag의 하부 tree 뿐 아니라 형제 Tree의 하부 까지 모두 찾는다.\n",
    "children = parent.find_all()\n",
    "# children"
   ]
  },
  {
   "cell_type": "code",
   "execution_count": 17,
   "metadata": {},
   "outputs": [
    {
     "name": "stdout",
     "output_type": "stream",
     "text": [
      "img {'src': '../img/gifts/logo.jpg', 'style': 'float:left;'}\n",
      "h1 {}\n",
      "div {'id': 'content'}\n",
      "table {'id': 'giftList'}\n",
      "div {'id': 'footer'}\n"
     ]
    }
   ],
   "source": [
    "# recursive=False로 지정하면, 원래의 children tag의 하부 Tree 만 찾는다.\n",
    "children = parent.find_all(recursive=False)\n",
    "for row in children:\n",
    "    print(row.name, row.attrs)"
   ]
  },
  {
   "cell_type": "code",
   "execution_count": 18,
   "metadata": {},
   "outputs": [
    {
     "name": "stdout",
     "output_type": "stream",
     "text": [
      "img {'src': '../img/gifts/logo.jpg', 'style': 'float:left;'}\n",
      "h1 {}\n",
      "div {'id': 'content'}\n",
      "p {}\n",
      "br {}\n",
      "br {}\n",
      "table {'id': 'giftList'}\n",
      "tr {}\n",
      "th {}\n",
      "th {}\n",
      "th {}\n",
      "th {}\n",
      "tr {'id': 'gift1', 'class': ['gift']}\n",
      "td {}\n",
      "td {}\n",
      "span {'class': ['excitingNote']}\n",
      "td {}\n",
      "td {}\n",
      "img {'src': '../img/gifts/img1.jpg'}\n",
      "tr {'id': 'gift2', 'class': ['gift']}\n",
      "td {}\n",
      "td {}\n",
      "span {'class': ['excitingNote']}\n",
      "td {}\n",
      "td {}\n",
      "img {'src': '../img/gifts/img2.jpg'}\n",
      "tr {'id': 'gift3', 'class': ['gift']}\n",
      "td {}\n",
      "td {}\n",
      "span {'class': ['excitingNote']}\n",
      "td {}\n",
      "td {}\n",
      "img {'src': '../img/gifts/img3.jpg'}\n",
      "tr {'id': 'gift4', 'class': ['gift']}\n",
      "td {}\n",
      "td {}\n",
      "span {'class': ['excitingNote']}\n",
      "td {}\n",
      "td {}\n",
      "img {'src': '../img/gifts/img4.jpg'}\n",
      "tr {'id': 'gift5', 'class': ['gift']}\n",
      "td {}\n",
      "td {}\n",
      "span {'class': ['excitingNote']}\n",
      "td {}\n",
      "td {}\n",
      "img {'src': '../img/gifts/img6.jpg'}\n",
      "div {'id': 'footer'}\n",
      "br {}\n"
     ]
    }
   ],
   "source": [
    "descendants = parent.find_all()\n",
    "for row in descendants:\n",
    "    print(row.name, row.attrs)"
   ]
  },
  {
   "cell_type": "code",
   "execution_count": 19,
   "metadata": {},
   "outputs": [
    {
     "name": "stdout",
     "output_type": "stream",
     "text": [
      "p {} \n",
      "We haven't figured out how to make online shopping carts yet, but you can send us a check to:\n",
      "123 Main St.\n",
      "Abuja, Nigeria\n",
      "We will then send your totally amazing gift, pronto! Please include an extra $5.00 for gift wrapping.\n"
     ]
    }
   ],
   "source": [
    "divChildren = children[2].find_all(recursive = False)\n",
    "for row in divChildren:\n",
    "    print(row.name, row.attrs, row.text)"
   ]
  },
  {
   "cell_type": "code",
   "execution_count": 20,
   "metadata": {},
   "outputs": [
    {
     "data": {
      "text/plain": [
       "('h1', 'h1')"
      ]
     },
     "execution_count": 20,
     "metadata": {},
     "output_type": "execute_result"
    }
   ],
   "source": [
    "divTag = children[2]\n",
    "children[1].name, divTag.find_previous_sibling().name"
   ]
  },
  {
   "cell_type": "code",
   "execution_count": 21,
   "metadata": {},
   "outputs": [
    {
     "data": {
      "text/plain": [
       "[<table id=\"giftList\">\n",
       " <tr><th>\n",
       " Item Title\n",
       " </th><th>\n",
       " Description\n",
       " </th><th>\n",
       " Cost\n",
       " </th><th>\n",
       " Image\n",
       " </th></tr>\n",
       " <tr class=\"gift\" id=\"gift1\"><td>\n",
       " Vegetable Basket\n",
       " </td><td>\n",
       " This vegetable basket is the perfect gift for your health conscious (or overweight) friends!\n",
       " <span class=\"excitingNote\">Now with super-colorful bell peppers!</span>\n",
       " </td><td>\n",
       " $15.00\n",
       " </td><td>\n",
       " <img src=\"../img/gifts/img1.jpg\"/>\n",
       " </td></tr>\n",
       " <tr class=\"gift\" id=\"gift2\"><td>\n",
       " Russian Nesting Dolls\n",
       " </td><td>\n",
       " Hand-painted by trained monkeys, these exquisite dolls are priceless! And by \"priceless,\" we mean \"extremely expensive\"! <span class=\"excitingNote\">8 entire dolls per set! Octuple the presents!</span>\n",
       " </td><td>\n",
       " $10,000.52\n",
       " </td><td>\n",
       " <img src=\"../img/gifts/img2.jpg\"/>\n",
       " </td></tr>\n",
       " <tr class=\"gift\" id=\"gift3\"><td>\n",
       " Fish Painting\n",
       " </td><td>\n",
       " If something seems fishy about this painting, it's because it's a fish! <span class=\"excitingNote\">Also hand-painted by trained monkeys!</span>\n",
       " </td><td>\n",
       " $10,005.00\n",
       " </td><td>\n",
       " <img src=\"../img/gifts/img3.jpg\"/>\n",
       " </td></tr>\n",
       " <tr class=\"gift\" id=\"gift4\"><td>\n",
       " Dead Parrot\n",
       " </td><td>\n",
       " This is an ex-parrot! <span class=\"excitingNote\">Or maybe he's only resting?</span>\n",
       " </td><td>\n",
       " $0.50\n",
       " </td><td>\n",
       " <img src=\"../img/gifts/img4.jpg\"/>\n",
       " </td></tr>\n",
       " <tr class=\"gift\" id=\"gift5\"><td>\n",
       " Mystery Box\n",
       " </td><td>\n",
       " If you love suprises, this mystery box is for you! Do not place on light-colored surfaces. May cause oil staining. <span class=\"excitingNote\">Keep your friends guessing!</span>\n",
       " </td><td>\n",
       " $1.50\n",
       " </td><td>\n",
       " <img src=\"../img/gifts/img6.jpg\"/>\n",
       " </td></tr>\n",
       " </table>, <div id=\"footer\">\n",
       " © Totally Normal Gifts, Inc. <br/>\n",
       " +234 (617) 863-0736\n",
       " </div>]"
      ]
     },
     "execution_count": 21,
     "metadata": {},
     "output_type": "execute_result"
    }
   ],
   "source": [
    "divTag.find_next_siblings() # 이웃"
   ]
  },
  {
   "cell_type": "code",
   "execution_count": 22,
   "metadata": {},
   "outputs": [
    {
     "data": {
      "text/plain": [
       "True"
      ]
     },
     "execution_count": 22,
     "metadata": {},
     "output_type": "execute_result"
    }
   ],
   "source": [
    "children[3] == divTag.find_next_sibling()"
   ]
  },
  {
   "cell_type": "markdown",
   "metadata": {},
   "source": [
    "## 특정부분만 가져오기"
   ]
  },
  {
   "cell_type": "code",
   "execution_count": 24,
   "metadata": {},
   "outputs": [
    {
     "name": "stdout",
     "output_type": "stream",
     "text": [
      "Cost\n",
      "$15.00\n",
      "$10,000.52\n",
      "$10,005.00\n",
      "$0.50\n",
      "$1.50\n"
     ]
    }
   ],
   "source": [
    "aList = dom.find_all('tr')\n",
    "for row in aList:\n",
    "    print(row.find_all(recursive = False)[2].text.strip())"
   ]
  },
  {
   "cell_type": "markdown",
   "metadata": {},
   "source": [
    "## 구글 검색결과"
   ]
  },
  {
   "cell_type": "code",
   "execution_count": 25,
   "metadata": {},
   "outputs": [
    {
     "name": "stdout",
     "output_type": "stream",
     "text": [
      "박보영 - 나무위키\n",
      "박보영 - 위키백과, 우리 모두의 백과사전\n",
      "박보영의 작품 목록 - 위키백과, 우리 모두의 백과사전\n",
      "[8화 예고] 박보영&안효섭, 구슬커플 드디어 로맨스 가나요...? _   어비스 ...\n",
      "박보영은 오래 지켜본다. 연애도, 연기 변신도 - 중앙일보 - 조인스\n",
      "박보영, tvN 드라마 '어비스' 여주인공 - MSN.com\n",
      "`어비스` 박보영·안효섭, 첫 만남부터 눈물…무슨 일? - 스타투데이\n",
      "'어비스' 박보영·안효섭, '강렬 눈빛 추적자' 변신…'박보영 죽음' 본격 추적 ...\n"
     ]
    }
   ],
   "source": [
    "# url = 'https://www.google.com/search?ei=olCDXIG-EpGNr7wPucGkuAc&q=%ED%8C%8C%EC%9D%B4%EC%8D%AC&oq=%ED%8C%8C%EC%9D%B4%EC%8D%AC&gs_l=psy-ab.3..35i39l2j0i67j0l6j0i20i263.9312.9312..9658...0.0..0.111.111.0j1......0....1..gws-wiz.y-nzWDsTdd0'\n",
    "# html = getDownload(url)\n",
    "\n",
    "url = 'https://www.google.com/search'\n",
    "params = {'q':'박보영'}\n",
    "html = getDownload(url,params)\n",
    "\n",
    "dom = BeautifulSoup(html.text, 'lxml')\n",
    "\n",
    "for tag in dom.find_all('', {'class':'r'}):\n",
    "    print(tag.find('h3').text)"
   ]
  },
  {
   "cell_type": "code",
   "execution_count": null,
   "metadata": {},
   "outputs": [],
   "source": []
  },
  {
   "cell_type": "code",
   "execution_count": null,
   "metadata": {},
   "outputs": [],
   "source": []
  }
 ],
 "metadata": {
  "kernelspec": {
   "display_name": "Python 3",
   "language": "python",
   "name": "python3"
  },
  "language_info": {
   "codemirror_mode": {
    "name": "ipython",
    "version": 3
   },
   "file_extension": ".py",
   "mimetype": "text/x-python",
   "name": "python",
   "nbconvert_exporter": "python",
   "pygments_lexer": "ipython3",
   "version": "3.6.6"
  }
 },
 "nbformat": 4,
 "nbformat_minor": 2
}
