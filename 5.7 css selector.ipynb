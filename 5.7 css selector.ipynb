{
 "cells": [
  {
   "cell_type": "markdown",
   "metadata": {},
   "source": [
    "# 5.7 수업 내용\n",
    "# 지난 수업 selector + Crawling "
   ]
  },
  {
   "cell_type": "markdown",
   "metadata": {},
   "source": [
    "# CSS SELECTOR"
   ]
  },
  {
   "cell_type": "code",
   "execution_count": 7,
   "metadata": {},
   "outputs": [],
   "source": [
    "import requests\n",
    "from bs4 import BeautifulSoup"
   ]
  },
  {
   "cell_type": "code",
   "execution_count": 2,
   "metadata": {},
   "outputs": [],
   "source": [
    "from urllib import parse\n",
    "\n",
    "header = {'user-agent':'Mozilla/5.0 (Windows NT 10.0; Win64; x64) AppleWebKit/537.36 (KHTML, like Gecko) Chrome/73.0.3683.103 Safari/537.36'}\n",
    "\n",
    "def getDownload(url, params={}, retries=3):\n",
    "    resp = None\n",
    "    \n",
    "    try:\n",
    "        resp = requests.get(url, params=params, headers=header)\n",
    "        resp.raise_for_status()\n",
    "    except requests.exceptions.HTTPError as e:\n",
    "        if 500 <= e.response.status_code < 600 and retries > 0:\n",
    "            print(retries)\n",
    "            resp = getDownload(url, params, retries-1)\n",
    "        else:\n",
    "            print(e.response.status_code)\n",
    "            print(e.response.reason)\n",
    "            print(e.response.headers)\n",
    "            \n",
    "    return resp"
   ]
  },
  {
   "cell_type": "markdown",
   "metadata": {},
   "source": [
    "# 다음"
   ]
  },
  {
   "cell_type": "code",
   "execution_count": 37,
   "metadata": {},
   "outputs": [],
   "source": [
    "html = getDownload(\"https://search.daum.net/search\", {\"q\":\"박보영\"})\n",
    "daum = BeautifulSoup(html.text, \"lxml\")"
   ]
  },
  {
   "cell_type": "code",
   "execution_count": 12,
   "metadata": {},
   "outputs": [
    {
     "data": {
      "text/plain": [
       "['http://v.media.daum.net/v/20190507140359069?f=o',\n",
       " 'http://v.media.daum.net/v/20190507175153358?f=o',\n",
       " 'http://v.media.daum.net/v/20190507185002021?f=o',\n",
       " 'http://v.media.daum.net/v/20190507175700537?f=o',\n",
       " 'http://papa0717.tistory.com/223',\n",
       " 'http://dudrms606.tistory.com/367',\n",
       " 'http://adam24eve.tistory.com/858',\n",
       " 'http://k3k2y.tistory.com/35',\n",
       " 'https://ko.wikipedia.org/wiki/%EB%B0%95%EB%B3%B4%EC%98%81',\n",
       " 'https://ko.wikipedia.org/wiki/%EB%B0%95%EB%B3%B4%EC%98%81%20%28%EB%B2%95%EC%A1%B0%EC%9D%B8%29',\n",
       " 'http://cafe.daum.net/subdued20club/ReHf/2280152?q=%EB%B0%95%EB%B3%B4%EC%98%81',\n",
       " 'http://cafe.daum.net/subdued20club/ReHf/2282606?q=%EB%B0%95%EB%B3%B4%EC%98%81',\n",
       " 'http://cafe.daum.net/ASMONACOFC/gAVU/1243818?q=%EB%B0%95%EB%B3%B4%EC%98%81',\n",
       " 'http://cafe.daum.net/ok1221/9Zdf/1524913?q=%EB%B0%95%EB%B3%B4%EC%98%81',\n",
       " 'http://tip.daum.net/answer/54503481?q=%EB%B0%95%EB%B3%B4%EC%98%81',\n",
       " 'http://tip.daum.net/answer/54767339?q=%EB%B0%95%EB%B3%B4%EC%98%81',\n",
       " 'http://tip.daum.net/answer/55072609?q=%EB%B0%95%EB%B3%B4%EC%98%81',\n",
       " 'http://tip.daum.net/answer/54866982?q=%EB%B0%95%EB%B3%B4%EC%98%81',\n",
       " 'http://gall.dcinside.com/board/lists/?id=parkboyoung',\n",
       " 'http://cafe.daum.net/parkboyoungfd',\n",
       " 'http://channels.vlive.tv/FCE49/video',\n",
       " 'http://www.bjc.or.kr/',\n",
       " 'javascript:;',\n",
       " 'javascript:;',\n",
       " 'javascript:;',\n",
       " 'javascript:;',\n",
       " 'javascript:;']"
      ]
     },
     "execution_count": 12,
     "metadata": {},
     "output_type": "execute_result"
    }
   ],
   "source": [
    "[_[\"href\"] for _ in daum.select(\"div.wrap_tit > a\")]"
   ]
  },
  {
   "cell_type": "markdown",
   "metadata": {},
   "source": [
    "# 네이버"
   ]
  },
  {
   "cell_type": "code",
   "execution_count": 27,
   "metadata": {},
   "outputs": [],
   "source": [
    "html = getDownload(\"https://www.naver.com/\")\n",
    "naver = BeautifulSoup(html.text, \"lxml\")"
   ]
  },
  {
   "cell_type": "code",
   "execution_count": 36,
   "metadata": {},
   "outputs": [
    {
     "data": {
      "text/plain": [
       "['하나경',\n",
       " '울산대교',\n",
       " '강은비',\n",
       " '한서희',\n",
       " '맥반석닭갈비',\n",
       " '정용국',\n",
       " '고양 창릉',\n",
       " '생방송 오늘저녁',\n",
       " '3기 신도시',\n",
       " '삼성바이오로직스',\n",
       " '어비스',\n",
       " '이다해',\n",
       " '강이준',\n",
       " '심재철',\n",
       " '부천 대장동',\n",
       " '양의지',\n",
       " '초면에 사랑합니다',\n",
       " '공민규',\n",
       " '규현',\n",
       " '한선교',\n",
       " '하나경',\n",
       " '울산대교',\n",
       " '강은비',\n",
       " '한서희',\n",
       " '맥반석닭갈비',\n",
       " '정용국',\n",
       " '고양 창릉',\n",
       " '생방송 오늘저녁',\n",
       " '3기 신도시',\n",
       " '삼성바이오로직스',\n",
       " '어비스',\n",
       " '이다해',\n",
       " '강이준',\n",
       " '심재철',\n",
       " '부천 대장동',\n",
       " '양의지',\n",
       " '초면에 사랑합니다',\n",
       " '공민규',\n",
       " '규현',\n",
       " '한선교']"
      ]
     },
     "execution_count": 36,
     "metadata": {},
     "output_type": "execute_result"
    }
   ],
   "source": [
    "[_.get_text() for _ in naver.select('.area_hotkeyword .ah_k ')]"
   ]
  },
  {
   "cell_type": "markdown",
   "metadata": {},
   "source": [
    "# Crawling"
   ]
  },
  {
   "cell_type": "markdown",
   "metadata": {},
   "source": [
    "단어들 인덱스할 것임<br>\n",
    "scrapy vs beautifulsoup 차이<br>\n",
    "scrapy는 프레임워크 bs는 라이브러리<br>\n",
    "페이지 한번 방문할 때 마다 링크를 축적해가며 다시 세팅하여 크롤한다<br>"
   ]
  },
  {
   "cell_type": "code",
   "execution_count": 8,
   "metadata": {},
   "outputs": [],
   "source": [
    "seed = \"http://example.webscraping.com/places/default/index\"\n",
    "html = getDownload(seed)\n",
    "dom = BeautifulSoup(html.content, 'lxml')"
   ]
  },
  {
   "cell_type": "code",
   "execution_count": 9,
   "metadata": {},
   "outputs": [],
   "source": [
    "links = [_[\"href\"] for _ in dom.select(\"a\")]\n",
    "# #이면 자바스크립트 시작기호? 무시해야함\n",
    "# url 정규화 필요\n",
    "# "
   ]
  },
  {
   "cell_type": "code",
   "execution_count": 10,
   "metadata": {},
   "outputs": [
    {
     "name": "stdout",
     "output_type": "stream",
     "text": [
      "http://example.webscraping.com/places/default/user/register?_next=/places/default/index\n",
      "http://example.webscraping.com/places/default/user/login?_next=/places/default/index\n",
      "http://example.webscraping.com/places/default/index\n",
      "http://example.webscraping.com/places/default/search\n",
      "http://example.webscraping.com/places/default/view/Afghanistan-1\n",
      "http://example.webscraping.com/places/default/view/Aland-Islands-2\n",
      "http://example.webscraping.com/places/default/view/Albania-3\n",
      "http://example.webscraping.com/places/default/view/Algeria-4\n",
      "http://example.webscraping.com/places/default/view/American-Samoa-5\n",
      "http://example.webscraping.com/places/default/view/Andorra-6\n",
      "http://example.webscraping.com/places/default/view/Angola-7\n",
      "http://example.webscraping.com/places/default/view/Anguilla-8\n",
      "http://example.webscraping.com/places/default/view/Antarctica-9\n",
      "http://example.webscraping.com/places/default/view/Antigua-and-Barbuda-10\n",
      "http://example.webscraping.com/places/default/index/1\n"
     ]
    }
   ],
   "source": [
    "for link in links:\n",
    "    # # , /, http, https 가 올 것임\n",
    "    if link[0] == \"/\":\n",
    "        print(requests.compat.urljoin(seed, link))"
   ]
  },
  {
   "cell_type": "markdown",
   "metadata": {},
   "source": [
    "# url 축적하면서 돌리는 함수"
   ]
  },
  {
   "cell_type": "code",
   "execution_count": 89,
   "metadata": {},
   "outputs": [],
   "source": [
    "threshold = 3\n",
    "\n",
    "\n",
    "def urlExtractor(seed, limit):\n",
    "    if limit > threshold:\n",
    "        return []\n",
    "    html = getDownload(seed)\n",
    "    dom = BeautifulSoup(html.content, \"lxml\")\n",
    "    \n",
    "    links = [_[\"href\"] for _ in dom.select(\"a\") if _.has_attr('href')]\n",
    "    \n",
    "    unseen = list()\n",
    "    \n",
    "    for link in links:\n",
    "        if link[0] == \"/\" and len(link) > 1:\n",
    "            newLink = requests.compat.urljoin(seed, link)            \n",
    "            if newLink not in unseen:\n",
    "                unseen.append((newLink, limit + 1))\n",
    "            else:\n",
    "                print(\"Skipped2\", link)\n",
    "        # 외부로 나가는 주소\n",
    "        elif link.startswith(\"http\"):\n",
    "            unseen.append((link, limit + 1))\n",
    "        else:    \n",
    "            print(\"Skipped1\", link)\n",
    "            \n",
    "    return unseen"
   ]
  },
  {
   "cell_type": "code",
   "execution_count": 90,
   "metadata": {},
   "outputs": [
    {
     "ename": "TypeError",
     "evalue": "urlExtractor() missing 1 required positional argument: 'limit'",
     "output_type": "error",
     "traceback": [
      "\u001b[1;31m---------------------------------------------------------------------------\u001b[0m",
      "\u001b[1;31mTypeError\u001b[0m                                 Traceback (most recent call last)",
      "\u001b[1;32m<ipython-input-90-dfec6dbaf1d9>\u001b[0m in \u001b[0;36m<module>\u001b[1;34m\u001b[0m\n\u001b[1;32m----> 1\u001b[1;33m \u001b[0murlExtractor\u001b[0m\u001b[1;33m(\u001b[0m\u001b[0mseed\u001b[0m\u001b[1;33m)\u001b[0m\u001b[1;33m\u001b[0m\u001b[0m\n\u001b[0m",
      "\u001b[1;31mTypeError\u001b[0m: urlExtractor() missing 1 required positional argument: 'limit'"
     ]
    }
   ],
   "source": [
    "urlExtractor(seed)"
   ]
  },
  {
   "cell_type": "code",
   "execution_count": 46,
   "metadata": {},
   "outputs": [
    {
     "ename": "InvalidSchema",
     "evalue": "No connection adapters were found for '('https://ko.wikipedia.org/wiki/%EB%B0%95%EB%B3%B4%EC%98%81_(%EB%8F%99%EC%9D%8C%EC%9D%B4%EC%9D%98)', 4)'",
     "output_type": "error",
     "traceback": [
      "\u001b[1;31m---------------------------------------------------------------------------\u001b[0m",
      "\u001b[1;31mInvalidSchema\u001b[0m                             Traceback (most recent call last)",
      "\u001b[1;32m<ipython-input-46-fd10775674b8>\u001b[0m in \u001b[0;36m<module>\u001b[1;34m\u001b[0m\n\u001b[0;32m      1\u001b[0m \u001b[1;31m# 처음에 강제실행 한번\u001b[0m\u001b[1;33m\u001b[0m\u001b[1;33m\u001b[0m\u001b[0m\n\u001b[1;32m----> 2\u001b[1;33m \u001b[0mqueue\u001b[0m \u001b[1;33m=\u001b[0m \u001b[0murlExtractor\u001b[0m\u001b[1;33m(\u001b[0m\u001b[0mseed\u001b[0m\u001b[1;33m,\u001b[0m \u001b[1;36m3\u001b[0m\u001b[1;33m)\u001b[0m\u001b[1;33m\u001b[0m\u001b[0m\n\u001b[0m\u001b[0;32m      3\u001b[0m \u001b[1;33m\u001b[0m\u001b[0m\n\u001b[0;32m      4\u001b[0m \u001b[1;32mimport\u001b[0m \u001b[0mtime\u001b[0m\u001b[1;33m\u001b[0m\u001b[0m\n\u001b[0;32m      5\u001b[0m \u001b[1;32mimport\u001b[0m \u001b[0mrandom\u001b[0m\u001b[1;33m\u001b[0m\u001b[0m\n",
      "\u001b[1;32m<ipython-input-44-240480c5607d>\u001b[0m in \u001b[0;36murlExtractor\u001b[1;34m(seed, limit)\u001b[0m\n\u001b[0;32m      5\u001b[0m     \u001b[1;32mif\u001b[0m \u001b[0mint\u001b[0m\u001b[1;33m(\u001b[0m\u001b[0mlimit\u001b[0m\u001b[1;33m)\u001b[0m \u001b[1;33m>\u001b[0m \u001b[0mint\u001b[0m\u001b[1;33m(\u001b[0m\u001b[0mthreshold\u001b[0m\u001b[1;33m)\u001b[0m\u001b[1;33m:\u001b[0m\u001b[1;33m\u001b[0m\u001b[0m\n\u001b[0;32m      6\u001b[0m         \u001b[1;32mreturn\u001b[0m \u001b[1;33m[\u001b[0m\u001b[1;33m]\u001b[0m\u001b[1;33m\u001b[0m\u001b[0m\n\u001b[1;32m----> 7\u001b[1;33m     \u001b[0mhtml\u001b[0m \u001b[1;33m=\u001b[0m \u001b[0mgetDownload\u001b[0m\u001b[1;33m(\u001b[0m\u001b[0mseed\u001b[0m\u001b[1;33m)\u001b[0m\u001b[1;33m\u001b[0m\u001b[0m\n\u001b[0m\u001b[0;32m      8\u001b[0m     \u001b[0mdom\u001b[0m \u001b[1;33m=\u001b[0m \u001b[0mBeautifulSoup\u001b[0m\u001b[1;33m(\u001b[0m\u001b[0mhtml\u001b[0m\u001b[1;33m.\u001b[0m\u001b[0mcontent\u001b[0m\u001b[1;33m,\u001b[0m \u001b[1;34m\"lxml\"\u001b[0m\u001b[1;33m)\u001b[0m\u001b[1;33m\u001b[0m\u001b[0m\n\u001b[0;32m      9\u001b[0m \u001b[1;33m\u001b[0m\u001b[0m\n",
      "\u001b[1;32m<ipython-input-2-ed74d260ff65>\u001b[0m in \u001b[0;36mgetDownload\u001b[1;34m(url, params, retries)\u001b[0m\n\u001b[0;32m      7\u001b[0m \u001b[1;33m\u001b[0m\u001b[0m\n\u001b[0;32m      8\u001b[0m     \u001b[1;32mtry\u001b[0m\u001b[1;33m:\u001b[0m\u001b[1;33m\u001b[0m\u001b[0m\n\u001b[1;32m----> 9\u001b[1;33m         \u001b[0mresp\u001b[0m \u001b[1;33m=\u001b[0m \u001b[0mrequests\u001b[0m\u001b[1;33m.\u001b[0m\u001b[0mget\u001b[0m\u001b[1;33m(\u001b[0m\u001b[0murl\u001b[0m\u001b[1;33m,\u001b[0m \u001b[0mparams\u001b[0m\u001b[1;33m=\u001b[0m\u001b[0mparams\u001b[0m\u001b[1;33m,\u001b[0m \u001b[0mheaders\u001b[0m\u001b[1;33m=\u001b[0m\u001b[0mheader\u001b[0m\u001b[1;33m)\u001b[0m\u001b[1;33m\u001b[0m\u001b[0m\n\u001b[0m\u001b[0;32m     10\u001b[0m         \u001b[0mresp\u001b[0m\u001b[1;33m.\u001b[0m\u001b[0mraise_for_status\u001b[0m\u001b[1;33m(\u001b[0m\u001b[1;33m)\u001b[0m\u001b[1;33m\u001b[0m\u001b[0m\n\u001b[0;32m     11\u001b[0m     \u001b[1;32mexcept\u001b[0m \u001b[0mrequests\u001b[0m\u001b[1;33m.\u001b[0m\u001b[0mexceptions\u001b[0m\u001b[1;33m.\u001b[0m\u001b[0mHTTPError\u001b[0m \u001b[1;32mas\u001b[0m \u001b[0me\u001b[0m\u001b[1;33m:\u001b[0m\u001b[1;33m\u001b[0m\u001b[0m\n",
      "\u001b[1;32m~\\AppData\\Roaming\\Python\\Python36\\site-packages\\requests\\api.py\u001b[0m in \u001b[0;36mget\u001b[1;34m(url, params, **kwargs)\u001b[0m\n\u001b[0;32m     73\u001b[0m \u001b[1;33m\u001b[0m\u001b[0m\n\u001b[0;32m     74\u001b[0m     \u001b[0mkwargs\u001b[0m\u001b[1;33m.\u001b[0m\u001b[0msetdefault\u001b[0m\u001b[1;33m(\u001b[0m\u001b[1;34m'allow_redirects'\u001b[0m\u001b[1;33m,\u001b[0m \u001b[1;32mTrue\u001b[0m\u001b[1;33m)\u001b[0m\u001b[1;33m\u001b[0m\u001b[0m\n\u001b[1;32m---> 75\u001b[1;33m     \u001b[1;32mreturn\u001b[0m \u001b[0mrequest\u001b[0m\u001b[1;33m(\u001b[0m\u001b[1;34m'get'\u001b[0m\u001b[1;33m,\u001b[0m \u001b[0murl\u001b[0m\u001b[1;33m,\u001b[0m \u001b[0mparams\u001b[0m\u001b[1;33m=\u001b[0m\u001b[0mparams\u001b[0m\u001b[1;33m,\u001b[0m \u001b[1;33m**\u001b[0m\u001b[0mkwargs\u001b[0m\u001b[1;33m)\u001b[0m\u001b[1;33m\u001b[0m\u001b[0m\n\u001b[0m\u001b[0;32m     76\u001b[0m \u001b[1;33m\u001b[0m\u001b[0m\n\u001b[0;32m     77\u001b[0m \u001b[1;33m\u001b[0m\u001b[0m\n",
      "\u001b[1;32m~\\AppData\\Roaming\\Python\\Python36\\site-packages\\requests\\api.py\u001b[0m in \u001b[0;36mrequest\u001b[1;34m(method, url, **kwargs)\u001b[0m\n\u001b[0;32m     58\u001b[0m     \u001b[1;31m# cases, and look like a memory leak in others.\u001b[0m\u001b[1;33m\u001b[0m\u001b[1;33m\u001b[0m\u001b[0m\n\u001b[0;32m     59\u001b[0m     \u001b[1;32mwith\u001b[0m \u001b[0msessions\u001b[0m\u001b[1;33m.\u001b[0m\u001b[0mSession\u001b[0m\u001b[1;33m(\u001b[0m\u001b[1;33m)\u001b[0m \u001b[1;32mas\u001b[0m \u001b[0msession\u001b[0m\u001b[1;33m:\u001b[0m\u001b[1;33m\u001b[0m\u001b[0m\n\u001b[1;32m---> 60\u001b[1;33m         \u001b[1;32mreturn\u001b[0m \u001b[0msession\u001b[0m\u001b[1;33m.\u001b[0m\u001b[0mrequest\u001b[0m\u001b[1;33m(\u001b[0m\u001b[0mmethod\u001b[0m\u001b[1;33m=\u001b[0m\u001b[0mmethod\u001b[0m\u001b[1;33m,\u001b[0m \u001b[0murl\u001b[0m\u001b[1;33m=\u001b[0m\u001b[0murl\u001b[0m\u001b[1;33m,\u001b[0m \u001b[1;33m**\u001b[0m\u001b[0mkwargs\u001b[0m\u001b[1;33m)\u001b[0m\u001b[1;33m\u001b[0m\u001b[0m\n\u001b[0m\u001b[0;32m     61\u001b[0m \u001b[1;33m\u001b[0m\u001b[0m\n\u001b[0;32m     62\u001b[0m \u001b[1;33m\u001b[0m\u001b[0m\n",
      "\u001b[1;32m~\\AppData\\Roaming\\Python\\Python36\\site-packages\\requests\\sessions.py\u001b[0m in \u001b[0;36mrequest\u001b[1;34m(self, method, url, params, data, headers, cookies, files, auth, timeout, allow_redirects, proxies, hooks, stream, verify, cert, json)\u001b[0m\n\u001b[0;32m    531\u001b[0m         }\n\u001b[0;32m    532\u001b[0m         \u001b[0msend_kwargs\u001b[0m\u001b[1;33m.\u001b[0m\u001b[0mupdate\u001b[0m\u001b[1;33m(\u001b[0m\u001b[0msettings\u001b[0m\u001b[1;33m)\u001b[0m\u001b[1;33m\u001b[0m\u001b[0m\n\u001b[1;32m--> 533\u001b[1;33m         \u001b[0mresp\u001b[0m \u001b[1;33m=\u001b[0m \u001b[0mself\u001b[0m\u001b[1;33m.\u001b[0m\u001b[0msend\u001b[0m\u001b[1;33m(\u001b[0m\u001b[0mprep\u001b[0m\u001b[1;33m,\u001b[0m \u001b[1;33m**\u001b[0m\u001b[0msend_kwargs\u001b[0m\u001b[1;33m)\u001b[0m\u001b[1;33m\u001b[0m\u001b[0m\n\u001b[0m\u001b[0;32m    534\u001b[0m \u001b[1;33m\u001b[0m\u001b[0m\n\u001b[0;32m    535\u001b[0m         \u001b[1;32mreturn\u001b[0m \u001b[0mresp\u001b[0m\u001b[1;33m\u001b[0m\u001b[0m\n",
      "\u001b[1;32m~\\AppData\\Roaming\\Python\\Python36\\site-packages\\requests\\sessions.py\u001b[0m in \u001b[0;36msend\u001b[1;34m(self, request, **kwargs)\u001b[0m\n\u001b[0;32m    638\u001b[0m \u001b[1;33m\u001b[0m\u001b[0m\n\u001b[0;32m    639\u001b[0m         \u001b[1;31m# Get the appropriate adapter to use\u001b[0m\u001b[1;33m\u001b[0m\u001b[1;33m\u001b[0m\u001b[0m\n\u001b[1;32m--> 640\u001b[1;33m         \u001b[0madapter\u001b[0m \u001b[1;33m=\u001b[0m \u001b[0mself\u001b[0m\u001b[1;33m.\u001b[0m\u001b[0mget_adapter\u001b[0m\u001b[1;33m(\u001b[0m\u001b[0murl\u001b[0m\u001b[1;33m=\u001b[0m\u001b[0mrequest\u001b[0m\u001b[1;33m.\u001b[0m\u001b[0murl\u001b[0m\u001b[1;33m)\u001b[0m\u001b[1;33m\u001b[0m\u001b[0m\n\u001b[0m\u001b[0;32m    641\u001b[0m \u001b[1;33m\u001b[0m\u001b[0m\n\u001b[0;32m    642\u001b[0m         \u001b[1;31m# Start time (approximately) of the request\u001b[0m\u001b[1;33m\u001b[0m\u001b[1;33m\u001b[0m\u001b[0m\n",
      "\u001b[1;32m~\\AppData\\Roaming\\Python\\Python36\\site-packages\\requests\\sessions.py\u001b[0m in \u001b[0;36mget_adapter\u001b[1;34m(self, url)\u001b[0m\n\u001b[0;32m    729\u001b[0m \u001b[1;33m\u001b[0m\u001b[0m\n\u001b[0;32m    730\u001b[0m         \u001b[1;31m# Nothing matches :-/\u001b[0m\u001b[1;33m\u001b[0m\u001b[1;33m\u001b[0m\u001b[0m\n\u001b[1;32m--> 731\u001b[1;33m         \u001b[1;32mraise\u001b[0m \u001b[0mInvalidSchema\u001b[0m\u001b[1;33m(\u001b[0m\u001b[1;34m\"No connection adapters were found for '%s'\"\u001b[0m \u001b[1;33m%\u001b[0m \u001b[0murl\u001b[0m\u001b[1;33m)\u001b[0m\u001b[1;33m\u001b[0m\u001b[0m\n\u001b[0m\u001b[0;32m    732\u001b[0m \u001b[1;33m\u001b[0m\u001b[0m\n\u001b[0;32m    733\u001b[0m     \u001b[1;32mdef\u001b[0m \u001b[0mclose\u001b[0m\u001b[1;33m(\u001b[0m\u001b[0mself\u001b[0m\u001b[1;33m)\u001b[0m\u001b[1;33m:\u001b[0m\u001b[1;33m\u001b[0m\u001b[0m\n",
      "\u001b[1;31mInvalidSchema\u001b[0m: No connection adapters were found for '('https://ko.wikipedia.org/wiki/%EB%B0%95%EB%B3%B4%EC%98%81_(%EB%8F%99%EC%9D%8C%EC%9D%B4%EC%9D%98)', 4)'"
     ]
    }
   ],
   "source": [
    "# 처음에 강제실행 한번\n",
    "queue = urlExtractor(seed, 3)\n",
    "\n",
    "import time\n",
    "import random\n",
    "\n",
    "seen = list()\n",
    "\n",
    "\n",
    "# 큐가 더이상 없을때까지 돌릴 거\n",
    "while queue:\n",
    "    seed = queue.pop(0)\n",
    "    seen.append(link[0])\n",
    "#     time.sleep(random.randint(1,3))\n",
    "    links = urlExtractor(link[0], link[1])\n",
    "    \n",
    "    queueURL = [_[0] for _ in queue]\n",
    "    queue.extend([_ for _ in links if _[0] not in queueURL \\\n",
    "                     and _ not in seen ])\n",
    "    \n",
    "    print(\"{0} {1} [{2}]\".format(\">\"*link[1], link[0], len(links)))\n",
    "#     html = download(link)\n",
    "#     dom = BeautifulSoup(html.content, 'lxml')\n",
    "    # links 는 unseen에 겹치면 안되고 seen에 있으면 안됨\n",
    "#     queue.extend([_ for _ in links if _ not in queue \\\n",
    "#                   and _ in seen])"
   ]
  },
  {
   "cell_type": "markdown",
   "metadata": {},
   "source": [
    "# 구글링크 traversal"
   ]
  },
  {
   "cell_type": "code",
   "execution_count": 91,
   "metadata": {},
   "outputs": [],
   "source": [
    "import requests\n",
    "from bs4 import BeautifulSoup\n",
    "\n",
    "html = getDownload(\"https://www.google.com/search\", {\"q\":\"박보영\"})\n",
    "google = BeautifulSoup(html.text, \"lxml\")"
   ]
  },
  {
   "cell_type": "code",
   "execution_count": 92,
   "metadata": {},
   "outputs": [],
   "source": [
    "queue = [(_[\"href\"], 0) for _ in google.select(\".r > a\")]"
   ]
  },
  {
   "cell_type": "code",
   "execution_count": 93,
   "metadata": {},
   "outputs": [
    {
     "name": "stdout",
     "output_type": "stream",
     "text": [
      "('https://ko.wikipedia.org/wiki/%EB%B0%95%EB%B3%B4%EC%98%81', 0)\n",
      "Skipped1 #mw-head\n",
      "Skipped1 #p-search\n",
      "Skipped1 #약력\n",
      "Skipped1 #성장_과정\n",
      "Skipped1 #상세_경력\n",
      "Skipped1 #2006~2008\n",
      "Skipped1 #2008~2010\n",
      "Skipped1 #2012~2014\n",
      "Skipped1 #2015\n",
      "Skipped1 #2017~현재\n",
      "Skipped1 #기타\n",
      "Skipped1 #출연_작품\n",
      "Skipped1 #수상_및_후보_목록\n",
      "Skipped1 #각주\n",
      "Skipped1 #외부_링크\n",
      "Skipped1 #cite_note-1\n",
      "Skipped1 #cite_note-2\n",
      "Skipped1 #cite_note-3\n",
      "Skipped1 #cite_note-4\n",
      "Skipped1 #cite_note-5\n",
      "Skipped1 #cite_note-6\n",
      "Skipped1 #cite_note-7\n",
      "Skipped1 #cite_note-8\n",
      "Skipped1 #cite_note-9\n",
      "Skipped1 #cite_note-10\n",
      "Skipped1 #cite_note-11\n",
      "Skipped1 #cite_note-12\n",
      "Skipped1 #cite_note-13\n",
      "Skipped1 #cite_note-14\n",
      "Skipped1 #cite_note-15\n",
      "Skipped1 #cite_note-16\n",
      "Skipped1 #cite_note-17\n",
      "Skipped1 #cite_note-18\n",
      "Skipped1 #cite_note-19\n",
      "Skipped1 #cite_note-20\n",
      "Skipped1 #cite_note-21\n",
      "Skipped1 #cite_note-22\n",
      "Skipped1 #cite_note-23\n",
      "Skipped1 #cite_note-24\n",
      "Skipped1 #cite_note-25\n",
      "Skipped1 #cite_note-26\n",
      "Skipped1 #cite_note-27\n",
      "Skipped1 #cite_note-28\n",
      "Skipped1 #cite_note-29\n",
      "Skipped1 #cite_note-30\n",
      "Skipped1 #cite_note-31\n",
      "Skipped1 #cite_note-32\n",
      "Skipped1 #cite_note-33\n",
      "Skipped1 #cite_note-34\n",
      "Skipped1 #cite_note-35\n",
      "Skipped1 #cite_note-36\n",
      "Skipped1 #cite_note-37\n",
      "Skipped1 #cite_note-38\n",
      "Skipped1 #cite_note-39\n",
      "Skipped1 #cite_note-40\n",
      "Skipped1 #cite_note-41\n",
      "Skipped1 #cite_note-42\n",
      "Skipped1 #cite_note-43\n",
      "Skipped1 #cite_note-44\n",
      "Skipped1 #cite_note-45\n",
      "Skipped1 #cite_note-46\n",
      "Skipped1 #cite_note-47\n",
      "Skipped1 #cite_note-48\n",
      "Skipped1 #cite_note-49\n",
      "Skipped1 #cite_note-50\n",
      "Skipped1 #cite_note-51\n",
      "Skipped1 #cite_note-52\n",
      "Skipped1 #cite_note-53\n",
      "Skipped1 #cite_note-54\n",
      "Skipped1 #cite_note-55\n",
      "Skipped1 #cite_note-56\n",
      "Skipped1 #cite_note-57\n",
      "Skipped1 #cite_note-58\n",
      "Skipped1 #cite_note-59\n",
      "Skipped1 #cite_note-60\n",
      "Skipped1 #cite_note-61\n",
      "Skipped1 #cite_note-62\n",
      "Skipped1 #cite_note-63\n",
      "Skipped1 #cite_note-64\n",
      "Skipped1 #cite_note-65\n",
      "Skipped1 #cite_note-66\n",
      "Skipped1 #cite_note-67\n",
      "Skipped1 #cite_note-68\n",
      "Skipped1 #cite_note-69\n",
      "Skipped1 #cite_note-70\n",
      "Skipped1 #cite_note-71\n",
      "Skipped1 #cite_note-72\n",
      "Skipped1 #cite_note-73\n",
      "Skipped1 #cite_note-74\n",
      "Skipped1 #cite_note-75\n",
      "Skipped1 #cite_note-76\n",
      "Skipped1 #cite_note-77\n",
      "Skipped1 #cite_note-78\n",
      "Skipped1 #cite_note-79\n",
      "Skipped1 #cite_note-80\n",
      "Skipped1 #cite_note-81\n",
      "Skipped1 #cite_note-82\n",
      "Skipped1 #cite_note-83\n",
      "Skipped1 #cite_note-84\n",
      "Skipped1 #cite_note-85\n",
      "Skipped1 #cite_note-86\n",
      "Skipped1 #cite_note-87\n",
      "Skipped1 #cite_note-88\n",
      "Skipped1 #cite_note-89\n",
      "Skipped1 #cite_note-90\n",
      "Skipped1 #cite_note-91\n",
      "Skipped1 #cite_note-92\n",
      "Skipped1 #cite_note-93\n",
      "Skipped1 #cite_note-94\n",
      "Skipped1 #cite_note-95\n",
      "Skipped1 #cite_note-96\n",
      "Skipped1 #cite_note-97\n",
      "Skipped1 #cite_note-98\n",
      "Skipped1 #cite_note-99\n",
      "Skipped1 #cite_note-100\n",
      "Skipped1 #cite_note-101\n",
      "Skipped1 #cite_note-102\n",
      "Skipped1 #cite_note-103\n",
      "Skipped1 #cite_note-104\n",
      "Skipped1 #cite_note-105\n",
      "Skipped1 #cite_note-106\n",
      "Skipped1 #cite_note-107\n",
      "Skipped1 #cite_note-108\n",
      "Skipped1 #cite_note-109\n",
      "Skipped1 #cite_note-110\n",
      "Skipped1 #cite_note-111\n",
      "Skipped1 #cite_note-112\n",
      "Skipped1 #cite_note-113\n",
      "Skipped1 #cite_note-114\n",
      "Skipped1 #cite_note-115\n",
      "Skipped1 #cite_note-116\n",
      "Skipped1 #cite_note-117\n",
      "Skipped1 #cite_note-118\n",
      "Skipped1 #cite_note-119\n",
      "Skipped1 #cite_ref-1\n",
      "Skipped1 #cite_ref-2\n",
      "Skipped1 #cite_ref-3\n",
      "Skipped1 #cite_ref-4\n",
      "Skipped1 #cite_ref-5\n",
      "Skipped1 #cite_ref-6\n",
      "Skipped1 #cite_ref-7\n",
      "Skipped1 #cite_ref-8\n",
      "Skipped1 #cite_ref-9\n",
      "Skipped1 #cite_ref-10\n",
      "Skipped1 #cite_ref-11\n",
      "Skipped1 #cite_ref-12\n",
      "Skipped1 #cite_ref-13\n",
      "Skipped1 #cite_ref-14\n",
      "Skipped1 #cite_ref-15\n",
      "Skipped1 #cite_ref-16\n",
      "Skipped1 #cite_ref-17\n",
      "Skipped1 #cite_ref-18\n",
      "Skipped1 #cite_ref-19\n",
      "Skipped1 #cite_ref-20\n",
      "Skipped1 #cite_ref-21\n",
      "Skipped1 #cite_ref-22\n",
      "Skipped1 #cite_ref-23\n",
      "Skipped1 #cite_ref-24\n",
      "Skipped1 #cite_ref-25\n",
      "Skipped1 #cite_ref-26\n",
      "Skipped1 #cite_ref-27\n",
      "Skipped1 #cite_ref-28\n",
      "Skipped1 #cite_ref-29\n",
      "Skipped1 #cite_ref-30\n",
      "Skipped1 #cite_ref-31\n",
      "Skipped1 #cite_ref-32\n",
      "Skipped1 #cite_ref-33\n",
      "Skipped1 #cite_ref-34\n",
      "Skipped1 #cite_ref-35\n",
      "Skipped1 #cite_ref-36\n",
      "Skipped1 #cite_ref-37\n",
      "Skipped1 #cite_ref-38\n",
      "Skipped1 #cite_ref-39\n",
      "Skipped1 #cite_ref-40\n",
      "Skipped1 #cite_ref-41\n",
      "Skipped1 #cite_ref-42\n",
      "Skipped1 #cite_ref-43\n",
      "Skipped1 #cite_ref-44\n",
      "Skipped1 #cite_ref-45\n",
      "Skipped1 #cite_ref-46\n",
      "Skipped1 #cite_ref-47\n",
      "Skipped1 #cite_ref-48\n",
      "Skipped1 #cite_ref-49\n",
      "Skipped1 #cite_ref-50\n",
      "Skipped1 #cite_ref-51\n",
      "Skipped1 #cite_ref-52\n",
      "Skipped1 #cite_ref-53\n",
      "Skipped1 #cite_ref-54\n",
      "Skipped1 #cite_ref-55\n",
      "Skipped1 #cite_ref-56\n",
      "Skipped1 #cite_ref-57\n",
      "Skipped1 #cite_ref-58\n",
      "Skipped1 #cite_ref-59\n",
      "Skipped1 #cite_ref-60\n",
      "Skipped1 #cite_ref-61\n",
      "Skipped1 #cite_ref-62\n",
      "Skipped1 #cite_ref-63\n",
      "Skipped1 #cite_ref-64\n",
      "Skipped1 #cite_ref-65\n",
      "Skipped1 #cite_ref-66\n",
      "Skipped1 #cite_ref-67\n",
      "Skipped1 #cite_ref-68\n",
      "Skipped1 #cite_ref-69\n",
      "Skipped1 #cite_ref-70\n",
      "Skipped1 #cite_ref-71\n",
      "Skipped1 #cite_ref-72\n",
      "Skipped1 #cite_ref-73\n",
      "Skipped1 #cite_ref-74\n",
      "Skipped1 #cite_ref-75\n",
      "Skipped1 #cite_ref-76\n",
      "Skipped1 #cite_ref-77\n",
      "Skipped1 #cite_ref-78\n",
      "Skipped1 #cite_ref-79\n",
      "Skipped1 #cite_ref-80\n",
      "Skipped1 #cite_ref-81\n",
      "Skipped1 #cite_ref-82\n",
      "Skipped1 #cite_ref-83\n",
      "Skipped1 #cite_ref-84\n",
      "Skipped1 #cite_ref-85\n",
      "Skipped1 #cite_ref-86\n",
      "Skipped1 #cite_ref-87\n",
      "Skipped1 #cite_ref-88\n",
      "Skipped1 #cite_ref-89\n",
      "Skipped1 #cite_ref-90\n",
      "Skipped1 #cite_ref-91\n",
      "Skipped1 #cite_ref-92\n",
      "Skipped1 #cite_ref-93\n",
      "Skipped1 #cite_ref-94\n",
      "Skipped1 #cite_ref-95\n",
      "Skipped1 #cite_ref-96\n",
      "Skipped1 #cite_ref-97\n",
      "Skipped1 #cite_ref-98\n",
      "Skipped1 #cite_ref-99\n",
      "Skipped1 #cite_ref-100\n",
      "Skipped1 #cite_ref-101\n",
      "Skipped1 #cite_ref-102\n",
      "Skipped1 #cite_ref-103\n",
      "Skipped1 #cite_ref-104\n",
      "Skipped1 #cite_ref-105\n",
      "Skipped1 #cite_ref-106\n",
      "Skipped1 #cite_ref-107\n",
      "Skipped1 #cite_ref-108\n",
      "Skipped1 #cite_ref-109\n",
      "Skipped1 #cite_ref-110\n",
      "Skipped1 #cite_ref-111\n",
      "Skipped1 #cite_ref-112\n",
      "Skipped1 #cite_ref-113\n",
      "Skipped1 #cite_ref-114\n",
      "Skipped1 #cite_ref-115\n",
      "Skipped1 #cite_ref-116\n",
      "Skipped1 #cite_ref-117\n",
      "Skipped1 #cite_ref-118\n",
      "Skipped1 #cite_ref-119\n",
      "[('https://ko.wikipedia.org/wiki/%EC%9C%84%ED%82%A4%EB%B0%B1%EA%B3%BC:%EB%8F%99%EC%9D%8C%EC%9D%B4%EC%9D%98%EC%96%B4_%EB%AC%B8%EC%84%9C', 1), ('https://ko.wikipedia.org/wiki/%EB%B0%95%EB%B3%B4%EC%98%81_(%EB%8F%99%EC%9D%8C%EC%9D%B4%EC%9D%98)', 1), ('https://ko.wikipedia.org/wiki/%ED%8C%8C%EC%9D%BC:%EC%98%81%ED%99%94_%27%EB%84%88%EC%9D%98_%EA%B2%B0%ED%98%BC%EC%8B%9D%27_%EC%96%B8%EB%A1%A0%EC%8B%9C%EC%82%AC%ED%9A%8C_%EB%B0%95%EB%B3%B4%EC%98%81.jpg', 1), ('https://ko.wikipedia.org/wiki/%EB%8C%80%ED%95%9C%EB%AF%BC%EA%B5%AD', 1), ('https://ko.wikipedia.org/wiki/%EC%B6%A9%EC%B2%AD%EB%B6%81%EB%8F%84', 1), ('https://ko.wikipedia.org/wiki/%EA%B4%B4%EC%82%B0%EA%B5%B0', 1), ('https://ko.wikipedia.org/wiki/%EC%A6%9D%ED%8F%89%EC%9D%8D', 1), ('https://ko.wikipedia.org/wiki/%EC%A6%9D%ED%8F%89%EA%B5%B0', 1), ('https://ko.wikipedia.org/wiki/%EB%B0%B0%EC%9A%B0', 1), ('https://ko.wikipedia.org/wiki/2006%EB%85%84', 1), ('https://ko.wikipedia.org/wiki/%EB%8B%A8%EA%B5%AD%EB%8C%80%ED%95%99%EA%B5%90', 1), ('https://ko.wikipedia.org/wiki/%EB%B0%95%EB%B3%B4%EC%98%81%EC%9D%98_%EC%88%98%EC%83%81_%EB%B0%8F_%ED%9B%84%EB%B3%B4_%EB%AA%A9%EB%A1%9D', 1), ('http://www.vlive.tv/channels/FCE49/', 1), ('https://ko.wikipedia.org/wiki/V_LIVE', 1), ('https://ko.wikipedia.org/wiki/1990%EB%85%84', 1), ('https://ko.wikipedia.org/wiki/2%EC%9B%94_12%EC%9D%BC', 1), ('https://ko.wikipedia.org/wiki/%EB%8C%80%ED%95%9C%EB%AF%BC%EA%B5%AD', 1), ('https://ko.wikipedia.org/wiki/%EB%B0%B0%EC%9A%B0', 1), ('https://ko.wikipedia.org/w/index.php?title=%EB%B0%95%EB%B3%B4%EC%98%81&action=edit&section=1', 1), ('https://ko.wikipedia.org/wiki/%EB%B9%84%EB%B0%80%EC%9D%98_%EA%B5%90%EC%A0%95', 1), ('https://ko.wikipedia.org/wiki/%EB%A7%88%EB%85%80%EC%9C%A0%ED%9D%AC', 1), ('https://ko.wikipedia.org/wiki/%EB%8B%AC%EB%A0%A4%EB%9D%BC_%EA%B3%A0%EB%93%B1%EC%96%B4', 1), ('https://ko.wikipedia.org/wiki/%EC%99%95%EA%B3%BC_%EB%82%98_(%EB%93%9C%EB%9D%BC%EB%A7%88)', 1), ('https://ko.wikipedia.org/wiki/%ED%8F%90%EB%B9%84_%EC%9C%A4%EC%94%A8', 1), ('https://ko.wikipedia.org/wiki/%EC%A0%95%EA%B8%80%ED%94%BC%EC%89%AC', 1), ('https://ko.wikipedia.org/wiki/%EC%9A%B8%ED%95%99%EA%B5%90_%EC%9D%B4%ED%8B%B0', 1), ('https://ko.wikipedia.org/wiki/%EC%B4%88%EA%B0%90%EA%B0%81_%EC%BB%A4%ED%94%8C', 1), ('https://ko.wikipedia.org/wiki/%EA%B3%BC%EC%86%8D%EC%8A%A4%EC%BA%94%EB%93%A4', 1), ('https://ko.wikipedia.org/wiki/%EC%A0%84%EC%A3%BC%EA%B5%AD%EC%A0%9C%EC%98%81%ED%99%94%EC%A0%9C', 1), ('https://ko.wikipedia.org/wiki/%EC%98%B4%EB%8B%88%EB%B2%84%EC%8A%A4_%EC%98%81%ED%99%94', 1), ('https://ko.wikipedia.org/wiki/%EC%8B%9C%EC%84%A0_1318', 1), ('https://ko.wikipedia.org/wiki/%EB%AF%B8%ED%99%95%EC%9D%B8_%EB%8F%99%EC%98%81%EC%83%81:_%EC%A0%88%EB%8C%80%ED%81%B4%EB%A6%AD%EA%B8%88%EC%A7%80', 1), ('https://ko.wikipedia.org/wiki/%EB%8A%91%EB%8C%80%EC%86%8C%EB%85%84_(%EC%98%81%ED%99%94)', 1), ('https://ko.wikipedia.org/wiki/%ED%94%BC%EB%81%93%EB%8A%94_%EC%B2%AD%EC%B6%98', 1), ('https://ko.wikipedia.org/wiki/%EA%B2%BD%EC%84%B1%ED%95%99%EA%B5%90:_%EC%82%AC%EB%9D%BC%EC%A7%84_%EC%86%8C%EB%85%80%EB%93%A4', 1), ('https://ko.wikipedia.org/wiki/TvN_%EA%B8%88%ED%86%A0%EB%93%9C%EB%9D%BC%EB%A7%88', 1), ('https://ko.wikipedia.org/wiki/%EC%98%A4_%EB%82%98%EC%9D%98_%EA%B7%80%EC%8B%A0%EB%8B%98', 1), ('https://ko.wikipedia.org/wiki/%EB%8F%8C%EC%97%B0%EB%B3%80%EC%9D%B4_(%EC%98%81%ED%99%94)', 1), ('https://ko.wikipedia.org/wiki/%EC%97%B4%EC%A0%95%EA%B0%99%EC%9D%80%EC%86%8C%EB%A6%AC%ED%95%98%EA%B3%A0%EC%9E%88%EB%84%A4', 1), ('https://ko.wikipedia.org/wiki/JTBC_%EA%B8%88%ED%86%A0%EB%93%9C%EB%9D%BC%EB%A7%88', 1), ('https://ko.wikipedia.org/wiki/%ED%9E%98%EC%8E%88%EC%97%AC%EC%9E%90_%EB%8F%84%EB%B4%89%EC%88%9C', 1), ('https://ko.wikipedia.org/wiki/%EB%84%88%EC%9D%98_%EA%B2%B0%ED%98%BC%EC%8B%9D', 1), ('https://ko.wikipedia.org/w/index.php?title=%EB%B0%95%EB%B3%B4%EC%98%81&action=edit&section=2', 1), ('https://ko.wikipedia.org/wiki/%EC%B6%A9%EC%B2%AD%EB%B6%81%EB%8F%84', 1), ('https://ko.wikipedia.org/wiki/%EC%A6%9D%ED%8F%89%EA%B5%B0', 1), ('https://ko.wikipedia.org/wiki/%EB%8C%80%ED%95%9C%EB%AF%BC%EA%B5%AD_%EC%9C%A1%EA%B5%B0_%ED%8A%B9%EC%88%98%EC%A0%84%EC%82%AC%EB%A0%B9%EB%B6%80', 1), ('https://ko.wikipedia.org/wiki/%EC%98%88%EB%B9%84%EC%97%AD', 1), ('https://ko.wikipedia.org/wiki/%EB%8C%80%ED%95%9C%EB%AF%BC%EA%B5%AD_%EC%9C%A1%EA%B5%B0', 1), ('https://ko.wikipedia.org/wiki/%EC%9B%90%EC%82%AC', 1), ('https://ko.wikipedia.org/wiki/%EC%A6%9D%ED%8F%89%EC%B4%88%EB%93%B1%ED%95%99%EA%B5%90', 1), ('https://ko.wikipedia.org/wiki/%EC%A6%9D%ED%8F%89%EC%97%AC%EC%9E%90%EC%A4%91%ED%95%99%EA%B5%90', 1), ('https://ko.wikipedia.org/wiki/%EB%8C%80%EC%84%B1%EC%97%AC%EC%9E%90%EC%83%81%EC%97%85%EA%B3%A0%EB%93%B1%ED%95%99%EA%B5%90', 1), ('https://ko.wikipedia.org/wiki/%EB%8B%A8%EA%B5%AD%EB%8C%80%ED%95%99%EA%B5%90', 1), ('https://ko.wikipedia.org/wiki/%EC%84%9C%EC%9A%B8%EA%B5%AD%EC%A0%9C%EC%B2%AD%EC%86%8C%EB%85%84%EC%98%81%ED%99%94%EC%A0%9C', 1), ('https://ko.wikipedia.org/wiki/%EB%8B%A8%EA%B5%AD%EB%8C%80%ED%95%99%EA%B5%90', 1), ('https://ko.wikipedia.org/w/index.php?title=%EB%B0%95%EB%B3%B4%EC%98%81&action=edit&section=3', 1), ('https://ko.wikipedia.org/w/index.php?title=%EB%B0%95%EB%B3%B4%EC%98%81&action=edit&section=4', 1), ('https://ko.wikipedia.org/wiki/%EB%B9%84%EB%B0%80%EC%9D%98_%EA%B5%90%EC%A0%95', 1), ('https://ko.wikipedia.org/wiki/%EB%A7%88%EB%85%80%EC%9C%A0%ED%9D%AC', 1), ('https://ko.wikipedia.org/wiki/%ED%95%9C%EA%B0%80%EC%9D%B8', 1), ('https://ko.wikipedia.org/wiki/%EB%8B%AC%EB%A0%A4%EB%9D%BC_%EA%B3%A0%EB%93%B1%EC%96%B4', 1), ('https://ko.wikipedia.org/wiki/%EC%99%95%EA%B3%BC_%EB%82%98_(%EB%93%9C%EB%9D%BC%EB%A7%88)', 1), ('https://ko.wikipedia.org/wiki/%ED%8F%90%EB%B9%84_%EC%9C%A4%EC%94%A8', 1), ('https://ko.wikipedia.org/wiki/%ED%8F%90%EB%B9%84_%EC%9C%A4%EC%94%A8', 1), ('https://ko.wikipedia.org/wiki/%EC%9C%A0%EC%8A%B9%ED%98%B8', 1), ('https://ko.wikipedia.org/wiki/%EC%A3%BC%EB%AF%BC%EC%88%98', 1), ('https://ko.wikipedia.org/wiki/%EC%A0%95%EA%B8%80%ED%94%BC%EC%89%AC', 1), ('https://ko.wikipedia.org/wiki/%EA%B9%80%ED%8F%AC%EC%99%B8%EA%B3%A0', 1), ('https://ko.wikipedia.org/wiki/%ED%94%BC%EB%B2%84%EB%94%94%EC%83%81', 1), ('https://ko.wikipedia.org/wiki/2010%EB%85%84', 1), ('https://ko.wikipedia.org/wiki/9%EC%9B%94_23%EC%9D%BC', 1), ('https://ko.wikipedia.org/wiki/%EA%B5%AD%EA%B0%80%EC%9D%B8%EA%B6%8C%EC%9C%84%EC%9B%90%ED%9A%8C', 1), ('https://ko.wikipedia.org/wiki/%EC%98%B4%EB%8B%88%EB%B2%84%EC%8A%A4_%EC%98%81%ED%99%94', 1), ('https://ko.wikipedia.org/wiki/%EC%8B%9C%EC%84%A0_1318', 1), ('https://ko.wikipedia.org/wiki/%EC%98%B4%EB%8B%88%EB%B2%84%EC%8A%A4_%EC%98%81%ED%99%94', 1), ('https://ko.wikipedia.org/wiki/%EC%A0%84%EC%A3%BC%EA%B5%AD%EC%A0%9C%EC%98%81%ED%99%94%EC%A0%9C', 1), ('https://ko.wikipedia.org/wiki/%EC%9A%B8%ED%95%99%EA%B5%90_%EC%9D%B4%ED%8B%B0', 1), ('https://ko.wikipedia.org/wiki/%EA%B9%80%EC%88%98%EB%A1%9C_(%EB%B0%B0%EC%9A%B0)', 1), ('https://ko.wikipedia.org/wiki/%EC%99%95%EA%B3%BC_%EB%82%98_(%EB%93%9C%EB%9D%BC%EB%A7%88)', 1), ('https://ko.wikipedia.org/wiki/%EA%B5%AC%ED%98%9C%EC%84%A0', 1), ('https://ko.wikipedia.org/wiki/%EC%B5%9C%EA%B0%95%EC%B9%A0%EC%9A%B0', 1), ('https://ko.wikipedia.org/wiki/%EC%97%90%EB%A6%AD_(%EA%B0%80%EC%88%98)', 1), ('https://ko.wikipedia.org/wiki/%EC%B4%88%EA%B0%90%EA%B0%81_%EC%BB%A4%ED%94%8C', 1), ('https://ko.wikipedia.org/wiki/%EC%A7%84%EA%B5%AC', 1), ('https://ko.wikipedia.org/wiki/%EB%AC%B8%ED%99%94%EC%B2%B4%EC%9C%A1%EA%B4%80%EA%B4%91%EB%B6%80', 1), ('https://ko.wikipedia.org/w/index.php?title=%EB%B0%95%EB%B3%B4%EC%98%81&action=edit&section=5', 1), ('https://ko.wikipedia.org/wiki/%EA%B3%BC%EC%86%8D%EC%8A%A4%EC%BA%94%EB%93%A4', 1), ('https://ko.wikipedia.org/wiki/%EC%B0%A8%ED%83%9C%ED%98%84', 1), ('https://ko.wikipedia.org/wiki/%EC%A2%85%ED%95%A9%EB%B3%91%EC%9B%90_2', 1), ('https://ko.wikipedia.org/wiki/%EC%B0%A8%ED%83%9C%ED%98%84', 1), ('https://ko.wikipedia.org/wiki/%EC%8A%A4%ED%83%80%EC%9D%98_%EC%97%B0%EC%9D%B8', 1), ('https://ko.wikipedia.org/wiki/%EC%B5%9C%EC%A7%80%EC%9A%B0', 1), ('https://ko.wikipedia.org/wiki/%EA%B3%BC%EC%86%8D%EC%8A%A4%EC%BA%94%EB%93%A4', 1), ('https://ko.wikipedia.org/wiki/%EC%B2%AD%EB%A3%A1%EC%98%81%ED%99%94%EC%83%81', 1), ('https://ko.wikipedia.org/wiki/%EB%B0%B1%EC%83%81%EC%98%88%EC%88%A0%EB%8C%80%EC%83%81', 1), ('https://ko.wikipedia.org/wiki/%ED%95%9C%EA%B5%AD%EC%98%81%ED%99%94%ED%8F%89%EB%A1%A0%EA%B0%80%ED%98%91%ED%9A%8C%EC%83%81', 1), ('https://ko.wikipedia.org/wiki/%EB%94%94%EB%A0%89%ED%84%B0%EC%8A%A4_%EC%BB%B7_%EC%8B%9C%EC%83%81%EC%8B%9D', 1), ('https://ko.wikipedia.org/wiki/%EC%B2%AD%EB%A3%A1%EC%98%81%ED%99%94%EC%83%81', 1), ('https://ko.wikipedia.org/wiki/%EA%B3%BC%EC%86%8D%EC%8A%A4%EC%BA%94%EB%93%A4', 1), ('https://ko.wikipedia.org/w/index.php?title=%EB%B0%95%EB%B3%B4%EC%98%81&action=edit&section=6', 1), ('https://ko.wikipedia.org/wiki/%EB%AF%B8%ED%99%95%EC%9D%B8_%EB%8F%99%EC%98%81%EC%83%81:_%EC%A0%88%EB%8C%80%ED%81%B4%EB%A6%AD%EA%B8%88%EC%A7%80', 1), ('https://ko.wikipedia.org/wiki/%EB%AF%B8%ED%99%95%EC%9D%B8_%EB%8F%99%EC%98%81%EC%83%81:_%EC%A0%88%EB%8C%80%ED%81%B4%EB%A6%AD%EA%B8%88%EC%A7%80', 1), ('https://ko.wikipedia.org/wiki/%EB%AF%B8%ED%99%95%EC%9D%B8_%EB%8F%99%EC%98%81%EC%83%81:_%EC%A0%88%EB%8C%80%ED%81%B4%EB%A6%AD%EA%B8%88%EC%A7%80', 1), ('https://ko.wikipedia.org/wiki/%EA%B9%80%ED%83%9C%EA%B2%BD_(%EC%98%81%ED%99%94_%EA%B0%90%EB%8F%85)', 1), ('https://ko.wikipedia.org/wiki/%EB%8A%91%EB%8C%80%EC%86%8C%EB%85%84_(%EC%98%81%ED%99%94)', 1), ('https://ko.wikipedia.org/wiki/%EC%A1%B0%EC%84%B1%ED%9D%AC_(%EC%98%81%ED%99%94_%EA%B0%90%EB%8F%85)', 1), ('https://ko.wikipedia.org/wiki/%EB%8A%91%EB%8C%80%EC%86%8C%EB%85%84_(%EC%98%81%ED%99%94)', 1), ('https://ko.wikipedia.org/wiki/%ED%95%9C%EA%B5%AD%EA%B0%A4%EB%9F%BD', 1), ('https://ko.wikipedia.org/wiki/%EB%8A%91%EB%8C%80%EC%86%8C%EB%85%84_(%EC%98%81%ED%99%94)', 1), ('https://ko.wikipedia.org/wiki/%ED%94%BC%EC%96%B4%EC%84%A0_%EC%A0%8A%EC%9D%80_%EC%98%81%ED%99%94_%ED%8E%98%EC%8A%A4%ED%8B%B0%EB%B2%8C', 1), ('https://ko.wikipedia.org/wiki/%EC%A1%B0%EC%84%B1%ED%9D%AC_(%EC%98%81%ED%99%94_%EA%B0%90%EB%8F%85)', 1), ('https://ko.wikipedia.org/wiki/%ED%95%9C%EA%B5%AD%EC%98%81%ED%99%94%EC%95%84%EC%B9%B4%EB%8D%B0%EB%AF%B8', 1), ('https://ko.wikipedia.org/wiki/%ED%94%BC%EB%81%93%EB%8A%94_%EC%B2%AD%EC%B6%98', 1), ('https://ko.wikipedia.org/wiki/%ED%94%BC%EB%81%93%EB%8A%94_%EC%B2%AD%EC%B6%98', 1), ('https://ko.wikipedia.org/wiki/%EC%9D%B4%EC%A2%85%EC%84%9D_(%EB%B0%B0%EC%9A%B0)', 1), ('https://ko.wikipedia.org/w/index.php?title=%EB%B0%95%EB%B3%B4%EC%98%81&action=edit&section=7', 1), ('https://ko.wikipedia.org/wiki/%EC%9D%B4%ED%95%B4%EC%98%81_(%EC%98%81%ED%99%94_%EA%B0%90%EB%8F%85)', 1), ('https://ko.wikipedia.org/wiki/%EA%B2%BD%EC%84%B1%ED%95%99%EA%B5%90:_%EC%82%AC%EB%9D%BC%EC%A7%84_%EC%86%8C%EB%85%80%EB%93%A4', 1), ('https://ko.wikipedia.org/wiki/%EC%9D%B4%ED%95%B4%EC%98%81_(%EC%98%81%ED%99%94_%EA%B0%90%EB%8F%85)', 1), ('https://ko.wikipedia.org/wiki/%EA%B2%BD%EC%84%B1%ED%95%99%EA%B5%90:_%EC%82%AC%EB%9D%BC%EC%A7%84_%EC%86%8C%EB%85%80%EB%93%A4', 1), ('https://ko.wikipedia.org/wiki/%EA%B2%BD%EC%84%B1%ED%95%99%EA%B5%90:_%EC%82%AC%EB%9D%BC%EC%A7%84_%EC%86%8C%EB%85%80%EB%93%A4', 1), ('https://ko.wikipedia.org/wiki/%EC%98%A4_%EB%82%98%EC%9D%98_%EA%B7%80%EC%8B%A0%EB%8B%98', 1), ('https://ko.wikipedia.org/wiki/%EC%9D%91%EB%8B%B5%ED%95%98%EB%9D%BC1994', 1), ('https://ko.wikipedia.org/wiki/%EB%AF%B8%EC%83%9D_(%EB%93%9C%EB%9D%BC%EB%A7%88)', 1), ('https://ko.wikipedia.org/wiki/%EC%98%A4_%EB%82%98%EC%9D%98_%EA%B7%80%EC%8B%A0%EB%8B%98', 1), ('https://ko.wikipedia.org/wiki/%EC%98%A4_%EB%82%98%EC%9D%98_%EA%B7%80%EC%8B%A0%EB%8B%98', 1), ('https://ko.wikipedia.org/wiki/%EB%8F%8C%EC%97%B0%EB%B3%80%EC%9D%B4_(%EC%98%81%ED%99%94)', 1), ('https://ko.wikipedia.org/wiki/%EC%9D%B4%EA%B4%91%EC%88%98_(%EB%B0%B0%EC%9A%B0)', 1), ('https://ko.wikipedia.org/wiki/%EA%B5%AD%EA%B0%80%EC%A0%95%EB%B3%B4%EC%9B%90_%EC%97%AC%EB%A1%A0_%EC%A1%B0%EC%9E%91_%EC%82%AC%EA%B1%B4', 1), ('https://ko.wikipedia.org/wiki/CJ_E%26M', 1), ('https://ko.wikipedia.org/wiki/%ED%86%A0%EB%A1%A0%ED%86%A0_%EA%B5%AD%EC%A0%9C_%EC%98%81%ED%99%94%EC%A0%9C', 1), ('https://ko.wikipedia.org/wiki/%EC%97%B4%EC%A0%95%EA%B0%99%EC%9D%80%EC%86%8C%EB%A6%AC%ED%95%98%EA%B3%A0%EC%9E%88%EB%84%A4', 1), ('https://ko.wikipedia.org/wiki/%EC%97%B4%EC%A0%95,_%EA%B0%99%EC%9D%80_%EC%86%8C%EB%A6%AC_%ED%95%98%EA%B3%A0_%EC%9E%88%EB%84%A4', 1), ('https://ko.wikipedia.org/wiki/%ED%95%9C%EA%B5%AD%EA%B0%A4%EB%9F%BD', 1), ('https://ko.wikipedia.org/w/index.php?title=%EB%B0%95%EB%B3%B4%EC%98%81&action=edit&section=8', 1), ('https://ko.wikipedia.org/wiki/%ED%9E%98%EC%8E%88%EC%97%AC%EC%9E%90_%EB%8F%84%EB%B4%89%EC%88%9C', 1), ('https://ko.wikipedia.org/wiki/%EC%A7%80%EC%88%98_(%EB%B0%B0%EC%9A%B0)', 1), ('https://ko.wikipedia.org/wiki/%EB%B0%95%ED%98%95%EC%8B%9D', 1), ('https://ko.wikipedia.org/wiki/%ED%9E%98%EC%8E%88%EC%97%AC%EC%9E%90_%EB%8F%84%EB%B4%89%EC%88%9C', 1), ('https://ko.wikipedia.org/wiki/%EB%AC%B4%EC%9E%90%EC%8B%9D_%EC%83%81%ED%8C%94%EC%9E%90', 1), ('https://ko.wikipedia.org/w/index.php?title=%EB%B0%95%EB%B3%B4%EC%98%81&action=edit&section=9', 1), ('https://ko.wikipedia.org/wiki/%EC%86%8C%EC%85%9C_%EB%84%A4%ED%8A%B8%EC%9B%8C%ED%81%AC_%EC%84%9C%EB%B9%84%EC%8A%A4', 1), ('https://ko.wikipedia.org/wiki/%EA%B9%80%ED%95%B4%EC%88%99', 1), ('https://ko.wikipedia.org/wiki/%EC%B2%AD%EB%A3%A1%EC%98%81%ED%99%94%EC%83%81', 1), ('https://ko.wikipedia.org/wiki/%EA%B3%BC%EC%86%8D%EC%8A%A4%EC%BA%94%EB%93%A4', 1), ('https://ko.wikipedia.org/wiki/%EA%B3%BC%EC%86%8D%EC%8A%A4%EC%BA%94%EB%93%A4', 1), ('https://ko.wikipedia.org/wiki/%EB%8A%91%EB%8C%80%EC%86%8C%EB%85%84', 1), ('https://ko.wikipedia.org/wiki/%EB%8F%8C%EC%97%B0%EB%B3%80%EC%9D%B4_(%EC%98%81%ED%99%94)', 1), ('https://ko.wikipedia.org/wiki/%EC%9B%90%EB%B9%88', 1), ('https://ko.wikipedia.org/wiki/%EB%B0%95%ED%9A%A8%EC%8B%A0', 1), ('https://ko.wikipedia.org/wiki/%EC%9B%90%EB%B9%88', 1), ('https://ko.wikipedia.org/wiki/%ED%94%84%EB%A1%9C%ED%8F%AC%EC%A6%88_(%EB%93%9C%EB%9D%BC%EB%A7%88)', 1), ('https://ko.wikipedia.org/wiki/%EB%B0%95%ED%9A%A8%EC%8B%A0', 1), ('https://ko.wikipedia.org/w/index.php?title=%EB%B0%95%EB%B3%B4%EC%98%81&action=edit&section=10', 1), ('https://ko.wikipedia.org/wiki/%EB%B0%95%EB%B3%B4%EC%98%81%EC%9D%98_%EC%9E%91%ED%92%88_%EB%AA%A9%EB%A1%9D', 1), ('https://ko.wikipedia.org/w/index.php?title=%EB%B0%95%EB%B3%B4%EC%98%81&action=edit&section=11', 1), ('https://ko.wikipedia.org/wiki/%EB%B0%95%EB%B3%B4%EC%98%81%EC%9D%98_%EC%88%98%EC%83%81_%EB%B0%8F_%ED%9B%84%EB%B3%B4_%EB%AA%A9%EB%A1%9D', 1), ('https://ko.wikipedia.org/w/index.php?title=%EB%B0%95%EB%B3%B4%EC%98%81&action=edit&section=12', 1), ('http://entertain.naver.com/read?oid=117&aid=0000107683', 1), ('http://media.daum.net/entertain/culture/newsview?newsid=20091221201110428', 1), ('http://www.sisunnews.co.kr/news/articleView.html?idxno=30180', 1), ('http://entertain.naver.com/read?oid=427&aid=0000000608', 1), ('http://tvdaily.asiae.co.kr/read.php3?aid=1439969448963995002', 1), ('http://media.daum.net/entertain/drama/newsview?newsid=20160603133010138', 1), ('http://entertain.naver.com/read?oid=311&aid=0000706247', 1), ('http://entertain.naver.com/read?oid=465&aid=0000002867', 1), ('http://entertain.naver.com/read?oid=020&aid=0002215077', 1), ('http://entertain.naver.com/read?oid=076&aid=0002069547', 1), ('http://media.daum.net/entertain/enews/newsview?newsid=20080206094708959', 1), ('http://www.ikoreadaily.co.kr/news/articleView.html?idxno=214444', 1), ('http://maxmedia.maxmovie.com/126136', 1), ('http://maxmedia.maxmovie.com/126137', 1), ('http://entertain.naver.com/read?oid=312&aid=0000024101', 1), ('https://web.archive.org/web/20170216134707/http://www.ceci.co.kr/article/article_detail.do?idx=1464', 1), ('http://www.ceci.co.kr/article/article_detail.do?idx=1464&rtag=', 1), ('https://ko.wikipedia.org/wiki/%EC%9C%84%ED%82%A4%EB%B0%B1%EA%B3%BC:%EC%9D%B8%EC%9A%A9_%EC%98%A4%EB%A5%98_%EB%8F%84%EC%9B%80%EB%A7%90#bad_date', 1), ('http://entertain.naver.com/read?oid=382&aid=0000559459', 1), ('http://v.entertain.media.daum.net/v/20121104203405414', 1), ('http://www.ilyosisa.co.kr/news/articleView.html?idxno=1602', 1), ('https://web.archive.org/web/20151222074652/http://topclass.chosun.com/board/view.asp?catecode=J&tnu=201508100007', 1), ('http://topclass.chosun.com/board/view.asp?catecode=J&tnu=201508100007', 1), ('http://www.yonhapnews.co.kr/entertainment/2014/01/16/1102000000AKR20140116186300005.HTML', 1), ('http://tenasia.hankyung.com/archives/211038', 1), ('http://www.dankook.ac.kr/widget/web/kor/-550?p_p_id=Bbs_WAR_bbsportlet&p_p_lifecycle=0&p_p_state=normal&p_p_mode=view&_Bbs_WAR_bbsportlet_curPage=112&_Bbs_WAR_bbsportlet_action=view_message&_Bbs_WAR_bbsportlet_messageId=223720', 1), ('http://entertain.naver.com/read?oid=145&aid=0000014258', 1), ('https://ko.wikipedia.org/wiki/%EC%9C%84%ED%82%A4%EB%B0%B1%EA%B3%BC:%EC%9D%B8%EC%9A%A9_%EC%98%A4%EB%A5%98_%EB%8F%84%EC%9B%80%EB%A7%90#bad_date', 1), ('http://www.dankook.ac.kr/widget/web/kor/-550?p_p_id=Bbs_WAR_bbsportlet&p_p_lifecycle=0&p_p_state=normal&p_p_mode=view&_Bbs_WAR_bbsportlet_curPage=112&_Bbs_WAR_bbsportlet_action=view_message&_Bbs_WAR_bbsportlet_messageId=223720', 1), ('http://entertain.naver.com/read?oid=112&aid=0001976824', 1), ('http://entertain.naver.com/read?oid=117&aid=0000124763', 1), ('http://entertain.naver.com/read?oid=020&aid=0000447103', 1), ('http://news.naver.com/main/read.nhn?mode=LSD&mid=sec&sid1=110&oid=028&aid=0000219484', 1), ('http://entertain.naver.com/read?oid=079&aid=0001956025', 1), ('http://entertain.naver.com/read?oid=108&aid=0001981435', 1), ('http://entertain.naver.com/read?oid=009&aid=0002323140', 1), ('http://entertain.naver.com/read?oid=140&aid=0000014016', 1), ('http://entertain.naver.com/read?oid=111&aid=0000147090', 1), ('http://entertain.naver.com/read?oid=111&aid=0000147091', 1), ('http://entertain.naver.com/read?oid=079&aid=0001952420', 1), ('http://entertain.naver.com/read?oid=108&aid=0001984562', 1), ('http://entertain.naver.com/read?oid=277&aid=0002091565', 1), ('http://www.newsen.com/news_view.php?uid=200804211501001001', 1), ('http://entertain.naver.com/read?oid=213&aid=0000013966', 1), ('http://entertain.naver.com/read?oid=079&aid=0002016227', 1), ('http://entertain.naver.com/read?oid=020&aid=0002019343', 1), ('https://web.archive.org/web/20160816081954/http://www.dcnews.in/news/view.html?section=9&category=14&order=all&page=18&no=131460&opage=4#', 1), ('http://www.dcnews.in/news/view.html?section=9&category=14&order=all&page=18&no=131460&opage=4', 1), ('http://www.newsen.com/news_view.php?uid=200812141118261003', 1), ('http://entertain.naver.com/read?oid=009&aid=0002055163', 1), ('https://web.archive.org/web/20151222074652/http://topclass.chosun.com/board/view.asp?catecode=J&tnu=201508100007', 1), ('http://topclass.chosun.com/board/view.asp?catecode=J&tnu=201508100007', 1), ('https://ko.wikipedia.org/wiki/%EC%9C%84%ED%82%A4%EB%B0%B1%EA%B3%BC:%EC%9D%B8%EC%9A%A9_%EC%98%A4%EB%A5%98_%EB%8F%84%EC%9B%80%EB%A7%90#bad_date', 1), ('http://entertain.naver.com/read?oid=144&aid=0000083837', 1), ('http://news.naver.com/main/read.nhn?mode=LSD&mid=sec&sid1=103&oid=028&aid=0002356551', 1), ('http://www.newsen.com/news_view.php?uid=200912022034131003', 1), ('http://news.maxmovie.com/movie_info/sha_news_view.asp?newsType=&page=&contain=&keyword=&mi_id=MI0081938622', 1), ('http://entertain.naver.com/read?oid=108&aid=0002017515', 1), ('http://www.dailian.co.kr/news/view/198549', 1), ('http://entertain.naver.com/read?oid=111&aid=0000183945', 1), ('http://entertain.naver.com/read?oid=277&aid=0002459143', 1), ('http://media.daum.net/entertain/star/newsview?newsid=20150901104104747', 1), ('http://entertain.naver.com/read?oid=015&aid=0003415160', 1), ('http://entertain.naver.com/read?oid=108&aid=0002049514', 1), ('http://entertain.naver.com/read?oid=145&aid=0000014258', 1), ('https://ko.wikipedia.org/wiki/%EC%9C%84%ED%82%A4%EB%B0%B1%EA%B3%BC:%EC%9D%B8%EC%9A%A9_%EC%98%A4%EB%A5%98_%EB%8F%84%EC%9B%80%EB%A7%90#bad_date', 1), ('http://news.naver.com/main/read.nhn?mode=LSD&mid=sec&sid1=103&oid=001&aid=0004905363', 1), ('http://entertain.naver.com/read?oid=111&aid=0000282579', 1), ('http://www.cine21.com/news/view/?mag_id=66164', 1), ('http://bntnews.hankyung.com/apps/news?popup=0&nid=04&c1=04&c2=04&c3=00&nkey=201207261059053&mode=sub_view', 1), ('http://www.newsen.com/news_view.php?uid=201209200939490510', 1), ('http://www.obsnews.co.kr/news/articleView.html?idxno=665935', 1), ('http://entertain.naver.com/read?oid=213&aid=0000264050', 1), ('http://entertain.naver.com/read?oid=277&aid=0002898242', 1), ('http://www.gallup.co.kr/gallupdb/reportContent.asp?seqNo=377&pagePos=1&selectYear=0&search=3&searchKeyword=%B9%DA%BA%B8%BF%B5', 1), ('http://www.anewsa.com/detail.php?number=414138&thread=07r05', 1), ('http://entertain.naver.com/read?oid=213&aid=0000807398', 1), ('http://entertain.naver.com/read?oid=117&aid=0002282683', 1), ('http://entertain.naver.com/read?oid=108&aid=0002175377', 1), ('http://entertain.naver.com/read?oid=038&aid=0002398797', 1), ('https://web.archive.org/web/20151222074652/http://topclass.chosun.com/board/view.asp?catecode=J&tnu=201508100007', 1), ('http://topclass.chosun.com/board/view.asp?catecode=J&tnu=201508100007', 1), ('http://entertain.naver.com/read?oid=081&aid=0002514068', 1), ('http://entertain.naver.com/read?oid=047&aid=0002045416', 1), ('http://entertain.naver.com/read?oid=117&aid=0002611491', 1), ('http://www.newscj.com/news/articleView.html?idxno=295968', 1), ('http://news.naver.com/main/read.nhn?mode=LSD&mid=sec&sid1=004&oid=140&aid=0000027676', 1), ('http://www.ilyoseoul.co.kr/news/articleView.html?idxno=125125', 1), ('http://news.tf.co.kr/read/sunday/1541927.htm', 1), ('http://entertain.naver.com/read?oid=468&aid=0000016331', 1), ('http://entertain.naver.com/read?oid=468&aid=0000016220', 1), ('http://tvdaily.asiae.co.kr/read.php3?aid=1440290281965838002', 1), ('http://entertain.naver.com/read?oid=468&aid=0000039543', 1), ('http://entertain.naver.com/read?oid=213&aid=0000752100', 1), ('http://news.naver.com/main/read.nhn?mode=LSD&mid=sec&sid1=103&oid=015&aid=0003461542', 1), ('http://entertain.naver.com/read?oid=213&aid=0000788180', 1), ('http://entertain.naver.com/read?oid=213&aid=0000785425', 1), ('http://entertain.naver.com/read?oid=213&aid=0000741952', 1), ('http://entertain.naver.com/read?oid=057&aid=0000683014', 1), ('http://entertain.naver.com/read?oid=144&aid=0000378685', 1), ('http://entertain.naver.com/read?oid=382&aid=0000414135', 1), ('https://web.archive.org/web/20160305135910/http://entertain.naver.com/read?oid=241&aid=0002503779#', 1), ('http://entertain.naver.com/read?oid=241&aid=0002503779', 1), ('http://entertain.naver.com/read?oid=312&aid=0000148481', 1), ('http://www.gallup.co.kr/gallupdb/reportContent.asp?seqNo=712&pagePos=1&selectYear=0&search=3&searchKeyword=%B9%DA%BA%B8%BF%B5', 1), ('http://www.gallup.co.kr/gallupdb/reportContent.asp?seqNo=711&pagePos=1&selectYear=0&search=3&searchKeyword=%B9%DA%BA%B8%BF%B5', 1), ('http://entertain.naver.com/read?oid=404&aid=0000120635', 1), ('http://media.daum.net/entertain/drama/newsview?newsid=20160603133010138', 1), ('http://entertain.naver.com/read?oid=241&aid=0002663526', 1), ('https://ko.wikipedia.org/wiki/%EC%9C%84%ED%82%A4%EB%B0%B1%EA%B3%BC:%EA%B9%A8%EC%A7%84_%EB%A7%81%ED%81%AC', 1), ('http://web.archive.org/web/*/http://entertain.naver.com/read?oid=241&aid=0002663526', 1), ('http://v.entertain.media.daum.net/v/20170420190203222', 1), ('http://entertain.naver.com/read?oid=076&aid=0003079764', 1), ('http://entertain.naver.com/read?oid=047&aid=0002148253', 1), ('http://entertain.naver.com/read?oid=032&aid=0002770401', 1), ('http://www.entermedia.co.kr/news/news_view.html?idx=6396', 1), ('http://www.sportsq.co.kr/news/articleView.html?idxno=108932', 1), ('http://www.metroseoul.co.kr/news/newsview?newscd=2015082600040', 1), ('http://entertain.naver.com/read?oid=312&aid=0000126214', 1), ('http://entertain.naver.com/read?oid=025&aid=0002707129', 1), ('https://ko.wikipedia.org/wiki/%EC%9C%84%ED%82%A4%EB%B0%B1%EA%B3%BC:%EA%B9%A8%EC%A7%84_%EB%A7%81%ED%81%AC', 1), ('http://web.archive.org/web/*/http://entertain.naver.com/read?oid=025&aid=0002707129', 1), ('http://www.sportsq.co.kr/news/articleView.html?idxno=50992', 1), ('http://www.stardailynews.co.kr/news/articleView.html?idxno=68104', 1), ('http://entertain.naver.com/read?oid=009&aid=0003623213', 1), ('http://entertain.naver.com/read?oid=076&aid=0003082715', 1), ('http://entertain.naver.com/read?oid=076&aid=0002851087', 1), ('http://entertain.naver.com/read?oid=038&aid=0002459582', 1), ('http://entertain.naver.com/read?oid=015&aid=0002700941', 1), ('http://entertain.naver.com/read?oid=416&aid=0000005705', 1), ('http://tvdaily.asiae.co.kr/read.php3?aid=14496734161032781019', 1), ('http://smlounge.co.kr/nylon/article/24391', 1), ('https://ko.wikipedia.org/wiki/%EC%9C%84%ED%82%A4%EB%B0%B1%EA%B3%BC:%EC%9D%B8%EC%9A%A9_%EC%98%A4%EB%A5%98_%EB%8F%84%EC%9B%80%EB%A7%90#bad_date', 1), ('http://www.hankookilbo.com/v/aa47d4a720ff469d93fef85cefc3f28f', 1), ('https://ko.wikipedia.org/w/index.php?title=%EB%B0%95%EB%B3%B4%EC%98%81&action=edit&section=13', 1), ('https://ko.wikipedia.org/wiki/%EC%9C%84%ED%82%A4%EB%AF%B8%EB%94%94%EC%96%B4_%EA%B3%B5%EC%9A%A9', 1), ('https://commons.wikimedia.org/wiki/Category:Park_Bo-young?uselang=ko', 1), ('https://www.kmdb.or.kr/db/per/00048294', 1), ('https://ko.wikipedia.org/wiki/%ED%95%9C%EA%B5%AD%EC%98%81%ED%99%94_%EB%8D%B0%EC%9D%B4%ED%84%B0%EB%B2%A0%EC%9D%B4%EC%8A%A4', 1), ('https://www.imdb.com/name/nm3291520/', 1), ('https://ko.wikipedia.org/wiki/%EC%9D%B8%ED%84%B0%EB%84%B7_%EC%98%81%ED%99%94_%EB%8D%B0%EC%9D%B4%ED%84%B0%EB%B2%A0%EC%9D%B4%EC%8A%A4', 1), ('http://www.hancinema.net/korean_Park_Bo-young.php', 1), ('https://ko.wikipedia.org/wiki/%ED%95%9C%EC%8B%9C%EB%84%A4%EB%A7%88', 1), ('https://ko.wikipedia.org/wiki/%ED%8B%80:%EC%84%9C%EC%9A%B8_%EB%93%9C%EB%9D%BC%EB%A7%88_%EC%96%B4%EC%9B%8C%EC%A6%88_%ED%95%9C%EB%A5%98%EB%93%9C%EB%9D%BC%EB%A7%88_%EB%B6%80%EB%AC%B8_%EC%97%AC%EC%9E%90_%EC%97%B0%EA%B8%B0%EC%9E%90', 1), ('https://ko.wikipedia.org/w/index.php?title=%ED%8B%80%ED%86%A0%EB%A1%A0:%EC%84%9C%EC%9A%B8_%EB%93%9C%EB%9D%BC%EB%A7%88_%EC%96%B4%EC%9B%8C%EC%A6%88_%ED%95%9C%EB%A5%98%EB%93%9C%EB%9D%BC%EB%A7%88_%EB%B6%80%EB%AC%B8_%EC%97%AC%EC%9E%90_%EC%97%B0%EA%B8%B0%EC%9E%90&action=edit&redlink=1', 1), ('https://ko.wikipedia.org/w/index.php?title=%ED%8B%80:%EC%84%9C%EC%9A%B8_%EB%93%9C%EB%9D%BC%EB%A7%88_%EC%96%B4%EC%9B%8C%EC%A6%88_%ED%95%9C%EB%A5%98%EB%93%9C%EB%9D%BC%EB%A7%88_%EB%B6%80%EB%AC%B8_%EC%97%AC%EC%9E%90_%EC%97%B0%EA%B8%B0%EC%9E%90&action=edit', 1), ('https://ko.wikipedia.org/w/index.php?title=%ED%8B%80:%EC%84%9C%EC%9A%B8_%EB%93%9C%EB%9D%BC%EB%A7%88_%EC%96%B4%EC%9B%8C%EC%A6%88_%ED%95%9C%EB%A5%98%EB%93%9C%EB%9D%BC%EB%A7%88_%EB%B6%80%EB%AC%B8_%EC%97%AC%EC%9E%90_%EC%97%B0%EA%B8%B0%EC%9E%90&action=history', 1), ('https://ko.wikipedia.org/wiki/%EC%84%9C%EC%9A%B8_%EB%93%9C%EB%9D%BC%EB%A7%88_%EC%96%B4%EC%9B%8C%EC%A6%88', 1), ('https://ko.wikipedia.org/wiki/%EA%B3%A0%ED%98%84%EC%A0%95', 1), ('https://ko.wikipedia.org/wiki/%ED%95%9C%ED%9A%A8%EC%A3%BC', 1), ('https://ko.wikipedia.org/wiki/%EB%AC%B8%EA%B7%BC%EC%98%81', 1), ('https://ko.wikipedia.org/wiki/%ED%95%9C%EC%A7%80%EB%AF%BC', 1), ('https://ko.wikipedia.org/wiki/%EC%88%98%EC%A7%80_(%EB%8C%80%ED%95%9C%EB%AF%BC%EA%B5%AD%EC%9D%98_%EA%B0%80%EC%88%98)', 1), ('https://ko.wikipedia.org/wiki/%ED%99%A9%EC%A0%95%EC%9D%8C', 1), ('https://ko.wikipedia.org/wiki/%EC%8B%A0%EB%AF%BC%EC%95%84', 1), ('https://ko.wikipedia.org/wiki/%ED%8B%80:%EC%84%9C%EC%9A%B8_%EB%93%9C%EB%9D%BC%EB%A7%88_%EC%96%B4%EC%9B%8C%EC%A6%88_%ED%95%9C%EB%A5%98%EB%93%9C%EB%9D%BC%EB%A7%88_%EB%B6%80%EB%AC%B8_%EC%B5%9C%EC%9A%B0%EC%88%98%EC%9E%91%ED%92%88', 1), ('https://ko.wikipedia.org/wiki/%ED%8B%80:%EC%84%9C%EC%9A%B8_%EB%93%9C%EB%9D%BC%EB%A7%88_%EC%96%B4%EC%9B%8C%EC%A6%88_%ED%95%9C%EB%A5%98%EB%93%9C%EB%9D%BC%EB%A7%88_%EB%B6%80%EB%AC%B8_%EB%82%A8%EC%9E%90_%EC%97%B0%EA%B8%B0%EC%9E%90', 1), ('https://ko.wikipedia.org/wiki/%ED%8B%80:%EC%84%9C%EC%9A%B8_%EB%93%9C%EB%9D%BC%EB%A7%88_%EC%96%B4%EC%9B%8C%EC%A6%88_%ED%95%9C%EB%A5%98%EB%93%9C%EB%9D%BC%EB%A7%88_%EB%B6%80%EB%AC%B8_%EC%97%AC%EC%9E%90_%EC%97%B0%EA%B8%B0%EC%9E%90', 1), ('https://ko.wikipedia.org/wiki/%ED%8B%80:%EB%94%94%EB%A0%89%ED%84%B0%EC%8A%A4_%EC%BB%B7_%EC%8B%9C%EC%83%81%EC%8B%9D_%EC%98%AC%ED%95%B4%EC%9D%98_%EC%97%AC%EC%9E%90%EC%8B%A0%EC%9D%B8%EC%97%B0%EA%B8%B0', 1), ('https://ko.wikipedia.org/w/index.php?title=%ED%8B%80%ED%86%A0%EB%A1%A0:%EB%94%94%EB%A0%89%ED%84%B0%EC%8A%A4_%EC%BB%B7_%EC%8B%9C%EC%83%81%EC%8B%9D_%EC%98%AC%ED%95%B4%EC%9D%98_%EC%97%AC%EC%9E%90%EC%8B%A0%EC%9D%B8%EC%97%B0%EA%B8%B0&action=edit&redlink=1', 1), ('https://ko.wikipedia.org/w/index.php?title=%ED%8B%80:%EB%94%94%EB%A0%89%ED%84%B0%EC%8A%A4_%EC%BB%B7_%EC%8B%9C%EC%83%81%EC%8B%9D_%EC%98%AC%ED%95%B4%EC%9D%98_%EC%97%AC%EC%9E%90%EC%8B%A0%EC%9D%B8%EC%97%B0%EA%B8%B0&action=edit', 1), ('https://ko.wikipedia.org/w/index.php?title=%ED%8B%80:%EB%94%94%EB%A0%89%ED%84%B0%EC%8A%A4_%EC%BB%B7_%EC%8B%9C%EC%83%81%EC%8B%9D_%EC%98%AC%ED%95%B4%EC%9D%98_%EC%97%AC%EC%9E%90%EC%8B%A0%EC%9D%B8%EC%97%B0%EA%B8%B0&action=history', 1), ('https://ko.wikipedia.org/wiki/%EB%94%94%EB%A0%89%ED%84%B0%EC%8A%A4_%EC%BB%B7_%EC%8B%9C%EC%83%81%EC%8B%9D', 1), ('https://ko.wikipedia.org/wiki/1990%EB%85%84%EB%8C%80', 1), ('https://ko.wikipedia.org/wiki/2000%EB%85%84%EB%8C%80', 1), ('https://ko.wikipedia.org/wiki/%EB%B0%B0%EB%91%90%EB%82%98', 1), ('https://ko.wikipedia.org/wiki/%EC%9D%B4%EC%9A%94%EC%9B%90', 1), ('https://ko.wikipedia.org/wiki/%EB%AC%B8%EC%86%8C%EB%A6%AC', 1), ('https://ko.wikipedia.org/wiki/%EC%9E%84%EC%88%98%EC%A0%95_(%EB%B0%B0%EC%9A%B0)', 1), ('https://ko.wikipedia.org/wiki/%EC%88%98%EC%95%A0', 1), ('https://ko.wikipedia.org/wiki/%EC%A1%B0%EC%9D%B4%EC%A7%84', 1), ('https://ko.wikipedia.org/wiki/%EC%B6%94%EC%9E%90%ED%98%84', 1), ('https://ko.wikipedia.org/wiki/%ED%99%A9%EB%B3%B4%EB%9D%BC', 1), ('https://ko.wikipedia.org/wiki/%EC%84%9C%EC%9A%B0', 1), ('https://ko.wikipedia.org/wiki/2010%EB%85%84%EB%8C%80', 1), ('https://ko.wikipedia.org/wiki/%EC%9D%B4%EB%AF%BC%EC%A0%95', 1), ('https://ko.wikipedia.org/wiki/%EC%B2%9C%EC%9A%B0%ED%9D%AC', 1), ('https://ko.wikipedia.org/wiki/%EC%9D%B4%EC%86%9C', 1), ('https://ko.wikipedia.org/wiki/%EA%B9%80%ED%83%9C%EB%A6%AC', 1), ('https://ko.wikipedia.org/wiki/%EC%B5%9C%ED%9D%AC%EC%84%9C', 1), ('https://ko.wikipedia.org/wiki/%EA%B9%80%EB%8B%A4%EB%AF%B8', 1), ('https://ko.wikipedia.org/wiki/%ED%8B%80:%EB%94%94%EB%A0%89%ED%84%B0%EC%8A%A4_%EC%BB%B7_%EC%8B%9C%EC%83%81%EC%8B%9D_%EC%98%AC%ED%95%B4%EC%9D%98_%EA%B0%90%EB%8F%85', 1), ('https://ko.wikipedia.org/wiki/%ED%8B%80:%EB%94%94%EB%A0%89%ED%84%B0%EC%8A%A4_%EC%BB%B7_%EC%8B%9C%EC%83%81%EC%8B%9D_%EC%98%AC%ED%95%B4%EC%9D%98_%EB%82%A8%EC%9E%90%EC%97%B0%EA%B8%B0', 1), ('https://ko.wikipedia.org/wiki/%ED%8B%80:%EB%94%94%EB%A0%89%ED%84%B0%EC%8A%A4_%EC%BB%B7_%EC%8B%9C%EC%83%81%EC%8B%9D_%EC%98%AC%ED%95%B4%EC%9D%98_%EC%97%AC%EC%9E%90%EC%97%B0%EA%B8%B0', 1), ('https://ko.wikipedia.org/wiki/%ED%8B%80:%EB%94%94%EB%A0%89%ED%84%B0%EC%8A%A4_%EC%BB%B7_%EC%8B%9C%EC%83%81%EC%8B%9D_%EC%98%AC%ED%95%B4%EC%9D%98_%EC%8B%A0%EC%9D%B8%EA%B0%90%EB%8F%85', 1), ('https://ko.wikipedia.org/wiki/%ED%8B%80:%EB%94%94%EB%A0%89%ED%84%B0%EC%8A%A4_%EC%BB%B7_%EC%8B%9C%EC%83%81%EC%8B%9D_%EC%98%AC%ED%95%B4%EC%9D%98_%EB%82%A8%EC%9E%90%EC%8B%A0%EC%9D%B8%EC%97%B0%EA%B8%B0', 1), ('https://ko.wikipedia.org/wiki/%ED%8B%80:%EB%94%94%EB%A0%89%ED%84%B0%EC%8A%A4_%EC%BB%B7_%EC%8B%9C%EC%83%81%EC%8B%9D_%EC%98%AC%ED%95%B4%EC%9D%98_%EC%97%AC%EC%9E%90%EC%8B%A0%EC%9D%B8%EC%97%B0%EA%B8%B0', 1), ('https://ko.wikipedia.org/wiki/%ED%8B%80:%ED%99%A9%EA%B8%88%EC%B4%AC%EC%98%81%EC%83%81_%EC%8B%A0%EC%9D%B8%EC%97%AC%EC%9A%B0', 1), ('https://ko.wikipedia.org/w/index.php?title=%ED%8B%80%ED%86%A0%EB%A1%A0:%ED%99%A9%EA%B8%88%EC%B4%AC%EC%98%81%EC%83%81_%EC%8B%A0%EC%9D%B8%EC%97%AC%EC%9A%B0&action=edit&redlink=1', 1), ('https://ko.wikipedia.org/w/index.php?title=%ED%8B%80:%ED%99%A9%EA%B8%88%EC%B4%AC%EC%98%81%EC%83%81_%EC%8B%A0%EC%9D%B8%EC%97%AC%EC%9A%B0&action=edit', 1), ('https://ko.wikipedia.org/w/index.php?title=%ED%8B%80:%ED%99%A9%EA%B8%88%EC%B4%AC%EC%98%81%EC%83%81_%EC%8B%A0%EC%9D%B8%EC%97%AC%EC%9A%B0&action=history', 1), ('https://ko.wikipedia.org/wiki/%ED%99%A9%EA%B8%88%EC%B4%AC%EC%98%81%EC%83%81', 1), ('https://ko.wikipedia.org/wiki/1980%EB%85%84%EB%8C%80', 1), ('https://ko.wikipedia.org/wiki/%EA%B6%8C%EA%B8%B0%EC%84%A0', 1), ('https://ko.wikipedia.org/wiki/%EC%98%A4%EC%88%98%EB%B9%84', 1), ('https://ko.wikipedia.org/wiki/%EA%B0%95%EB%AF%BC%EA%B2%BD_(%EB%B0%B0%EC%9A%B0)', 1), ('https://ko.wikipedia.org/wiki/%EC%8B%A0%ED%98%9C%EC%88%98_(%EB%B0%B0%EC%9A%B0)', 1), ('https://ko.wikipedia.org/wiki/%EC%B5%9C%EC%88%98%EC%A7%80', 1), ('https://ko.wikipedia.org/wiki/1990%EB%85%84%EB%8C%80', 1), ('https://ko.wikipedia.org/wiki/%EC%B5%9C%EC%A7%84%EC%8B%A4', 1), ('https://ko.wikipedia.org/wiki/%EC%9D%B4%EC%95%84%EB%A1%9C', 1), ('https://ko.wikipedia.org/wiki/%EB%B0%95%EC%98%81%EC%84%A0_(1968%EB%85%84)', 1), ('https://ko.wikipedia.org/wiki/%EC%97%84%EC%A0%95%ED%99%94', 1), ('https://ko.wikipedia.org/wiki/%EC%A0%84%EB%AF%B8%EC%84%A0', 1), ('https://ko.wikipedia.org/wiki/%EA%B9%80%EB%AF%B8%EC%98%81', 1), ('https://ko.wikipedia.org/w/index.php?title=%EC%A1%B0%EC%88%98%ED%98%9C&action=edit&redlink=1', 1), ('https://ko.wikipedia.org/wiki/%EA%B9%80%EC%9D%80%EC%A0%95_(1970%EB%85%84)', 1), ('https://ko.wikipedia.org/wiki/%EC%A1%B0%EC%9D%80%EC%88%99', 1), ('https://ko.wikipedia.org/wiki/%EC%B5%9C%EC%A7%80%EC%9A%B0', 1), ('https://ko.wikipedia.org/wiki/%EA%B9%80%EC%9C%A4%EC%A7%84', 1), ('https://ko.wikipedia.org/wiki/%EA%B9%80%EA%B7%9C%EB%A6%AC_(1979%EB%85%84_6%EC%9B%94)', 1), ('https://ko.wikipedia.org/wiki/2000%EB%85%84%EB%8C%80', 1), ('https://ko.wikipedia.org/wiki/%EB%B0%95%EC%A7%84%ED%9D%AC_(%EB%B0%B0%EC%9A%B0)', 1), ('https://ko.wikipedia.org/wiki/%EC%84%9C%EC%A0%95_(%EB%B0%B0%EC%9A%B0)', 1), ('https://ko.wikipedia.org/wiki/%EC%84%9C%EC%9B%90_(%EB%B0%B0%EC%9A%B0)', 1), ('https://ko.wikipedia.org/wiki/%EA%B9%80%EC%84%A0%EC%95%84', 1), ('https://ko.wikipedia.org/wiki/%EA%B9%80%ED%9A%A8%EC%A7%84_(%EB%B0%B0%EC%9A%B0)', 1), ('https://ko.wikipedia.org/wiki/%EC%9D%B4%EC%B2%AD%EC%95%84', 1), ('https://ko.wikipedia.org/wiki/%ED%98%84%EC%98%81', 1), ('https://ko.wikipedia.org/wiki/%EA%B9%80%EC%95%84%EC%A4%91', 1), ('https://ko.wikipedia.org/wiki/%ED%95%9C%EC%98%88%EC%8A%AC', 1), ('https://ko.wikipedia.org/wiki/%EC%9D%B4%EC%97%B0%ED%9D%AC', 1), ('https://ko.wikipedia.org/wiki/%EC%A0%84%EC%84%B8%ED%99%8D', 1), ('https://ko.wikipedia.org/wiki/2010%EB%85%84%EB%8C%80', 1), ('https://ko.wikipedia.org/wiki/%ED%99%A9%EA%B8%88%ED%9D%AC', 1), ('https://ko.wikipedia.org/wiki/%EC%A0%84%EC%88%98%EC%A7%84', 1), ('https://ko.wikipedia.org/wiki/%EA%B9%80%EC%9C%A4%ED%98%9C', 1), ('https://ko.wikipedia.org/wiki/%EB%B0%B1%EB%8B%A4%EC%9D%80', 1), ('https://ko.wikipedia.org/wiki/%EA%B9%80%EC%83%88%EB%A1%A0', 1), ('https://ko.wikipedia.org/wiki/%ED%99%8D%EC%95%84%EB%A6%84', 1), ('https://ko.wikipedia.org/wiki/%EC%84%9C%EB%AF%B8%EC%A7%80', 1), ('https://ko.wikipedia.org/wiki/%EB%B0%95%EB%82%98%EC%98%88', 1), ('https://ko.wikipedia.org/wiki/%EC%B5%9C%EB%A6%AC', 1), ('https://ko.wikipedia.org/wiki/%ED%8B%80:%ED%99%A9%EA%B8%88%EC%B4%AC%EC%98%81%EC%83%81_%EC%9E%91%ED%92%88%EC%83%81', 1), ('https://ko.wikipedia.org/wiki/%ED%8B%80:%ED%99%A9%EA%B8%88%EC%B4%AC%EC%98%81%EC%83%81_%EA%B0%90%EB%8F%85', 1), ('https://ko.wikipedia.org/wiki/%ED%8B%80:%ED%99%A9%EA%B8%88%EC%B4%AC%EC%98%81%EC%83%81_%EC%97%B0%EA%B8%B0%EB%8C%80%EC%83%81', 1), ('https://ko.wikipedia.org/wiki/%ED%8B%80:%ED%99%A9%EA%B8%88%EC%B4%AC%EC%98%81%EC%83%81_%EB%82%A8%EC%9A%B0%EC%A3%BC%EC%97%B0', 1), ('https://ko.wikipedia.org/wiki/%ED%8B%80:%ED%99%A9%EA%B8%88%EC%B4%AC%EC%98%81%EC%83%81_%EC%97%AC%EC%9A%B0%EC%A3%BC%EC%97%B0', 1), ('https://ko.wikipedia.org/wiki/%ED%8B%80:%ED%99%A9%EA%B8%88%EC%B4%AC%EC%98%81%EC%83%81_%EB%82%A8%EC%9A%B0%EC%A1%B0%EC%97%B0', 1), ('https://ko.wikipedia.org/wiki/%ED%8B%80:%ED%99%A9%EA%B8%88%EC%B4%AC%EC%98%81%EC%83%81_%EC%97%AC%EC%9A%B0%EC%A1%B0%EC%97%B0', 1), ('https://ko.wikipedia.org/wiki/%ED%8B%80:%ED%99%A9%EA%B8%88%EC%B4%AC%EC%98%81%EC%83%81_%EC%8B%A0%EC%9D%B8%EA%B0%90%EB%8F%85', 1), ('https://ko.wikipedia.org/wiki/%ED%8B%80:%ED%99%A9%EA%B8%88%EC%B4%AC%EC%98%81%EC%83%81_%EC%8B%A0%EC%9D%B8%EB%82%A8%EC%9A%B0', 1), ('https://ko.wikipedia.org/wiki/%ED%8B%80:%ED%99%A9%EA%B8%88%EC%B4%AC%EC%98%81%EC%83%81_%EC%8B%A0%EC%9D%B8%EC%97%AC%EC%9A%B0', 1), ('https://ko.wikipedia.org/wiki/%ED%8B%80:%EC%B2%AD%EB%A3%A1%EC%98%81%ED%99%94%EC%83%81_%EC%8B%A0%EC%9D%B8%EC%97%AC%EC%9A%B0', 1), ('https://ko.wikipedia.org/w/index.php?title=%ED%8B%80%ED%86%A0%EB%A1%A0:%EC%B2%AD%EB%A3%A1%EC%98%81%ED%99%94%EC%83%81_%EC%8B%A0%EC%9D%B8%EC%97%AC%EC%9A%B0&action=edit&redlink=1', 1), ('https://ko.wikipedia.org/w/index.php?title=%ED%8B%80:%EC%B2%AD%EB%A3%A1%EC%98%81%ED%99%94%EC%83%81_%EC%8B%A0%EC%9D%B8%EC%97%AC%EC%9A%B0&action=edit', 1), ('https://ko.wikipedia.org/w/index.php?title=%ED%8B%80:%EC%B2%AD%EB%A3%A1%EC%98%81%ED%99%94%EC%83%81_%EC%8B%A0%EC%9D%B8%EC%97%AC%EC%9A%B0&action=history', 1), ('https://ko.wikipedia.org/wiki/%EC%B2%AD%EB%A3%A1%EC%98%81%ED%99%94%EC%83%81', 1), ('https://ko.wikipedia.org/wiki/1960%EB%85%84%EB%8C%80', 1), ('https://ko.wikipedia.org/w/index.php?title=%EC%A3%BC%EC%97%B0_(%EB%B0%B0%EC%9A%B0)&action=edit&redlink=1', 1), ('https://ko.wikipedia.org/wiki/%EB%AC%B8%ED%9D%AC_(%EB%B0%B0%EC%9A%B0)', 1), ('https://ko.wikipedia.org/wiki/%EB%82%A8%EC%A0%95%EC%9E%84', 1), ('https://ko.wikipedia.org/wiki/1970%EB%85%84%EB%8C%80', 1), ('https://ko.wikipedia.org/wiki/%EA%B9%80%EC%B0%BD%EC%88%99_(%EB%B0%B0%EC%9A%B0)', 1), ('https://ko.wikipedia.org/w/index.php?title=%EC%98%A4%EC%9C%A0%EA%B2%BD_(%EB%B0%B0%EC%9A%B0)&action=edit&redlink=1', 1), ('https://ko.wikipedia.org/w/index.php?title=%EA%B9%80%EC%B2%AD%EC%9E%90&action=edit&redlink=1', 1), ('https://ko.wikipedia.org/w/index.php?title=%EB%82%98%ED%95%98%EC%98%81&action=edit&redlink=1', 1), ('https://ko.wikipedia.org/w/index.php?title=%EC%9E%84%EC%A7%80%EC%84%B1&action=edit&redlink=1', 1), ('https://ko.wikipedia.org/wiki/%EB%B0%95%EC%A7%80%EC%98%81_(1949%EB%85%84)', 1), ('https://ko.wikipedia.org/wiki/%EC%9A%B0%EC%97%B0%EC%A0%95', 1), ('https://ko.wikipedia.org/w/index.php?title=%EC%A0%84%EC%98%81_(%EB%B0%B0%EC%9A%B0)&action=edit&redlink=1', 1), ('https://ko.wikipedia.org/wiki/1990%EB%85%84%EB%8C%80', 1), ('https://ko.wikipedia.org/wiki/%EC%B5%9C%EC%A7%84%EC%8B%A4', 1), ('https://ko.wikipedia.org/w/index.php?title=%EA%B9%80%EA%B8%88%EC%9A%A9&action=edit&redlink=1', 1), ('https://ko.wikipedia.org/wiki/%EC%98%A4%EC%97%B0%EC%88%98', 1), ('https://ko.wikipedia.org/wiki/%EC%98%A4%EC%A0%95%ED%95%B4', 1), ('https://ko.wikipedia.org/wiki/%EC%A0%95%EC%84%A0%EA%B2%BD', 1), ('https://ko.wikipedia.org/wiki/%EC%9D%B4%EC%A7%80%EC%9D%80_(1971%EB%85%84)', 1), ('https://ko.wikipedia.org/wiki/%EC%9D%B4%EC%A0%95%ED%98%84_(1980%EB%85%84)', 1), ('https://ko.wikipedia.org/wiki/%EC%9D%B4%ED%98%9C%EC%9D%80', 1), ('https://ko.wikipedia.org/wiki/%EC%A0%84%EB%8F%84%EC%97%B0', 1), ('https://ko.wikipedia.org/wiki/%EA%B9%80%EC%97%AC%EC%A7%84', 1), ('https://ko.wikipedia.org/wiki/%EC%9D%B4%EC%9E%AC%EC%9D%80', 1), ('https://ko.wikipedia.org/wiki/2000%EB%85%84%EB%8C%80', 1), ('https://ko.wikipedia.org/wiki/%EB%B0%B0%EB%91%90%EB%82%98', 1), ('https://ko.wikipedia.org/wiki/%EC%9D%B4%EC%9A%94%EC%9B%90', 1), ('https://ko.wikipedia.org/wiki/%EB%AC%B8%EC%86%8C%EB%A6%AC', 1), ('https://ko.wikipedia.org/wiki/%EC%9E%84%EC%88%98%EC%A0%95_(%EB%B0%B0%EC%9A%B0)', 1), ('https://ko.wikipedia.org/wiki/%EC%88%98%EC%95%A0', 1), ('https://ko.wikipedia.org/w/index.php?title=%EA%B9%80%EC%A7%80%EC%88%98_(%EB%B0%B0%EC%9A%B0)&action=edit&redlink=1', 1), ('https://ko.wikipedia.org/wiki/%EA%B3%A0%EC%95%84%EC%84%B1', 1), ('https://ko.wikipedia.org/wiki/%EC%A0%95%EB%A0%A4%EC%9B%90', 1), ('https://ko.wikipedia.org/wiki/%ED%95%9C%EC%98%88%EC%8A%AC', 1), ('https://ko.wikipedia.org/wiki/%EA%B9%80%EA%BD%83%EB%B9%84', 1), ('https://ko.wikipedia.org/wiki/2010%EB%85%84%EB%8C%80', 1), ('https://ko.wikipedia.org/wiki/%EC%9D%B4%EB%AF%BC%EC%A0%95', 1), ('https://ko.wikipedia.org/wiki/%EB%AC%B8%EC%B1%84%EC%9B%90', 1), ('https://ko.wikipedia.org/wiki/%EA%B9%80%EA%B3%A0%EC%9D%80', 1), ('https://ko.wikipedia.org/wiki/%EB%B0%95%EC%A7%80%EC%88%98_(1988%EB%85%84)', 1), ('https://ko.wikipedia.org/wiki/%EA%B9%80%EC%83%88%EB%A1%A0', 1), ('https://ko.wikipedia.org/wiki/%EC%9D%B4%EC%9C%A0%EC%98%81', 1), ('https://ko.wikipedia.org/wiki/%EA%B9%80%ED%83%9C%EB%A6%AC', 1), ('https://ko.wikipedia.org/wiki/%EC%B5%9C%ED%9D%AC%EC%84%9C', 1), ('https://ko.wikipedia.org/wiki/%EA%B9%80%EB%8B%A4%EB%AF%B8', 1), ('https://ko.wikipedia.org/wiki/%ED%8B%80:%EC%B2%AD%EB%A3%A1%EC%98%81%ED%99%94%EC%83%81_%EC%B5%9C%EC%9A%B0%EC%88%98%EC%9E%91%ED%92%88', 1), ('https://ko.wikipedia.org/wiki/%ED%8B%80:%EC%B2%AD%EB%A3%A1%EC%98%81%ED%99%94%EC%83%81_%EA%B0%90%EB%8F%85', 1), ('https://ko.wikipedia.org/wiki/%ED%8B%80:%EC%B2%AD%EB%A3%A1%EC%98%81%ED%99%94%EC%83%81_%EB%82%A8%EC%9A%B0%EC%A3%BC%EC%97%B0', 1), ('https://ko.wikipedia.org/wiki/%ED%8B%80:%EC%B2%AD%EB%A3%A1%EC%98%81%ED%99%94%EC%83%81_%EC%97%AC%EC%9A%B0%EC%A3%BC%EC%97%B0', 1), ('https://ko.wikipedia.org/wiki/%ED%8B%80:%EC%B2%AD%EB%A3%A1%EC%98%81%ED%99%94%EC%83%81_%EB%82%A8%EC%9A%B0%EC%A1%B0%EC%97%B0', 1), ('https://ko.wikipedia.org/wiki/%ED%8B%80:%EC%B2%AD%EB%A3%A1%EC%98%81%ED%99%94%EC%83%81_%EC%97%AC%EC%9A%B0%EC%A1%B0%EC%97%B0', 1), ('https://ko.wikipedia.org/wiki/%ED%8B%80:%EC%B2%AD%EB%A3%A1%EC%98%81%ED%99%94%EC%83%81_%EC%8B%A0%EC%9D%B8%EA%B0%90%EB%8F%85', 1), ('https://ko.wikipedia.org/wiki/%ED%8B%80:%EC%B2%AD%EB%A3%A1%EC%98%81%ED%99%94%EC%83%81_%EC%8B%A0%EC%9D%B8%EB%82%A8%EC%9A%B0', 1), ('https://ko.wikipedia.org/wiki/%ED%8B%80:%EC%B2%AD%EB%A3%A1%EC%98%81%ED%99%94%EC%83%81_%EC%8B%A0%EC%9D%B8%EC%97%AC%EC%9A%B0', 1), ('https://ko.wikipedia.org/wiki/%ED%8B%80:%ED%95%9C%EA%B5%AD%EC%98%81%ED%99%94%ED%8F%89%EB%A1%A0%EA%B0%80%ED%98%91%ED%9A%8C%EC%83%81_%EC%8B%A0%EC%9D%B8%EC%97%AC%EC%9A%B0', 1), ('https://ko.wikipedia.org/w/index.php?title=%ED%8B%80%ED%86%A0%EB%A1%A0:%ED%95%9C%EA%B5%AD%EC%98%81%ED%99%94%ED%8F%89%EB%A1%A0%EA%B0%80%ED%98%91%ED%9A%8C%EC%83%81_%EC%8B%A0%EC%9D%B8%EC%97%AC%EC%9A%B0&action=edit&redlink=1', 1), ('https://ko.wikipedia.org/w/index.php?title=%ED%8B%80:%ED%95%9C%EA%B5%AD%EC%98%81%ED%99%94%ED%8F%89%EB%A1%A0%EA%B0%80%ED%98%91%ED%9A%8C%EC%83%81_%EC%8B%A0%EC%9D%B8%EC%97%AC%EC%9A%B0&action=edit', 1), ('https://ko.wikipedia.org/w/index.php?title=%ED%8B%80:%ED%95%9C%EA%B5%AD%EC%98%81%ED%99%94%ED%8F%89%EB%A1%A0%EA%B0%80%ED%98%91%ED%9A%8C%EC%83%81_%EC%8B%A0%EC%9D%B8%EC%97%AC%EC%9A%B0&action=history', 1), ('https://ko.wikipedia.org/wiki/%ED%95%9C%EA%B5%AD%EC%98%81%ED%99%94%ED%8F%89%EB%A1%A0%EA%B0%80%ED%98%91%ED%9A%8C%EC%83%81', 1), ('https://ko.wikipedia.org/wiki/1980%EB%85%84%EB%8C%80', 1), ('https://ko.wikipedia.org/wiki/%EB%82%98%EC%98%81%ED%9D%AC', 1), ('https://ko.wikipedia.org/wiki/%EC%9D%B4%EB%B3%B4%ED%9D%AC', 1), ('https://ko.wikipedia.org/wiki/%EC%A7%84%EC%98%81%EB%AF%B8', 1), ('https://ko.wikipedia.org/wiki/1990%EB%85%84%EB%8C%80', 1), ('https://ko.wikipedia.org/wiki/%EC%9D%B4%EB%AF%B8%EC%97%B0_(%EB%B0%B0%EC%9A%B0)', 1), ('https://ko.wikipedia.org/wiki/%EC%B5%9C%EC%A7%84%EC%8B%A4', 1), ('https://ko.wikipedia.org/wiki/%EC%9D%B4%EC%95%84%EB%A1%9C', 1), ('https://ko.wikipedia.org/wiki/%EC%98%A4%EC%A0%95%ED%95%B4', 1), ('https://ko.wikipedia.org/wiki/%EB%B0%95%EC%84%A0%EC%98%81_(1970%EB%85%84_%EB%B0%B0%EC%9A%B0)', 1), ('https://ko.wikipedia.org/wiki/%EC%9D%B4%EC%A7%80%EC%9D%80_(1971%EB%85%84)', 1), ('https://ko.wikipedia.org/wiki/%EC%9D%B4%EC%A0%95%ED%98%84_(1980%EB%85%84)', 1), ('https://ko.wikipedia.org/wiki/%EC%9D%B4%ED%98%9C%EC%9D%80', 1), ('https://ko.wikipedia.org/wiki/%EC%A0%84%EB%8F%84%EC%97%B0', 1), ('https://ko.wikipedia.org/wiki/%EA%B9%80%EC%9C%A4%EC%A7%84', 1), ('https://ko.wikipedia.org/wiki/2000%EB%85%84%EB%8C%80', 1), ('https://ko.wikipedia.org/wiki/%EA%B9%80%EA%B7%9C%EB%A6%AC_(1979%EB%85%84_8%EC%9B%94)', 1), ('https://ko.wikipedia.org/wiki/%EB%B0%95%EC%98%88%EC%A7%84', 1), ('https://ko.wikipedia.org/wiki/%EC%9D%B4%EC%98%81%EC%A7%84_(%EB%B0%B0%EC%9A%B0)', 1), ('https://ko.wikipedia.org/wiki/%EC%84%9C%EC%A3%BC%ED%9D%AC', 1), ('https://ko.wikipedia.org/wiki/%EC%86%90%EC%98%88%EC%A7%84', 1), ('https://ko.wikipedia.org/wiki/%EC%9E%84%EC%88%98%EC%A0%95_(%EB%B0%B0%EC%9A%B0)', 1), ('https://ko.wikipedia.org/wiki/%EA%B0%95%ED%98%9C%EC%A0%95', 1), ('https://ko.wikipedia.org/wiki/%EC%A0%95%EC%9C%A0%EB%AF%B8_(1983%EB%85%84)', 1), ('https://ko.wikipedia.org/wiki/%ED%95%9C%ED%9A%A8%EC%A3%BC', 1), ('https://ko.wikipedia.org/wiki/%EB%B0%95%EC%8B%9C%EC%97%B0', 1), ('https://ko.wikipedia.org/wiki/%EC%84%9C%EC%9A%B0', 1), ('https://ko.wikipedia.org/wiki/2010%EB%85%84%EB%8C%80', 1), ('https://ko.wikipedia.org/wiki/%EC%9D%B4%EB%AF%BC%EC%A0%95', 1), ('https://ko.wikipedia.org/wiki/%EC%9C%A0%EB%8B%A4%EC%9D%B8_(%EB%B0%B0%EC%9A%B0)', 1), ('https://ko.wikipedia.org/wiki/%EA%B9%80%EA%B3%A0%EC%9D%80', 1), ('https://ko.wikipedia.org/wiki/%EC%A0%95%EC%9D%80%EC%B1%84', 1), ('https://ko.wikipedia.org/wiki/%EC%9E%84%EC%A7%80%EC%97%B0_(1990%EB%85%84)', 1), ('https://ko.wikipedia.org/wiki/%EA%B6%8C%EC%86%8C%ED%98%84_(%EB%B0%B0%EC%9A%B0)', 1), ('https://ko.wikipedia.org/wiki/%EC%A0%95%ED%95%98%EB%8B%B4', 1), ('https://ko.wikipedia.org/wiki/%EC%B5%9C%ED%9D%AC%EC%84%9C', 1), ('https://ko.wikipedia.org/w/index.php?title=%EA%B9%80%EA%B0%80%ED%9D%AC&action=edit&redlink=1', 1), ('https://ko.wikipedia.org/wiki/%ED%8B%80:%ED%95%9C%EA%B5%AD%EC%98%81%ED%99%94%ED%8F%89%EB%A1%A0%EA%B0%80%ED%98%91%ED%9A%8C%EC%83%81_%EC%B5%9C%EC%9A%B0%EC%88%98%EC%9E%91%ED%92%88', 1), ('https://ko.wikipedia.org/wiki/%ED%8B%80:%ED%95%9C%EA%B5%AD%EC%98%81%ED%99%94%ED%8F%89%EB%A1%A0%EA%B0%80%ED%98%91%ED%9A%8C%EC%83%81_%EA%B0%90%EB%8F%85', 1), ('https://ko.wikipedia.org/wiki/%ED%8B%80:%ED%95%9C%EA%B5%AD%EC%98%81%ED%99%94%ED%8F%89%EB%A1%A0%EA%B0%80%ED%98%91%ED%9A%8C%EC%83%81_%EB%82%A8%EC%9A%B0%EC%A3%BC%EC%97%B0', 1), ('https://ko.wikipedia.org/wiki/%ED%8B%80:%ED%95%9C%EA%B5%AD%EC%98%81%ED%99%94%ED%8F%89%EB%A1%A0%EA%B0%80%ED%98%91%ED%9A%8C%EC%83%81_%EC%97%AC%EC%9A%B0%EC%A3%BC%EC%97%B0', 1), ('https://ko.wikipedia.org/wiki/%ED%8B%80:%ED%95%9C%EA%B5%AD%EC%98%81%ED%99%94%ED%8F%89%EB%A1%A0%EA%B0%80%ED%98%91%ED%9A%8C%EC%83%81_%EB%82%A8%EC%9A%B0%EC%A1%B0%EC%97%B0', 1), ('https://ko.wikipedia.org/wiki/%ED%8B%80:%ED%95%9C%EA%B5%AD%EC%98%81%ED%99%94%ED%8F%89%EB%A1%A0%EA%B0%80%ED%98%91%ED%9A%8C%EC%83%81_%EC%97%AC%EC%9A%B0%EC%A1%B0%EC%97%B0', 1), ('https://ko.wikipedia.org/wiki/%ED%8B%80:%ED%95%9C%EA%B5%AD%EC%98%81%ED%99%94%ED%8F%89%EB%A1%A0%EA%B0%80%ED%98%91%ED%9A%8C%EC%83%81_%EC%8B%A0%EC%9D%B8%EA%B0%90%EB%8F%85', 1), ('https://ko.wikipedia.org/wiki/%ED%8B%80:%ED%95%9C%EA%B5%AD%EC%98%81%ED%99%94%ED%8F%89%EB%A1%A0%EA%B0%80%ED%98%91%ED%9A%8C%EC%83%81_%EC%8B%A0%EC%9D%B8%EB%82%A8%EC%9A%B0', 1), ('https://ko.wikipedia.org/wiki/%ED%8B%80:%ED%95%9C%EA%B5%AD%EC%98%81%ED%99%94%ED%8F%89%EB%A1%A0%EA%B0%80%ED%98%91%ED%9A%8C%EC%83%81_%EC%8B%A0%EC%9D%B8%EC%97%AC%EC%9A%B0', 1), ('https://ko.wikipedia.org/wiki/%ED%8B%80:%EB%B0%B1%EC%83%81%EC%98%88%EC%88%A0%EB%8C%80%EC%83%81_%EC%98%81%ED%99%94%EB%B6%80%EB%AC%B8_%EC%97%AC%EC%9E%90_%EC%8B%A0%EC%9D%B8%EC%97%B0%EA%B8%B0', 1), ('https://ko.wikipedia.org/w/index.php?title=%ED%8B%80%ED%86%A0%EB%A1%A0:%EB%B0%B1%EC%83%81%EC%98%88%EC%88%A0%EB%8C%80%EC%83%81_%EC%98%81%ED%99%94%EB%B6%80%EB%AC%B8_%EC%97%AC%EC%9E%90_%EC%8B%A0%EC%9D%B8%EC%97%B0%EA%B8%B0&action=edit&redlink=1', 1), ('https://ko.wikipedia.org/w/index.php?title=%ED%8B%80:%EB%B0%B1%EC%83%81%EC%98%88%EC%88%A0%EB%8C%80%EC%83%81_%EC%98%81%ED%99%94%EB%B6%80%EB%AC%B8_%EC%97%AC%EC%9E%90_%EC%8B%A0%EC%9D%B8%EC%97%B0%EA%B8%B0&action=edit', 1), ('https://ko.wikipedia.org/w/index.php?title=%ED%8B%80:%EB%B0%B1%EC%83%81%EC%98%88%EC%88%A0%EB%8C%80%EC%83%81_%EC%98%81%ED%99%94%EB%B6%80%EB%AC%B8_%EC%97%AC%EC%9E%90_%EC%8B%A0%EC%9D%B8%EC%97%B0%EA%B8%B0&action=history', 1), ('https://ko.wikipedia.org/wiki/%EB%B0%B1%EC%83%81%EC%98%88%EC%88%A0%EB%8C%80%EC%83%81', 1), ('https://ko.wikipedia.org/wiki/1960%EB%85%84%EB%8C%80', 1), ('https://ko.wikipedia.org/wiki/%EB%AC%B8%ED%9D%AC_(%EB%B0%B0%EC%9A%B0)', 1), ('https://ko.wikipedia.org/wiki/%EB%82%A8%EC%A0%95%EC%9E%84', 1), ('https://ko.wikipedia.org/wiki/%EC%9C%A4%EC%A0%95%ED%9D%AC_(1944%EB%85%84)', 1), ('https://ko.wikipedia.org/wiki/%EC%A0%84%EC%96%91%EC%9E%90', 1), ('https://ko.wikipedia.org/wiki/1970%EB%85%84%EB%8C%80', 1), ('https://ko.wikipedia.org/wiki/%EA%B9%80%EC%A7%80%EC%88%98_(1946%EB%85%84)', 1), ('https://ko.wikipedia.org/wiki/%EB%82%98%EC%98%A4%EB%AF%B8_(%EB%B0%B0%EC%9A%B0)', 1), ('https://ko.wikipedia.org/wiki/%EB%B0%95%EC%A7%80%EC%98%81_(1949%EB%85%84)', 1), ('https://ko.wikipedia.org/wiki/%EC%B5%9C%EC%A0%95%EB%AF%BC_(%EB%B0%B0%EC%9A%B0)', 1), ('https://ko.wikipedia.org/wiki/%EC%A7%84%EB%8F%84%ED%9D%AC_(1949%EB%85%84)', 1), ('https://ko.wikipedia.org/wiki/%EB%AA%85%ED%9D%AC', 1), ('https://ko.wikipedia.org/wiki/%EB%AC%B8%EC%88%99_(%EB%B0%B0%EC%9A%B0)', 1), ('https://ko.wikipedia.org/wiki/%EA%B9%80%ED%98%95%EC%9E%90', 1), ('https://ko.wikipedia.org/wiki/%EC%9C%A0%EB%AF%B8%EB%82%98', 1), ('https://ko.wikipedia.org/wiki/%EC%A0%95%ED%9D%AC', 1), ('https://ko.wikipedia.org/wiki/%EC%9D%B4%EC%9D%B8%EC%98%A5', 1), ('https://ko.wikipedia.org/wiki/1980%EB%85%84%EB%8C%80', 1), ('https://ko.wikipedia.org/wiki/%EC%9B%90%EB%AF%B8%EA%B2%BD', 1), ('https://ko.wikipedia.org/wiki/%EC%9D%B4%EB%AF%B8%EC%88%99', 1), ('https://ko.wikipedia.org/wiki/%EA%B9%80%EB%AF%BC%ED%9D%AC_(1972%EB%85%84)', 1), ('https://ko.wikipedia.org/wiki/%EB%82%98%EC%98%81%ED%9D%AC', 1), ('https://ko.wikipedia.org/wiki/%EC%95%88%EC%86%8C%EC%98%81_(%EB%B0%B0%EC%9A%B0)', 1), ('https://ko.wikipedia.org/wiki/%EC%9D%B4%EB%B3%B4%ED%9D%AC', 1), ('https://ko.wikipedia.org/wiki/%EC%A1%B0%EC%9A%A9%EC%9B%90_(1966%EB%85%84)', 1), ('https://ko.wikipedia.org/wiki/%EC%9D%B4%ED%98%9C%EC%98%81_(1962%EB%85%84)', 1), ('https://ko.wikipedia.org/wiki/%EA%B9%80%ED%98%9C%EC%88%98', 1), ('https://ko.wikipedia.org/wiki/%EC%8B%A0%ED%98%9C%EC%88%98_(%EB%B0%B0%EC%9A%B0)', 1), ('https://ko.wikipedia.org/wiki/%ED%95%98%ED%9D%AC%EB%9D%BC', 1), ('https://ko.wikipedia.org/wiki/%EC%A7%84%EC%98%81%EB%AF%B8', 1), ('https://ko.wikipedia.org/wiki/1990%EB%85%84%EB%8C%80', 1), ('https://ko.wikipedia.org/wiki/%EC%9D%B4%EB%AF%B8%EC%97%B0_(%EB%B0%B0%EC%9A%B0)', 1), ('https://ko.wikipedia.org/wiki/%EA%B9%80%EC%84%B1%EB%A0%B9', 1), ('https://ko.wikipedia.org/wiki/%EC%9D%B4%EC%95%84%EB%A1%9C', 1), ('https://ko.wikipedia.org/wiki/%EC%98%A4%EC%97%B0%EC%88%98', 1), ('https://ko.wikipedia.org/wiki/%EB%A5%98%EA%B8%88%EC%8B%A0', 1), ('https://ko.wikipedia.org/wiki/%EC%A7%80%EC%88%98%EC%9B%90', 1), ('https://ko.wikipedia.org/wiki/%EC%A0%95%EC%84%A0%EA%B2%BD', 1), ('https://ko.wikipedia.org/wiki/%EC%B5%9C%EC%A7%80%EC%9A%B0', 1), ('https://ko.wikipedia.org/wiki/%EC%A0%84%EC%A7%80%ED%98%84', 1), ('https://ko.wikipedia.org/wiki/2000%EB%85%84%EB%8C%80', 1), ('https://ko.wikipedia.org/wiki/%EC%97%AC%EA%B3%A0%EA%B4%B4%EB%8B%B4_%EB%91%90%EB%B2%88%EC%A7%B8_%EC%9D%B4%EC%95%BC%EA%B8%B0', 1), ('https://ko.wikipedia.org/wiki/%EC%84%9C%EC%A0%95_(%EB%B0%B0%EC%9A%B0)', 1), ('https://ko.wikipedia.org/wiki/%EC%9D%B4%EC%9A%94%EC%9B%90', 1), ('https://ko.wikipedia.org/wiki/%EC%86%90%EC%98%88%EC%A7%84', 1), ('https://ko.wikipedia.org/wiki/%EC%9C%A4%EC%A7%84%EC%84%9C', 1), ('https://ko.wikipedia.org/wiki/%EC%88%98%EC%95%A0', 1), ('https://ko.wikipedia.org/wiki/%EC%A0%95%EC%9C%A0%EB%AF%B8_(1983%EB%85%84)', 1), ('https://ko.wikipedia.org/wiki/%EB%B0%95%EC%8B%9C%EC%97%B0', 1), ('https://ko.wikipedia.org/wiki/%ED%95%9C%EC%98%88%EC%8A%AC', 1), ('https://ko.wikipedia.org/wiki/2010%EB%85%84%EB%8C%80', 1), ('https://ko.wikipedia.org/wiki/%EC%A1%B0%EC%95%88_(%EB%B0%B0%EC%9A%B0)', 1), ('https://ko.wikipedia.org/wiki/%EC%8B%A0%ED%98%84%EB%B9%88', 1), ('https://ko.wikipedia.org/wiki/%EC%88%98%EC%A7%80_(%EB%8C%80%ED%95%9C%EB%AF%BC%EA%B5%AD%EC%9D%98_%EA%B0%80%EC%88%98)', 1), ('https://ko.wikipedia.org/wiki/%ED%95%9C%EC%98%88%EB%A6%AC', 1), ('https://ko.wikipedia.org/wiki/%EA%B9%80%ED%96%A5%EA%B8%B0', 1), ('https://ko.wikipedia.org/wiki/%EC%B2%9C%EC%9A%B0%ED%9D%AC', 1), ('https://ko.wikipedia.org/wiki/%EB%B0%95%EC%86%8C%EB%8B%B4', 1), ('https://ko.wikipedia.org/wiki/%EC%9D%B4%EC%83%81%ED%9D%AC_(1983%EB%85%84)', 1), ('https://ko.wikipedia.org/wiki/%EC%B5%9C%ED%9D%AC%EC%84%9C', 1), ('https://ko.wikipedia.org/wiki/%EC%9D%B4%EC%9E%AC%EC%9D%B8_(%EB%B0%B0%EC%9A%B0)', 1), ('https://ko.wikipedia.org/wiki/%ED%8B%80:%EB%B0%B1%EC%83%81%EC%98%88%EC%88%A0%EB%8C%80%EC%83%81_%EC%98%81%ED%99%94%EB%B6%80%EB%AC%B8_%EB%8C%80%EC%83%81', 1), ('https://ko.wikipedia.org/wiki/%ED%8B%80:%EB%B0%B1%EC%83%81%EC%98%88%EC%88%A0%EB%8C%80%EC%83%81_%EC%98%81%ED%99%94%EB%B6%80%EB%AC%B8_%EC%9E%91%ED%92%88%EC%83%81', 1), ('https://ko.wikipedia.org/wiki/%ED%8B%80:%EB%B0%B1%EC%83%81%EC%98%88%EC%88%A0%EB%8C%80%EC%83%81_%EC%98%81%ED%99%94%EB%B6%80%EB%AC%B8_%EA%B0%90%EB%8F%85', 1), ('https://ko.wikipedia.org/wiki/%ED%8B%80:%EB%B0%B1%EC%83%81%EC%98%88%EC%88%A0%EB%8C%80%EC%83%81_%EC%98%81%ED%99%94%EB%B6%80%EB%AC%B8_%EB%82%A8%EC%9A%B0%EC%A3%BC%EC%97%B0', 1), ('https://ko.wikipedia.org/wiki/%ED%8B%80:%EB%B0%B1%EC%83%81%EC%98%88%EC%88%A0%EB%8C%80%EC%83%81_%EC%98%81%ED%99%94%EB%B6%80%EB%AC%B8_%EC%97%AC%EC%9A%B0%EC%A3%BC%EC%97%B0', 1), ('https://ko.wikipedia.org/wiki/%ED%8B%80:%EB%B0%B1%EC%83%81%EC%98%88%EC%88%A0%EB%8C%80%EC%83%81_%EC%98%81%ED%99%94%EB%B6%80%EB%AC%B8_%EB%82%A8%EC%9E%90%EC%A1%B0%EC%97%B0', 1), ('https://ko.wikipedia.org/wiki/%ED%8B%80:%EB%B0%B1%EC%83%81%EC%98%88%EC%88%A0%EB%8C%80%EC%83%81_%EC%98%81%ED%99%94%EB%B6%80%EB%AC%B8_%EC%97%AC%EC%9E%90%EC%A1%B0%EC%97%B0', 1), ('https://ko.wikipedia.org/wiki/%ED%8B%80:%EB%B0%B1%EC%83%81%EC%98%88%EC%88%A0%EB%8C%80%EC%83%81_%EC%98%81%ED%99%94%EB%B6%80%EB%AC%B8_%EB%82%A8%EC%9E%90_%EC%8B%A0%EC%9D%B8%EC%97%B0%EA%B8%B0', 1), ('https://ko.wikipedia.org/wiki/%ED%8B%80:%EB%B0%B1%EC%83%81%EC%98%88%EC%88%A0%EB%8C%80%EC%83%81_%EC%98%81%ED%99%94%EB%B6%80%EB%AC%B8_%EC%97%AC%EC%9E%90_%EC%8B%A0%EC%9D%B8%EC%97%B0%EA%B8%B0', 1), ('https://ko.wikipedia.org/wiki/%ED%8B%80:%EB%A7%A5%EC%8A%A4%EB%AC%B4%EB%B9%84_%EC%B5%9C%EA%B3%A0%EC%9D%98_%EC%98%81%ED%99%94%EC%83%81_%EC%B5%9C%EA%B3%A0%EC%9D%98_%EC%97%AC%EC%9E%90_%EC%8B%A0%EC%9D%B8%EB%B0%B0%EC%9A%B0', 1), ('https://ko.wikipedia.org/w/index.php?title=%ED%8B%80%ED%86%A0%EB%A1%A0:%EB%A7%A5%EC%8A%A4%EB%AC%B4%EB%B9%84_%EC%B5%9C%EA%B3%A0%EC%9D%98_%EC%98%81%ED%99%94%EC%83%81_%EC%B5%9C%EA%B3%A0%EC%9D%98_%EC%97%AC%EC%9E%90_%EC%8B%A0%EC%9D%B8%EB%B0%B0%EC%9A%B0&action=edit&redlink=1', 1), ('https://ko.wikipedia.org/w/index.php?title=%ED%8B%80:%EB%A7%A5%EC%8A%A4%EB%AC%B4%EB%B9%84_%EC%B5%9C%EA%B3%A0%EC%9D%98_%EC%98%81%ED%99%94%EC%83%81_%EC%B5%9C%EA%B3%A0%EC%9D%98_%EC%97%AC%EC%9E%90_%EC%8B%A0%EC%9D%B8%EB%B0%B0%EC%9A%B0&action=edit', 1), ('https://ko.wikipedia.org/w/index.php?title=%ED%8B%80:%EB%A7%A5%EC%8A%A4%EB%AC%B4%EB%B9%84_%EC%B5%9C%EA%B3%A0%EC%9D%98_%EC%98%81%ED%99%94%EC%83%81_%EC%B5%9C%EA%B3%A0%EC%9D%98_%EC%97%AC%EC%9E%90_%EC%8B%A0%EC%9D%B8%EB%B0%B0%EC%9A%B0&action=history', 1), ('https://ko.wikipedia.org/wiki/%EB%A7%A5%EC%8A%A4%EB%AC%B4%EB%B9%84_%EC%B5%9C%EA%B3%A0%EC%9D%98_%EC%98%81%ED%99%94%EC%83%81', 1), ('https://ko.wikipedia.org/wiki/2000%EB%85%84%EB%8C%80', 1), ('https://ko.wikipedia.org/wiki/%EC%9D%B4%EC%97%B0%ED%9D%AC', 1), ('https://ko.wikipedia.org/wiki/2010%EB%85%84%EB%8C%80', 1), ('https://ko.wikipedia.org/wiki/%EC%9D%B4%EC%8B%9C%EC%98%81_(%EB%B0%B0%EC%9A%B0)', 1), ('https://ko.wikipedia.org/wiki/%EA%B9%80%EC%83%88%EB%A1%A0', 1), ('https://ko.wikipedia.org/wiki/%EA%B0%88%EC%86%8C%EC%9B%90', 1), ('https://ko.wikipedia.org/wiki/%EA%B9%80%EC%8A%AC%EA%B8%B0_(%EB%B0%B0%EC%9A%B0)', 1), ('https://ko.wikipedia.org/wiki/%EB%B0%95%EC%86%8C%EB%8B%B4', 1), ('https://ko.wikipedia.org/wiki/%ED%8B%80:%EB%A7%A5%EC%8A%A4%EB%AC%B4%EB%B9%84_%EC%B5%9C%EA%B3%A0%EC%9D%98_%EC%98%81%ED%99%94%EC%83%81_%EC%B5%9C%EA%B3%A0%EC%9D%98_%EC%9E%91%ED%92%88', 1), ('https://ko.wikipedia.org/wiki/%ED%8B%80:%EB%A7%A5%EC%8A%A4%EB%AC%B4%EB%B9%84_%EC%B5%9C%EA%B3%A0%EC%9D%98_%EC%98%81%ED%99%94%EC%83%81_%EC%B5%9C%EA%B3%A0%EC%9D%98_%EA%B0%90%EB%8F%85', 1), ('https://ko.wikipedia.org/wiki/%ED%8B%80:%EB%A7%A5%EC%8A%A4%EB%AC%B4%EB%B9%84_%EC%B5%9C%EA%B3%A0%EC%9D%98_%EC%98%81%ED%99%94%EC%83%81_%EC%B5%9C%EA%B3%A0%EC%9D%98_%EB%82%A8%EC%9E%90%EB%B0%B0%EC%9A%B0', 1), ('https://ko.wikipedia.org/wiki/%ED%8B%80:%EB%A7%A5%EC%8A%A4%EB%AC%B4%EB%B9%84_%EC%B5%9C%EA%B3%A0%EC%9D%98_%EC%98%81%ED%99%94%EC%83%81_%EC%B5%9C%EA%B3%A0%EC%9D%98_%EC%97%AC%EC%9E%90%EB%B0%B0%EC%9A%B0', 1), ('https://ko.wikipedia.org/wiki/%ED%8B%80:%EB%A7%A5%EC%8A%A4%EB%AC%B4%EB%B9%84_%EC%B5%9C%EA%B3%A0%EC%9D%98_%EC%98%81%ED%99%94%EC%83%81_%EC%B5%9C%EA%B3%A0%EC%9D%98_%EB%82%A8%EC%9E%90_%EC%A1%B0%EC%97%B0%EB%B0%B0%EC%9A%B0', 1), ('https://ko.wikipedia.org/wiki/%ED%8B%80:%EB%A7%A5%EC%8A%A4%EB%AC%B4%EB%B9%84_%EC%B5%9C%EA%B3%A0%EC%9D%98_%EC%98%81%ED%99%94%EC%83%81_%EC%B5%9C%EA%B3%A0%EC%9D%98_%EC%97%AC%EC%9E%90_%EC%A1%B0%EC%97%B0%EB%B0%B0%EC%9A%B0', 1), ('https://ko.wikipedia.org/wiki/%ED%8B%80:%EB%A7%A5%EC%8A%A4%EB%AC%B4%EB%B9%84_%EC%B5%9C%EA%B3%A0%EC%9D%98_%EC%98%81%ED%99%94%EC%83%81_%EC%B5%9C%EA%B3%A0%EC%9D%98_%EB%82%A8%EC%9E%90_%EC%8B%A0%EC%9D%B8%EB%B0%B0%EC%9A%B0', 1), ('https://ko.wikipedia.org/wiki/%ED%8B%80:%EB%A7%A5%EC%8A%A4%EB%AC%B4%EB%B9%84_%EC%B5%9C%EA%B3%A0%EC%9D%98_%EC%98%81%ED%99%94%EC%83%81_%EC%B5%9C%EA%B3%A0%EC%9D%98_%EC%97%AC%EC%9E%90_%EC%8B%A0%EC%9D%B8%EB%B0%B0%EC%9A%B0', 1), ('https://ko.wikipedia.org/wiki/%ED%8B%80:%EC%98%AC%ED%95%B4%EB%A5%BC_%EB%B9%9B%EB%82%B8_%EC%98%81%ED%99%94%EB%B0%B0%EC%9A%B0', 1), ('https://ko.wikipedia.org/w/index.php?title=%ED%8B%80%ED%86%A0%EB%A1%A0:%EC%98%AC%ED%95%B4%EB%A5%BC_%EB%B9%9B%EB%82%B8_%EC%98%81%ED%99%94%EB%B0%B0%EC%9A%B0&action=edit&redlink=1', 1), ('https://ko.wikipedia.org/w/index.php?title=%ED%8B%80:%EC%98%AC%ED%95%B4%EB%A5%BC_%EB%B9%9B%EB%82%B8_%EC%98%81%ED%99%94%EB%B0%B0%EC%9A%B0&action=edit', 1), ('https://ko.wikipedia.org/w/index.php?title=%ED%8B%80:%EC%98%AC%ED%95%B4%EB%A5%BC_%EB%B9%9B%EB%82%B8_%EC%98%81%ED%99%94%EB%B0%B0%EC%9A%B0&action=history', 1), ('https://ko.wikipedia.org/wiki/%EC%98%81%ED%99%94%EB%B0%B0%EC%9A%B0', 1), ('http://www.gallup.co.kr/gallupdb/reportContent.asp?seqNo=227', 1), ('http://www.gallup.co.kr/gallupdb/reportContent.asp?seqNo=247', 1), ('http://www.gallup.co.kr/gallupdb/reportContent.asp?seqNo=377', 1), ('http://www.gallup.co.kr/gallupdb/reportContent.asp?seqNo=503', 1), ('http://www.gallup.co.kr/gallupdb/reportContent.asp?seqNo=606', 1), ('http://www.gallup.co.kr/gallupdb/reportContent.asp?seqNo=711', 1), ('http://www.gallup.co.kr/gallupdb/reportContent.asp?seqNo=797', 1), ('http://www.gallup.co.kr/gallupdb/reportContent.asp?seqNo=883', 1), ('http://www.gallup.co.kr/gallupdb/reportContent.asp?seqNo=971', 1), ('https://ko.wikipedia.org/wiki/%EC%A0%84%EB%8F%84%EC%97%B0', 1), ('https://ko.wikipedia.org/wiki/%EC%86%A1%EA%B0%95%ED%98%B8', 1), ('https://ko.wikipedia.org/wiki/%EB%B0%B0%EC%9A%A9%EC%A4%80', 1), ('https://ko.wikipedia.org/wiki/%EC%95%88%EC%84%B1%EA%B8%B0', 1), ('https://ko.wikipedia.org/wiki/%EC%84%A4%EA%B2%BD%EA%B5%AC', 1), ('https://ko.wikipedia.org/wiki/%EC%86%A1%EA%B0%95%ED%98%B8', 1), ('https://ko.wikipedia.org/wiki/%EC%86%90%EC%98%88%EC%A7%84', 1), ('https://ko.wikipedia.org/wiki/%EA%B9%80%ED%98%9C%EC%88%98', 1), ('https://ko.wikipedia.org/wiki/%EC%A0%84%EB%8F%84%EC%97%B0', 1), ('https://ko.wikipedia.org/wiki/%EC%9E%A5%EB%8F%99%EA%B1%B4', 1), ('https://ko.wikipedia.org/wiki/%EC%9D%B4%EB%B3%91%ED%97%8C', 1), ('https://ko.wikipedia.org/wiki/%EC%9E%A5%EB%8F%99%EA%B1%B4', 1), ('https://ko.wikipedia.org/wiki/%EC%84%A4%EA%B2%BD%EA%B5%AC', 1), ('https://ko.wikipedia.org/wiki/%ED%95%98%EC%A7%80%EC%9B%90', 1), ('https://ko.wikipedia.org/wiki/%EC%A0%95%EC%A7%80%ED%9B%88', 1), ('https://ko.wikipedia.org/wiki/%EC%9B%90%EB%B9%88', 1), ('https://ko.wikipedia.org/wiki/%EC%9E%A5%EB%8F%99%EA%B1%B4', 1), ('https://ko.wikipedia.org/wiki/%EA%B0%95%EB%8F%99%EC%9B%90', 1), ('https://ko.wikipedia.org/wiki/%EC%9D%B4%EB%B3%91%ED%97%8C', 1), ('https://ko.wikipedia.org/wiki/%EC%86%A1%EA%B0%95%ED%98%B8', 1), ('https://ko.wikipedia.org/wiki/%EC%84%A4%EA%B2%BD%EA%B5%AC', 1), ('https://ko.wikipedia.org/wiki/%EA%B9%80%ED%98%9C%EC%88%98', 1), ('https://ko.wikipedia.org/wiki/%EC%A0%84%EB%8F%84%EC%97%B0', 1), ('https://ko.wikipedia.org/wiki/%EC%A0%95%EC%9A%B0%EC%84%B1', 1), ('https://ko.wikipedia.org/wiki/%EC%9C%A4%EC%A0%95%ED%9D%AC', 1), ('https://ko.wikipedia.org/wiki/%EC%9B%90%EB%B9%88', 1), ('https://ko.wikipedia.org/wiki/%EB%B0%95%ED%95%B4%EC%9D%BC', 1), ('https://ko.wikipedia.org/wiki/%EC%9E%A5%EB%8F%99%EA%B1%B4', 1), ('https://ko.wikipedia.org/wiki/%EA%B9%80%ED%95%98%EB%8A%98', 1), ('https://ko.wikipedia.org/wiki/%EA%B3%B5%EC%9C%A0', 1), ('https://ko.wikipedia.org/wiki/%EC%9D%B4%EB%B3%91%ED%97%8C', 1), ('https://ko.wikipedia.org/wiki/%EC%86%A1%EA%B0%95%ED%98%B8', 1), ('https://ko.wikipedia.org/wiki/%ED%95%98%EC%A7%80%EC%9B%90', 1), ('https://ko.wikipedia.org/wiki/%EC%95%88%EC%84%B1%EA%B8%B0', 1), ('https://ko.wikipedia.org/wiki/%ED%95%9C%EC%84%9D%EA%B7%9C', 1), ('https://ko.wikipedia.org/wiki/%EC%9D%B4%EB%B3%91%ED%97%8C', 1), ('https://ko.wikipedia.org/wiki/%EC%86%A1%EC%A4%91%EA%B8%B0', 1), ('https://ko.wikipedia.org/wiki/%EA%B9%80%ED%98%9C%EC%88%98', 1), ('https://ko.wikipedia.org/wiki/%EC%9E%A5%EB%8F%99%EA%B1%B4', 1), ('https://ko.wikipedia.org/wiki/%ED%95%98%EC%A0%95%EC%9A%B0', 1), ('https://ko.wikipedia.org/wiki/%EC%A0%84%EC%A7%80%ED%98%84', 1), ('https://ko.wikipedia.org/wiki/%EA%B9%80%EC%9C%A4%EC%84%9D', 1), ('https://ko.wikipedia.org/wiki/%EC%95%88%EC%84%B1%EA%B8%B0', 1), ('https://ko.wikipedia.org/wiki/%EC%A1%B0%EB%AF%BC%EC%88%98', 1), ('https://ko.wikipedia.org/wiki/%EC%86%A1%EA%B0%95%ED%98%B8', 1), ('https://ko.wikipedia.org/wiki/%ED%95%98%EC%A0%95%EC%9A%B0', 1), ('https://ko.wikipedia.org/wiki/%EC%9D%B4%EB%B3%91%ED%97%8C', 1), ('https://ko.wikipedia.org/wiki/%EB%A5%98%EC%8A%B9%EB%A3%A1', 1), ('https://ko.wikipedia.org/wiki/%EC%84%A4%EA%B2%BD%EA%B5%AC', 1), ('https://ko.wikipedia.org/wiki/%EC%9D%B4%EC%A0%95%EC%9E%AC', 1), ('https://ko.wikipedia.org/wiki/%EA%B9%80%ED%98%9C%EC%88%98', 1), ('https://ko.wikipedia.org/wiki/%EA%B9%80%EC%88%98%ED%98%84', 1), ('https://ko.wikipedia.org/wiki/%EC%9E%A5%EB%8F%99%EA%B1%B4', 1), ('https://ko.wikipedia.org/wiki/%EC%A0%84%EC%A7%80%ED%98%84', 1), ('https://ko.wikipedia.org/wiki/%EC%B5%9C%EB%AF%BC%EC%84%9D', 1), ('https://ko.wikipedia.org/wiki/%EC%86%A1%EA%B0%95%ED%98%B8', 1), ('https://ko.wikipedia.org/wiki/%EA%B3%B5%EC%9C%A0', 1), ('https://ko.wikipedia.org/wiki/%ED%95%98%EC%A0%95%EC%9A%B0', 1), ('https://ko.wikipedia.org/wiki/%EC%9C%A0%ED%95%B4%EC%A7%84', 1), ('https://ko.wikipedia.org/wiki/%EA%B0%95%EB%8F%99%EC%9B%90', 1), ('https://ko.wikipedia.org/wiki/%EC%84%A4%EA%B2%BD%EA%B5%AC', 1), ('https://ko.wikipedia.org/wiki/%EC%A0%95%EC%9A%B0%EC%84%B1', 1), ('https://ko.wikipedia.org/wiki/%ED%98%84%EB%B9%88', 1), ('https://ko.wikipedia.org/wiki/%EA%B9%80%EC%88%98%ED%98%84', 1), ('https://ko.wikipedia.org/wiki/%EC%9C%A0%EC%95%84%EC%9D%B8', 1), ('https://ko.wikipedia.org/wiki/%EC%86%A1%EA%B0%95%ED%98%B8', 1), ('https://ko.wikipedia.org/wiki/%ED%99%A9%EC%A0%95%EB%AF%BC', 1), ('https://ko.wikipedia.org/wiki/%EC%A0%84%EC%A7%80%ED%98%84', 1), ('https://ko.wikipedia.org/wiki/%ED%95%98%EC%A0%95%EC%9A%B0', 1), ('https://ko.wikipedia.org/wiki/%EC%B5%9C%EB%AF%BC%EC%8B%9D', 1), ('https://ko.wikipedia.org/wiki/%EC%98%A4%EB%8B%AC%EC%88%98', 1), ('https://ko.wikipedia.org/wiki/%EC%9D%B4%EC%A0%95%EC%9E%AC', 1), ('https://ko.wikipedia.org/wiki/%EA%B0%95%EB%8F%99%EC%9B%90', 1), ('https://ko.wikipedia.org/wiki/%EC%9C%A0%ED%95%B4%EC%A7%84', 1), ('https://ko.wikipedia.org/wiki/%ED%99%A9%EC%A0%95%EB%AF%BC', 1), ('https://ko.wikipedia.org/wiki/%EC%86%A1%EA%B0%95%ED%98%B8', 1), ('https://ko.wikipedia.org/wiki/%EA%B3%B5%EC%9C%A0', 1), ('https://ko.wikipedia.org/wiki/%ED%95%98%EC%A0%95%EC%9A%B0', 1), ('https://ko.wikipedia.org/wiki/%EC%9C%A0%ED%95%B4%EC%A7%84', 1), ('https://ko.wikipedia.org/wiki/%EC%9D%B4%EB%B3%91%ED%97%8C', 1), ('https://ko.wikipedia.org/wiki/%EC%9D%B4%EC%A0%95%EC%9E%AC', 1), ('https://ko.wikipedia.org/wiki/%EC%A0%95%EC%9A%B0%EC%84%B1', 1), ('https://ko.wikipedia.org/wiki/%EC%A0%84%EC%A7%80%ED%98%84', 1), ('https://ko.wikipedia.org/wiki/%EB%A7%88%EB%8F%99%EC%84%9D', 1), ('https://ko.wikipedia.org/wiki/%EC%86%A1%EA%B0%95%ED%98%B8', 1), ('https://ko.wikipedia.org/wiki/%EB%A7%88%EB%8F%99%EC%84%9D', 1), ('https://ko.wikipedia.org/wiki/%EC%9D%B4%EB%B3%91%ED%97%8C', 1), ('https://ko.wikipedia.org/wiki/%ED%99%A9%EC%A0%95%EB%AF%BC', 1), ('https://ko.wikipedia.org/wiki/%ED%95%98%EC%A0%95%EC%9A%B0', 1), ('https://ko.wikipedia.org/wiki/%EC%84%A4%EA%B2%BD%EA%B5%AC', 1), ('https://ko.wikipedia.org/wiki/%EA%B3%B5%EC%9C%A0', 1), ('https://ko.wikipedia.org/wiki/%EC%86%A1%EC%A4%91%EA%B8%B0', 1), ('https://ko.wikipedia.org/wiki/%EC%A0%95%EC%9A%B0%EC%84%B1', 1), ('https://ko.wikipedia.org/wiki/%EC%9C%A0%ED%95%B4%EC%A7%84', 1), ('https://ko.wikipedia.org/wiki/%EB%A7%88%EB%8F%99%EC%84%9D', 1), ('https://ko.wikipedia.org/wiki/%ED%95%98%EC%A0%95%EC%9A%B0', 1), ('https://ko.wikipedia.org/wiki/%EC%9D%B4%EB%B3%91%ED%97%8C', 1), ('https://ko.wikipedia.org/wiki/%EC%86%A1%EA%B0%95%ED%98%B8', 1), ('https://ko.wikipedia.org/wiki/%EC%A3%BC%EC%A7%80%ED%9B%88', 1), ('https://ko.wikipedia.org/wiki/%EC%9C%A0%ED%95%B4%EC%A7%84', 1), ('https://ko.wikipedia.org/wiki/%EC%A0%95%EC%9A%B0%EC%84%B1', 1), ('https://ko.wikipedia.org/wiki/%ED%99%A9%EC%A0%95%EB%AF%BC', 1), ('https://ko.wikipedia.org/wiki/%EC%A1%B0%EC%9D%B8%EC%84%B1', 1), ('https://ko.wikipedia.org/wiki/%EC%B0%A8%ED%83%9C%ED%98%84', 1), ('https://ko.wikipedia.org/wiki/%ED%95%9C%EA%B5%AD%EA%B0%A4%EB%9F%BD%EC%A1%B0%EC%82%AC%EC%97%B0%EA%B5%AC%EC%86%8C', 1), ('http://www.gallup.co.kr/', 1), ('https://ko.wikipedia.org/wiki/%EC%A0%84%EA%B1%B0_%ED%86%B5%EC%A0%9C', 1), ('https://ko.wikipedia.org/wiki/%EB%AE%A4%EC%A7%81%EB%B8%8C%EB%A0%88%EC%9D%B8%EC%A6%88', 1), ('https://musicbrainz.org/artist/01f95e53-e724-47f5-9a8c-edb506048305', 1), ('https://ko.wikipedia.org/w/index.php?title=박보영&oldid=24013863', 1), ('https://ko.wikipedia.org/wiki/%ED%8A%B9%EC%88%98:%EB%B6%84%EB%A5%98', 1), ('https://ko.wikipedia.org/wiki/%EB%B6%84%EB%A5%98:%EC%84%9C%EC%9A%B8_%EB%93%9C%EB%9D%BC%EB%A7%88_%EC%96%B4%EC%9B%8C%EC%A6%88_%EC%88%98%EC%83%81%EC%9E%90', 1), ('https://ko.wikipedia.org/wiki/%EB%B6%84%EB%A5%98:%EB%B0%B1%EC%83%81%EC%98%88%EC%88%A0%EB%8C%80%EC%83%81_%EC%98%81%ED%99%94%EB%B6%80%EB%AC%B8_%EC%97%AC%EC%9E%90_%EC%8B%A0%EC%9D%B8%EC%97%B0%EA%B8%B0%EC%83%81_%EC%88%98%EC%83%81%EC%9E%90', 1), ('https://ko.wikipedia.org/wiki/%EB%B6%84%EB%A5%98:1990%EB%85%84_%ED%83%9C%EC%96%B4%EB%82%A8', 1), ('https://ko.wikipedia.org/wiki/%EB%B6%84%EB%A5%98:%EC%82%B4%EC%95%84%EC%9E%88%EB%8A%94_%EC%82%AC%EB%9E%8C', 1), ('https://ko.wikipedia.org/wiki/%EB%B6%84%EB%A5%98:%EB%8C%80%ED%95%9C%EB%AF%BC%EA%B5%AD%EC%9D%98_%EC%97%AC%EC%9E%90_%EC%98%81%ED%99%94_%EB%B0%B0%EC%9A%B0', 1), ('https://ko.wikipedia.org/wiki/%EB%B6%84%EB%A5%98:%EB%8C%80%ED%95%9C%EB%AF%BC%EA%B5%AD%EC%9D%98_%EC%97%AC%EC%9E%90_%ED%85%94%EB%A0%88%EB%B9%84%EC%A0%84_%EB%B0%B0%EC%9A%B0', 1), ('https://ko.wikipedia.org/wiki/%EB%B6%84%EB%A5%98:%EB%B9%84%EB%94%94%EC%98%A4_%EC%9E%90%ED%82%A4', 1), ('https://ko.wikipedia.org/wiki/%EB%B6%84%EB%A5%98:20%EC%84%B8%EA%B8%B0_%EB%8C%80%ED%95%9C%EB%AF%BC%EA%B5%AD_%EC%82%AC%EB%9E%8C', 1), ('https://ko.wikipedia.org/wiki/%EB%B6%84%EB%A5%98:21%EC%84%B8%EA%B8%B0_%EB%8C%80%ED%95%9C%EB%AF%BC%EA%B5%AD_%EC%82%AC%EB%9E%8C', 1), ('https://ko.wikipedia.org/wiki/%EB%B6%84%EB%A5%98:%EB%8C%80%ED%95%9C%EB%AF%BC%EA%B5%AD%EC%9D%98_%EC%97%AC%EC%9E%90_%EB%AE%A4%EC%A7%80%EC%BB%AC_%EB%B0%B0%EC%9A%B0', 1), ('https://ko.wikipedia.org/wiki/%EB%B6%84%EB%A5%98:%EB%8C%80%ED%95%9C%EB%AF%BC%EA%B5%AD%EC%9D%98_%EC%97%AC%EC%9E%90_%EB%AA%A8%EB%8D%B8', 1), ('https://ko.wikipedia.org/wiki/%EB%B6%84%EB%A5%98:%EB%8C%80%ED%95%9C%EB%AF%BC%EA%B5%AD%EC%9D%98_%EC%97%AC%EC%9E%90_%EC%96%B4%EB%A6%B0%EC%9D%B4_%EB%B0%B0%EC%9A%B0', 1), ('https://ko.wikipedia.org/wiki/%EB%B6%84%EB%A5%98:%EC%A6%9D%ED%8F%89%EA%B5%B0_%EC%B6%9C%EC%8B%A0', 1), ('https://ko.wikipedia.org/wiki/%EB%B6%84%EB%A5%98:%EC%A6%9D%ED%8F%89%EC%B4%88%EB%93%B1%ED%95%99%EA%B5%90_%EB%8F%99%EB%AC%B8', 1), ('https://ko.wikipedia.org/wiki/%EB%B6%84%EB%A5%98:%EC%A6%9D%ED%8F%89%EC%97%AC%EC%9E%90%EC%A4%91%ED%95%99%EA%B5%90_%EB%8F%99%EB%AC%B8', 1), ('https://ko.wikipedia.org/wiki/%EB%B6%84%EB%A5%98:%EB%8C%80%EC%84%B1%EC%97%AC%EC%9E%90%EC%83%81%EC%97%85%EA%B3%A0%EB%93%B1%ED%95%99%EA%B5%90_%EB%8F%99%EB%AC%B8', 1), ('https://ko.wikipedia.org/wiki/%EB%B6%84%EB%A5%98:2006%EB%85%84_%EB%8D%B0%EB%B7%94', 1), ('https://ko.wikipedia.org/wiki/%EB%B6%84%EB%A5%98:%EB%8B%A8%EA%B5%AD%EB%8C%80%ED%95%99%EA%B5%90_%EB%8F%99%EB%AC%B8', 1), ('https://ko.wikipedia.org/wiki/%EB%B6%84%EB%A5%98:%EB%8C%80%ED%95%9C%EB%AF%BC%EA%B5%AD%EC%9D%98_%EA%B0%9C%EC%8B%A0%EA%B5%90%EB%8F%84', 1), ('https://ko.wikipedia.org/wiki/%EB%B6%84%EB%A5%98:%EB%94%94%EB%A0%89%ED%84%B0%EC%8A%A4_%EC%BB%B7_%EC%8B%9C%EC%83%81%EC%8B%9D_%EC%88%98%EC%83%81%EC%9E%90', 1), ('https://ko.wikipedia.org/wiki/%EB%B6%84%EB%A5%98:%ED%99%A9%EA%B8%88%EC%B4%AC%EC%98%81%EC%83%81_%EC%88%98%EC%83%81%EC%9E%90', 1), ('https://ko.wikipedia.org/wiki/%EB%B6%84%EB%A5%98:%EC%B2%AD%EB%A3%A1%EC%98%81%ED%99%94%EC%83%81_%EC%8B%A0%EC%9D%B8%EC%97%AC%EC%9A%B0%EC%83%81_%EC%88%98%EC%83%81%EC%9E%90', 1), ('https://ko.wikipedia.org/wiki/%EB%B6%84%EB%A5%98:%ED%95%9C%EA%B5%AD%EC%98%81%ED%99%94%ED%8F%89%EB%A1%A0%EA%B0%80%ED%98%91%ED%9A%8C%EC%83%81_%EC%88%98%EC%83%81%EC%9E%90', 1), ('https://ko.wikipedia.org/wiki/%EB%B6%84%EB%A5%98:%EB%B0%B1%EC%83%81%EC%98%88%EC%88%A0%EB%8C%80%EC%83%81_%EC%88%98%EC%83%81%EC%9E%90', 1), ('https://ko.wikipedia.org/wiki/%EB%B6%84%EB%A5%98:%EB%A7%A5%EC%8A%A4%EB%AC%B4%EB%B9%84_%EC%B5%9C%EA%B3%A0%EC%9D%98_%EC%98%81%ED%99%94%EC%83%81_%EC%88%98%EC%83%81%EC%9E%90', 1), ('https://ko.wikipedia.org/wiki/%EB%B6%84%EB%A5%98:%EC%9D%B8%EC%9A%A9_%EC%98%A4%EB%A5%98_-_%EB%82%A0%EC%A7%9C', 1), ('https://ko.wikipedia.org/wiki/%EB%B6%84%EB%A5%98:%EA%B9%A8%EC%A7%84_%EB%A7%81%ED%81%AC%EB%A5%BC_%EA%B0%80%EC%A7%80%EA%B3%A0_%EC%9E%88%EB%8A%94_%EB%AC%B8%EC%84%9C', 1), ('https://ko.wikipedia.org/wiki/%EB%B6%84%EB%A5%98:MusicBrainz_%EC%8B%9D%EB%B3%84%EC%9E%90%EB%A5%BC_%ED%8F%AC%ED%95%A8%ED%95%9C_%EC%9C%84%ED%82%A4%EB%B0%B1%EA%B3%BC_%EB%AC%B8%EC%84%9C', 1), ('https://ko.wikipedia.org/wiki/%ED%8A%B9%EC%88%98:%EB%82%B4%EC%82%AC%EC%9A%A9%EC%9E%90%ED%86%A0%EB%A1%A0', 1), ('https://ko.wikipedia.org/wiki/%ED%8A%B9%EC%88%98:%EB%82%B4%EA%B8%B0%EC%97%AC', 1), ('https://ko.wikipedia.org/w/index.php?title=%ED%8A%B9%EC%88%98:%EA%B3%84%EC%A0%95%EB%A7%8C%EB%93%A4%EA%B8%B0&returnto=%EB%B0%95%EB%B3%B4%EC%98%81', 1), ('https://ko.wikipedia.org/w/index.php?title=%ED%8A%B9%EC%88%98:%EB%A1%9C%EA%B7%B8%EC%9D%B8&returnto=%EB%B0%95%EB%B3%B4%EC%98%81', 1), ('https://ko.wikipedia.org/wiki/%EB%B0%95%EB%B3%B4%EC%98%81', 1), ('https://ko.wikipedia.org/wiki/%ED%86%A0%EB%A1%A0:%EB%B0%95%EB%B3%B4%EC%98%81', 1), ('https://ko.wikipedia.org/wiki/%EB%B0%95%EB%B3%B4%EC%98%81', 1), ('https://ko.wikipedia.org/w/index.php?title=%EB%B0%95%EB%B3%B4%EC%98%81&action=edit', 1), ('https://ko.wikipedia.org/w/index.php?title=%EB%B0%95%EB%B3%B4%EC%98%81&action=history', 1), ('https://ko.wikipedia.org/wiki/%EC%9C%84%ED%82%A4%EB%B0%B1%EA%B3%BC:%EB%8C%80%EB%AC%B8', 1), ('https://ko.wikipedia.org/wiki/%EC%9C%84%ED%82%A4%EB%B0%B1%EA%B3%BC:%EB%8C%80%EB%AC%B8', 1), ('https://ko.wikipedia.org/wiki/%EC%9C%84%ED%82%A4%EB%B0%B1%EA%B3%BC:%EC%82%AC%EC%9A%A9%EC%9E%90_%EB%AA%A8%EC%9E%84', 1), ('https://ko.wikipedia.org/wiki/%ED%8F%AC%ED%84%B8:%EC%9A%94%EC%A6%98_%ED%99%94%EC%A0%9C', 1), ('https://ko.wikipedia.org/wiki/%ED%8A%B9%EC%88%98:%EC%B5%9C%EA%B7%BC%EB%B0%94%EB%80%9C', 1), ('https://ko.wikipedia.org/wiki/%ED%8A%B9%EC%88%98:%EB%AA%A8%EB%93%A0%EB%AC%B8%EC%84%9C', 1), ('https://ko.wikipedia.org/wiki/%ED%8A%B9%EC%88%98:%EC%9E%84%EC%9D%98%EB%AC%B8%EC%84%9C', 1), ('https://ko.wikipedia.org/wiki/%EC%9C%84%ED%82%A4%EB%B0%B1%EA%B3%BC:%EB%8F%84%EC%9B%80%EB%A7%90', 1), ('https://donate.wikimedia.org/wiki/Special:FundraiserRedirector?utm_source=donate&utm_medium=sidebar&utm_campaign=C13_ko.wikipedia.org&uselang=ko', 1), ('https://ko.wikipedia.org/wiki/%ED%8A%B9%EC%88%98:%EA%B0%80%EB%A6%AC%ED%82%A4%EB%8A%94%EB%AC%B8%EC%84%9C/%EB%B0%95%EB%B3%B4%EC%98%81', 1), ('https://ko.wikipedia.org/wiki/%ED%8A%B9%EC%88%98:%EB%A7%81%ED%81%AC%EC%B5%9C%EA%B7%BC%EB%B0%94%EB%80%9C/%EB%B0%95%EB%B3%B4%EC%98%81', 1), ('https://ko.wikipedia.org/wiki/위키백과:파일_올리기', 1), ('https://ko.wikipedia.org/wiki/%ED%8A%B9%EC%88%98:%ED%8A%B9%EC%88%98%EB%AC%B8%EC%84%9C', 1), ('https://ko.wikipedia.org/w/index.php?title=%EB%B0%95%EB%B3%B4%EC%98%81&oldid=24013863', 1), ('https://ko.wikipedia.org/w/index.php?title=%EB%B0%95%EB%B3%B4%EC%98%81&action=info', 1), ('https://www.wikidata.org/wiki/Special:EntityPage/Q490918', 1), ('https://ko.wikipedia.org/w/index.php?title=%ED%8A%B9%EC%88%98:%EC%9D%B4%EB%AC%B8%EC%84%9C%EC%9D%B8%EC%9A%A9&page=%EB%B0%95%EB%B3%B4%EC%98%81&id=24013863', 1), ('https://ko.wikipedia.org/w/index.php?title=%ED%8A%B9%EC%88%98:%EC%B1%85&bookcmd=book_creator&referer=%EB%B0%95%EB%B3%B4%EC%98%81', 1), ('https://ko.wikipedia.org/w/index.php?title=%ED%8A%B9%EC%88%98:ElectronPdf&page=%EB%B0%95%EB%B3%B4%EC%98%81&action=show-download-screen', 1), ('https://ko.wikipedia.org/w/index.php?title=%EB%B0%95%EB%B3%B4%EC%98%81&printable=yes', 1), ('https://commons.wikimedia.org/wiki/Category:Park_Bo-young', 1), ('https://ar.wikipedia.org/wiki/%D8%A8%D8%A7%D9%83_%D8%A8%D9%88_%D9%8A%D9%88%D9%86%D8%BA', 1), ('https://de.wikipedia.org/wiki/Park_Bo-young', 1), ('https://en.wikipedia.org/wiki/Park_Bo-young', 1), ('https://es.wikipedia.org/wiki/Park_Bo_Young', 1), ('https://fa.wikipedia.org/wiki/%D9%BE%D8%A7%D8%B1%DA%A9_%D8%A8%D9%88-%DB%8C%D9%88%D9%86%DA%AF', 1), ('https://fr.wikipedia.org/wiki/Park_Bo-yeong', 1), ('https://hy.wikipedia.org/wiki/%D5%8A%D5%A1%D5%AF_%D4%B2%D5%B8_%D5%85%D5%A1%D5%B6%D5%A3', 1), ('https://id.wikipedia.org/wiki/Park_Bo-young', 1), ('https://it.wikipedia.org/wiki/Park_Bo-young', 1), ('https://ja.wikipedia.org/wiki/%E3%83%91%E3%82%AF%E3%83%BB%E3%83%9C%E3%83%A8%E3%83%B3', 1), ('https://mn.wikipedia.org/wiki/%D0%9F%D0%B0%D0%B3_%D0%91%D1%83-%D1%91%D0%BD', 1), ('https://ms.wikipedia.org/wiki/Park_Bo-young', 1), ('https://pl.wikipedia.org/wiki/Park_Bo-young', 1), ('https://pt.wikipedia.org/wiki/Park_Bo-young', 1), ('https://vi.wikipedia.org/wiki/Park_Bo-young', 1), ('https://wuu.wikipedia.org/wiki/%E6%9C%B4%E5%AE%9D%E8%8B%B1', 1), ('https://zh.wikipedia.org/wiki/%E6%9C%B4%E5%AE%9D%E8%8B%B1', 1), ('https://www.wikidata.org/wiki/Special:EntityPage/Q490918#sitelinks-wikipedia', 1), ('https://ko.wikipedia.org/wiki/%EC%9C%84%ED%82%A4%EB%B0%B1%EA%B3%BC:Creative_Commons_Attribution-ShareAlike_3.0_Unported_License', 1), ('https://wikimediafoundation.org/wiki/Terms_of_Use/ko', 1), ('http://www.wikimediafoundation.org', 1), ('https://foundation.wikimedia.org/wiki/Privacy_policy', 1), ('https://ko.wikipedia.org/wiki/%EC%9C%84%ED%82%A4%EB%B0%B1%EA%B3%BC:%EC%86%8C%EA%B0%9C', 1), ('https://ko.wikipedia.org/wiki/%EC%9C%84%ED%82%A4%EB%B0%B1%EA%B3%BC:%EB%A9%B4%EC%B1%85_%EC%A1%B0%ED%95%AD', 1), ('https://www.mediawiki.org/wiki/Special:MyLanguage/How_to_contribute', 1), ('https://foundation.wikimedia.org/wiki/Cookie_statement', 1), ('https://ko.m.wikipedia.org/w/index.php?title=%EB%B0%95%EB%B3%B4%EC%98%81&mobileaction=toggle_view_mobile', 1), ('https://wikimediafoundation.org/', 1), ('https://www.mediawiki.org/', 1)]\n"
     ]
    },
    {
     "ename": "TypeError",
     "evalue": "must be str, not int",
     "output_type": "error",
     "traceback": [
      "\u001b[1;31m---------------------------------------------------------------------------\u001b[0m",
      "\u001b[1;31mTypeError\u001b[0m                                 Traceback (most recent call last)",
      "\u001b[1;32m<ipython-input-93-8229d340fbc5>\u001b[0m in \u001b[0;36m<module>\u001b[1;34m\u001b[0m\n\u001b[0;32m     13\u001b[0m                      and _[0] not in seen ])\n\u001b[0;32m     14\u001b[0m \u001b[1;33m\u001b[0m\u001b[0m\n\u001b[1;32m---> 15\u001b[1;33m     \u001b[0mprint\u001b[0m\u001b[1;33m(\u001b[0m\u001b[1;34m\"{0} {1} [{2}]\"\u001b[0m\u001b[1;33m.\u001b[0m\u001b[0mformat\u001b[0m\u001b[1;33m(\u001b[0m\u001b[1;34m\">\"\u001b[0m\u001b[1;33m+\u001b[0m\u001b[0mlink\u001b[0m\u001b[1;33m[\u001b[0m\u001b[1;36m1\u001b[0m\u001b[1;33m]\u001b[0m\u001b[1;33m,\u001b[0m \u001b[0mlink\u001b[0m\u001b[1;33m[\u001b[0m\u001b[1;36m0\u001b[0m\u001b[1;33m]\u001b[0m\u001b[1;33m,\u001b[0m \u001b[0mlen\u001b[0m\u001b[1;33m(\u001b[0m\u001b[0mlinks\u001b[0m\u001b[1;33m)\u001b[0m\u001b[1;33m)\u001b[0m\u001b[1;33m)\u001b[0m\u001b[1;33m\u001b[0m\u001b[0m\n\u001b[0m",
      "\u001b[1;31mTypeError\u001b[0m: must be str, not int"
     ]
    }
   ],
   "source": [
    "# urlExtractor()\n",
    "# 큐가 더이상 없을때까지 돌릴 거\n",
    "while queue:\n",
    "    link = queue.pop(0)\n",
    "    seen.append(link[0])\n",
    "    \n",
    "#     time.sleep(random.randint(1,3))\n",
    "    print(link)\n",
    "    links = urlExtractor(link[0], link[1])\n",
    "    print(links)\n",
    "    queueURL = [_[0] for _ in queue]\n",
    "    queue.extend([_ for _ in links if _[0] not in queueURL \\\n",
    "                     and _[0] not in seen ])\n",
    "    \n",
    "    print(\"{0} {1} [{2}]\".format(\">\"+link[1], link[0], len(links)))"
   ]
  },
  {
   "cell_type": "code",
   "execution_count": 64,
   "metadata": {},
   "outputs": [
    {
     "name": "stdout",
     "output_type": "stream",
     "text": [
      "https://ko.wikipedia.org/wiki/%EB%B0%95%EB%B3%B4%EC%98%81 1073\n",
      "https://ko.wikipedia.org/wiki/%EB%B0%95%EB%B3%B4%EC%98%81%EC%9D%98_%EC%9E%91%ED%92%88_%EB%AA%A9%EB%A1%9D 567\n",
      "https://namu.wiki/w/%EB%B0%95%EB%B3%B4%EC%98%81 1285\n",
      "https://www.msn.com/ko-kr/entertainment/news/%EB%B0%95%EB%B3%B4%EC%98%81-tvn-%EB%93%9C%EB%9D%BC%EB%A7%88-%EC%96%B4%EB%B9%84%EC%8A%A4-%EC%97%AC%EC%A3%BC%EC%9D%B8%EA%B3%B5/ar-BBLZzVh 59\n",
      "https://twitter.com/hashtag/%EB%B0%95%EB%B3%B4%EC%98%81 245\n",
      "https://www.hankyung.com/entertainment/article/201905030904H 195\n",
      "https://www.hankyung.com/entertainment/article/201905077647H 189\n",
      "https://www.mk.co.kr/star/hot-issues/view/2019/05/293931/ 336\n"
     ]
    }
   ],
   "source": [
    "for link in queue:\n",
    "    html = getDownload(link)\n",
    "    dom = BeautifulSoup(html.content, 'lxml')\n",
    "    print(link, len([_[\"href\"] for _ in dom.select(\"a\") if _.has_attr(\"href\")]))"
   ]
  },
  {
   "cell_type": "code",
   "execution_count": 57,
   "metadata": {},
   "outputs": [
    {
     "data": {
      "text/plain": [
       "ParseResult(scheme='https', netloc='ko.wikipedia.org', path='/wiki/%EB%B0%95%EB%B3%B4%EC%98%81', params='', query='', fragment='')"
      ]
     },
     "execution_count": 57,
     "metadata": {},
     "output_type": "execute_result"
    }
   ],
   "source": [
    "requests.compat.urlparse(queue[0])"
   ]
  },
  {
   "cell_type": "markdown",
   "metadata": {},
   "source": [
    "# 네이버 블로그만 크롤링하기"
   ]
  },
  {
   "cell_type": "code",
   "execution_count": 56,
   "metadata": {},
   "outputs": [
    {
     "data": {
      "text/plain": [
       "'blog.naver.com'"
      ]
     },
     "execution_count": 56,
     "metadata": {},
     "output_type": "execute_result"
    }
   ],
   "source": [
    "requests.compat.urlparse('https://blog.naver.com/search.naver?where=post&sm=tab_jum&query=%EB%B0%95%EB%B3%B4%EC%98%81')[1]"
   ]
  },
  {
   "cell_type": "code",
   "execution_count": null,
   "metadata": {},
   "outputs": [],
   "source": [
    "# 큐가 더이상 없을때까지 돌릴 거\n",
    "while queue:\n",
    "    seed = queue.pop(0)\n",
    "    seen.append(link[0])\n",
    "#     time.sleep(random.randint(1,3))\n",
    "    links = urlExtractor(link[0], link[1])\n",
    "    \n",
    "    queueURL = [_[0] for _ in queue]\n",
    "    queue.extend([_ for _ in links if _[0] not in queueURL \\\n",
    "                     and _ not in seen ])\n",
    "    \n",
    "    print(\"{0} {1} [{2}]\".format(\">\"+link[1], link[0], len(links)))"
   ]
  },
  {
   "cell_type": "code",
   "execution_count": 88,
   "metadata": {},
   "outputs": [
    {
     "ename": "KeyboardInterrupt",
     "evalue": "",
     "output_type": "error",
     "traceback": [
      "\u001b[1;31m---------------------------------------------------------------------------\u001b[0m",
      "\u001b[1;31mKeyboardInterrupt\u001b[0m                         Traceback (most recent call last)",
      "\u001b[1;32m<ipython-input-88-732a16f30de9>\u001b[0m in \u001b[0;36m<module>\u001b[1;34m\u001b[0m\n\u001b[1;32m----> 1\u001b[1;33m \u001b[0mhtml\u001b[0m \u001b[1;33m=\u001b[0m \u001b[0mgetDownload\u001b[0m\u001b[1;33m(\u001b[0m\u001b[1;34m\"https://arxiv.org/pdf/1708.02709.pdf\"\u001b[0m\u001b[1;33m)\u001b[0m\u001b[1;33m\u001b[0m\u001b[0m\n\u001b[0m\u001b[0;32m      2\u001b[0m \u001b[1;32mwith\u001b[0m \u001b[0mopen\u001b[0m\u001b[1;33m(\u001b[0m\u001b[1;34m\"1708.02709.pdf\"\u001b[0m\u001b[1;33m,\u001b[0m \u001b[1;34m\"wb\"\u001b[0m\u001b[1;33m)\u001b[0m \u001b[1;32mas\u001b[0m \u001b[0mfp\u001b[0m\u001b[1;33m:\u001b[0m\u001b[1;33m\u001b[0m\u001b[0m\n\u001b[0;32m      3\u001b[0m     \u001b[0mfp\u001b[0m\u001b[1;33m.\u001b[0m\u001b[0mwrite\u001b[0m\u001b[1;33m(\u001b[0m\u001b[0mhtml\u001b[0m\u001b[1;33m.\u001b[0m\u001b[0mcontent\u001b[0m\u001b[1;33m)\u001b[0m\u001b[1;33m\u001b[0m\u001b[0m\n",
      "\u001b[1;32m<ipython-input-2-ed74d260ff65>\u001b[0m in \u001b[0;36mgetDownload\u001b[1;34m(url, params, retries)\u001b[0m\n\u001b[0;32m      7\u001b[0m \u001b[1;33m\u001b[0m\u001b[0m\n\u001b[0;32m      8\u001b[0m     \u001b[1;32mtry\u001b[0m\u001b[1;33m:\u001b[0m\u001b[1;33m\u001b[0m\u001b[0m\n\u001b[1;32m----> 9\u001b[1;33m         \u001b[0mresp\u001b[0m \u001b[1;33m=\u001b[0m \u001b[0mrequests\u001b[0m\u001b[1;33m.\u001b[0m\u001b[0mget\u001b[0m\u001b[1;33m(\u001b[0m\u001b[0murl\u001b[0m\u001b[1;33m,\u001b[0m \u001b[0mparams\u001b[0m\u001b[1;33m=\u001b[0m\u001b[0mparams\u001b[0m\u001b[1;33m,\u001b[0m \u001b[0mheaders\u001b[0m\u001b[1;33m=\u001b[0m\u001b[0mheader\u001b[0m\u001b[1;33m)\u001b[0m\u001b[1;33m\u001b[0m\u001b[0m\n\u001b[0m\u001b[0;32m     10\u001b[0m         \u001b[0mresp\u001b[0m\u001b[1;33m.\u001b[0m\u001b[0mraise_for_status\u001b[0m\u001b[1;33m(\u001b[0m\u001b[1;33m)\u001b[0m\u001b[1;33m\u001b[0m\u001b[0m\n\u001b[0;32m     11\u001b[0m     \u001b[1;32mexcept\u001b[0m \u001b[0mrequests\u001b[0m\u001b[1;33m.\u001b[0m\u001b[0mexceptions\u001b[0m\u001b[1;33m.\u001b[0m\u001b[0mHTTPError\u001b[0m \u001b[1;32mas\u001b[0m \u001b[0me\u001b[0m\u001b[1;33m:\u001b[0m\u001b[1;33m\u001b[0m\u001b[0m\n",
      "\u001b[1;32m~\\AppData\\Roaming\\Python\\Python36\\site-packages\\requests\\api.py\u001b[0m in \u001b[0;36mget\u001b[1;34m(url, params, **kwargs)\u001b[0m\n\u001b[0;32m     73\u001b[0m \u001b[1;33m\u001b[0m\u001b[0m\n\u001b[0;32m     74\u001b[0m     \u001b[0mkwargs\u001b[0m\u001b[1;33m.\u001b[0m\u001b[0msetdefault\u001b[0m\u001b[1;33m(\u001b[0m\u001b[1;34m'allow_redirects'\u001b[0m\u001b[1;33m,\u001b[0m \u001b[1;32mTrue\u001b[0m\u001b[1;33m)\u001b[0m\u001b[1;33m\u001b[0m\u001b[0m\n\u001b[1;32m---> 75\u001b[1;33m     \u001b[1;32mreturn\u001b[0m \u001b[0mrequest\u001b[0m\u001b[1;33m(\u001b[0m\u001b[1;34m'get'\u001b[0m\u001b[1;33m,\u001b[0m \u001b[0murl\u001b[0m\u001b[1;33m,\u001b[0m \u001b[0mparams\u001b[0m\u001b[1;33m=\u001b[0m\u001b[0mparams\u001b[0m\u001b[1;33m,\u001b[0m \u001b[1;33m**\u001b[0m\u001b[0mkwargs\u001b[0m\u001b[1;33m)\u001b[0m\u001b[1;33m\u001b[0m\u001b[0m\n\u001b[0m\u001b[0;32m     76\u001b[0m \u001b[1;33m\u001b[0m\u001b[0m\n\u001b[0;32m     77\u001b[0m \u001b[1;33m\u001b[0m\u001b[0m\n",
      "\u001b[1;32m~\\AppData\\Roaming\\Python\\Python36\\site-packages\\requests\\api.py\u001b[0m in \u001b[0;36mrequest\u001b[1;34m(method, url, **kwargs)\u001b[0m\n\u001b[0;32m     58\u001b[0m     \u001b[1;31m# cases, and look like a memory leak in others.\u001b[0m\u001b[1;33m\u001b[0m\u001b[1;33m\u001b[0m\u001b[0m\n\u001b[0;32m     59\u001b[0m     \u001b[1;32mwith\u001b[0m \u001b[0msessions\u001b[0m\u001b[1;33m.\u001b[0m\u001b[0mSession\u001b[0m\u001b[1;33m(\u001b[0m\u001b[1;33m)\u001b[0m \u001b[1;32mas\u001b[0m \u001b[0msession\u001b[0m\u001b[1;33m:\u001b[0m\u001b[1;33m\u001b[0m\u001b[0m\n\u001b[1;32m---> 60\u001b[1;33m         \u001b[1;32mreturn\u001b[0m \u001b[0msession\u001b[0m\u001b[1;33m.\u001b[0m\u001b[0mrequest\u001b[0m\u001b[1;33m(\u001b[0m\u001b[0mmethod\u001b[0m\u001b[1;33m=\u001b[0m\u001b[0mmethod\u001b[0m\u001b[1;33m,\u001b[0m \u001b[0murl\u001b[0m\u001b[1;33m=\u001b[0m\u001b[0murl\u001b[0m\u001b[1;33m,\u001b[0m \u001b[1;33m**\u001b[0m\u001b[0mkwargs\u001b[0m\u001b[1;33m)\u001b[0m\u001b[1;33m\u001b[0m\u001b[0m\n\u001b[0m\u001b[0;32m     61\u001b[0m \u001b[1;33m\u001b[0m\u001b[0m\n\u001b[0;32m     62\u001b[0m \u001b[1;33m\u001b[0m\u001b[0m\n",
      "\u001b[1;32m~\\AppData\\Roaming\\Python\\Python36\\site-packages\\requests\\sessions.py\u001b[0m in \u001b[0;36mrequest\u001b[1;34m(self, method, url, params, data, headers, cookies, files, auth, timeout, allow_redirects, proxies, hooks, stream, verify, cert, json)\u001b[0m\n\u001b[0;32m    531\u001b[0m         }\n\u001b[0;32m    532\u001b[0m         \u001b[0msend_kwargs\u001b[0m\u001b[1;33m.\u001b[0m\u001b[0mupdate\u001b[0m\u001b[1;33m(\u001b[0m\u001b[0msettings\u001b[0m\u001b[1;33m)\u001b[0m\u001b[1;33m\u001b[0m\u001b[0m\n\u001b[1;32m--> 533\u001b[1;33m         \u001b[0mresp\u001b[0m \u001b[1;33m=\u001b[0m \u001b[0mself\u001b[0m\u001b[1;33m.\u001b[0m\u001b[0msend\u001b[0m\u001b[1;33m(\u001b[0m\u001b[0mprep\u001b[0m\u001b[1;33m,\u001b[0m \u001b[1;33m**\u001b[0m\u001b[0msend_kwargs\u001b[0m\u001b[1;33m)\u001b[0m\u001b[1;33m\u001b[0m\u001b[0m\n\u001b[0m\u001b[0;32m    534\u001b[0m \u001b[1;33m\u001b[0m\u001b[0m\n\u001b[0;32m    535\u001b[0m         \u001b[1;32mreturn\u001b[0m \u001b[0mresp\u001b[0m\u001b[1;33m\u001b[0m\u001b[0m\n",
      "\u001b[1;32m~\\AppData\\Roaming\\Python\\Python36\\site-packages\\requests\\sessions.py\u001b[0m in \u001b[0;36msend\u001b[1;34m(self, request, **kwargs)\u001b[0m\n\u001b[0;32m    684\u001b[0m \u001b[1;33m\u001b[0m\u001b[0m\n\u001b[0;32m    685\u001b[0m         \u001b[1;32mif\u001b[0m \u001b[1;32mnot\u001b[0m \u001b[0mstream\u001b[0m\u001b[1;33m:\u001b[0m\u001b[1;33m\u001b[0m\u001b[0m\n\u001b[1;32m--> 686\u001b[1;33m             \u001b[0mr\u001b[0m\u001b[1;33m.\u001b[0m\u001b[0mcontent\u001b[0m\u001b[1;33m\u001b[0m\u001b[0m\n\u001b[0m\u001b[0;32m    687\u001b[0m \u001b[1;33m\u001b[0m\u001b[0m\n\u001b[0;32m    688\u001b[0m         \u001b[1;32mreturn\u001b[0m \u001b[0mr\u001b[0m\u001b[1;33m\u001b[0m\u001b[0m\n",
      "\u001b[1;32m~\\AppData\\Roaming\\Python\\Python36\\site-packages\\requests\\models.py\u001b[0m in \u001b[0;36mcontent\u001b[1;34m(self)\u001b[0m\n\u001b[0;32m    826\u001b[0m                 \u001b[0mself\u001b[0m\u001b[1;33m.\u001b[0m\u001b[0m_content\u001b[0m \u001b[1;33m=\u001b[0m \u001b[1;32mNone\u001b[0m\u001b[1;33m\u001b[0m\u001b[0m\n\u001b[0;32m    827\u001b[0m             \u001b[1;32melse\u001b[0m\u001b[1;33m:\u001b[0m\u001b[1;33m\u001b[0m\u001b[0m\n\u001b[1;32m--> 828\u001b[1;33m                 \u001b[0mself\u001b[0m\u001b[1;33m.\u001b[0m\u001b[0m_content\u001b[0m \u001b[1;33m=\u001b[0m \u001b[1;34mb''\u001b[0m\u001b[1;33m.\u001b[0m\u001b[0mjoin\u001b[0m\u001b[1;33m(\u001b[0m\u001b[0mself\u001b[0m\u001b[1;33m.\u001b[0m\u001b[0miter_content\u001b[0m\u001b[1;33m(\u001b[0m\u001b[0mCONTENT_CHUNK_SIZE\u001b[0m\u001b[1;33m)\u001b[0m\u001b[1;33m)\u001b[0m \u001b[1;32mor\u001b[0m \u001b[1;34mb''\u001b[0m\u001b[1;33m\u001b[0m\u001b[0m\n\u001b[0m\u001b[0;32m    829\u001b[0m \u001b[1;33m\u001b[0m\u001b[0m\n\u001b[0;32m    830\u001b[0m         \u001b[0mself\u001b[0m\u001b[1;33m.\u001b[0m\u001b[0m_content_consumed\u001b[0m \u001b[1;33m=\u001b[0m \u001b[1;32mTrue\u001b[0m\u001b[1;33m\u001b[0m\u001b[0m\n",
      "\u001b[1;32m~\\AppData\\Roaming\\Python\\Python36\\site-packages\\requests\\models.py\u001b[0m in \u001b[0;36mgenerate\u001b[1;34m()\u001b[0m\n\u001b[0;32m    748\u001b[0m             \u001b[1;32mif\u001b[0m \u001b[0mhasattr\u001b[0m\u001b[1;33m(\u001b[0m\u001b[0mself\u001b[0m\u001b[1;33m.\u001b[0m\u001b[0mraw\u001b[0m\u001b[1;33m,\u001b[0m \u001b[1;34m'stream'\u001b[0m\u001b[1;33m)\u001b[0m\u001b[1;33m:\u001b[0m\u001b[1;33m\u001b[0m\u001b[0m\n\u001b[0;32m    749\u001b[0m                 \u001b[1;32mtry\u001b[0m\u001b[1;33m:\u001b[0m\u001b[1;33m\u001b[0m\u001b[0m\n\u001b[1;32m--> 750\u001b[1;33m                     \u001b[1;32mfor\u001b[0m \u001b[0mchunk\u001b[0m \u001b[1;32min\u001b[0m \u001b[0mself\u001b[0m\u001b[1;33m.\u001b[0m\u001b[0mraw\u001b[0m\u001b[1;33m.\u001b[0m\u001b[0mstream\u001b[0m\u001b[1;33m(\u001b[0m\u001b[0mchunk_size\u001b[0m\u001b[1;33m,\u001b[0m \u001b[0mdecode_content\u001b[0m\u001b[1;33m=\u001b[0m\u001b[1;32mTrue\u001b[0m\u001b[1;33m)\u001b[0m\u001b[1;33m:\u001b[0m\u001b[1;33m\u001b[0m\u001b[0m\n\u001b[0m\u001b[0;32m    751\u001b[0m                         \u001b[1;32myield\u001b[0m \u001b[0mchunk\u001b[0m\u001b[1;33m\u001b[0m\u001b[0m\n\u001b[0;32m    752\u001b[0m                 \u001b[1;32mexcept\u001b[0m \u001b[0mProtocolError\u001b[0m \u001b[1;32mas\u001b[0m \u001b[0me\u001b[0m\u001b[1;33m:\u001b[0m\u001b[1;33m\u001b[0m\u001b[0m\n",
      "\u001b[1;32m~\\Anaconda3\\lib\\site-packages\\urllib3\\response.py\u001b[0m in \u001b[0;36mstream\u001b[1;34m(self, amt, decode_content)\u001b[0m\n\u001b[0;32m    463\u001b[0m         \u001b[1;32melse\u001b[0m\u001b[1;33m:\u001b[0m\u001b[1;33m\u001b[0m\u001b[0m\n\u001b[0;32m    464\u001b[0m             \u001b[1;32mwhile\u001b[0m \u001b[1;32mnot\u001b[0m \u001b[0mis_fp_closed\u001b[0m\u001b[1;33m(\u001b[0m\u001b[0mself\u001b[0m\u001b[1;33m.\u001b[0m\u001b[0m_fp\u001b[0m\u001b[1;33m)\u001b[0m\u001b[1;33m:\u001b[0m\u001b[1;33m\u001b[0m\u001b[0m\n\u001b[1;32m--> 465\u001b[1;33m                 \u001b[0mdata\u001b[0m \u001b[1;33m=\u001b[0m \u001b[0mself\u001b[0m\u001b[1;33m.\u001b[0m\u001b[0mread\u001b[0m\u001b[1;33m(\u001b[0m\u001b[0mamt\u001b[0m\u001b[1;33m=\u001b[0m\u001b[0mamt\u001b[0m\u001b[1;33m,\u001b[0m \u001b[0mdecode_content\u001b[0m\u001b[1;33m=\u001b[0m\u001b[0mdecode_content\u001b[0m\u001b[1;33m)\u001b[0m\u001b[1;33m\u001b[0m\u001b[0m\n\u001b[0m\u001b[0;32m    466\u001b[0m \u001b[1;33m\u001b[0m\u001b[0m\n\u001b[0;32m    467\u001b[0m                 \u001b[1;32mif\u001b[0m \u001b[0mdata\u001b[0m\u001b[1;33m:\u001b[0m\u001b[1;33m\u001b[0m\u001b[0m\n",
      "\u001b[1;32m~\\Anaconda3\\lib\\site-packages\\urllib3\\response.py\u001b[0m in \u001b[0;36mread\u001b[1;34m(self, amt, decode_content, cache_content)\u001b[0m\n\u001b[0;32m    411\u001b[0m             \u001b[1;32melse\u001b[0m\u001b[1;33m:\u001b[0m\u001b[1;33m\u001b[0m\u001b[0m\n\u001b[0;32m    412\u001b[0m                 \u001b[0mcache_content\u001b[0m \u001b[1;33m=\u001b[0m \u001b[1;32mFalse\u001b[0m\u001b[1;33m\u001b[0m\u001b[0m\n\u001b[1;32m--> 413\u001b[1;33m                 \u001b[0mdata\u001b[0m \u001b[1;33m=\u001b[0m \u001b[0mself\u001b[0m\u001b[1;33m.\u001b[0m\u001b[0m_fp\u001b[0m\u001b[1;33m.\u001b[0m\u001b[0mread\u001b[0m\u001b[1;33m(\u001b[0m\u001b[0mamt\u001b[0m\u001b[1;33m)\u001b[0m\u001b[1;33m\u001b[0m\u001b[0m\n\u001b[0m\u001b[0;32m    414\u001b[0m                 \u001b[1;32mif\u001b[0m \u001b[0mamt\u001b[0m \u001b[1;33m!=\u001b[0m \u001b[1;36m0\u001b[0m \u001b[1;32mand\u001b[0m \u001b[1;32mnot\u001b[0m \u001b[0mdata\u001b[0m\u001b[1;33m:\u001b[0m  \u001b[1;31m# Platform-specific: Buggy versions of Python.\u001b[0m\u001b[1;33m\u001b[0m\u001b[0m\n\u001b[0;32m    415\u001b[0m                     \u001b[1;31m# Close the connection when no data is returned\u001b[0m\u001b[1;33m\u001b[0m\u001b[1;33m\u001b[0m\u001b[0m\n",
      "\u001b[1;32m~\\Anaconda3\\lib\\http\\client.py\u001b[0m in \u001b[0;36mread\u001b[1;34m(self, amt)\u001b[0m\n\u001b[0;32m    447\u001b[0m             \u001b[1;31m# Amount is given, implement using readinto\u001b[0m\u001b[1;33m\u001b[0m\u001b[1;33m\u001b[0m\u001b[0m\n\u001b[0;32m    448\u001b[0m             \u001b[0mb\u001b[0m \u001b[1;33m=\u001b[0m \u001b[0mbytearray\u001b[0m\u001b[1;33m(\u001b[0m\u001b[0mamt\u001b[0m\u001b[1;33m)\u001b[0m\u001b[1;33m\u001b[0m\u001b[0m\n\u001b[1;32m--> 449\u001b[1;33m             \u001b[0mn\u001b[0m \u001b[1;33m=\u001b[0m \u001b[0mself\u001b[0m\u001b[1;33m.\u001b[0m\u001b[0mreadinto\u001b[0m\u001b[1;33m(\u001b[0m\u001b[0mb\u001b[0m\u001b[1;33m)\u001b[0m\u001b[1;33m\u001b[0m\u001b[0m\n\u001b[0m\u001b[0;32m    450\u001b[0m             \u001b[1;32mreturn\u001b[0m \u001b[0mmemoryview\u001b[0m\u001b[1;33m(\u001b[0m\u001b[0mb\u001b[0m\u001b[1;33m)\u001b[0m\u001b[1;33m[\u001b[0m\u001b[1;33m:\u001b[0m\u001b[0mn\u001b[0m\u001b[1;33m]\u001b[0m\u001b[1;33m.\u001b[0m\u001b[0mtobytes\u001b[0m\u001b[1;33m(\u001b[0m\u001b[1;33m)\u001b[0m\u001b[1;33m\u001b[0m\u001b[0m\n\u001b[0;32m    451\u001b[0m         \u001b[1;32melse\u001b[0m\u001b[1;33m:\u001b[0m\u001b[1;33m\u001b[0m\u001b[0m\n",
      "\u001b[1;32m~\\Anaconda3\\lib\\http\\client.py\u001b[0m in \u001b[0;36mreadinto\u001b[1;34m(self, b)\u001b[0m\n\u001b[0;32m    491\u001b[0m         \u001b[1;31m# connection, and the user is reading more bytes than will be provided\u001b[0m\u001b[1;33m\u001b[0m\u001b[1;33m\u001b[0m\u001b[0m\n\u001b[0;32m    492\u001b[0m         \u001b[1;31m# (for example, reading in 1k chunks)\u001b[0m\u001b[1;33m\u001b[0m\u001b[1;33m\u001b[0m\u001b[0m\n\u001b[1;32m--> 493\u001b[1;33m         \u001b[0mn\u001b[0m \u001b[1;33m=\u001b[0m \u001b[0mself\u001b[0m\u001b[1;33m.\u001b[0m\u001b[0mfp\u001b[0m\u001b[1;33m.\u001b[0m\u001b[0mreadinto\u001b[0m\u001b[1;33m(\u001b[0m\u001b[0mb\u001b[0m\u001b[1;33m)\u001b[0m\u001b[1;33m\u001b[0m\u001b[0m\n\u001b[0m\u001b[0;32m    494\u001b[0m         \u001b[1;32mif\u001b[0m \u001b[1;32mnot\u001b[0m \u001b[0mn\u001b[0m \u001b[1;32mand\u001b[0m \u001b[0mb\u001b[0m\u001b[1;33m:\u001b[0m\u001b[1;33m\u001b[0m\u001b[0m\n\u001b[0;32m    495\u001b[0m             \u001b[1;31m# Ideally, we would raise IncompleteRead if the content-length\u001b[0m\u001b[1;33m\u001b[0m\u001b[1;33m\u001b[0m\u001b[0m\n",
      "\u001b[1;32m~\\Anaconda3\\lib\\socket.py\u001b[0m in \u001b[0;36mreadinto\u001b[1;34m(self, b)\u001b[0m\n\u001b[0;32m    584\u001b[0m         \u001b[1;32mwhile\u001b[0m \u001b[1;32mTrue\u001b[0m\u001b[1;33m:\u001b[0m\u001b[1;33m\u001b[0m\u001b[0m\n\u001b[0;32m    585\u001b[0m             \u001b[1;32mtry\u001b[0m\u001b[1;33m:\u001b[0m\u001b[1;33m\u001b[0m\u001b[0m\n\u001b[1;32m--> 586\u001b[1;33m                 \u001b[1;32mreturn\u001b[0m \u001b[0mself\u001b[0m\u001b[1;33m.\u001b[0m\u001b[0m_sock\u001b[0m\u001b[1;33m.\u001b[0m\u001b[0mrecv_into\u001b[0m\u001b[1;33m(\u001b[0m\u001b[0mb\u001b[0m\u001b[1;33m)\u001b[0m\u001b[1;33m\u001b[0m\u001b[0m\n\u001b[0m\u001b[0;32m    587\u001b[0m             \u001b[1;32mexcept\u001b[0m \u001b[0mtimeout\u001b[0m\u001b[1;33m:\u001b[0m\u001b[1;33m\u001b[0m\u001b[0m\n\u001b[0;32m    588\u001b[0m                 \u001b[0mself\u001b[0m\u001b[1;33m.\u001b[0m\u001b[0m_timeout_occurred\u001b[0m \u001b[1;33m=\u001b[0m \u001b[1;32mTrue\u001b[0m\u001b[1;33m\u001b[0m\u001b[0m\n",
      "\u001b[1;32m~\\Anaconda3\\lib\\site-packages\\urllib3\\contrib\\pyopenssl.py\u001b[0m in \u001b[0;36mrecv_into\u001b[1;34m(self, *args, **kwargs)\u001b[0m\n\u001b[0;32m    283\u001b[0m     \u001b[1;32mdef\u001b[0m \u001b[0mrecv_into\u001b[0m\u001b[1;33m(\u001b[0m\u001b[0mself\u001b[0m\u001b[1;33m,\u001b[0m \u001b[1;33m*\u001b[0m\u001b[0margs\u001b[0m\u001b[1;33m,\u001b[0m \u001b[1;33m**\u001b[0m\u001b[0mkwargs\u001b[0m\u001b[1;33m)\u001b[0m\u001b[1;33m:\u001b[0m\u001b[1;33m\u001b[0m\u001b[0m\n\u001b[0;32m    284\u001b[0m         \u001b[1;32mtry\u001b[0m\u001b[1;33m:\u001b[0m\u001b[1;33m\u001b[0m\u001b[0m\n\u001b[1;32m--> 285\u001b[1;33m             \u001b[1;32mreturn\u001b[0m \u001b[0mself\u001b[0m\u001b[1;33m.\u001b[0m\u001b[0mconnection\u001b[0m\u001b[1;33m.\u001b[0m\u001b[0mrecv_into\u001b[0m\u001b[1;33m(\u001b[0m\u001b[1;33m*\u001b[0m\u001b[0margs\u001b[0m\u001b[1;33m,\u001b[0m \u001b[1;33m**\u001b[0m\u001b[0mkwargs\u001b[0m\u001b[1;33m)\u001b[0m\u001b[1;33m\u001b[0m\u001b[0m\n\u001b[0m\u001b[0;32m    286\u001b[0m         \u001b[1;32mexcept\u001b[0m \u001b[0mOpenSSL\u001b[0m\u001b[1;33m.\u001b[0m\u001b[0mSSL\u001b[0m\u001b[1;33m.\u001b[0m\u001b[0mSysCallError\u001b[0m \u001b[1;32mas\u001b[0m \u001b[0me\u001b[0m\u001b[1;33m:\u001b[0m\u001b[1;33m\u001b[0m\u001b[0m\n\u001b[0;32m    287\u001b[0m             \u001b[1;32mif\u001b[0m \u001b[0mself\u001b[0m\u001b[1;33m.\u001b[0m\u001b[0msuppress_ragged_eofs\u001b[0m \u001b[1;32mand\u001b[0m \u001b[0me\u001b[0m\u001b[1;33m.\u001b[0m\u001b[0margs\u001b[0m \u001b[1;33m==\u001b[0m \u001b[1;33m(\u001b[0m\u001b[1;33m-\u001b[0m\u001b[1;36m1\u001b[0m\u001b[1;33m,\u001b[0m \u001b[1;34m'Unexpected EOF'\u001b[0m\u001b[1;33m)\u001b[0m\u001b[1;33m:\u001b[0m\u001b[1;33m\u001b[0m\u001b[0m\n",
      "\u001b[1;32m~\\Anaconda3\\lib\\site-packages\\OpenSSL\\SSL.py\u001b[0m in \u001b[0;36mrecv_into\u001b[1;34m(self, buffer, nbytes, flags)\u001b[0m\n\u001b[0;32m   1811\u001b[0m             \u001b[0mresult\u001b[0m \u001b[1;33m=\u001b[0m \u001b[0m_lib\u001b[0m\u001b[1;33m.\u001b[0m\u001b[0mSSL_peek\u001b[0m\u001b[1;33m(\u001b[0m\u001b[0mself\u001b[0m\u001b[1;33m.\u001b[0m\u001b[0m_ssl\u001b[0m\u001b[1;33m,\u001b[0m \u001b[0mbuf\u001b[0m\u001b[1;33m,\u001b[0m \u001b[0mnbytes\u001b[0m\u001b[1;33m)\u001b[0m\u001b[1;33m\u001b[0m\u001b[0m\n\u001b[0;32m   1812\u001b[0m         \u001b[1;32melse\u001b[0m\u001b[1;33m:\u001b[0m\u001b[1;33m\u001b[0m\u001b[0m\n\u001b[1;32m-> 1813\u001b[1;33m             \u001b[0mresult\u001b[0m \u001b[1;33m=\u001b[0m \u001b[0m_lib\u001b[0m\u001b[1;33m.\u001b[0m\u001b[0mSSL_read\u001b[0m\u001b[1;33m(\u001b[0m\u001b[0mself\u001b[0m\u001b[1;33m.\u001b[0m\u001b[0m_ssl\u001b[0m\u001b[1;33m,\u001b[0m \u001b[0mbuf\u001b[0m\u001b[1;33m,\u001b[0m \u001b[0mnbytes\u001b[0m\u001b[1;33m)\u001b[0m\u001b[1;33m\u001b[0m\u001b[0m\n\u001b[0m\u001b[0;32m   1814\u001b[0m         \u001b[0mself\u001b[0m\u001b[1;33m.\u001b[0m\u001b[0m_raise_ssl_error\u001b[0m\u001b[1;33m(\u001b[0m\u001b[0mself\u001b[0m\u001b[1;33m.\u001b[0m\u001b[0m_ssl\u001b[0m\u001b[1;33m,\u001b[0m \u001b[0mresult\u001b[0m\u001b[1;33m)\u001b[0m\u001b[1;33m\u001b[0m\u001b[0m\n\u001b[0;32m   1815\u001b[0m \u001b[1;33m\u001b[0m\u001b[0m\n",
      "\u001b[1;31mKeyboardInterrupt\u001b[0m: "
     ]
    }
   ],
   "source": [
    "html = getDownload(\"https://arxiv.org/pdf/1708.02709.pdf\")\n",
    "with open(\"1708.02709.pdf\", \"wb\") as fp:\n",
    "    fp.write(html.content)"
   ]
  },
  {
   "cell_type": "code",
   "execution_count": null,
   "metadata": {},
   "outputs": [],
   "source": []
  }
 ],
 "metadata": {
  "kernelspec": {
   "display_name": "Python 3",
   "language": "python",
   "name": "python3"
  },
  "language_info": {
   "codemirror_mode": {
    "name": "ipython",
    "version": 3
   },
   "file_extension": ".py",
   "mimetype": "text/x-python",
   "name": "python",
   "nbconvert_exporter": "python",
   "pygments_lexer": "ipython3",
   "version": "3.6.6"
  }
 },
 "nbformat": 4,
 "nbformat_minor": 2
}
