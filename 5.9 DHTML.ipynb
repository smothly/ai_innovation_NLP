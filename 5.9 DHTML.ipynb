{
 "cells": [
  {
   "cell_type": "markdown",
   "metadata": {},
   "source": [
    "# 5.9 수업 : 동적 HTML 페이지 받기\n",
    "### 셀레니움 활용해서 할 것 - form 태그 이용해서"
   ]
  },
  {
   "cell_type": "code",
   "execution_count": 1,
   "metadata": {},
   "outputs": [],
   "source": [
    "from urllib import parse\n",
    "\n",
    "header = {'user-agent':'Mozilla/5.0 (Windows NT 10.0; Win64; x64) AppleWebKit/537.36 (KHTML, like Gecko) Chrome/73.0.3683.103 Safari/537.36'}\n",
    "# Mozilla/5.0 (Windows NT 10.0; Win64; x64) AppleWebKit/537.36 (KHTML, like Gecko) Chrome/74.0.3729.131 Safari/537.36\n",
    "def getDownload(url, params={}, retries=3):\n",
    "    resp = None\n",
    "    \n",
    "    try:\n",
    "        resp = requests.get(url, params=params, headers=header)\n",
    "        resp.raise_for_status()\n",
    "    except requests.exceptions.HTTPError as e:\n",
    "        if 500 <= e.response.status_code < 600 and retries > 0:\n",
    "            print(retries)\n",
    "            resp = getDownload(url, params, retries-1)\n",
    "        else:\n",
    "            print(e.response.status_code)\n",
    "            print(e.response.reason)\n",
    "            print(e.response.headers)\n",
    "            \n",
    "    return resp"
   ]
  },
  {
   "cell_type": "code",
   "execution_count": 2,
   "metadata": {},
   "outputs": [],
   "source": [
    "import requests\n",
    "from bs4 import BeautifulSoup"
   ]
  },
  {
   "cell_type": "markdown",
   "metadata": {},
   "source": [
    "## url을 그냥 가져오는게 아니라 네트워크 확인해서 ajax를 가져와야함"
   ]
  },
  {
   "cell_type": "code",
   "execution_count": 3,
   "metadata": {},
   "outputs": [],
   "source": [
    "url = \"http://example.webscraping.com/places/default/search\"\n",
    "url = \"http://example.webscraping.com/places/ajax/search.json\"\n",
    "params = {\n",
    "    \"search_term\":\"\",\n",
    "    \"page_size\":10,\n",
    "    \"page\":0\n",
    "}\n",
    "\n",
    "params[\"search_term\"] = \"korea\"\n",
    "\n",
    "html = getDownload(url, params)\n",
    "# dom = BeautifulSoup(html.content, \"lxml\")"
   ]
  },
  {
   "cell_type": "code",
   "execution_count": 4,
   "metadata": {},
   "outputs": [
    {
     "data": {
      "text/plain": [
       "'application/json'"
      ]
     },
     "execution_count": 4,
     "metadata": {},
     "output_type": "execute_result"
    }
   ],
   "source": [
    "html.headers[\"Content-Type\"]"
   ]
  },
  {
   "cell_type": "markdown",
   "metadata": {},
   "source": [
    "### json parsing 해야함"
   ]
  },
  {
   "cell_type": "markdown",
   "metadata": {},
   "source": [
    "### DOM 활용해서 가져오기"
   ]
  },
  {
   "cell_type": "code",
   "execution_count": 5,
   "metadata": {},
   "outputs": [
    {
     "name": "stdout",
     "output_type": "stream",
     "text": [
      "<div><a href=\"/places/default/view/North-Korea-165\"><img src=\"/places/static/images/flags/kp.png\" /> North Korea</a></div>\n",
      "['/places/default/view/North-Korea-165']\n",
      "<div><a href=\"/places/default/view/South-Korea-211\"><img src=\"/places/static/images/flags/kr.png\" /> South Korea</a></div>\n",
      "['/places/default/view/South-Korea-211']\n"
     ]
    }
   ],
   "source": [
    "for _ in html.json()[\"records\"]:\n",
    "    print(_[\"pretty_link\"])\n",
    "    dom = BeautifulSoup(_[\"pretty_link\"], \"lxml\")\n",
    "    print([_[\"href\"] for _ in dom.find_all(\"a\")])\n",
    "#     break"
   ]
  },
  {
   "cell_type": "markdown",
   "metadata": {},
   "source": [
    "### 정규식 사용하여 가져오기"
   ]
  },
  {
   "cell_type": "code",
   "execution_count": 6,
   "metadata": {},
   "outputs": [
    {
     "name": "stdout",
     "output_type": "stream",
     "text": [
      "[('/places/default/view/North-Korea-165', '/places/static/images/flags/kp.png', 'North Korea')]\n"
     ]
    },
    {
     "data": {
      "text/plain": [
       "('http://example.webscraping.com/places/default/view/North-Korea-165',\n",
       " 'http://example.webscraping.com/places/static/images/flags/kp.png',\n",
       " 'North Korea')"
      ]
     },
     "execution_count": 6,
     "metadata": {},
     "output_type": "execute_result"
    }
   ],
   "source": [
    "import re\n",
    "\n",
    "text = html.json()[\"records\"][0][\"pretty_link\"]\n",
    "group1 = re.findall(\"<a href=\\\"(.+)\\\">(.+)</a>\", text)\n",
    "group2 = re.findall(\"<a href=\\\"(.+)\\\"><img src=\\\"(.+)\\\" /> (.+)</a>\", text)\n",
    "\n",
    "print(group2)\n",
    "requests.compat.urljoin(url, group2[0][0]), \\\n",
    "img_url = requests.compat.urljoin(url, group2[0][1]), group2[0][2]"
   ]
  },
  {
   "cell_type": "markdown",
   "metadata": {},
   "source": [
    "### 로그인 : NAVER\n",
    "### (JS)암호화 -> 토큰(AUTH) -> 암호화 -> SSO -> Session 다 따라가야함\n",
    "### 그래서 셀레니움을 활용할 것임\n",
    "### 1. 브라우저를 자동화 원래는 테스트 목적\n",
    "### 2. js를 돌림\n",
    "### 3. DOM을 받고 활용 가능"
   ]
  },
  {
   "cell_type": "code",
   "execution_count": 19,
   "metadata": {},
   "outputs": [],
   "source": [
    "from selenium import webdriver"
   ]
  },
  {
   "cell_type": "code",
   "execution_count": 59,
   "metadata": {},
   "outputs": [],
   "source": [
    "browser = webdriver.Chrome()\n",
    "# chrome driver 다운해야 함"
   ]
  },
  {
   "cell_type": "code",
   "execution_count": 21,
   "metadata": {},
   "outputs": [],
   "source": [
    "url = \"http://example.webscraping.com/places/default/search\"\n",
    "browser.get(url)"
   ]
  },
  {
   "cell_type": "markdown",
   "metadata": {},
   "source": [
    "## DOM에 반영시키기"
   ]
  },
  {
   "cell_type": "code",
   "execution_count": 30,
   "metadata": {},
   "outputs": [],
   "source": [
    "# browser.find_element_by_id(\"search_term\").send_keys(\"fr\")\n",
    "browser.find_element_by_css_selector(\"#search_term\").clear()"
   ]
  },
  {
   "cell_type": "markdown",
   "metadata": {},
   "source": [
    "### xpath 활용법\n",
    "/ -> 자식<br>\n",
    "// -> 자손<br>\n",
    ". -> 현재 위치<br>\n",
    "[속성] => [@키 = 밸류]<br>"
   ]
  },
  {
   "cell_type": "code",
   "execution_count": 31,
   "metadata": {},
   "outputs": [],
   "source": [
    "browser.find_element_by_xpath(\"//input[@id='search_term']\").send_keys(\"korea\")\n",
    "browser.find_element_by_id(\"search\").click()"
   ]
  },
  {
   "cell_type": "code",
   "execution_count": 34,
   "metadata": {},
   "outputs": [
    {
     "name": "stdout",
     "output_type": "stream",
     "text": [
      "a\n",
      "North Korea\n",
      "http://example.webscraping.com/places/default/view/North-Korea-165\n",
      "a\n",
      "South Korea\n",
      "http://example.webscraping.com/places/default/view/South-Korea-211\n"
     ]
    }
   ],
   "source": [
    "for _ in browser.find_elements_by_xpath(\"//div[@id='results']//a\"):\n",
    "    print(_.tag_name)\n",
    "    print(_.text)\n",
    "    print(_.get_attribute(\"href\"))"
   ]
  },
  {
   "cell_type": "markdown",
   "metadata": {},
   "source": [
    "### DOM으로도 가능 - 이게 더 편할 것임"
   ]
  },
  {
   "cell_type": "code",
   "execution_count": 40,
   "metadata": {},
   "outputs": [],
   "source": [
    "dom = BeautifulSoup(browser.page_source, \"lxml\")"
   ]
  },
  {
   "cell_type": "code",
   "execution_count": 41,
   "metadata": {},
   "outputs": [
    {
     "name": "stdout",
     "output_type": "stream",
     "text": [
      "North Korea\n",
      "/places/default/view/North-Korea-165\n",
      "South Korea\n",
      "/places/default/view/South-Korea-211\n"
     ]
    }
   ],
   "source": [
    "for _ in dom.select(\"#results a\"):\n",
    "    print(_.text.strip())\n",
    "    print(_[\"href\"])"
   ]
  },
  {
   "cell_type": "markdown",
   "metadata": {},
   "source": [
    "# NAVER 로그인\n",
    "## json 파일 만들기"
   ]
  },
  {
   "cell_type": "code",
   "execution_count": 52,
   "metadata": {},
   "outputs": [
    {
     "name": "stdout",
     "output_type": "stream",
     "text": [
      "Overwriting account.json\n"
     ]
    }
   ],
   "source": [
    "%%writefile account.json\n",
    "{\n",
    "    \"id\":\"본인아이디\",\n",
    "    \"pw\":\"본인pw\"\n",
    "}"
   ]
  },
  {
   "cell_type": "code",
   "execution_count": 53,
   "metadata": {},
   "outputs": [],
   "source": [
    "import json \n",
    "\n",
    "with open(\"./account.json\", \"r\", encoding=\"utf-8\") as fp:\n",
    "    account = json.load(fp)"
   ]
  },
  {
   "cell_type": "code",
   "execution_count": 54,
   "metadata": {},
   "outputs": [
    {
     "data": {
      "text/plain": [
       "'seungho546'"
      ]
     },
     "execution_count": 54,
     "metadata": {},
     "output_type": "execute_result"
    }
   ],
   "source": [
    "account[\"id\"]"
   ]
  },
  {
   "cell_type": "code",
   "execution_count": 65,
   "metadata": {},
   "outputs": [],
   "source": [
    "browser = webdriver.Chrome()\n",
    "url = \"https://nid.naver.com/nidlogin.login?url=http%3A%2F%2Fmail.naver.com%2F\"\n",
    "browser.get(url)"
   ]
  },
  {
   "cell_type": "code",
   "execution_count": 66,
   "metadata": {},
   "outputs": [],
   "source": [
    "browser.find_element_by_xpath(\"//input[@id='id']\").clear()\n",
    "browser.find_element_by_name(\"id\").send_keys(account[\"id\"])\n",
    "browser.find_element_by_id(\"pw\").clear()\n",
    "browser.find_element_by_css_selector(\"#pw\").send_keys(account[\"pw\"])"
   ]
  },
  {
   "cell_type": "code",
   "execution_count": 63,
   "metadata": {},
   "outputs": [],
   "source": [
    "browser.find_element_by_css_selector(\"input.btn_global\").click()"
   ]
  },
  {
   "cell_type": "code",
   "execution_count": 64,
   "metadata": {},
   "outputs": [],
   "source": [
    "browser.close()"
   ]
  },
  {
   "cell_type": "markdown",
   "metadata": {},
   "source": [
    "### 보안설정 확인하고 해야함 일단 로그인 된다는 전제하에 시작"
   ]
  },
  {
   "cell_type": "code",
   "execution_count": 72,
   "metadata": {},
   "outputs": [
    {
     "name": "stdout",
     "output_type": "stream",
     "text": [
      "[네이버페이]주문하신 상품이 발송되었습니다\n",
      "인터파크에서 구매하신 상품의 리뷰를 작성해주세요.\n",
      "인터파크 판매자가 상품을 발송완료 처리를 하였습니다.\n",
      "[AI Center] 비밀번호 초기화\n",
      "(한국데이터산업진흥원)_SQL, 데이터분석 자격취득자 채용우대 안내\n",
      "인터파크에서 주문하신 내역입니다.\n",
      "매일프로그래밍 - 코딩테스트 문제 11\n",
      "[분석완료] 최승호님 활동으로 시몬스 채용 공고가 매칭되었습니다.\n",
      "성곡도서관 IEEE Authorship Seminar에 많은 참석 바랍니다.\n",
      "[인터파크]주문하신 상품의 구매확정이 완료되었습니다\n",
      "[인공지능 및 기계학습 개론Ⅰ] KOOC 인공지능 및 기계학습 개론 1 학습자 여러분께.\n",
      "AWS 계정이 확인됨\n",
      "매일프로그래밍 - 코딩테스트 문제 10\n",
      "[카카오] 코딩 테스트 완료 안내\n",
      "[카카오] 2019 하계 추천 시스템 연구 / 개발 인턴 모집 - 1차 코딩테스트 결과 안내\n",
      "[네이버페이]구매하신 제품을 무사히 받으셨다면, 구매를 확정 부탁드립니다.\n",
      "[한국IT비즈니스진흥협회]AI이노베이션스퀘어 추가합격자 선정안내\n",
      "[국제교류팀] 2019학년도 하계 어학연수 프로그램 안내\n",
      "[카카오/추천팀] 2019년 하계 인턴 지원자 대상 설문\n",
      "(광고)프로그래머스 개편 안내\n",
      "Thanks for taking the [카카오/추천팀] 코딩테스트 warm-up - v2\n",
      "[카카오] 추천 시스템 연구/개발 인턴 공고의 \"코딩테스트 상세 시간\" 안내드립니다. (1차 코딩 테스트 접근 가능 시간 : 4.27(토) 13:00 ~ 13:10)\n",
      "[카카오] 추천 시스템 연구/개발 인턴 공고의 \"코딩테스트 상세 시간\" 안내드립니다. (1차 코딩 테스트 접근 가능 시간 : 4.27(토) 13:00 ~ 13:10)\n",
      "[카카오] 코딩 테스트 안내\n",
      "[카카오] 서류전형 합격을 축하합니다!\n",
      "(광고) 독점공개! 😀 카카오의 블록체인 프로젝트, Klaytn 튜토리얼\n",
      "인터파크 판매자가 상품을 발송완료 처리를 하였습니다.\n",
      "[네이버페이]주문하신 상품이 발송되었습니다\n",
      "2019학년도 하계 해외봉사 프로그램 (글로벌 Civic Literacy) 단원 모집\n",
      "[분석완료] 최승호님 활동으로 ㈜라인플러스 채용 공고가 매칭되었습니다.\n"
     ]
    }
   ],
   "source": [
    "for _ in browser.find_elements_by_css_selector(\"strong.mail_title\"):\n",
    "    print(_.text)"
   ]
  },
  {
   "cell_type": "code",
   "execution_count": 73,
   "metadata": {},
   "outputs": [],
   "source": [
    "dom = BeautifulSoup(browser.page_source, \"lxml\")"
   ]
  },
  {
   "cell_type": "code",
   "execution_count": 77,
   "metadata": {},
   "outputs": [
    {
     "name": "stdout",
     "output_type": "stream",
     "text": [
      "메일 제목:[네이버페이]주문하신 상품이 발송되었습니다\n",
      "메일 제목:인터파크에서 구매하신 상품의 리뷰를 작성해주세요.\n",
      "메일 제목:인터파크 판매자가 상품을 발송완료 처리를 하였습니다.\n",
      "메일 제목:[AI Center] 비밀번호 초기화\n",
      "메일 제목:(한국데이터산업진흥원)_SQL, 데이터분석 자격취득자 채용우대 안내\n",
      "메일 제목:인터파크에서 주문하신 내역입니다.\n",
      "메일 제목:매일프로그래밍 - 코딩테스트 문제 11\n",
      "메일 제목:[분석완료] 최승호님 활동으로 시몬스 채용 공고가 매칭되었습니다.\n",
      "메일 제목:성곡도서관 IEEE Authorship Seminar에 많은 참석 바랍니다.\n",
      "메일 제목:[인터파크]주문하신 상품의 구매확정이 완료되었습니다\n",
      "메일 제목:[인공지능 및 기계학습 개론Ⅰ] KOOC 인공지능 및 기계학습 개론 1 학습자 여러분께.\n",
      "메일 제목:AWS 계정이 확인됨\n",
      "메일 제목:매일프로그래밍 - 코딩테스트 문제 10\n",
      "메일 제목:[카카오] 코딩 테스트 완료 안내\n",
      "메일 제목:[카카오] 2019 하계 추천 시스템 연구 / 개발 인턴 모집 - 1차 코딩테스트 결과 안내\n",
      "메일 제목:[네이버페이]구매하신 제품을 무사히 받으셨다면, 구매를 확정 부탁드립니다.\n",
      "메일 제목:[한국IT비즈니스진흥협회]AI이노베이션스퀘어 추가합격자 선정안내\n",
      "메일 제목:[국제교류팀] 2019학년도 하계 어학연수 프로그램 안내\n",
      "메일 제목:[카카오/추천팀] 2019년 하계 인턴 지원자 대상 설문\n",
      "메일 제목:(광고)프로그래머스 개편 안내\n",
      "메일 제목:Thanks for taking the [카카오/추천팀] 코딩테스트 warm-up - v2\n",
      "메일 제목:[카카오] 추천 시스템 연구/개발 인턴 공고의  \"코딩테스트 상세 시간\" 안내드립니다. (1차 코딩 테스트 접근 가능 시간 : 4.27(토) 13:00 ~ 13:10)\n",
      "메일 제목:[카카오] 추천 시스템 연구/개발 인턴 공고의  \"코딩테스트 상세 시간\" 안내드립니다. (1차 코딩 테스트 접근 가능 시간 : 4.27(토) 13:00 ~ 13:10)\n",
      "메일 제목:[카카오] 코딩 테스트 안내\n",
      "메일 제목:[카카오] 서류전형 합격을 축하합니다!\n",
      "메일 제목:(광고) 독점공개! 😀 카카오의 블록체인 프로젝트, Klaytn 튜토리얼\n",
      "메일 제목:인터파크 판매자가 상품을 발송완료 처리를 하였습니다.\n",
      "메일 제목:[네이버페이]주문하신 상품이 발송되었습니다\n",
      "메일 제목:2019학년도 하계 해외봉사 프로그램 (글로벌 Civic Literacy) 단원 모집\n",
      "메일 제목:[분석완료] 최승호님 활동으로 ㈜라인플러스 채용 공고가 매칭되었습니다.\n"
     ]
    }
   ],
   "source": [
    "for _ in dom.select(\"strong.mail_title\"):\n",
    "    print(_.text)"
   ]
  },
  {
   "cell_type": "markdown",
   "metadata": {},
   "source": [
    "# 스팸메일함 메일 제목 긁어오기"
   ]
  },
  {
   "cell_type": "code",
   "execution_count": 80,
   "metadata": {},
   "outputs": [],
   "source": [
    "# 스팸메일함 이동\n",
    "browser.find_element_by_id(\"5_fol\").click()"
   ]
  },
  {
   "cell_type": "code",
   "execution_count": 82,
   "metadata": {},
   "outputs": [
    {
     "name": "stdout",
     "output_type": "stream",
     "text": [
      "(광고) 창업을 생각중이라면 추천하고 싶은 다양한 창업아이템 무료창업설명회 일정을 안내드립니다.\n",
      "(광고) [멸치쇼핑] 온라인 쇼핑은 멸치쇼핑에서 빠르고 쉽게~!\n",
      "(광고) [멸치쇼핑] 온라인 쇼핑은 멸치쇼핑에서 빠르고 쉽게~!\n",
      "[무료창업설명회]창업아이템으로 이런 건 어떠세요?\n",
      "(광고) [멸치쇼핑] 온라인 쇼핑은 멸치쇼핑에서 빠르고 쉽게~!\n"
     ]
    }
   ],
   "source": [
    "for _ in browser.find_elements_by_css_selector(\"strong.mail_title\"):\n",
    "    print(_.text)"
   ]
  },
  {
   "cell_type": "markdown",
   "metadata": {},
   "source": [
    "# browser -> download 함수 이용해서 만들기"
   ]
  },
  {
   "cell_type": "code",
   "execution_count": null,
   "metadata": {},
   "outputs": [],
   "source": [
    "browser.get(\"https://mail.naver.com/\")\n",
    "browser.page_source"
   ]
  },
  {
   "cell_type": "code",
   "execution_count": 89,
   "metadata": {},
   "outputs": [],
   "source": [
    "html = getDownload(\"https://mail.naver.com/\")\n",
    "# html.text\n"
   ]
  },
  {
   "cell_type": "markdown",
   "metadata": {},
   "source": [
    "# 로그인 하라고 나올 것임 그래서 쿠키 값을 활용하여 가져와 볼 것임"
   ]
  },
  {
   "cell_type": "code",
   "execution_count": 98,
   "metadata": {},
   "outputs": [],
   "source": [
    "from requests import Session\n",
    "\n",
    "session = Session()"
   ]
  },
  {
   "cell_type": "code",
   "execution_count": 101,
   "metadata": {},
   "outputs": [
    {
     "name": "stdout",
     "output_type": "stream",
     "text": [
      "NID_JKL f5Kuuv2MF9bRP7XEcQS8uDEEEnGGR+mir/erimX8ets=\n",
      "NNB QLMQMH6SCLKFY\n",
      "NMUSER udblKqEwaqbsFAvmFxEXbrk9W4+cWqEdFonwFxEXFAgZKqMdaqEwKogsKAnsadEsHoKma9vsxonOaxRVadUstoRVaqRVadMsarRTBdRLa9vstonsH405pzk/7xE5W4d5W4JrpBU5MreR7A2lKAgs16lvpB2RFL9qp6FTW43CbNv5W4d5W4JrpBU5MreR7A2lKAgs\n",
      "nid_inf 1745108946\n",
      "NID_AUT 6UNNMY+A8PZ2JV4lzl6DVZLro+WFEuv664UD01iZVrhejG9n6Pp6huw3ofnr44UT\n",
      "NID_SES AAABi1vn2zVuW4QaCK/StOeVHhxCP0m0FoeY1T3IXr1G6faCO2CJqeTZ78SXXidjHultznNZeT2dTkuR1kKanB/Jvxi2eA/JgDmSByvUYYFsJHjAKzzkEslsK6uFFAOLHlLw5qGcb5dkAndGAe+Oh8EM4Qa0gQf4GpFUe+vVU3HY9uz2UzM0+MY7IiWD8+uQu/stIwxenYoYPJZ2BdflbYoNA30vAqDlsgxg6aXL8MNvpMAT56twjwJCNfg7Or1s0cokQ4fOmRcjwZDJOIO5oPB/oCQ1IYgSjxIjfAju66rBeYZLY23vMiJfzTR8SPgnjtk5UfwBe9OB6S9J9DZlaU8HCKWMadrHbXjgMtoWdIIaUcs/hEr3KbHPPUnSI4rqlTy0kbpNGFxaFB1PQKqrrblTC2IhVRHOop5ufZMMMjfmrRSsYr9wdOptyzUCXne2iokGHMZ4BPUYn3GbiseAhmMDjELGscRyY0Jd2utSuRtdY/Kxx20dTIc25hl93nAB4nTcwnKYu+REk9Jq8J3uWsYBE7Y=\n"
     ]
    }
   ],
   "source": [
    "for cookie in browser.get_cookies():\n",
    "    print(cookie[\"name\"], cookie[\"value\"])\n",
    "    session.cookies.set(cookie[\"name\"], cookie[\"value\"])"
   ]
  },
  {
   "cell_type": "code",
   "execution_count": null,
   "metadata": {},
   "outputs": [],
   "source": [
    "html = session.post(\"https://mail.naver.com/#%7B%22fClass%22%3A%22list%22%2C%22oParameter%22%3A%7B%22page%22%3A1%2C%22sortField%22%3A1%2C%22sortType%22%3A0%2C%22folderSN%22%3A%22-1%22%2C%22type%22%3A%22all%22%2C%22isUnread%22%3Afalse%7D%7D\")\n",
    "# html.text"
   ]
  },
  {
   "cell_type": "code",
   "execution_count": 83,
   "metadata": {},
   "outputs": [
    {
     "data": {
      "text/plain": [
       "[{'domain': '.naver.com',\n",
       "  'httpOnly': False,\n",
       "  'name': 'NID_JKL',\n",
       "  'path': '/',\n",
       "  'secure': True,\n",
       "  'value': 'f5Kuuv2MF9bRP7XEcQS8uDEEEnGGR+mir/erimX8ets='},\n",
       " {'domain': '.naver.com',\n",
       "  'expiry': 2524640400.283537,\n",
       "  'httpOnly': False,\n",
       "  'name': 'NNB',\n",
       "  'path': '/',\n",
       "  'secure': False,\n",
       "  'value': 'QLMQMH6SCLKFY'},\n",
       " {'domain': 'mail.naver.com',\n",
       "  'httpOnly': False,\n",
       "  'name': 'NMUSER',\n",
       "  'path': '/',\n",
       "  'secure': False,\n",
       "  'value': 'udblKqEwaqbsFAvmFxEXbrk9W4+cWqEdFonwFxEXFAgZKqMdaqEwKogsKAnsadEsHoKma9vsxonOaxRVadUstoRVaqRVadMsarRTBdRLa9vstonsH405pzk/7xE5W4d5W4JrpBU5MreR7A2lKAgs16lvpB2RFL9qp6FTW43CbNv5W4d5W4JrpBU5MreR7A2lKAgs'},\n",
       " {'domain': '.naver.com',\n",
       "  'httpOnly': False,\n",
       "  'name': 'nid_inf',\n",
       "  'path': '/',\n",
       "  'secure': False,\n",
       "  'value': '1745108946'},\n",
       " {'domain': '.naver.com',\n",
       "  'httpOnly': True,\n",
       "  'name': 'NID_AUT',\n",
       "  'path': '/',\n",
       "  'secure': False,\n",
       "  'value': '6UNNMY+A8PZ2JV4lzl6DVZLro+WFEuv664UD01iZVrhejG9n6Pp6huw3ofnr44UT'},\n",
       " {'domain': '.naver.com',\n",
       "  'httpOnly': False,\n",
       "  'name': 'NID_SES',\n",
       "  'path': '/',\n",
       "  'secure': False,\n",
       "  'value': 'AAABkNN7GU/Don3ylDGrW4DgzNJ9kZ8A2GQDiWxNRyckvlrURcAlbRpBd4jWSyeF5cir8wNLj3f/NgEIbGmgZRg4zitTlOFJkyeIT6mUvooU9IKLVNjCO60p1Nee9jT7yytuZW+tSOG7u2TeZya64Ut/GDB3g+3biuIG5+8mThkAvSNa8zUWVlHvSLc6DoKndXPCO+sLlk0np2d0YKXWiPPaejoL4DFF5zc4f+dlXmyQ3teW+7K7RZFrwsc8XQoCL/jNRh/jIcWHDrt6XEjH0kywk2zKruCM6l6/thl8k4JGX9sS842Fu3nA5o5h2yhcEmjTOtdCZCkZiBT+ywDrVD1Joc9weqvtKmtuIRYEWZeTHN86J4VEm9E6RW0IHca70QTo9wgeLh1RAUmMTm2qqcqBU8oIUtUSiCXEl+U2ap8kuOjY87L5P5/eMZ0LTgW7VixHpe+QSq9+55yfcROcEXUvXttvMxd3RKiY8ZPW2JcErmZ/a47yELWP1di0PyK0mVgU52JheltDn8TCek5GqgoZMtQ='}]"
      ]
     },
     "execution_count": 83,
     "metadata": {},
     "output_type": "execute_result"
    }
   ],
   "source": [
    "browser.get_cookies()"
   ]
  },
  {
   "cell_type": "markdown",
   "metadata": {},
   "source": [
    "# 다음 로그인\n",
    "### 다음같은경우는 바로 로그인이 안됨\n",
    "### iframe으로 박아놈 iframe을 접근해서 로그인 해야함"
   ]
  },
  {
   "cell_type": "code",
   "execution_count": 118,
   "metadata": {},
   "outputs": [],
   "source": [
    "url = \"https://www.daum.net/\"\n",
    "browser.get(url)\n",
    "iframe = browser.find_element_by_css_selector('#loginForm')"
   ]
  },
  {
   "cell_type": "markdown",
   "metadata": {},
   "source": [
    "### dom 변경"
   ]
  },
  {
   "cell_type": "code",
   "execution_count": 125,
   "metadata": {},
   "outputs": [
    {
     "name": "stderr",
     "output_type": "stream",
     "text": [
      "C:\\Users\\USER\\Anaconda3\\lib\\site-packages\\ipykernel_launcher.py:1: DeprecationWarning: use driver.switch_to.frame instead\n",
      "  \"\"\"Entry point for launching an IPython kernel.\n"
     ]
    }
   ],
   "source": [
    "browser.switch_to_frame(iframe)"
   ]
  },
  {
   "cell_type": "code",
   "execution_count": 122,
   "metadata": {},
   "outputs": [
    {
     "data": {
      "text/plain": [
       "<selenium.webdriver.remote.webelement.WebElement (session=\"ad0d3774bd1f85a1899427c7887bcd79\", element=\"0.4990175647646904-1\")>"
      ]
     },
     "execution_count": 122,
     "metadata": {},
     "output_type": "execute_result"
    }
   ],
   "source": [
    "browser.find_element_by_id(\"id\").send"
   ]
  },
  {
   "cell_type": "code",
   "execution_count": 123,
   "metadata": {},
   "outputs": [],
   "source": [
    "browser.find_element_by_id(\"id\")\n",
    "browser.find_element_by_id(\"id\").send_keys(\"cjsfldks1109\")\n",
    "browser.find_element_by_id(\"inputPwd\").clear()\n",
    "browser.find_element_by_id(\"inputPwd\").send_keys(\"seung32ho^^\")"
   ]
  },
  {
   "cell_type": "code",
   "execution_count": 126,
   "metadata": {},
   "outputs": [],
   "source": [
    "browser.find_element_by_id(\"loginSubmit\").click()"
   ]
  },
  {
   "cell_type": "markdown",
   "metadata": {},
   "source": [
    "### 원래 DOM으로 돌아오기"
   ]
  },
  {
   "cell_type": "code",
   "execution_count": 124,
   "metadata": {},
   "outputs": [
    {
     "name": "stderr",
     "output_type": "stream",
     "text": [
      "C:\\Users\\USER\\Anaconda3\\lib\\site-packages\\ipykernel_launcher.py:1: DeprecationWarning: use driver.switch_to.default_content instead\n",
      "  \"\"\"Entry point for launching an IPython kernel.\n"
     ]
    }
   ],
   "source": [
    "browser.switch_to_default_content()"
   ]
  },
  {
   "cell_type": "markdown",
   "metadata": {},
   "source": [
    "# KT 로그인 - 새창 뜨는 것"
   ]
  },
  {
   "cell_type": "code",
   "execution_count": 139,
   "metadata": {},
   "outputs": [],
   "source": [
    "url = \"https://www.kt.com/\"\n",
    "browser.get(url)"
   ]
  },
  {
   "cell_type": "code",
   "execution_count": 144,
   "metadata": {},
   "outputs": [],
   "source": [
    "browser.find_element_by_xpath(\"//*[@id='cfmClFloating']/div/div/div[2]/span[1]/a[1]\").click()"
   ]
  },
  {
   "cell_type": "markdown",
   "metadata": {},
   "source": [
    "### 새창으로 switch 시키기"
   ]
  },
  {
   "cell_type": "code",
   "execution_count": 146,
   "metadata": {},
   "outputs": [
    {
     "name": "stderr",
     "output_type": "stream",
     "text": [
      "C:\\Users\\USER\\Anaconda3\\lib\\site-packages\\ipykernel_launcher.py:1: DeprecationWarning: use driver.switch_to.window instead\n",
      "  \"\"\"Entry point for launching an IPython kernel.\n"
     ]
    }
   ],
   "source": [
    "browser.switch_to_window(browser.window_handles[-1])"
   ]
  },
  {
   "cell_type": "markdown",
   "metadata": {},
   "source": [
    "### 원래대로 돌아가기"
   ]
  },
  {
   "cell_type": "code",
   "execution_count": 147,
   "metadata": {},
   "outputs": [
    {
     "name": "stderr",
     "output_type": "stream",
     "text": [
      "C:\\Users\\USER\\Anaconda3\\lib\\site-packages\\ipykernel_launcher.py:1: DeprecationWarning: use driver.switch_to.window instead\n",
      "  \"\"\"Entry point for launching an IPython kernel.\n"
     ]
    }
   ],
   "source": [
    "browser.switch_to_window(browser.window_handles[0])"
   ]
  },
  {
   "cell_type": "markdown",
   "metadata": {},
   "source": [
    "# 합치기\n",
    "### 한꺼번에 하면 안됨\n",
    "### why? 요청을 기다리지 않기 때문에\n",
    "### ajax -> data요청(get) -> 브라우저가 받아서 -> DOM업데이트 -> 화면에 그림(렌더링)"
   ]
  },
  {
   "cell_type": "code",
   "execution_count": 165,
   "metadata": {},
   "outputs": [
    {
     "name": "stdout",
     "output_type": "stream",
     "text": [
      "Afghanistan\n",
      "http://example.webscraping.com/places/default/view/Afghanistan-1\n",
      "Aland Islands\n",
      "http://example.webscraping.com/places/default/view/Aland-Islands-2\n",
      "Albania\n",
      "http://example.webscraping.com/places/default/view/Albania-3\n",
      "Algeria\n",
      "http://example.webscraping.com/places/default/view/Algeria-4\n",
      "American Samoa\n",
      "http://example.webscraping.com/places/default/view/American-Samoa-5\n",
      "Andorra\n",
      "http://example.webscraping.com/places/default/view/Andorra-6\n",
      "Angola\n",
      "http://example.webscraping.com/places/default/view/Angola-7\n",
      "Anguilla\n",
      "http://example.webscraping.com/places/default/view/Anguilla-8\n",
      "Antarctica\n",
      "http://example.webscraping.com/places/default/view/Antarctica-9\n",
      "Antigua and Barbuda\n",
      "http://example.webscraping.com/places/default/view/Antigua-and-Barbuda-10\n"
     ]
    }
   ],
   "source": [
    "url = \"http://example.webscraping.com/places/default/search\"\n",
    "browser.get(url)\n",
    "\n",
    "browser.find_element_by_xpath(\"//input[@id='search_term']\").send_keys(\"a\")\n",
    "browser.find_element_by_id(\"search\").click()\n",
    "\n",
    "wait.until(lambda x:x.find_elements_by_xpath(\"//div[@id='results']//a\"))\n",
    "for _ in browser.find_elements_by_xpath(\"//div[@id='results']//a\"):\n",
    "#     print(_.tag_name)\n",
    "    print(_.text)\n",
    "    print(_.get_attribute(\"href\"))"
   ]
  },
  {
   "cell_type": "code",
   "execution_count": 150,
   "metadata": {},
   "outputs": [],
   "source": [
    "from selenium.common.exceptions import NoSuchElementException\n",
    "wait = webdriver.support.ui.WebDriverWait(browser, 10, 0.5, NoSuchElementException)"
   ]
  },
  {
   "cell_type": "markdown",
   "metadata": {},
   "source": [
    "## 정확히 몇초 기다리는 함수!"
   ]
  },
  {
   "cell_type": "code",
   "execution_count": 151,
   "metadata": {},
   "outputs": [],
   "source": [
    "browser.implicitly_wait(1)"
   ]
  },
  {
   "cell_type": "markdown",
   "metadata": {},
   "source": [
    "# 내일 할 프로젝트\n",
    "프로젝트 => 검색엔진(데이터), 문서분류, 스팸분류, 감성분석<br>\n",
    "for 검색엔진(데이터), 문서분류<br>\n",
    "다음 네이트 뉴스 <br>\n",
    "경로, 제목 ,요약<br>\n",
    "-> 파일경로, 기사제목, 내용<br>\n",
    "파일경로 -> 교유번호 + 카테고리(6)<br>\n",
    "\n",
    "정치-몇번째뉴스.txt 저장 ... 240개 문서<br>\n",
    "\n",
    "NLP 테크닉을 이용한 전처리를 위한 데이터 모으기 =? TOKENIZATION, MA, POS, NGRAM, BPE=> STEMMING, RE"
   ]
  },
  {
   "cell_type": "code",
   "execution_count": null,
   "metadata": {},
   "outputs": [],
   "source": []
  }
 ],
 "metadata": {
  "kernelspec": {
   "display_name": "Python 3",
   "language": "python",
   "name": "python3"
  },
  "language_info": {
   "codemirror_mode": {
    "name": "ipython",
    "version": 3
   },
   "file_extension": ".py",
   "mimetype": "text/x-python",
   "name": "python",
   "nbconvert_exporter": "python",
   "pygments_lexer": "ipython3",
   "version": "3.6.6"
  }
 },
 "nbformat": 4,
 "nbformat_minor": 2
}
