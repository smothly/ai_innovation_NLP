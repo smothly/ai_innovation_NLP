{
 "cells": [
  {
   "cell_type": "markdown",
   "metadata": {},
   "source": [
    "# 6.03 rf 데이터 1~4초 신호 / rf 데이터 7 ~ 10 초 신호 구분하기 실습!\n",
    "## 데이터를 vectorize 하는 연습!!"
   ]
  },
  {
   "cell_type": "code",
   "execution_count": 1,
   "metadata": {},
   "outputs": [],
   "source": [
    "import pandas as pd\n",
    "from matplotlib import pyplot as plt\n",
    "import numpy as np"
   ]
  },
  {
   "cell_type": "markdown",
   "metadata": {},
   "source": [
    "### 데이터 가져오기"
   ]
  },
  {
   "cell_type": "code",
   "execution_count": 2,
   "metadata": {},
   "outputs": [],
   "source": [
    "dataSet = pd.read_excel('./rf데이터.xlsx',header=None)"
   ]
  },
  {
   "cell_type": "code",
   "execution_count": 3,
   "metadata": {},
   "outputs": [],
   "source": [
    "dataSet.columns = ['1m','2m','3m','4m','5m','6m','7m','8m','9m','10m']"
   ]
  },
  {
   "cell_type": "code",
   "execution_count": 4,
   "metadata": {},
   "outputs": [
    {
     "name": "stdout",
     "output_type": "stream",
     "text": [
      "(1012, 10)\n"
     ]
    },
    {
     "data": {
      "text/html": [
       "<div>\n",
       "<style scoped>\n",
       "    .dataframe tbody tr th:only-of-type {\n",
       "        vertical-align: middle;\n",
       "    }\n",
       "\n",
       "    .dataframe tbody tr th {\n",
       "        vertical-align: top;\n",
       "    }\n",
       "\n",
       "    .dataframe thead th {\n",
       "        text-align: right;\n",
       "    }\n",
       "</style>\n",
       "<table border=\"1\" class=\"dataframe\">\n",
       "  <thead>\n",
       "    <tr style=\"text-align: right;\">\n",
       "      <th></th>\n",
       "      <th>1m</th>\n",
       "      <th>2m</th>\n",
       "      <th>3m</th>\n",
       "      <th>4m</th>\n",
       "      <th>5m</th>\n",
       "      <th>6m</th>\n",
       "      <th>7m</th>\n",
       "      <th>8m</th>\n",
       "      <th>9m</th>\n",
       "      <th>10m</th>\n",
       "    </tr>\n",
       "  </thead>\n",
       "  <tbody>\n",
       "    <tr>\n",
       "      <th>0</th>\n",
       "      <td>-80</td>\n",
       "      <td>-63.0</td>\n",
       "      <td>-78.0</td>\n",
       "      <td>-67.0</td>\n",
       "      <td>-72.0</td>\n",
       "      <td>-85.0</td>\n",
       "      <td>-81.0</td>\n",
       "      <td>-75.0</td>\n",
       "      <td>-83.0</td>\n",
       "      <td>-90.0</td>\n",
       "    </tr>\n",
       "    <tr>\n",
       "      <th>1</th>\n",
       "      <td>-72</td>\n",
       "      <td>-64.0</td>\n",
       "      <td>-80.0</td>\n",
       "      <td>-74.0</td>\n",
       "      <td>-67.0</td>\n",
       "      <td>-70.0</td>\n",
       "      <td>-95.0</td>\n",
       "      <td>-76.0</td>\n",
       "      <td>-77.0</td>\n",
       "      <td>-90.0</td>\n",
       "    </tr>\n",
       "    <tr>\n",
       "      <th>2</th>\n",
       "      <td>-52</td>\n",
       "      <td>-67.0</td>\n",
       "      <td>-66.0</td>\n",
       "      <td>-74.0</td>\n",
       "      <td>-73.0</td>\n",
       "      <td>-82.0</td>\n",
       "      <td>-81.0</td>\n",
       "      <td>-78.0</td>\n",
       "      <td>-79.0</td>\n",
       "      <td>-80.0</td>\n",
       "    </tr>\n",
       "    <tr>\n",
       "      <th>3</th>\n",
       "      <td>-46</td>\n",
       "      <td>-70.0</td>\n",
       "      <td>-70.0</td>\n",
       "      <td>-72.0</td>\n",
       "      <td>-74.0</td>\n",
       "      <td>-81.0</td>\n",
       "      <td>-82.0</td>\n",
       "      <td>-89.0</td>\n",
       "      <td>-76.0</td>\n",
       "      <td>-81.0</td>\n",
       "    </tr>\n",
       "    <tr>\n",
       "      <th>4</th>\n",
       "      <td>-68</td>\n",
       "      <td>-65.0</td>\n",
       "      <td>-75.0</td>\n",
       "      <td>-69.0</td>\n",
       "      <td>-71.0</td>\n",
       "      <td>-84.0</td>\n",
       "      <td>-95.0</td>\n",
       "      <td>-88.0</td>\n",
       "      <td>-80.0</td>\n",
       "      <td>-86.0</td>\n",
       "    </tr>\n",
       "  </tbody>\n",
       "</table>\n",
       "</div>"
      ],
      "text/plain": [
       "   1m    2m    3m    4m    5m    6m    7m    8m    9m   10m\n",
       "0 -80 -63.0 -78.0 -67.0 -72.0 -85.0 -81.0 -75.0 -83.0 -90.0\n",
       "1 -72 -64.0 -80.0 -74.0 -67.0 -70.0 -95.0 -76.0 -77.0 -90.0\n",
       "2 -52 -67.0 -66.0 -74.0 -73.0 -82.0 -81.0 -78.0 -79.0 -80.0\n",
       "3 -46 -70.0 -70.0 -72.0 -74.0 -81.0 -82.0 -89.0 -76.0 -81.0\n",
       "4 -68 -65.0 -75.0 -69.0 -71.0 -84.0 -95.0 -88.0 -80.0 -86.0"
      ]
     },
     "execution_count": 4,
     "metadata": {},
     "output_type": "execute_result"
    }
   ],
   "source": [
    "print(dataSet.shape)\n",
    "dataSet.head()"
   ]
  },
  {
   "cell_type": "markdown",
   "metadata": {},
   "source": [
    "## rf 데이터 1m ~ 4m / 7m ~ 10m 를 구분하는 특징을 찾자!"
   ]
  },
  {
   "cell_type": "code",
   "execution_count": 5,
   "metadata": {},
   "outputs": [
    {
     "data": {
      "text/html": [
       "<div>\n",
       "<style scoped>\n",
       "    .dataframe tbody tr th:only-of-type {\n",
       "        vertical-align: middle;\n",
       "    }\n",
       "\n",
       "    .dataframe tbody tr th {\n",
       "        vertical-align: top;\n",
       "    }\n",
       "\n",
       "    .dataframe thead th {\n",
       "        text-align: right;\n",
       "    }\n",
       "</style>\n",
       "<table border=\"1\" class=\"dataframe\">\n",
       "  <thead>\n",
       "    <tr style=\"text-align: right;\">\n",
       "      <th></th>\n",
       "      <th>1m</th>\n",
       "      <th>2m</th>\n",
       "      <th>3m</th>\n",
       "      <th>4m</th>\n",
       "      <th>5m</th>\n",
       "      <th>6m</th>\n",
       "      <th>7m</th>\n",
       "      <th>8m</th>\n",
       "      <th>9m</th>\n",
       "      <th>10m</th>\n",
       "    </tr>\n",
       "  </thead>\n",
       "  <tbody>\n",
       "    <tr>\n",
       "      <th>count</th>\n",
       "      <td>1012.000000</td>\n",
       "      <td>975.000000</td>\n",
       "      <td>981.000000</td>\n",
       "      <td>974.000000</td>\n",
       "      <td>954.000000</td>\n",
       "      <td>851.000000</td>\n",
       "      <td>785.000000</td>\n",
       "      <td>954.000000</td>\n",
       "      <td>933.000000</td>\n",
       "      <td>841.000000</td>\n",
       "    </tr>\n",
       "    <tr>\n",
       "      <th>mean</th>\n",
       "      <td>-55.468379</td>\n",
       "      <td>-67.771282</td>\n",
       "      <td>-70.691131</td>\n",
       "      <td>-70.096509</td>\n",
       "      <td>-77.382600</td>\n",
       "      <td>-79.792009</td>\n",
       "      <td>-82.374522</td>\n",
       "      <td>-78.279874</td>\n",
       "      <td>-79.431940</td>\n",
       "      <td>-83.887039</td>\n",
       "    </tr>\n",
       "    <tr>\n",
       "      <th>std</th>\n",
       "      <td>10.769319</td>\n",
       "      <td>6.075838</td>\n",
       "      <td>4.337239</td>\n",
       "      <td>5.568311</td>\n",
       "      <td>6.997328</td>\n",
       "      <td>9.026509</td>\n",
       "      <td>6.902555</td>\n",
       "      <td>4.769644</td>\n",
       "      <td>5.533058</td>\n",
       "      <td>6.911022</td>\n",
       "    </tr>\n",
       "    <tr>\n",
       "      <th>min</th>\n",
       "      <td>-101.000000</td>\n",
       "      <td>-100.000000</td>\n",
       "      <td>-90.000000</td>\n",
       "      <td>-96.000000</td>\n",
       "      <td>-100.000000</td>\n",
       "      <td>-100.000000</td>\n",
       "      <td>-100.000000</td>\n",
       "      <td>-99.000000</td>\n",
       "      <td>-100.000000</td>\n",
       "      <td>-100.000000</td>\n",
       "    </tr>\n",
       "    <tr>\n",
       "      <th>25%</th>\n",
       "      <td>-62.000000</td>\n",
       "      <td>-71.000000</td>\n",
       "      <td>-74.000000</td>\n",
       "      <td>-73.000000</td>\n",
       "      <td>-81.000000</td>\n",
       "      <td>-87.000000</td>\n",
       "      <td>-87.000000</td>\n",
       "      <td>-81.000000</td>\n",
       "      <td>-83.000000</td>\n",
       "      <td>-89.000000</td>\n",
       "    </tr>\n",
       "    <tr>\n",
       "      <th>50%</th>\n",
       "      <td>-52.000000</td>\n",
       "      <td>-66.000000</td>\n",
       "      <td>-70.000000</td>\n",
       "      <td>-69.000000</td>\n",
       "      <td>-77.000000</td>\n",
       "      <td>-80.000000</td>\n",
       "      <td>-82.000000</td>\n",
       "      <td>-78.000000</td>\n",
       "      <td>-79.000000</td>\n",
       "      <td>-83.000000</td>\n",
       "    </tr>\n",
       "    <tr>\n",
       "      <th>75%</th>\n",
       "      <td>-48.000000</td>\n",
       "      <td>-63.000000</td>\n",
       "      <td>-68.000000</td>\n",
       "      <td>-67.000000</td>\n",
       "      <td>-72.000000</td>\n",
       "      <td>-72.000000</td>\n",
       "      <td>-77.000000</td>\n",
       "      <td>-74.000000</td>\n",
       "      <td>-75.000000</td>\n",
       "      <td>-78.000000</td>\n",
       "    </tr>\n",
       "    <tr>\n",
       "      <th>max</th>\n",
       "      <td>0.000000</td>\n",
       "      <td>-61.000000</td>\n",
       "      <td>-61.000000</td>\n",
       "      <td>-61.000000</td>\n",
       "      <td>-61.000000</td>\n",
       "      <td>-66.000000</td>\n",
       "      <td>-69.000000</td>\n",
       "      <td>-67.000000</td>\n",
       "      <td>-68.000000</td>\n",
       "      <td>-71.000000</td>\n",
       "    </tr>\n",
       "  </tbody>\n",
       "</table>\n",
       "</div>"
      ],
      "text/plain": [
       "                1m          2m          3m          4m          5m  \\\n",
       "count  1012.000000  975.000000  981.000000  974.000000  954.000000   \n",
       "mean    -55.468379  -67.771282  -70.691131  -70.096509  -77.382600   \n",
       "std      10.769319    6.075838    4.337239    5.568311    6.997328   \n",
       "min    -101.000000 -100.000000  -90.000000  -96.000000 -100.000000   \n",
       "25%     -62.000000  -71.000000  -74.000000  -73.000000  -81.000000   \n",
       "50%     -52.000000  -66.000000  -70.000000  -69.000000  -77.000000   \n",
       "75%     -48.000000  -63.000000  -68.000000  -67.000000  -72.000000   \n",
       "max       0.000000  -61.000000  -61.000000  -61.000000  -61.000000   \n",
       "\n",
       "               6m          7m          8m          9m         10m  \n",
       "count  851.000000  785.000000  954.000000  933.000000  841.000000  \n",
       "mean   -79.792009  -82.374522  -78.279874  -79.431940  -83.887039  \n",
       "std      9.026509    6.902555    4.769644    5.533058    6.911022  \n",
       "min   -100.000000 -100.000000  -99.000000 -100.000000 -100.000000  \n",
       "25%    -87.000000  -87.000000  -81.000000  -83.000000  -89.000000  \n",
       "50%    -80.000000  -82.000000  -78.000000  -79.000000  -83.000000  \n",
       "75%    -72.000000  -77.000000  -74.000000  -75.000000  -78.000000  \n",
       "max    -66.000000  -69.000000  -67.000000  -68.000000  -71.000000  "
      ]
     },
     "execution_count": 5,
     "metadata": {},
     "output_type": "execute_result"
    }
   ],
   "source": [
    "dataSet.describe()"
   ]
  },
  {
   "cell_type": "code",
   "execution_count": 6,
   "metadata": {},
   "outputs": [],
   "source": [
    "df = pd.DataFrame(columns=['MIN', 'MAX', 'MEDIAN', 'MEAN', 'VARIANCE', 'CLASS'])"
   ]
  },
  {
   "cell_type": "code",
   "execution_count": 7,
   "metadata": {},
   "outputs": [
    {
     "data": {
      "text/html": [
       "<div>\n",
       "<style scoped>\n",
       "    .dataframe tbody tr th:only-of-type {\n",
       "        vertical-align: middle;\n",
       "    }\n",
       "\n",
       "    .dataframe tbody tr th {\n",
       "        vertical-align: top;\n",
       "    }\n",
       "\n",
       "    .dataframe thead th {\n",
       "        text-align: right;\n",
       "    }\n",
       "</style>\n",
       "<table border=\"1\" class=\"dataframe\">\n",
       "  <thead>\n",
       "    <tr style=\"text-align: right;\">\n",
       "      <th></th>\n",
       "      <th>MIN</th>\n",
       "      <th>MAX</th>\n",
       "      <th>MEDIAN</th>\n",
       "      <th>MEAN</th>\n",
       "      <th>VARIANCE</th>\n",
       "      <th>CLASS</th>\n",
       "    </tr>\n",
       "  </thead>\n",
       "  <tbody>\n",
       "  </tbody>\n",
       "</table>\n",
       "</div>"
      ],
      "text/plain": [
       "Empty DataFrame\n",
       "Columns: [MIN, MAX, MEDIAN, MEAN, VARIANCE, CLASS]\n",
       "Index: []"
      ]
     },
     "execution_count": 7,
     "metadata": {},
     "output_type": "execute_result"
    }
   ],
   "source": [
    "df"
   ]
  },
  {
   "cell_type": "markdown",
   "metadata": {},
   "source": [
    "#### 5M 6M 제외 / null 값 제외"
   ]
  },
  {
   "cell_type": "code",
   "execution_count": 8,
   "metadata": {},
   "outputs": [],
   "source": [
    "dataSet = dataSet[['1m', '2m', '3m', '4m', '7m', '8m', '9m', '10m']]\n",
    "dataSet.dropna(inplace=True)"
   ]
  },
  {
   "cell_type": "code",
   "execution_count": 9,
   "metadata": {},
   "outputs": [
    {
     "data": {
      "text/html": [
       "<div>\n",
       "<style scoped>\n",
       "    .dataframe tbody tr th:only-of-type {\n",
       "        vertical-align: middle;\n",
       "    }\n",
       "\n",
       "    .dataframe tbody tr th {\n",
       "        vertical-align: top;\n",
       "    }\n",
       "\n",
       "    .dataframe thead th {\n",
       "        text-align: right;\n",
       "    }\n",
       "</style>\n",
       "<table border=\"1\" class=\"dataframe\">\n",
       "  <thead>\n",
       "    <tr style=\"text-align: right;\">\n",
       "      <th></th>\n",
       "      <th>1m</th>\n",
       "      <th>2m</th>\n",
       "      <th>3m</th>\n",
       "      <th>4m</th>\n",
       "      <th>7m</th>\n",
       "      <th>8m</th>\n",
       "      <th>9m</th>\n",
       "      <th>10m</th>\n",
       "    </tr>\n",
       "  </thead>\n",
       "  <tbody>\n",
       "    <tr>\n",
       "      <th>0</th>\n",
       "      <td>-80</td>\n",
       "      <td>-63.0</td>\n",
       "      <td>-78.0</td>\n",
       "      <td>-67.0</td>\n",
       "      <td>-81.0</td>\n",
       "      <td>-75.0</td>\n",
       "      <td>-83.0</td>\n",
       "      <td>-90.0</td>\n",
       "    </tr>\n",
       "    <tr>\n",
       "      <th>1</th>\n",
       "      <td>-72</td>\n",
       "      <td>-64.0</td>\n",
       "      <td>-80.0</td>\n",
       "      <td>-74.0</td>\n",
       "      <td>-95.0</td>\n",
       "      <td>-76.0</td>\n",
       "      <td>-77.0</td>\n",
       "      <td>-90.0</td>\n",
       "    </tr>\n",
       "    <tr>\n",
       "      <th>2</th>\n",
       "      <td>-52</td>\n",
       "      <td>-67.0</td>\n",
       "      <td>-66.0</td>\n",
       "      <td>-74.0</td>\n",
       "      <td>-81.0</td>\n",
       "      <td>-78.0</td>\n",
       "      <td>-79.0</td>\n",
       "      <td>-80.0</td>\n",
       "    </tr>\n",
       "    <tr>\n",
       "      <th>3</th>\n",
       "      <td>-46</td>\n",
       "      <td>-70.0</td>\n",
       "      <td>-70.0</td>\n",
       "      <td>-72.0</td>\n",
       "      <td>-82.0</td>\n",
       "      <td>-89.0</td>\n",
       "      <td>-76.0</td>\n",
       "      <td>-81.0</td>\n",
       "    </tr>\n",
       "    <tr>\n",
       "      <th>4</th>\n",
       "      <td>-68</td>\n",
       "      <td>-65.0</td>\n",
       "      <td>-75.0</td>\n",
       "      <td>-69.0</td>\n",
       "      <td>-95.0</td>\n",
       "      <td>-88.0</td>\n",
       "      <td>-80.0</td>\n",
       "      <td>-86.0</td>\n",
       "    </tr>\n",
       "  </tbody>\n",
       "</table>\n",
       "</div>"
      ],
      "text/plain": [
       "   1m    2m    3m    4m    7m    8m    9m   10m\n",
       "0 -80 -63.0 -78.0 -67.0 -81.0 -75.0 -83.0 -90.0\n",
       "1 -72 -64.0 -80.0 -74.0 -95.0 -76.0 -77.0 -90.0\n",
       "2 -52 -67.0 -66.0 -74.0 -81.0 -78.0 -79.0 -80.0\n",
       "3 -46 -70.0 -70.0 -72.0 -82.0 -89.0 -76.0 -81.0\n",
       "4 -68 -65.0 -75.0 -69.0 -95.0 -88.0 -80.0 -86.0"
      ]
     },
     "execution_count": 9,
     "metadata": {},
     "output_type": "execute_result"
    }
   ],
   "source": [
    "dataSet.head()"
   ]
  },
  {
   "cell_type": "markdown",
   "metadata": {},
   "source": [
    "# 5개씩 묶어 통계값을 vectorize하자"
   ]
  },
  {
   "cell_type": "code",
   "execution_count": 10,
   "metadata": {},
   "outputs": [
    {
     "name": "stdout",
     "output_type": "stream",
     "text": [
      "(6248, 6)\n"
     ]
    },
    {
     "data": {
      "text/html": [
       "<div>\n",
       "<style scoped>\n",
       "    .dataframe tbody tr th:only-of-type {\n",
       "        vertical-align: middle;\n",
       "    }\n",
       "\n",
       "    .dataframe tbody tr th {\n",
       "        vertical-align: top;\n",
       "    }\n",
       "\n",
       "    .dataframe thead th {\n",
       "        text-align: right;\n",
       "    }\n",
       "</style>\n",
       "<table border=\"1\" class=\"dataframe\">\n",
       "  <thead>\n",
       "    <tr style=\"text-align: right;\">\n",
       "      <th></th>\n",
       "      <th>MIN</th>\n",
       "      <th>MAX</th>\n",
       "      <th>MEDIAN</th>\n",
       "      <th>MEAN</th>\n",
       "      <th>VARIANCE</th>\n",
       "      <th>CLASS</th>\n",
       "    </tr>\n",
       "  </thead>\n",
       "  <tbody>\n",
       "    <tr>\n",
       "      <th>0</th>\n",
       "      <td>-80.0</td>\n",
       "      <td>-46.0</td>\n",
       "      <td>-46.0</td>\n",
       "      <td>-46.0</td>\n",
       "      <td>-46.0</td>\n",
       "      <td>0.0</td>\n",
       "    </tr>\n",
       "    <tr>\n",
       "      <th>1</th>\n",
       "      <td>-90.0</td>\n",
       "      <td>-80.0</td>\n",
       "      <td>-80.0</td>\n",
       "      <td>-80.0</td>\n",
       "      <td>-80.0</td>\n",
       "      <td>1.0</td>\n",
       "    </tr>\n",
       "    <tr>\n",
       "      <th>2</th>\n",
       "      <td>-70.0</td>\n",
       "      <td>-63.0</td>\n",
       "      <td>-63.0</td>\n",
       "      <td>-63.0</td>\n",
       "      <td>-63.0</td>\n",
       "      <td>0.0</td>\n",
       "    </tr>\n",
       "    <tr>\n",
       "      <th>3</th>\n",
       "      <td>-83.0</td>\n",
       "      <td>-76.0</td>\n",
       "      <td>-76.0</td>\n",
       "      <td>-76.0</td>\n",
       "      <td>-76.0</td>\n",
       "      <td>1.0</td>\n",
       "    </tr>\n",
       "    <tr>\n",
       "      <th>4</th>\n",
       "      <td>-80.0</td>\n",
       "      <td>-66.0</td>\n",
       "      <td>-66.0</td>\n",
       "      <td>-66.0</td>\n",
       "      <td>-66.0</td>\n",
       "      <td>0.0</td>\n",
       "    </tr>\n",
       "  </tbody>\n",
       "</table>\n",
       "</div>"
      ],
      "text/plain": [
       "    MIN   MAX  MEDIAN  MEAN  VARIANCE  CLASS\n",
       "0 -80.0 -46.0   -46.0 -46.0     -46.0    0.0\n",
       "1 -90.0 -80.0   -80.0 -80.0     -80.0    1.0\n",
       "2 -70.0 -63.0   -63.0 -63.0     -63.0    0.0\n",
       "3 -83.0 -76.0   -76.0 -76.0     -76.0    1.0\n",
       "4 -80.0 -66.0   -66.0 -66.0     -66.0    0.0"
      ]
     },
     "execution_count": 10,
     "metadata": {},
     "output_type": "execute_result"
    }
   ],
   "source": [
    "for i in range(4, len(dataSet)):\n",
    "    x = np.array([dataSet.loc[i-4].tolist(),\n",
    "                   dataSet.loc[i-3].tolist(),\n",
    "                   dataSet.loc[i-2].tolist(),\n",
    "                   dataSet.loc[i-1].tolist(),\n",
    "                   dataSet.loc[i].tolist(),]\n",
    "                 , dtype='f')\n",
    "#     print(x)\n",
    "\n",
    "    for j in range(4):\n",
    "#         print(, , np.median(x, axis=0), x.mean(axis=0), x.var(axis=0))\n",
    "        df = df.append({'MIN':x.min(axis=0)[j],\n",
    "                        'MAX':x.max(axis=0)[j],\n",
    "                        'MEDIAN':x.max(axis=0)[j],\n",
    "                        'MEAN':x.max(axis=0)[j],\n",
    "                        'VARIANCE':x.max(axis=0)[j],\n",
    "                        'CLASS':0}, ignore_index=True)\n",
    "        \n",
    "        df = df.append({'MIN':x.min(axis=0)[7-j],\n",
    "                'MAX':x.max(axis=0)[7-j],\n",
    "                'MEDIAN':x.max(axis=0)[7-j],\n",
    "                'MEAN':x.max(axis=0)[7-j],\n",
    "                'VARIANCE':x.max(axis=0)[7-j],\n",
    "                'CLASS':1}, ignore_index=True)\n",
    "\n",
    "    \n",
    "print(df.shape)\n",
    "df.head()"
   ]
  },
  {
   "cell_type": "code",
   "execution_count": 11,
   "metadata": {},
   "outputs": [
    {
     "data": {
      "text/plain": [
       "Index(['MIN', 'MAX', 'MEDIAN', 'MEAN', 'VARIANCE', 'CLASS'], dtype='object')"
      ]
     },
     "execution_count": 11,
     "metadata": {},
     "output_type": "execute_result"
    }
   ],
   "source": [
    "df.columns"
   ]
  },
  {
   "cell_type": "code",
   "execution_count": 20,
   "metadata": {},
   "outputs": [],
   "source": [
    "X = np.array(df[['MIN', 'MAX', 'MEDIAN', 'MEAN', 'VARIANCE']])"
   ]
  },
  {
   "cell_type": "code",
   "execution_count": 22,
   "metadata": {},
   "outputs": [
    {
     "data": {
      "text/plain": [
       "(6248, 5)"
      ]
     },
     "execution_count": 22,
     "metadata": {},
     "output_type": "execute_result"
    }
   ],
   "source": [
    "X.shape"
   ]
  },
  {
   "cell_type": "code",
   "execution_count": 25,
   "metadata": {},
   "outputs": [
    {
     "data": {
      "text/plain": [
       "6248"
      ]
     },
     "execution_count": 25,
     "metadata": {},
     "output_type": "execute_result"
    }
   ],
   "source": [
    "Y = df['CLASS'].tolist()\n",
    "len(Y)"
   ]
  },
  {
   "cell_type": "markdown",
   "metadata": {},
   "source": [
    "# 모델 훈련시키기 (svm)"
   ]
  },
  {
   "cell_type": "code",
   "execution_count": 26,
   "metadata": {},
   "outputs": [],
   "source": [
    "from sklearn.svm import SVC"
   ]
  },
  {
   "cell_type": "code",
   "execution_count": 27,
   "metadata": {},
   "outputs": [
    {
     "data": {
      "text/plain": [
       "SVC(C=1.0, cache_size=200, class_weight=None, coef0=0.0,\n",
       "  decision_function_shape='ovr', degree=3, gamma='auto', kernel='rbf',\n",
       "  max_iter=-1, probability=False, random_state=None, shrinking=True,\n",
       "  tol=0.001, verbose=False)"
      ]
     },
     "execution_count": 27,
     "metadata": {},
     "output_type": "execute_result"
    }
   ],
   "source": [
    "clf = SVC(gamma='auto')\n",
    "clf.fit(X, Y)"
   ]
  },
  {
   "cell_type": "code",
   "execution_count": 32,
   "metadata": {},
   "outputs": [
    {
     "data": {
      "text/plain": [
       "array([0.])"
      ]
     },
     "execution_count": 32,
     "metadata": {},
     "output_type": "execute_result"
    }
   ],
   "source": [
    "clf.predict([X[4]])"
   ]
  },
  {
   "cell_type": "markdown",
   "metadata": {},
   "source": [
    "### 시각화 테스트"
   ]
  },
  {
   "cell_type": "code",
   "execution_count": 47,
   "metadata": {},
   "outputs": [
    {
     "data": {
      "text/plain": [
       "<BarContainer object of 8 artists>"
      ]
     },
     "execution_count": 47,
     "metadata": {},
     "output_type": "execute_result"
    },
    {
     "data": {
      "image/png": "[encoded data removed]",
      "text/plain": [
       "<Figure size 432x288 with 1 Axes>"
      ]
     },
     "metadata": {
      "needs_background": "light"
     },
     "output_type": "display_data"
    }
   ],
   "source": [
    "y1 = [\n",
    "np.mean(dataSet['1m']),    \n",
    "np.mean(dataSet['2m']),\n",
    "np.mean(dataSet['3m']),\n",
    "np.mean(dataSet['4m']),\n",
    "np.mean(dataSet['7m']),\n",
    "np.mean(dataSet['8m']),    \n",
    "np.mean(dataSet['9m']),\n",
    "np.mean(dataSet['10m'])]\n",
    "\n",
    "plt.bar(range(8), y1)"
   ]
  },
  {
   "cell_type": "code",
   "execution_count": 48,
   "metadata": {},
   "outputs": [
    {
     "data": {
      "text/plain": [
       "(array([  7.,  17.,  59., 136., 255., 307.,   0.,   0.,   0.,   4.]),\n",
       " array([-101. ,  -90.9,  -80.8,  -70.7,  -60.6,  -50.5,  -40.4,  -30.3,\n",
       "         -20.2,  -10.1,    0. ]),\n",
       " <a list of 10 Patch objects>)"
      ]
     },
     "execution_count": 48,
     "metadata": {},
     "output_type": "execute_result"
    },
    {
     "data": {
      "image/png": "[encoded data removed]",
      "text/plain": [
       "<Figure size 432x288 with 1 Axes>"
      ]
     },
     "metadata": {
      "needs_background": "light"
     },
     "output_type": "display_data"
    }
   ],
   "source": [
    "plt.hist(dataSet['1m'])"
   ]
  },
  {
   "cell_type": "markdown",
   "metadata": {},
   "source": [
    "# 접근법\n",
    "1. feature를 신호값, MIN, MAX, 평균, 값의 차이 ... \n",
    "2. 0과 1 이진분류니 애매한 데이터는 아예 쓰지 않는 것이 좋다."
   ]
  },
  {
   "cell_type": "code",
   "execution_count": null,
   "metadata": {},
   "outputs": [],
   "source": []
  }
 ],
 "metadata": {
  "kernelspec": {
   "display_name": "Python 3",
   "language": "python",
   "name": "python3"
  },
  "language_info": {
   "codemirror_mode": {
    "name": "ipython",
    "version": 3
   },
   "file_extension": ".py",
   "mimetype": "text/x-python",
   "name": "python",
   "nbconvert_exporter": "python",
   "pygments_lexer": "ipython3",
   "version": "3.6.6"
  }
 },
 "nbformat": 4,
 "nbformat_minor": 2
}
