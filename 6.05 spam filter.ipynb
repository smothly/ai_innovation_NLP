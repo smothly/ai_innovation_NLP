{
 "cells": [
  {
   "cell_type": "markdown",
   "metadata": {},
   "source": [
    "# 라이브러리 import와  크롬 자동실행"
   ]
  },
  {
   "cell_type": "code",
   "execution_count": 1,
   "metadata": {},
   "outputs": [],
   "source": [
    "from bs4 import BeautifulSoup\n",
    "from selenium import webdriver\n",
    "import requests\n",
    "header = {'user-agent':'Mozilla/5.0 (Windows NT 10.0; Win64; x64) AppleWebKit/537.36 (KHTML, like Gecko) Chrome/72.0.3626.119 Safari/537.36'}"
   ]
  },
  {
   "cell_type": "code",
   "execution_count": 2,
   "metadata": {},
   "outputs": [],
   "source": [
    "path = './chromedriver.exe'\n",
    "browser = webdriver.Chrome(path)\n",
    "\n",
    "url = 'https://www.naver.com/'\n",
    "browser.get(url)"
   ]
  },
  {
   "cell_type": "markdown",
   "metadata": {},
   "source": [
    "### 로그인 - 보안기능땜에 수동로그인 해줘야"
   ]
  },
  {
   "cell_type": "code",
   "execution_count": 3,
   "metadata": {},
   "outputs": [],
   "source": [
    "import json\n",
    "with open('./account.json', encoding='UTF8') as f:\n",
    "    account=json.load(f)"
   ]
  },
  {
   "cell_type": "code",
   "execution_count": 4,
   "metadata": {},
   "outputs": [],
   "source": [
    "url = 'https://nid.naver.com/nidlogin.login?mode=form&url=https%3A%2F%2Fwww.naver.com'\n",
    "browser.get(url)"
   ]
  },
  {
   "cell_type": "code",
   "execution_count": 5,
   "metadata": {},
   "outputs": [],
   "source": [
    "browser.find_element_by_css_selector('#id').clear()\n",
    "browser.find_element_by_css_selector('#pw').clear()\n",
    "browser.find_element_by_css_selector('#id').send_keys(account['id'])\n",
    "browser.find_element_by_css_selector('#pw').send_keys(account['pw'])"
   ]
  },
  {
   "cell_type": "code",
   "execution_count": 6,
   "metadata": {},
   "outputs": [],
   "source": [
    "browser.find_element_by_class_name('btn_global').click()"
   ]
  },
  {
   "cell_type": "markdown",
   "metadata": {},
   "source": [
    "## selenium 활용해서 스팸메일 읽어오기"
   ]
  },
  {
   "cell_type": "code",
   "execution_count": 7,
   "metadata": {},
   "outputs": [],
   "source": [
    "browser.get('https://mail.naver.com/')"
   ]
  },
  {
   "cell_type": "code",
   "execution_count": 8,
   "metadata": {},
   "outputs": [],
   "source": [
    "browser.find_element_by_css_selector('span.item_wrap.bu6').click()"
   ]
  },
  {
   "cell_type": "code",
   "execution_count": 9,
   "metadata": {},
   "outputs": [
    {
     "name": "stdout",
     "output_type": "stream",
     "text": [
      "(광고) [멸치쇼핑] 고민없이 오늘도 멸치쇼핑!\n",
      "(광고) 창업 때문에 고민하신다면 추천해 드립니다.\n",
      "(광고) 최승호님께 드리는 휴식같은 선물! 주말에만 드려요\n",
      "[고양시 덕양구] 검색 결과 알림ㅣ최승호님을 위한 채용소식 입니다\n",
      "2년 공시준비하다가 면탈하니 아쉬움밖에 안남네요... / 현재 30인데 25살부터 생각해오던 공무원을 해보려합니다.\n",
      "♨면접관의_거짓말_1위는? #교직원현직자_솔직인터뷰 #취준생토익평균점수_확인↓ #합동채용선호기업1위\n",
      "(광고) 폼클렌징 단돈 1,900원 +무료배송\n",
      "(광고) 상품 하나만 구매해도 사은품 증정 드려요! 오늘 밤 12시 종료!\n",
      "(광고)100대 한정★6세대 맥북에어Style 울트라북 379,000원\n",
      "[즉시 지원] 최근 최승호님 활동으로 ㈜카스 채용 공고가 매칭되었습니다.\n",
      "(광고) 키친아트 후라이팬 1+1 13,900원 +무배\n",
      "최승호님, 에이치엘그린파워(주) 등 오늘의 공채 소식입니다\n",
      "★한국전력공사/기아자동차 채용 시작!★& 무료 가이드북 배포중!\n",
      "(광고) 가장 인기 있는 BEST 상품만 엄선했습니다!\n",
      "♨한국가스안전공사채용형인턴_122명 #한국전력공사64명_채용형인턴 #기술보증기금_인턴_51명 #NH투자증권_신입\n",
      "(광고) 간편식/술안주 단돈 790원 +무배+무제한적립\n",
      "네이버 클라우드 플랫폼 서비스 이용약관 개정 안내\n",
      "직원복지 甲, 멤버쉽카드·복지포인트\n",
      "최승호님을 위한 추천 채용공고\n",
      "[고양시 덕양구] 검색 결과 알림ㅣ최승호님을 위한 채용소식 입니다\n",
      "국방부 군무원 평균 경쟁률 ‘34.8대 1’ / 2019년 교육청 9급 경쟁률 전년대비 '하락'\n",
      "(광고) USB 미니 선풍기 2,900원 균일가 +무배\n",
      "Case# 90321528: Gnip Freemium Access Request [ref:00DA0000000K0A8.5004A00001SmGGN:ref]\n",
      "@dtmedrNv0olkGkw 님, 하고픈 말을 해보세요.\n",
      "(광고) 리얼 아이스 망고바 10개 8,900원 +무배\n",
      "[즉시 지원] 최근 최승호님 활동으로 시몬스 채용 공고가 매칭되었습니다.\n",
      "신입공채 일정이 도착했습니다 (대졸초임 포함)\n",
      "최승호님, 동국제약㈜ 등 오늘의 공채 소식입니다\n",
      "(광고)96명의 로또 1등이 밝힌 비결?\n",
      "Peach 기내 판매에 대한 설문조사\n"
     ]
    },
    {
     "data": {
      "text/plain": [
       "'(광고) [멸치쇼핑] 고민없이 오늘도 멸치쇼핑!'"
      ]
     },
     "execution_count": 9,
     "metadata": {},
     "output_type": "execute_result"
    }
   ],
   "source": [
    "from collections import defaultdict\n",
    "\n",
    "spam_list = defaultdict()\n",
    "idx=0\n",
    "for tag in browser.find_elements_by_css_selector('strong.mail_title'):\n",
    "    print(tag.text)\n",
    "    spam_list[idx]=tag.text\n",
    "    idx+=1\n",
    "spam_list[0]"
   ]
  },
  {
   "cell_type": "markdown",
   "metadata": {},
   "source": [
    "# bs를 활용해서 일반 메일 가져오기"
   ]
  },
  {
   "cell_type": "code",
   "execution_count": 12,
   "metadata": {},
   "outputs": [],
   "source": [
    "browser.get('https://mail.naver.com')\n",
    "html=browser.page_source\n",
    "dom = BeautifulSoup(html, 'lxml')"
   ]
  },
  {
   "cell_type": "code",
   "execution_count": 13,
   "metadata": {},
   "outputs": [
    {
     "name": "stdout",
     "output_type": "stream",
     "text": [
      "매월 개설! SK 노하우만 꽉꽉 담은 빅데이터 핸즈온 세미나에 초대합니다.\n",
      "안녕하세요. 365MC 의료 IT ( AI / App 개발 ) 인턴 프로그램 담당자 입니다.\n",
      "NHN KCP - 무신사스토어의 결제 내역입니다.\n"
     ]
    }
   ],
   "source": [
    "correct_list=list()\n",
    "\n",
    "correct_list=[_.text.strip()[6:] for _ in dom.select('strong.mail_title') ]\n",
    "\n",
    "print(correct_list[1])\n",
    "print(correct_list[3])\n",
    "print(correct_list[7])"
   ]
  },
  {
   "cell_type": "markdown",
   "metadata": {},
   "source": [
    "# NaiveBayes를 이용한 스팸분류기!"
   ]
  },
  {
   "cell_type": "code",
   "execution_count": 14,
   "metadata": {},
   "outputs": [],
   "source": [
    "from math import log2\n",
    "from konlpy.tag import Komoran\n",
    "from math import sqrt"
   ]
  },
  {
   "cell_type": "code",
   "execution_count": 15,
   "metadata": {},
   "outputs": [
    {
     "data": {
      "text/plain": [
       "'매월 개설! SK 노하우만 꽉꽉 담은 빅데이터 핸즈온 세미나에 초대합니다.'"
      ]
     },
     "execution_count": 15,
     "metadata": {},
     "output_type": "execute_result"
    }
   ],
   "source": [
    "correct_list[1]"
   ]
  },
  {
   "cell_type": "code",
   "execution_count": 16,
   "metadata": {},
   "outputs": [
    {
     "name": "stdout",
     "output_type": "stream",
     "text": [
      "dict_keys(['데이터분석', '노하우만', '안내', 'IT', 'Internship', '인턴십', '문제', '무신사스토어의', '완료되었습니다', '최승호님', '㈜마크로젠', '오늘의', '공고현황을', 'United,', '기업정보를', '이력서를', '공고도', '유사한', '되었습니다.', '성공적으로', '시뮬레이션', '배송이'])\n"
     ]
    }
   ],
   "source": [
    "ma = Komoran()\n",
    "\n",
    "DTM = defaultdict(lambda:defaultdict(int))\n",
    "\n",
    "for term in correct_list:\n",
    "    i=0\n",
    "    for token in term.split():\n",
    "        DTM[i][token] += 1\n",
    "        i += 1    \n",
    "print(DTM[3].keys())"
   ]
  },
  {
   "cell_type": "code",
   "execution_count": 17,
   "metadata": {},
   "outputs": [
    {
     "data": {
      "text/plain": [
       "defaultdict(None,\n",
       "            {0: '(광고) [멸치쇼핑] 고민없이 오늘도 멸치쇼핑!',\n",
       "             1: '(광고) 창업 때문에 고민하신다면 추천해 드립니다.',\n",
       "             2: '(광고) 최승호님께 드리는 휴식같은 선물! 주말에만 드려요',\n",
       "             3: '[고양시 덕양구] 검색 결과 알림ㅣ최승호님을 위한 채용소식 입니다',\n",
       "             4: '2년 공시준비하다가 면탈하니 아쉬움밖에 안남네요... / 현재 30인데 25살부터 생각해오던 공무원을 해보려합니다.',\n",
       "             5: '♨면접관의_거짓말_1위는? #교직원현직자_솔직인터뷰 #취준생토익평균점수_확인↓ #합동채용선호기업1위',\n",
       "             6: '(광고) 폼클렌징 단돈 1,900원 +무료배송',\n",
       "             7: '(광고) 상품 하나만 구매해도 사은품 증정 드려요! 오늘 밤 12시 종료!',\n",
       "             8: '(광고)100대 한정★6세대 맥북에어Style 울트라북 379,000원',\n",
       "             9: '[즉시 지원] 최근 최승호님 활동으로 ㈜카스 채용 공고가 매칭되었습니다.',\n",
       "             10: '(광고) 키친아트 후라이팬 1+1 13,900원 +무배',\n",
       "             11: '최승호님, 에이치엘그린파워(주) 등 오늘의 공채 소식입니다',\n",
       "             12: '★한국전력공사/기아자동차 채용 시작!★& 무료 가이드북 배포중!',\n",
       "             13: '(광고) 가장 인기 있는 BEST 상품만 엄선했습니다!',\n",
       "             14: '♨한국가스안전공사채용형인턴_122명 #한국전력공사64명_채용형인턴 #기술보증기금_인턴_51명 #NH투자증권_신입',\n",
       "             15: '(광고) 간편식/술안주 단돈 790원 +무배+무제한적립',\n",
       "             16: '네이버 클라우드 플랫폼 서비스 이용약관 개정 안내',\n",
       "             17: '직원복지 甲, 멤버쉽카드·복지포인트',\n",
       "             18: '최승호님을 위한 추천 채용공고',\n",
       "             19: '[고양시 덕양구] 검색 결과 알림ㅣ최승호님을 위한 채용소식 입니다',\n",
       "             20: \"국방부 군무원 평균 경쟁률 ‘34.8대 1’ / 2019년 교육청 9급 경쟁률 전년대비 '하락'\",\n",
       "             21: '(광고) USB 미니 선풍기 2,900원 균일가 +무배',\n",
       "             22: 'Case# 90321528: Gnip Freemium Access Request [ref:00DA0000000K0A8.5004A00001SmGGN:ref]',\n",
       "             23: '@dtmedrNv0olkGkw 님, 하고픈 말을 해보세요.',\n",
       "             24: '(광고) 리얼 아이스 망고바 10개 8,900원 +무배',\n",
       "             25: '[즉시 지원] 최근 최승호님 활동으로 시몬스 채용 공고가 매칭되었습니다.',\n",
       "             26: '신입공채 일정이 도착했습니다 (대졸초임 포함)',\n",
       "             27: '최승호님, 동국제약㈜ 등 오늘의 공채 소식입니다',\n",
       "             28: '(광고)96명의 로또 1등이 밝힌 비결?',\n",
       "             29: 'Peach 기내 판매에 대한 설문조사'})"
      ]
     },
     "execution_count": 17,
     "metadata": {},
     "output_type": "execute_result"
    }
   ],
   "source": [
    "spam_list"
   ]
  },
  {
   "cell_type": "code",
   "execution_count": 18,
   "metadata": {},
   "outputs": [],
   "source": [
    "trueData = [(correct_list.index(_), _, True) for _ in correct_list]\n",
    "falseData = [(len(trueData) + _, spam_list[_], False)for _ in spam_list]"
   ]
  },
  {
   "cell_type": "code",
   "execution_count": 27,
   "metadata": {},
   "outputs": [],
   "source": [
    "trainingData = trueData + falseData\n",
    "trainingData[7:10]\n",
    "testingData = [term[0] for term in ma.pos(correct_list[4]) if term[1].startswith('N')]"
   ]
  },
  {
   "cell_type": "code",
   "execution_count": 28,
   "metadata": {},
   "outputs": [],
   "source": [
    "V = list(set([term[0] for _ in trainingData for term in ma.pos(_[1]) if term[1].startswith('N')]))\n",
    "N = len(testingData)"
   ]
  },
  {
   "cell_type": "code",
   "execution_count": 29,
   "metadata": {},
   "outputs": [],
   "source": [
    "from collections import defaultdict\n",
    "\n",
    "prior = list()\n",
    "\n",
    "        \n",
    "Tct = defaultdict(int)\n",
    "for data in trueData:  \n",
    "    Nc = len(trueData)\n",
    "    PriorC = Nc/N\n",
    "    for term in data[1].lower().split():\n",
    "        Tct[term] += 1\n",
    "\n",
    "_Tct = defaultdict(int)\n",
    "for data in falseData:  \n",
    "    _Nc = len(falseData)\n",
    "    _PriorC = _Nc/N\n",
    "    for term in data[1].lower().split():\n",
    "        _Tct[term] += 1"
   ]
  },
  {
   "cell_type": "code",
   "execution_count": 30,
   "metadata": {},
   "outputs": [],
   "source": [
    "condProbC = defaultdict(float)\n",
    "_condProbC = defaultdict(float)\n",
    "\n",
    "countSum = sum(Tct.values())\n",
    "_countSum = sum(_Tct.values())\n",
    "\n",
    "for term, freq in Tct.items():\n",
    "    condProbC[term] = (freq+1)/(countSum+len(V))\n",
    "    \n",
    "for term, freq in _Tct.items():\n",
    "    _condProbC[term] = (freq+1)/(_countSum+len(V))  "
   ]
  },
  {
   "cell_type": "code",
   "execution_count": 31,
   "metadata": {},
   "outputs": [
    {
     "name": "stdout",
     "output_type": "stream",
     "text": [
      "정상메일입니다. -3.00071981506503 0.04975124378109454\n"
     ]
    },
    {
     "data": {
      "text/plain": [
       "(-3.00071981506503, -3.7447870860522317)"
      ]
     },
     "execution_count": 31,
     "metadata": {},
     "output_type": "execute_result"
    }
   ],
   "source": [
    "# P(C)multi(P(Tct|C)) ===> log(P(C)) + SUM(P(Tct|C))\n",
    "from math import log, exp\n",
    "\n",
    "# Prior Probability\n",
    "result = log(PriorC)\n",
    "_result = log(_PriorC)\n",
    "\n",
    "# joint probability => conditional independence\n",
    "for term in testingData[1].lower().split():\n",
    "    # multi -> log sum\n",
    "    result += log((Tct[term]+1)/(countSum+len(V)))\n",
    "    _result += log((_Tct[term]+1)/(_countSum+len(V)))\n",
    "\n",
    "# optimal classfier\n",
    "if result > _result:\n",
    "    print(\"정상메일입니다.\", result, exp(result))\n",
    "else:\n",
    "    print(\"스팸메일입니다.\", _result, exp(_result))\n",
    "result, _result"
   ]
  },
  {
   "cell_type": "code",
   "execution_count": null,
   "metadata": {},
   "outputs": [],
   "source": []
  },
  {
   "cell_type": "code",
   "execution_count": null,
   "metadata": {},
   "outputs": [],
   "source": []
  },
  {
   "cell_type": "code",
   "execution_count": null,
   "metadata": {},
   "outputs": [],
   "source": []
  }
 ],
 "metadata": {
  "kernelspec": {
   "display_name": "Python 3",
   "language": "python",
   "name": "python3"
  },
  "language_info": {
   "codemirror_mode": {
    "name": "ipython",
    "version": 3
   },
   "file_extension": ".py",
   "mimetype": "text/x-python",
   "name": "python",
   "nbconvert_exporter": "python",
   "pygments_lexer": "ipython3",
   "version": "3.6.6"
  }
 },
 "nbformat": 4,
 "nbformat_minor": 2
}
