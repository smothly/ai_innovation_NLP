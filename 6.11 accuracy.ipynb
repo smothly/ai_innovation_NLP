{
 "cells": [
  {
   "cell_type": "markdown",
   "metadata": {},
   "source": [
    "# 정확도(accuracy)\n",
    "### 성능지표를 뭐로 쓸지, 테스트 데이터 어떻게 모았는지를 봐야함\n",
    "### training <-> testing <-> validation\n",
    "### 세개의 차이 알아둬야 함\n",
    "\n",
    "\n",
    "#### variance <-> bias 트레이드오프 관계 variance가 커지는것이 complexity가 커짐\n",
    "#### variance는 데이터가 많으면 생기지 않음\n",
    "#### bias는 모델의 한계 때문에 생김\n",
    "\n",
    "#### nlp 분야에서는 f-measure를 씀 accracy는 터무니 없이 높게 나옴\n",
    "#### precision tp / (tp + fp) ex) 스팸필터링 스팸이 꼭 나와야 하는 경우\n",
    "#### recall tp / (tp + fn) ex) 재현율 \n",
    "#### f measeure로 precision, recall 두개의 가중치를 주면서 볼 수 있음"
   ]
  },
  {
   "cell_type": "code",
   "execution_count": 17,
   "metadata": {},
   "outputs": [],
   "source": [
    "from sklearn.metrics import confusion_matrix"
   ]
  },
  {
   "cell_type": "code",
   "execution_count": 18,
   "metadata": {},
   "outputs": [],
   "source": [
    "trueY = [1, 1, 1, 1, 1, 0, 0, 0, 0, 0]\n",
    "predY = [0, 1, 1, 1, 0, 0, 0, 0, 0, 1]"
   ]
  },
  {
   "cell_type": "code",
   "execution_count": 19,
   "metadata": {},
   "outputs": [
    {
     "data": {
      "text/plain": [
       "array([[4, 2],\n",
       "       [1, 3]], dtype=int64)"
      ]
     },
     "execution_count": 19,
     "metadata": {},
     "output_type": "execute_result"
    }
   ],
   "source": [
    "# 열 => actual\n",
    "# 행 => prediction\n",
    "result = confusion_matrix(trueY, predY).T \n",
    "result"
   ]
  },
  {
   "cell_type": "code",
   "execution_count": 35,
   "metadata": {},
   "outputs": [
    {
     "name": "stdout",
     "output_type": "stream",
     "text": [
      "Precision 0 :  0.6666666666666666\n",
      "Recall 0 :  0.8\n",
      "F1-Score :  0 0.7272727272727272\n",
      "Precision 1 :  0.75\n",
      "Recall 1 :  0.6\n",
      "F1-Score :  1 0.6666666666666665\n",
      "Accuracy :  1 0.7\n"
     ]
    }
   ],
   "source": [
    "_sum = 0\n",
    "\n",
    "for i in range(result.shape[0]):\n",
    "    P = result[i, i]/result[i].sum()\n",
    "    R = result[i, i]/result[:, i].sum()\n",
    "    _sum += result[i, i]\n",
    "    print('Precision', i, ': ', P)\n",
    "    print('Recall', i, ': ', R)\n",
    "    print('F1-Score : ', i, 2*P*R/(P+R))\n",
    "\n",
    "print('Accuracy : ', i, _sum/result.sum())"
   ]
  },
  {
   "cell_type": "markdown",
   "metadata": {},
   "source": [
    "### multinomial"
   ]
  },
  {
   "cell_type": "code",
   "execution_count": 31,
   "metadata": {},
   "outputs": [
    {
     "data": {
      "text/plain": [
       "array([[2, 0, 0],\n",
       "       [0, 0, 1],\n",
       "       [1, 0, 2]], dtype=int64)"
      ]
     },
     "execution_count": 31,
     "metadata": {},
     "output_type": "execute_result"
    }
   ],
   "source": [
    "trueY = [2, 0, 2, 2, 0, 1]\n",
    "predY = [0, 0, 2, 2, 0, 2]\n",
    "confusion_matrix(trueY, predY)\n",
    "\n",
    "# class0 : P , R 각각 구하고 \n",
    "# class1 :\n",
    "# class2 :\n",
    "    "
   ]
  },
  {
   "cell_type": "code",
   "execution_count": 36,
   "metadata": {},
   "outputs": [
    {
     "name": "stdout",
     "output_type": "stream",
     "text": [
      "              precision    recall  f1-score   support\n",
      "\n",
      "           0       0.67      1.00      0.80         2\n",
      "           1       0.00      0.00      0.00         1\n",
      "           2       0.67      0.67      0.67         3\n",
      "\n",
      "   micro avg       0.67      0.67      0.67         6\n",
      "   macro avg       0.44      0.56      0.49         6\n",
      "weighted avg       0.56      0.67      0.60         6\n",
      "\n"
     ]
    }
   ],
   "source": [
    "from sklearn.metrics import classification_report\n",
    "print(classification_report(trueY, predY))"
   ]
  },
  {
   "cell_type": "code",
   "execution_count": null,
   "metadata": {},
   "outputs": [],
   "source": []
  },
  {
   "cell_type": "code",
   "execution_count": null,
   "metadata": {},
   "outputs": [],
   "source": []
  },
  {
   "cell_type": "code",
   "execution_count": null,
   "metadata": {},
   "outputs": [],
   "source": []
  }
 ],
 "metadata": {
  "kernelspec": {
   "display_name": "Python 3",
   "language": "python",
   "name": "python3"
  },
  "language_info": {
   "codemirror_mode": {
    "name": "ipython",
    "version": 3
   },
   "file_extension": ".py",
   "mimetype": "text/x-python",
   "name": "python",
   "nbconvert_exporter": "python",
   "pygments_lexer": "ipython3",
   "version": "3.6.6"
  }
 },
 "nbformat": 4,
 "nbformat_minor": 2
}
