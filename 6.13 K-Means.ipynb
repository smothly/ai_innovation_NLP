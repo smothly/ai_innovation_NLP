{
 "cells": [
  {
   "cell_type": "markdown",
   "metadata": {},
   "source": [
    "# 6.13 - K-means\n",
    "## unsupervised learning, latent vector찾기 hidden value찾기\n",
    "## k개의 centroid를 찾아야 함 - local minimum에 빠질 수 있어서  \n",
    "## 모든점이 각 centroid와 거리를 잰다. \n",
    "## 초기 centroid는 일단 랜덤으로 준다. - 하지만 이것이 성능에 영향을 준다. kmeans ++ 같은경우는 데이터 분포의 중점으로 구분\n",
    "## k hyper parameter는 내가 정해야 한다. \n",
    "## 반복할 때마다 centroid를 다시 설정해야 한다.\n",
    "## 군집내 점사이의 거리(squared error)가 줄어듬이 없어질때까지"
   ]
  },
  {
   "cell_type": "markdown",
   "metadata": {},
   "source": [
    "# K-Means\n",
    "### rnk, muk(random, ) => parameter, K => Hyperparameter\n",
    "### data = point = instance => random(N)"
   ]
  },
  {
   "cell_type": "code",
   "execution_count": 1,
   "metadata": {},
   "outputs": [],
   "source": [
    "from random import randrange\n",
    "\n",
    "K = 3\n",
    "N = 100\n",
    "\n",
    "centroid = list()\n",
    "for i in range(K):\n",
    "    centroid.append([randrange(1, 100), randrange(1, 100)])\n",
    "\n",
    "data = list()\n",
    "for i in range(N):\n",
    "    data.append([randrange(1,100), randrange(1,100)])"
   ]
  },
  {
   "cell_type": "code",
   "execution_count": 2,
   "metadata": {},
   "outputs": [
    {
     "data": {
      "text/plain": [
       "(3, [90, 75])"
      ]
     },
     "execution_count": 2,
     "metadata": {},
     "output_type": "execute_result"
    }
   ],
   "source": [
    "len(centroid), centroid[0]"
   ]
  },
  {
   "cell_type": "code",
   "execution_count": 3,
   "metadata": {},
   "outputs": [
    {
     "data": {
      "text/plain": [
       "(100, [54, 13])"
      ]
     },
     "execution_count": 3,
     "metadata": {},
     "output_type": "execute_result"
    }
   ],
   "source": [
    "len(data), data[0]"
   ]
  },
  {
   "cell_type": "code",
   "execution_count": 4,
   "metadata": {},
   "outputs": [
    {
     "data": {
      "text/plain": [
       "<Figure size 640x480 with 1 Axes>"
      ]
     },
     "metadata": {},
     "output_type": "display_data"
    }
   ],
   "source": [
    "import matplotlib.pyplot as plt\n",
    "\n",
    "colorMap = ['r', 'g', 'b', 'k']\n",
    "\n",
    "for _ in data:\n",
    "    plt.scatter(_[0], _[1], color=colorMap[-1], facecolor=\"none\", alpha=.5,\n",
    "               edgecolor = colorMap[-1])\n",
    "\n",
    "for i, _ in enumerate(centroid):\n",
    "#     plt.scatter(_[0], _[1], color=colorMap[-1])\n",
    "#     print(i, _)\n",
    "    plt.scatter(_[0], _[1], color=colorMap[i])\n",
    "\n",
    "plt.show()"
   ]
  },
  {
   "cell_type": "code",
   "execution_count": 5,
   "metadata": {},
   "outputs": [],
   "source": [
    "from math import sqrt\n",
    "\n",
    "def distance(x1, x2):\n",
    "    _sum = 0\n",
    "    for i in range(len(x1)):\n",
    "        _sum += (x1[i] - x2[i])**2\n",
    "    return sqrt(_sum)\n",
    "#     return sqrt((x1[0]-x2[0])**2 + (x1[1]-x2[1])**2)\n",
    "\n",
    "def angle(x1, x2):\n",
    "    _innerProduct = 0\n",
    "    for i in range(len(x1)):\n",
    "        _innerProduct += x1[i] * x2[i]\n",
    "    x1VecLength = distance(x1, [0 for _ in range(len(x1))])\n",
    "    x2VecLength = distance(x2, [0 for _ in range(len(x2))])\n",
    "    return _innerProduct/(x1VecLength * x2VecLength)\n",
    "#     return (x1[0] * x2[0] + x1[1] * x2[1]) / (distance(x1, (0,0)) * distance(x2, (0,0)))\n",
    "    "
   ]
  },
  {
   "cell_type": "code",
   "execution_count": 6,
   "metadata": {},
   "outputs": [
    {
     "data": {
      "text/plain": [
       "(0.0, 0.9999999999999998)"
      ]
     },
     "execution_count": 6,
     "metadata": {},
     "output_type": "execute_result"
    }
   ],
   "source": [
    "distance((1,1), (1,1)), angle((1,1), (1,1))"
   ]
  },
  {
   "cell_type": "markdown",
   "metadata": {},
   "source": [
    "# EM algorithm\n",
    "### E-Expectation = rnk assignment\n",
    "### M-Maximization = centroid update\n",
    "### cosine similraty - 타원형으로 만들어진다 그룹이"
   ]
  },
  {
   "cell_type": "code",
   "execution_count": 7,
   "metadata": {},
   "outputs": [],
   "source": [
    "def expectation(x, c, opt=False):\n",
    "    candidates = list()\n",
    "    nearest = distance if not opt else angle\n",
    "    best = min if not opt else max \n",
    "    \n",
    "    for _ in c:\n",
    "        candidates.append(nearest(x, _))\n",
    "    return candidates.index(best(candidates)) # 클러스터 번호"
   ]
  },
  {
   "cell_type": "code",
   "execution_count": 8,
   "metadata": {},
   "outputs": [
    {
     "name": "stdout",
     "output_type": "stream",
     "text": [
      "1\n"
     ]
    }
   ],
   "source": [
    "print(expectation(data[0], centroid))"
   ]
  },
  {
   "cell_type": "code",
   "execution_count": 9,
   "metadata": {},
   "outputs": [],
   "source": [
    "def maximization(X):\n",
    "    _sum = [0 for _ in range(len(X[0]))]\n",
    "    D = len(X)\n",
    "    for x in X:\n",
    "        for i in range(len(x)):\n",
    "            _sum[i] += x[i]\n",
    "    return [_/D for _ in _sum]\n",
    "    #  클러스터 내 데이터의 합 / 클러스터 내 데이터 갯수\n",
    "#     return (sum([x[0] for x in X])/len(X),\n",
    "#             sum([x[1] for x in X])/len(X))"
   ]
  },
  {
   "cell_type": "code",
   "execution_count": 10,
   "metadata": {},
   "outputs": [],
   "source": [
    "def sumSquaredError(X, c, opt=False):\n",
    "    \n",
    "    nearest = distance if not opt else angle\n",
    "    \n",
    "    error = 0\n",
    "    for x in X:\n",
    "        error += nearest(x, c)\n",
    "    return error "
   ]
  },
  {
   "cell_type": "code",
   "execution_count": 15,
   "metadata": {},
   "outputs": [
    {
     "ename": "SyntaxError",
     "evalue": "invalid syntax (<ipython-input-15-7df88b5d1547>, line 23)",
     "output_type": "error",
     "traceback": [
      "\u001b[1;36m  File \u001b[1;32m\"<ipython-input-15-7df88b5d1547>\"\u001b[1;36m, line \u001b[1;32m23\u001b[0m\n\u001b[1;33m    oldCentroid = list()centroid\u001b[0m\n\u001b[1;37m                               ^\u001b[0m\n\u001b[1;31mSyntaxError\u001b[0m\u001b[1;31m:\u001b[0m invalid syntax\n"
     ]
    }
   ],
   "source": [
    "colorMap = [\"r\", \"g\", \"b\", \"c\", \"m\", \"y\", \"C0\", \"C1\", \"C2\",\"K\"]\n",
    "errorRate = list()\n",
    "\n",
    "for K in range(2, 10):\n",
    "\n",
    "    # centroid 랜덤 설정\n",
    "    centroid = list()\n",
    "    for i in range(K):\n",
    "        centroid.append([randrange(1, 100), randrange(1, 100)])\n",
    "    \n",
    "    data = list()\n",
    "    for i in range(N):\n",
    "        data.append([randrange(1,100), randrange(1,100)])\n",
    "\n",
    "    for _ in range(10):\n",
    "        rnk = list(list(0 for _ in range(K)) for _ in range(N))\n",
    "\n",
    "        for i in range(N):\n",
    "            j = expectation(data[i], centroid)\n",
    "            rnk[i][j] = 1\n",
    "\n",
    "        _sse = 0\n",
    "        oldCentroid = list()centroid\n",
    "\n",
    "        for k in range(K):\n",
    "            X = [data[i] for i in range(N) if rnk[i][k]]\n",
    "            _sse += sumSquaredError(X, centroid[k])\n",
    "    #         print(centroid[k]) # 이전 centroid 값\n",
    "            centroid[k] = maximization(X)\n",
    "    #         print(centroid[k]) # 이후 centroid \n",
    "        errorRate.append(_sse)\n",
    "\n",
    "        for i in range(N):\n",
    "            plt.scatter(data[i][0], data[i][1], edgecolor=colorMap[rnk[i].index(max(rnk[i]))],\n",
    "                        facecolor=\"none\", alpha = .5)\n",
    "\n",
    "        for i, _ in enumerate(centroid):\n",
    "#             plt.plot((oldCentroid[i][0], _[0]),\n",
    "#                      (oldCentroid[i][1], _[1]), \"r-\")\n",
    "#             plt.scatter(oldCentroid[i][0], oldCentroid[i][1],\n",
    "#                         edgecolors=\"k\", facecolor=\"none\",\n",
    "#                         color=colorMap[i])\n",
    "            plt.scatter(_[0], _[1], color=colorMap[i])\n",
    "#     plt.title(_sse)\n",
    "    plt.show()\n",
    "plt.plot(range(len(errorRate)), errorRate, \"r-\")\n",
    "plt.show()"
   ]
  },
  {
   "cell_type": "code",
   "execution_count": 14,
   "metadata": {},
   "outputs": [
    {
     "data": {
      "text/plain": [
       "Text(0.5, 1.0, 'Sum Squared Error')"
      ]
     },
     "execution_count": 14,
     "metadata": {},
     "output_type": "execute_result"
    },
    {
     "data": {
      "image/png": "[encoded data removed]",
      "text/plain": [
       "<Figure size 432x288 with 1 Axes>"
      ]
     },
     "metadata": {
      "needs_background": "light"
     },
     "output_type": "display_data"
    }
   ],
   "source": [
    "plt.plot(errorRate, \"r-\")\n",
    "plt.title(\"Sum Squared Error\")"
   ]
  },
  {
   "cell_type": "code",
   "execution_count": null,
   "metadata": {},
   "outputs": [],
   "source": [
    "for i in range(N):\n",
    "    plt.scatter(data[i][0], data[i][1], edgecolor=colorMap[rnk[i].index(max(rnk[i]))], facecolor=\"none\", alpha = .5)\n",
    "\n",
    "for i, _ in enumerate(centroid):\n",
    "    plt.scatter(_[0], _[1], color=colorMap[i])\n",
    "\n",
    "plt.show()"
   ]
  },
  {
   "cell_type": "code",
   "execution_count": null,
   "metadata": {},
   "outputs": [],
   "source": []
  }
 ],
 "metadata": {
  "kernelspec": {
   "display_name": "Python 3",
   "language": "python",
   "name": "python3"
  },
  "language_info": {
   "codemirror_mode": {
    "name": "ipython",
    "version": 3
   },
   "file_extension": ".py",
   "mimetype": "text/x-python",
   "name": "python",
   "nbconvert_exporter": "python",
   "pygments_lexer": "ipython3",
   "version": "3.6.6"
  }
 },
 "nbformat": 4,
 "nbformat_minor": 2
}
