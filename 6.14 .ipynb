{
 "cells": [
  {
   "cell_type": "code",
   "execution_count": 1,
   "metadata": {},
   "outputs": [],
   "source": [
    "from nltk.tokenize import word_tokenize\n",
    "from nltk.corpus import stopwords\n",
    "from string import punctuation\n",
    "import re"
   ]
  },
  {
   "cell_type": "code",
   "execution_count": 2,
   "metadata": {},
   "outputs": [],
   "source": [
    "documnets = [\n",
    "    \"This little kitty came to play when I was eating at a resturaunt.\",\n",
    "    \"Merley has the best squooshy kitten belly.\",\n",
    "    \"Google Translate app is incredible.\",\n",
    "    \"If you open 100 tab in google you get ad smiley face.\",\n",
    "    \"Best cat photo I;ve ever taken.\",\n",
    "    \"Climbing ninja cat.\",\n",
    "    \"Impressed with google map feedback.\",\n",
    "    \"Key promoter extension for Google Chrome.\",    \n",
    "]"
   ]
  },
  {
   "cell_type": "code",
   "execution_count": 3,
   "metadata": {},
   "outputs": [],
   "source": [
    "from collections import defaultdict\n",
    "# DTM -> TDM -> TWM\n",
    "DTM = defaultdict(lambda:defaultdict(int))\n",
    "for i, d in enumerate(documnets):\n",
    "    for t in word_tokenize(d.lower()):\n",
    "        if t not in stopwords.words(\"english\") and \\\n",
    "            not re.search(r\"[%s]\" % re.escape(punctuation), t):\n",
    "                DTM[i][t] += 1"
   ]
  },
  {
   "cell_type": "code",
   "execution_count": 5,
   "metadata": {},
   "outputs": [
    {
     "data": {
      "text/plain": [
       "(8,\n",
       " defaultdict(int,\n",
       "             {'little': 1,\n",
       "              'kitty': 1,\n",
       "              'came': 1,\n",
       "              'play': 1,\n",
       "              'eating': 1,\n",
       "              'resturaunt': 1}))"
      ]
     },
     "execution_count": 5,
     "metadata": {},
     "output_type": "execute_result"
    }
   ],
   "source": [
    "len(DTM), DTM[0]"
   ]
  },
  {
   "cell_type": "code",
   "execution_count": 6,
   "metadata": {},
   "outputs": [],
   "source": [
    "TDM = defaultdict(lambda:defaultdict(int))\n",
    "for d, termList in DTM.items():\n",
    "    for t, f in termList.items():\n",
    "        TDM[t][d] = f"
   ]
  },
  {
   "cell_type": "code",
   "execution_count": 8,
   "metadata": {},
   "outputs": [
    {
     "data": {
      "text/plain": [
       "35"
      ]
     },
     "execution_count": 8,
     "metadata": {},
     "output_type": "execute_result"
    }
   ],
   "source": [
    "len(TDM)"
   ]
  },
  {
   "cell_type": "code",
   "execution_count": null,
   "metadata": {},
   "outputs": [],
   "source": []
  }
 ],
 "metadata": {
  "kernelspec": {
   "display_name": "Python 3",
   "language": "python",
   "name": "python3"
  },
  "language_info": {
   "codemirror_mode": {
    "name": "ipython",
    "version": 3
   },
   "file_extension": ".py",
   "mimetype": "text/x-python",
   "name": "python",
   "nbconvert_exporter": "python",
   "pygments_lexer": "ipython3",
   "version": "3.6.6"
  }
 },
 "nbformat": 4,
 "nbformat_minor": 2
}
