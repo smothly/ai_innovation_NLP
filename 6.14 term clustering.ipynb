{
 "cells": [
  {
   "cell_type": "code",
   "execution_count": 1,
   "metadata": {},
   "outputs": [],
   "source": [
    "from nltk.tokenize import word_tokenize\n",
    "from nltk.corpus import stopwords\n",
    "from string import punctuation\n",
    "import re"
   ]
  },
  {
   "cell_type": "code",
   "execution_count": 2,
   "metadata": {},
   "outputs": [],
   "source": [
    "documnets = [\n",
    "    \"This little kitty came to play when I was eating at a resturaunt.\",\n",
    "    \"Merley has the best squooshy kitten belly.\",\n",
    "    \"Google Translate app is incredible.\",\n",
    "    \"If you open 100 tab in google you get ad smiley face.\",\n",
    "    \"Best cat photo I;ve ever taken.\",\n",
    "    \"Climbing ninja cat.\",\n",
    "    \"Impressed with google map feedback.\",\n",
    "    \"Key promoter extension for Google Chrome.\",    \n",
    "]"
   ]
  },
  {
   "cell_type": "code",
   "execution_count": 3,
   "metadata": {},
   "outputs": [],
   "source": [
    "from collections import defaultdict\n",
    "# DTM -> TDM -> TWM\n",
    "DTM = defaultdict(lambda:defaultdict(int))\n",
    "for i, d in enumerate(documnets):\n",
    "    for t in word_tokenize(d.lower()):\n",
    "        if t not in stopwords.words(\"english\") and \\\n",
    "            not re.search(r\"[%s]\" % re.escape(punctuation), t):\n",
    "                DTM[i][t] += 1"
   ]
  },
  {
   "cell_type": "code",
   "execution_count": 4,
   "metadata": {},
   "outputs": [
    {
     "data": {
      "text/plain": [
       "(8,\n",
       " defaultdict(int,\n",
       "             {'little': 1,\n",
       "              'kitty': 1,\n",
       "              'came': 1,\n",
       "              'play': 1,\n",
       "              'eating': 1,\n",
       "              'resturaunt': 1}))"
      ]
     },
     "execution_count": 4,
     "metadata": {},
     "output_type": "execute_result"
    }
   ],
   "source": [
    "len(DTM), DTM[0]"
   ]
  },
  {
   "cell_type": "code",
   "execution_count": 5,
   "metadata": {},
   "outputs": [],
   "source": [
    "TDM = defaultdict(lambda:defaultdict(int))\n",
    "for d, termList in DTM.items():\n",
    "    for t, f in termList.items():\n",
    "        TDM[t][d] = f"
   ]
  },
  {
   "cell_type": "code",
   "execution_count": 6,
   "metadata": {},
   "outputs": [
    {
     "data": {
      "text/plain": [
       "35"
      ]
     },
     "execution_count": 6,
     "metadata": {},
     "output_type": "execute_result"
    }
   ],
   "source": [
    "len(TDM)"
   ]
  },
  {
   "cell_type": "markdown",
   "metadata": {},
   "source": [
    "### TF * IDF\n",
    "### TF = freq(i, j) / max freq(j) => j번째 문서에서 나온, i번째의 빈도를 freq(i, j)\n",
    "### freq(i, j) => TDM[단어][문서:빈도], max freq => DTM[문서]max([단어:빈도])\n",
    "### IDF = log N/df(i) => i번째 단어의 문서빈도 df(i), N => 전체문서수 \n",
    "### df => len(TDM[단어]), N => len(DTM)"
   ]
  },
  {
   "cell_type": "code",
   "execution_count": 7,
   "metadata": {},
   "outputs": [],
   "source": [
    "from math import log2\n",
    "\n",
    "TWM = defaultdict(lambda:defaultdict(float))\n",
    "# TWM[단어][문서:가중치....]\n",
    "N = len(DTM)\n",
    "for term, docList in TDM.items():\n",
    "    df = len(docList)\n",
    "    for d, f in docList.items():\n",
    "        maxFreq = max(DTM[d].values())\n",
    "        TF = f/maxFreq\n",
    "        IDF = log2(N/df)\n",
    "        TWM[term][d] = TF * IDF\n",
    "# TWM[단어][문서:가중치, ... ]"
   ]
  },
  {
   "cell_type": "markdown",
   "metadata": {},
   "source": [
    "### TWM => 단어 - 문서 : 가중치\n",
    "### 단어 -> concept(차원, 축), 문서 -> BOW(단어, 단어 단어,) V = TDM.keys()\n",
    "### 문서1 = [0, 0, 0, 1, ... V] \n",
    "### 문서2 = [1, 0, 0, 1, ... V]"
   ]
  },
  {
   "cell_type": "code",
   "execution_count": 8,
   "metadata": {},
   "outputs": [
    {
     "name": "stdout",
     "output_type": "stream",
     "text": [
      "[3.0, 3.0, 3.0, 3.0, 3.0, 3.0, 0, 0, 0, 0, 0, 0, 0, 0, 0, 0, 0, 0, 0, 0, 0, 0, 0, 0, 0, 0, 0, 0, 0, 0, 0, 0, 0, 0, 0]\n",
      "0 ['little', 'kitty', 'came', 'play', 'eating', 'resturaunt']\n"
     ]
    }
   ],
   "source": [
    "docVectorList = [[0 for _ in range(len(TDM))] for _ in range(N)]\n",
    "\n",
    "D = list(DTM.keys())\n",
    "V = list(TDM.keys())\n",
    "\n",
    "for t, docList in TWM.items():\n",
    "    for d, w in docList.items():\n",
    "        docVectorList[D.index(d)][V.index(t)] = w\n",
    "print(docVectorList[0])\n",
    "print(D[0], V[:6])"
   ]
  },
  {
   "cell_type": "code",
   "execution_count": null,
   "metadata": {},
   "outputs": [],
   "source": [
    "docVectorList"
   ]
  },
  {
   "cell_type": "code",
   "execution_count": 10,
   "metadata": {},
   "outputs": [
    {
     "data": {
      "text/plain": [
       "(8, 8, 35, 35)"
      ]
     },
     "execution_count": 10,
     "metadata": {},
     "output_type": "execute_result"
    }
   ],
   "source": [
    "len(docVectorList), len(documnets), len(docVectorList[0]), len(TDM)"
   ]
  },
  {
   "cell_type": "code",
   "execution_count": 11,
   "metadata": {},
   "outputs": [],
   "source": [
    "from math import sqrt\n",
    "\n",
    "def distance(x1, x2):\n",
    "    _sum = 0\n",
    "    for i in range(len(x1)):\n",
    "        _sum += (x1[i] - x2[i])**2\n",
    "    return sqrt(_sum)\n",
    "#     return sqrt((x1[0]-x2[0])**2 + (x1[1]-x2[1])**2)\n",
    "\n",
    "def angle(x1, x2):\n",
    "    _innerProduct = 0\n",
    "    if len(x1) > 0 and len(x2) > 0:\n",
    "        for i in range(len(x1)):\n",
    "            _innerProduct += x1[i] * x2[i]\n",
    "        x1VecLength = distance(x1, [0 for _ in range(len(x1))])\n",
    "        x2VecLength = distance(x2, [0 for _ in range(len(x2))])\n",
    "        return _innerProduct/(x1VecLength * x2VecLength)\n",
    "    else:\n",
    "        return 0"
   ]
  },
  {
   "cell_type": "code",
   "execution_count": 12,
   "metadata": {},
   "outputs": [],
   "source": [
    "def expectation(x, c, opt=False):\n",
    "    candidates = list()\n",
    "    nearest = distance if not opt else angle\n",
    "    best = min if not opt else max \n",
    "    \n",
    "    for _ in c:\n",
    "        candidates.append(nearest(x, _))\n",
    "    return candidates.index(best(candidates)) # 클러스터 번호"
   ]
  },
  {
   "cell_type": "code",
   "execution_count": 13,
   "metadata": {},
   "outputs": [],
   "source": [
    "def maximization(X, lenV):\n",
    "    if len(X) > 0:\n",
    "        _sum = [0 for _ in range(len(X[0]))]\n",
    "        D = len(X)\n",
    "        for x in X:\n",
    "            for i in range(len(x)):\n",
    "                _sum[i] += x[i]           \n",
    "        return [_/D for _ in _sum]\n",
    "    return [0] * lenV"
   ]
  },
  {
   "cell_type": "code",
   "execution_count": 14,
   "metadata": {},
   "outputs": [],
   "source": [
    "def sumSquaredError(X, c, opt=False):\n",
    "    \n",
    "    nearest = distance if not opt else angle\n",
    "    \n",
    "    error = 0\n",
    "    for x in X:\n",
    "        error += nearest(x, c)\n",
    "    return error "
   ]
  },
  {
   "cell_type": "code",
   "execution_count": 16,
   "metadata": {},
   "outputs": [],
   "source": [
    "from random import randrange\n",
    "K = 2\n",
    "# V 차원\n",
    "centroid = [[randrange(0, 4) for _ in range(len(V))] for _ in range(K)]\n",
    "_iter = 10\n",
    "seeList = list()\n",
    "for _ in range(_iter):\n",
    "    rnk = list(list(0 for _ in range(K)) for _ in range(N))\n",
    "    \n",
    "    for i, x in enumerate(docVectorList):\n",
    "        idx = expectation(x, centroid)\n",
    "        rnk[i][idx] = 1\n",
    "    _sum = 0.0\n",
    "    for k in range(K):\n",
    "        _X = [docVectorList[i] for i in range(N) if rnk[i][k]]\n",
    "        _sum = sumSquaredError(_X, centroid[k])\n",
    "        centroid[k] = maximization(_X, len(V))\n",
    "    seeList.append(_sum)"
   ]
  },
  {
   "cell_type": "code",
   "execution_count": 17,
   "metadata": {},
   "outputs": [
    {
     "data": {
      "text/plain": [
       "<Figure size 640x480 with 1 Axes>"
      ]
     },
     "metadata": {},
     "output_type": "display_data"
    }
   ],
   "source": [
    "import matplotlib.pyplot as plt\n",
    "\n",
    "plt.plot(range(_iter), seeList, \"r-\")\n",
    "plt.show()"
   ]
  },
  {
   "cell_type": "code",
   "execution_count": 18,
   "metadata": {},
   "outputs": [
    {
     "name": "stdout",
     "output_type": "stream",
     "text": [
      "Cluster : 0\n",
      "Merley has the best squooshy kitten belly.\n",
      "Google Translate app is incredible.\n",
      "If you open 100 tab in google you get ad smiley face.\n",
      "Best cat photo I;ve ever taken.\n",
      "Key promoter extension for Google Chrome.\n",
      "Cluster : 1\n",
      "This little kitty came to play when I was eating at a resturaunt.\n",
      "Climbing ninja cat.\n",
      "Impressed with google map feedback.\n"
     ]
    }
   ],
   "source": [
    "for k in range(K):\n",
    "    _X = [i for i in range(len(D)) if rnk[i][k]]\n",
    "    print(\"Cluster :\", k)\n",
    "    for x in _X:\n",
    "        print(documnets[x])"
   ]
  },
  {
   "cell_type": "markdown",
   "metadata": {},
   "source": [
    "### 토픽(centroid) 찾기"
   ]
  },
  {
   "cell_type": "code",
   "execution_count": 19,
   "metadata": {},
   "outputs": [],
   "source": [
    "result = list()\n",
    "for k in range(K):\n",
    "    W = [(V[i], centroid[k][i]) for i in range(len(V))\n",
    "         if centroid[k][i]]\n",
    "    result.append(sorted(W, key=lambda x:x[1], reverse=True)[:5])\n",
    "#     print(sorted(W, key=lambda x:x[1], reverse=True)[:5])"
   ]
  },
  {
   "cell_type": "code",
   "execution_count": 20,
   "metadata": {},
   "outputs": [
    {
     "data": {
      "text/plain": [
       "[[('best', 0.8),\n",
       "  ('merley', 0.6),\n",
       "  ('squooshy', 0.6),\n",
       "  ('kitten', 0.6),\n",
       "  ('belly', 0.6)],\n",
       " [('little', 1.0),\n",
       "  ('kitty', 1.0),\n",
       "  ('came', 1.0),\n",
       "  ('play', 1.0),\n",
       "  ('eating', 1.0)]]"
      ]
     },
     "execution_count": 20,
     "metadata": {},
     "output_type": "execute_result"
    }
   ],
   "source": [
    "result"
   ]
  },
  {
   "cell_type": "code",
   "execution_count": 21,
   "metadata": {},
   "outputs": [
    {
     "data": {
      "image/png": "[encoded data removed]",
      "text/plain": [
       "<PIL.Image.Image image mode=RGB size=400x200 at 0x157CBDEC390>"
      ]
     },
     "execution_count": 21,
     "metadata": {},
     "output_type": "execute_result"
    }
   ],
   "source": [
    "from wordcloud import WordCloud\n",
    "\n",
    "data = {x[0]:x[1] for x in result[1]}\n",
    "\n",
    "wc = WordCloud(background_color=\"white\")\n",
    "wc.generate_from_frequencies(data)\n",
    "wc.to_image()"
   ]
  },
  {
   "cell_type": "markdown",
   "metadata": {},
   "source": [
    "# 뉴스카테고리별로 토픽 끄내기\n",
    "# V = [len(V)] => 명사(2음절 이상)\n",
    "# K = 6"
   ]
  },
  {
   "cell_type": "code",
   "execution_count": 22,
   "metadata": {},
   "outputs": [
    {
     "data": {
      "text/plain": [
       "2"
      ]
     },
     "execution_count": 22,
     "metadata": {},
     "output_type": "execute_result"
    }
   ],
   "source": [
    "# 토픽: 적절한 설명\n",
    "from random import sample\n",
    "len(sample(docVectorList, K))"
   ]
  },
  {
   "cell_type": "code",
   "execution_count": 23,
   "metadata": {},
   "outputs": [],
   "source": [
    "from os import listdir\n",
    "def fileids(path):\n",
    "    return [path+file for file in listdir(path)]"
   ]
  },
  {
   "cell_type": "code",
   "execution_count": 24,
   "metadata": {},
   "outputs": [],
   "source": [
    "def filecontent(file):\n",
    "    with open(file, encoding='utf-8') as fp:\n",
    "        content = fp.read()\n",
    "    return content"
   ]
  },
  {
   "cell_type": "code",
   "execution_count": 36,
   "metadata": {},
   "outputs": [],
   "source": [
    "from string import punctuation\n",
    "import re\n",
    "\n",
    "def makePattern():\n",
    "    pattern = dict()\n",
    "\n",
    "    # 구두점\n",
    "    pattern1 = re.compile(r'[{0}]'.format(re.escape(punctuation)))\n",
    "    pattern['punc'] = pattern1\n",
    "    # corpus = pattern1.sub(' ',corpus)\n",
    "\n",
    "    # 불용어\n",
    "    pattern2 = re.compile(r'[A-Za-z0-9]{7,}')\n",
    "    pattern['stop'] = pattern2\n",
    "    # corpus = pattern2.sub(' ',corpus)\n",
    "\n",
    "    # 이메일\n",
    "    # pattern3 = re.compile(r'\\w{2,}@\\w{3,}(.\\w{2,})+')\n",
    "    pattern3 = re.compile(r'\\w{2,}@(.?\\w{2,})+')\n",
    "    pattern['email'] = pattern3\n",
    "    # corpus = pattern3.sub(' ',corpus)\n",
    "\n",
    "    # 도메인\n",
    "    pattern4 = re.compile(r'(.?\\w{2,}){2,}')\n",
    "    pattern['url'] = pattern4\n",
    "    # corpus = pattern4.sub(' ',corpus)\n",
    "\n",
    "    # 한글 이외\n",
    "    pattern5 = re.compile(r'[^가-힣0-9]+')\n",
    "    pattern['nonkorean'] = pattern5\n",
    "    # corpus = pattern5.sub(' ',corpus)\n",
    "\n",
    "    # WhiteSpace\n",
    "    pattern6 = re.compile(r\"\\s{2,}\")\n",
    "    pattern['whitespace'] = pattern5\n",
    "    # corpus = pattern6.sub(' ',corpus)\n",
    "    \n",
    "    return pattern"
   ]
  },
  {
   "cell_type": "code",
   "execution_count": 73,
   "metadata": {},
   "outputs": [],
   "source": [
    "from collections import defaultdict\n",
    "\n",
    "# content = filecontent(fileids('./news_crawl_project/')[-2])\n",
    "\n",
    "pattern = makePattern()\n",
    "\n",
    "def punc_stop(file):\n",
    "    for _ in ['email', 'punc', 'stop','whitespace']:\n",
    "        file = pattern[_].sub(' ',file)\n",
    "    return file\n",
    "\n",
    "def indexing(file):\n",
    "    indexTerm1 = defaultdict(int)\n",
    "    indexTerm4 = defaultdict(int)\n",
    "\n",
    "    for term in word_tokenize(file):\n",
    "        indexTerm1[term] += 1 # 원시어절\n",
    "    \n",
    "    for _ in indexTerm1:\n",
    "        for t in ma.pos(_):\n",
    "            if t[1].startswith('N') and len(t[0]) >= 2:\n",
    "                indexTerm4[t[0]] += 1 # 명사\n",
    "           \n",
    "    return indexTerm4 #일단은 명사만 "
   ]
  },
  {
   "cell_type": "code",
   "execution_count": 74,
   "metadata": {},
   "outputs": [
    {
     "name": "stdout",
     "output_type": "stream",
     "text": [
      "100 진행중\n",
      "200 진행중\n",
      "300 진행중\n",
      "400 진행중\n",
      "500 진행중\n",
      "600 진행중\n",
      "700 진행중\n",
      "800 진행중\n",
      "900 진행중\n",
      "1000 진행중\n",
      "1100 진행중\n",
      "1200 진행중\n"
     ]
    }
   ],
   "source": [
    "from konlpy.tag import Komoran\n",
    "\n",
    "ma = Komoran()\n",
    "\n",
    "def DTM_conversion():\n",
    "    documentList = defaultdict(lambda: defaultdict(int))\n",
    "    idx = 0\n",
    "    for file in fileids('./news_crawl_project/'):\n",
    "        documentList[idx] = indexing(punc_stop(filecontent(file)))\n",
    "        idx += 1\n",
    "        if idx % 100 == 0:\n",
    "            print(idx, '진행중')\n",
    "    return documentList\n",
    "DTM = DTM_conversion()"
   ]
  },
  {
   "cell_type": "code",
   "execution_count": 75,
   "metadata": {},
   "outputs": [
    {
     "data": {
      "text/plain": [
       "1252"
      ]
     },
     "execution_count": 75,
     "metadata": {},
     "output_type": "execute_result"
    }
   ],
   "source": [
    "len(DTM)"
   ]
  },
  {
   "cell_type": "code",
   "execution_count": 76,
   "metadata": {},
   "outputs": [],
   "source": [
    "TDM = defaultdict(lambda:defaultdict(int))\n",
    "for d, termList in DTM.items():\n",
    "    for t, f in termList.items():\n",
    "        TDM[t][d] = f"
   ]
  },
  {
   "cell_type": "code",
   "execution_count": 77,
   "metadata": {},
   "outputs": [
    {
     "data": {
      "text/plain": [
       "(16824, defaultdict(int, {}))"
      ]
     },
     "execution_count": 77,
     "metadata": {},
     "output_type": "execute_result"
    }
   ],
   "source": [
    "len(TDM), TDM['개']"
   ]
  },
  {
   "cell_type": "code",
   "execution_count": null,
   "metadata": {},
   "outputs": [],
   "source": [
    "from math import log2\n",
    "\n",
    "TWM = defaultdict(lambda:defaultdict(float))\n",
    "# TWM[단어][문서:가중치....]\n",
    "N = len(DTM)\n",
    "for term, docList in TDM.items():\n",
    "    df = len(docList)\n",
    "    for d, f in docList.items():\n",
    "        maxFreq = max(DTM[d].values())\n",
    "        TF = f/maxFreq\n",
    "        IDF = log2(N/df)\n",
    "        TWM[term][d] = TF * IDF\n",
    "# TWM[단어][문서:가중치, ... ]"
   ]
  },
  {
   "cell_type": "code",
   "execution_count": null,
   "metadata": {},
   "outputs": [],
   "source": [
    "docVectorList = [[0 for _ in range(len(TDM))] for _ in range(N)]\n",
    "\n",
    "D = list(DTM.keys())\n",
    "V = list(TDM.keys())\n",
    "\n",
    "for t, docList in TWM.items():\n",
    "    for d, w in docList.items():\n",
    "        docVectorList[D.index(d)][V.index(t)] = w"
   ]
  },
  {
   "cell_type": "code",
   "execution_count": null,
   "metadata": {},
   "outputs": [
    {
     "name": "stdout",
     "output_type": "stream",
     "text": [
      "16825 7631 1252 16825 1252\n"
     ]
    }
   ],
   "source": [
    "print(len(docVectorList[0]), len(centroid[0]), len(D), len(V), N)\n",
    "# print(D[0], V[:6])"
   ]
  },
  {
   "cell_type": "code",
   "execution_count": null,
   "metadata": {},
   "outputs": [],
   "source": [
    "from random import randrange\n",
    "K = 6\n",
    "# V 차원\n",
    "centroid = sample(docVectorList, K)\n",
    "_iter = 4\n",
    "seeList = list()\n",
    "for _ in range(_iter):\n",
    "    rnk = list(list(0 for _ in range(K)) for _ in range(N))\n",
    "    \n",
    "    for i, x in enumerate(docVectorList):\n",
    "        idx = expectation(x, centroid)\n",
    "        rnk[i][idx] = 1\n",
    "    \n",
    "    _sum = 0.0\n",
    "    for k in range(K):\n",
    "        _X = [docVectorList[i] for i in range(N) if rnk[i][k]]\n",
    "        _sum = sumSquaredError(_X, centroid[k])\n",
    "        centroid[k] = maximization(_X, len(V))\n",
    "    seeList.append(_sum)"
   ]
  },
  {
   "cell_type": "code",
   "execution_count": null,
   "metadata": {},
   "outputs": [],
   "source": [
    "import matplotlib.pyplot as plt\n",
    "\n",
    "plt.plot(range(_iter), seeList, \"r-\")\n",
    "plt.show()"
   ]
  },
  {
   "cell_type": "code",
   "execution_count": null,
   "metadata": {},
   "outputs": [],
   "source": [
    "result = list()\n",
    "for k in range(K):\n",
    "    W = [(V[i], centroid[k][i]) for i in range(len(V))\n",
    "         if centroid[k][i]]\n",
    "    result.append(sorted(W, key=lambda x:x[1], reverse=True)[8])\n",
    "#     print(sorted(W, key=lambda x:x[1], reverse=True)[:5])"
   ]
  },
  {
   "cell_type": "code",
   "execution_count": 71,
   "metadata": {},
   "outputs": [
    {
     "data": {
      "image/png": "[encoded data removed]",
      "text/plain": [
       "<PIL.Image.Image image mode=RGB size=400x200 at 0x157E482B898>"
      ]
     },
     "execution_count": 71,
     "metadata": {},
     "output_type": "execute_result"
    }
   ],
   "source": [
    "from wordcloud import WordCloud\n",
    "\n",
    "font = \"c:/Windows/Fonts/NanumGothic.ttf\"\n",
    "for i in range(K):\n",
    "    data = {x[0]:x[1] for x in result[i]}\n",
    "    wc = WordCloud(font, background_color=\"white\")\n",
    "    wc.generate_from_frequencies(data)\n",
    "    wc.to_image()"
   ]
  },
  {
   "cell_type": "code",
   "execution_count": null,
   "metadata": {},
   "outputs": [],
   "source": []
  }
 ],
 "metadata": {
  "kernelspec": {
   "display_name": "Python 3",
   "language": "python",
   "name": "python3"
  },
  "language_info": {
   "codemirror_mode": {
    "name": "ipython",
    "version": 3
   },
   "file_extension": ".py",
   "mimetype": "text/x-python",
   "name": "python",
   "nbconvert_exporter": "python",
   "pygments_lexer": "ipython3",
   "version": "3.6.6"
  }
 },
 "nbformat": 4,
 "nbformat_minor": 2
}
