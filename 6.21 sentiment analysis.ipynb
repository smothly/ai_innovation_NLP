{
 "cells": [
  {
   "cell_type": "code",
   "execution_count": null,
   "metadata": {},
   "outputs": [],
   "source": [
    "# 6.21 Sentiment Analysis\n",
    "### opinion extraction\n",
    "### opinion mining\n",
    "### sentiment mining\n",
    "### subjectivity meani\n",
    "### 감성 <-> 감정\n",
    "### shallow feeling <-> strong feeling"
   ]
  },
  {
   "cell_type": "code",
   "execution_count": null,
   "metadata": {},
   "outputs": [],
   "source": []
  },
  {
   "cell_type": "markdown",
   "metadata": {},
   "source": [
    "# 네이버 - 영화 -> 영화평 수집"
   ]
  },
  {
   "cell_type": "code",
   "execution_count": 1,
   "metadata": {},
   "outputs": [],
   "source": [
    "import requests\n",
    "from bs4 import BeautifulSoup\n",
    "from selenium import webdriver\n",
    "import time"
   ]
  },
  {
   "cell_type": "code",
   "execution_count": 2,
   "metadata": {},
   "outputs": [],
   "source": [
    "browser = webdriver.Chrome()\n",
    "url = \"https://movie.naver.com/movie/point/af/list.nhn\"\n",
    "browser.get(url)"
   ]
  },
  {
   "cell_type": "code",
   "execution_count": 3,
   "metadata": {},
   "outputs": [],
   "source": [
    "from tqdm import tqdm\n",
    "reviewData = list()\n",
    "# links = browser.find_element_by_class_name('paging').find_elements_by_tag_name('a')\n",
    "_iter = 100\n",
    "for page in range(_iter):\n",
    "    for row in browser.find_elements_by_tag_name('tr')[1:]:\n",
    "        title = row.find_element_by_class_name('title').text.split('\\n')[0]\n",
    "        point = row.find_element_by_class_name('point').text\n",
    "        text = row.find_element_by_class_name('title').text.split('\\n')[1][:-3]\n",
    "        reviewData.append((title, point, text))\n",
    "    browser.find_element_by_class_name('pg_next').click()"
   ]
  },
  {
   "cell_type": "code",
   "execution_count": 4,
   "metadata": {},
   "outputs": [],
   "source": [
    "import csv\n",
    "\n",
    "csvFile = open(\"./reviewData.csv\", \"a\", newline=\"\\n\")\n",
    "csvWriter = csv.writer(csvFile)\n",
    "\n",
    "for row in reviewData:\n",
    "    csvWriter.writerow(row)\n",
    "\n",
    "csvFile.close()"
   ]
  },
  {
   "cell_type": "code",
   "execution_count": 6,
   "metadata": {},
   "outputs": [
    {
     "data": {
      "text/plain": [
       "('롱 리브 더 킹: 목포 영웅', '10', '이거진짜꿀잼입니다!~')"
      ]
     },
     "execution_count": 6,
     "metadata": {},
     "output_type": "execute_result"
    }
   ],
   "source": [
    "reviewData[-1]"
   ]
  },
  {
   "cell_type": "code",
   "execution_count": null,
   "metadata": {},
   "outputs": [],
   "source": []
  }
 ],
 "metadata": {
  "kernelspec": {
   "display_name": "Python 3",
   "language": "python",
   "name": "python3"
  },
  "language_info": {
   "codemirror_mode": {
    "name": "ipython",
    "version": 3
   },
   "file_extension": ".py",
   "mimetype": "text/x-python",
   "name": "python",
   "nbconvert_exporter": "python",
   "pygments_lexer": "ipython3",
   "version": "3.6.6"
  }
 },
 "nbformat": 4,
 "nbformat_minor": 2
}
