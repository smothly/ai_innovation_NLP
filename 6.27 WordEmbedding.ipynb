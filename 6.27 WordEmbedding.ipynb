{
 "cells": [
  {
   "cell_type": "code",
   "execution_count": 4,
   "metadata": {},
   "outputs": [],
   "source": [
    "import numpy as np\n",
    "\n",
    "words = ['I', 'like', 'enjoy', 'deep', 'learning', 'NLP', 'flying', '.']\n",
    "X = np.array([[0,2,1,0,0,0,0,0],\n",
    "              [2,0,0,1,0,1,0,0],\n",
    "              [1,0,0,0,0,0,1,0],\n",
    "              [0,1,0,0,1,0,0,0],\n",
    "              [0,0,0,1,0,0,0,1],\n",
    "              [0,1,0,0,0,0,0,1],\n",
    "              [0,0,1,0,0,0,0,1],\n",
    "              [0,0,0,0,1,1,1,0]])"
   ]
  },
  {
   "cell_type": "code",
   "execution_count": 5,
   "metadata": {},
   "outputs": [],
   "source": [
    "U, Sigma, V = np.linalg.svd(X, full_matrices=False)"
   ]
  },
  {
   "cell_type": "code",
   "execution_count": 6,
   "metadata": {},
   "outputs": [
    {
     "data": {
      "text/plain": [
       "array([[2.75726275, 0.        ],\n",
       "       [0.        , 2.678248  ]])"
      ]
     },
     "execution_count": 6,
     "metadata": {},
     "output_type": "execute_result"
    }
   ],
   "source": [
    "_Sigma = np.diag(Sigma[:2])\n",
    "_Sigma"
   ]
  },
  {
   "cell_type": "code",
   "execution_count": 8,
   "metadata": {},
   "outputs": [
    {
     "name": "stdout",
     "output_type": "stream",
     "text": [
      "I [-1.44515015 -1.53425886]\n",
      "like [-1.63902195  1.68761941]\n",
      "enjoy [-0.70661477  0.73388691]\n",
      "deep [-0.78757738 -0.66397017]\n",
      "learning [-0.53253583  0.09065737]\n",
      "NLP [-0.8413365  -0.78737543]\n",
      "flying [-0.50317243 -0.4312723 ]\n",
      ". [-0.68076383  0.42116725]\n"
     ]
    },
    {
     "data": {
      "image/png": "[encoded data removed]",
      "text/plain": [
       "<Figure size 432x288 with 1 Axes>"
      ]
     },
     "metadata": {
      "needs_background": "light"
     },
     "output_type": "display_data"
    }
   ],
   "source": [
    "import matplotlib.pyplot as plt\n",
    "\n",
    "US = U[:,:2].dot(_Sigma)\n",
    "SV = _Sigma.dot(V[:2])\n",
    "\n",
    "for t, _repr in zip(words, US):\n",
    "    print(t, _repr)\n",
    "    plt.text(_repr[0], _repr[1],t)\n",
    "plt.xlim(US[:,0].min(), US[:,0].max())\n",
    "plt.ylim(US[:,1].min(), US[:,1].max())\n",
    "plt.show()"
   ]
  },
  {
   "cell_type": "code",
   "execution_count": 11,
   "metadata": {},
   "outputs": [
    {
     "data": {
      "text/plain": [
       "((8, 2), (2,))"
      ]
     },
     "execution_count": 11,
     "metadata": {},
     "output_type": "execute_result"
    }
   ],
   "source": [
    "query = US[words.index('deep')]\n",
    "US.shape, query.shape"
   ]
  },
  {
   "cell_type": "code",
   "execution_count": 12,
   "metadata": {},
   "outputs": [
    {
     "name": "stdout",
     "output_type": "stream",
     "text": [
      "I 1.0907815298565635\n",
      "like 2.50098608415167\n",
      "enjoy 1.400199757357459\n",
      "deep 0.0\n",
      "learning 0.7965606768052841\n",
      "NLP 0.1346064624142894\n",
      "flying 0.3674703765181284\n",
      ". 1.0903817475676907\n"
     ]
    }
   ],
   "source": [
    "result = np.linalg.norm(US - np.repeat(query, len(words)).reshape(2, -1).T, axis=1)\n",
    "\n",
    "for dist,w in zip(result, words):\n",
    "    print(w, dist)"
   ]
  },
  {
   "cell_type": "code",
   "execution_count": 13,
   "metadata": {},
   "outputs": [
    {
     "name": "stdout",
     "output_type": "stream",
     "text": [
      "I 1.0907815298565635\n",
      "like 2.50098608415167\n",
      "enjoy 1.400199757357459\n",
      "learning 0.7965606768052841\n",
      "NLP 0.1346064624142894\n",
      "flying 0.3674703765181284\n",
      ". 1.0903817475676907\n"
     ]
    },
    {
     "data": {
      "text/plain": [
       "('deep', 0.0)"
      ]
     },
     "execution_count": 13,
     "metadata": {},
     "output_type": "execute_result"
    }
   ],
   "source": [
    "queryMat = np.repeat(query, len(words), axis=0).reshape(-1, 8).T\n",
    "\n",
    "for t, dist in zip(words, np.linalg.norm(US-queryMat, axis=1)):\n",
    "    if t != 'deep':\n",
    "        print(t,dist)\n",
    "\n",
    "sorted({t:dist for t, dist in \n",
    "        zip(words, np.linalg.norm(US-queryMat, axis=1))}.\\\n",
    "       items(), key=lambda x:x[1])[0]"
   ]
  },
  {
   "cell_type": "code",
   "execution_count": 16,
   "metadata": {},
   "outputs": [],
   "source": [
    "documents = [\n",
    "    'king is a strong man',\n",
    "    'queen is a wise woman',\n",
    "    'boy is a young man',\n",
    "    'girl is a young woman',\n",
    "    'prince is a young king',\n",
    "    'princess is a young queen',\n",
    "    'man is strong',\n",
    "    'woman is pretty',\n",
    "    'prince is a boy will be king',\n",
    "    'princess is a girl will be queen'\n",
    "]\n",
    "\n",
    "stopwords = ['is', 'a', 'will', 'be']"
   ]
  },
  {
   "cell_type": "code",
   "execution_count": 17,
   "metadata": {},
   "outputs": [],
   "source": [
    "vocabulary = list()\n",
    "_documents = list()\n",
    "\n",
    "for document in documents:\n",
    "    termList = list()\n",
    "    for term in document.lower().split():\n",
    "        if term not in stopwords:\n",
    "            termList.append(term)\n",
    "            vocabulary.append(term)\n",
    "    _documents.append(termList)\n",
    "vocabulary = list(set(vocabulary))"
   ]
  },
  {
   "cell_type": "code",
   "execution_count": 18,
   "metadata": {},
   "outputs": [
    {
     "data": {
      "text/plain": [
       "(12,\n",
       " (12, 12),\n",
       " [['king', 'strong', 'man'],\n",
       "  ['queen', 'wise', 'woman'],\n",
       "  ['boy', 'young', 'man'],\n",
       "  ['girl', 'young', 'woman'],\n",
       "  ['prince', 'young', 'king'],\n",
       "  ['princess', 'young', 'queen'],\n",
       "  ['man', 'strong'],\n",
       "  ['woman', 'pretty'],\n",
       "  ['prince', 'boy', 'king'],\n",
       "  ['princess', 'girl', 'queen']])"
      ]
     },
     "execution_count": 18,
     "metadata": {},
     "output_type": "execute_result"
    }
   ],
   "source": [
    "len(vocabulary), (12, 12), _documents"
   ]
  },
  {
   "cell_type": "code",
   "execution_count": 19,
   "metadata": {},
   "outputs": [],
   "source": [
    "V = len(vocabulary)\n",
    "X = np.zeros((V, V))"
   ]
  },
  {
   "cell_type": "code",
   "execution_count": 20,
   "metadata": {},
   "outputs": [],
   "source": [
    "K = 1\n",
    "for document in _documents:\n",
    "    for v in range(len(document) - K):\n",
    "        i = vocabulary.index(document[v])\n",
    "        j = vocabulary.index(document[v+K])\n",
    "        X[i][j] += 1\n",
    "        X[j][i] += 1\n"
   ]
  },
  {
   "cell_type": "code",
   "execution_count": 21,
   "metadata": {},
   "outputs": [
    {
     "data": {
      "text/html": [
       "<div>\n",
       "<style scoped>\n",
       "    .dataframe tbody tr th:only-of-type {\n",
       "        vertical-align: middle;\n",
       "    }\n",
       "\n",
       "    .dataframe tbody tr th {\n",
       "        vertical-align: top;\n",
       "    }\n",
       "\n",
       "    .dataframe thead th {\n",
       "        text-align: right;\n",
       "    }\n",
       "</style>\n",
       "<table border=\"1\" class=\"dataframe\">\n",
       "  <thead>\n",
       "    <tr style=\"text-align: right;\">\n",
       "      <th></th>\n",
       "      <th>woman</th>\n",
       "      <th>strong</th>\n",
       "      <th>princess</th>\n",
       "      <th>girl</th>\n",
       "      <th>queen</th>\n",
       "      <th>king</th>\n",
       "      <th>pretty</th>\n",
       "      <th>wise</th>\n",
       "      <th>prince</th>\n",
       "      <th>man</th>\n",
       "      <th>young</th>\n",
       "      <th>boy</th>\n",
       "    </tr>\n",
       "  </thead>\n",
       "  <tbody>\n",
       "    <tr>\n",
       "      <th>woman</th>\n",
       "      <td>0</td>\n",
       "      <td>0</td>\n",
       "      <td>0</td>\n",
       "      <td>0</td>\n",
       "      <td>0</td>\n",
       "      <td>0</td>\n",
       "      <td>1</td>\n",
       "      <td>1</td>\n",
       "      <td>0</td>\n",
       "      <td>0</td>\n",
       "      <td>1</td>\n",
       "      <td>0</td>\n",
       "    </tr>\n",
       "    <tr>\n",
       "      <th>strong</th>\n",
       "      <td>0</td>\n",
       "      <td>0</td>\n",
       "      <td>0</td>\n",
       "      <td>0</td>\n",
       "      <td>0</td>\n",
       "      <td>1</td>\n",
       "      <td>0</td>\n",
       "      <td>0</td>\n",
       "      <td>0</td>\n",
       "      <td>2</td>\n",
       "      <td>0</td>\n",
       "      <td>0</td>\n",
       "    </tr>\n",
       "    <tr>\n",
       "      <th>princess</th>\n",
       "      <td>0</td>\n",
       "      <td>0</td>\n",
       "      <td>0</td>\n",
       "      <td>1</td>\n",
       "      <td>0</td>\n",
       "      <td>0</td>\n",
       "      <td>0</td>\n",
       "      <td>0</td>\n",
       "      <td>0</td>\n",
       "      <td>0</td>\n",
       "      <td>1</td>\n",
       "      <td>0</td>\n",
       "    </tr>\n",
       "    <tr>\n",
       "      <th>girl</th>\n",
       "      <td>0</td>\n",
       "      <td>0</td>\n",
       "      <td>1</td>\n",
       "      <td>0</td>\n",
       "      <td>1</td>\n",
       "      <td>0</td>\n",
       "      <td>0</td>\n",
       "      <td>0</td>\n",
       "      <td>0</td>\n",
       "      <td>0</td>\n",
       "      <td>1</td>\n",
       "      <td>0</td>\n",
       "    </tr>\n",
       "    <tr>\n",
       "      <th>queen</th>\n",
       "      <td>0</td>\n",
       "      <td>0</td>\n",
       "      <td>0</td>\n",
       "      <td>1</td>\n",
       "      <td>0</td>\n",
       "      <td>0</td>\n",
       "      <td>0</td>\n",
       "      <td>1</td>\n",
       "      <td>0</td>\n",
       "      <td>0</td>\n",
       "      <td>1</td>\n",
       "      <td>0</td>\n",
       "    </tr>\n",
       "    <tr>\n",
       "      <th>king</th>\n",
       "      <td>0</td>\n",
       "      <td>1</td>\n",
       "      <td>0</td>\n",
       "      <td>0</td>\n",
       "      <td>0</td>\n",
       "      <td>0</td>\n",
       "      <td>0</td>\n",
       "      <td>0</td>\n",
       "      <td>0</td>\n",
       "      <td>0</td>\n",
       "      <td>1</td>\n",
       "      <td>1</td>\n",
       "    </tr>\n",
       "    <tr>\n",
       "      <th>pretty</th>\n",
       "      <td>1</td>\n",
       "      <td>0</td>\n",
       "      <td>0</td>\n",
       "      <td>0</td>\n",
       "      <td>0</td>\n",
       "      <td>0</td>\n",
       "      <td>0</td>\n",
       "      <td>0</td>\n",
       "      <td>0</td>\n",
       "      <td>0</td>\n",
       "      <td>0</td>\n",
       "      <td>0</td>\n",
       "    </tr>\n",
       "    <tr>\n",
       "      <th>wise</th>\n",
       "      <td>1</td>\n",
       "      <td>0</td>\n",
       "      <td>0</td>\n",
       "      <td>0</td>\n",
       "      <td>1</td>\n",
       "      <td>0</td>\n",
       "      <td>0</td>\n",
       "      <td>0</td>\n",
       "      <td>0</td>\n",
       "      <td>0</td>\n",
       "      <td>0</td>\n",
       "      <td>0</td>\n",
       "    </tr>\n",
       "    <tr>\n",
       "      <th>prince</th>\n",
       "      <td>0</td>\n",
       "      <td>0</td>\n",
       "      <td>0</td>\n",
       "      <td>0</td>\n",
       "      <td>0</td>\n",
       "      <td>0</td>\n",
       "      <td>0</td>\n",
       "      <td>0</td>\n",
       "      <td>0</td>\n",
       "      <td>0</td>\n",
       "      <td>1</td>\n",
       "      <td>1</td>\n",
       "    </tr>\n",
       "    <tr>\n",
       "      <th>man</th>\n",
       "      <td>0</td>\n",
       "      <td>2</td>\n",
       "      <td>0</td>\n",
       "      <td>0</td>\n",
       "      <td>0</td>\n",
       "      <td>0</td>\n",
       "      <td>0</td>\n",
       "      <td>0</td>\n",
       "      <td>0</td>\n",
       "      <td>0</td>\n",
       "      <td>1</td>\n",
       "      <td>0</td>\n",
       "    </tr>\n",
       "    <tr>\n",
       "      <th>young</th>\n",
       "      <td>1</td>\n",
       "      <td>0</td>\n",
       "      <td>1</td>\n",
       "      <td>1</td>\n",
       "      <td>1</td>\n",
       "      <td>1</td>\n",
       "      <td>0</td>\n",
       "      <td>0</td>\n",
       "      <td>1</td>\n",
       "      <td>1</td>\n",
       "      <td>0</td>\n",
       "      <td>1</td>\n",
       "    </tr>\n",
       "    <tr>\n",
       "      <th>boy</th>\n",
       "      <td>0</td>\n",
       "      <td>0</td>\n",
       "      <td>0</td>\n",
       "      <td>0</td>\n",
       "      <td>0</td>\n",
       "      <td>1</td>\n",
       "      <td>0</td>\n",
       "      <td>0</td>\n",
       "      <td>1</td>\n",
       "      <td>0</td>\n",
       "      <td>1</td>\n",
       "      <td>0</td>\n",
       "    </tr>\n",
       "  </tbody>\n",
       "</table>\n",
       "</div>"
      ],
      "text/plain": [
       "          woman  strong  princess  girl  queen  king  pretty  wise  prince  \\\n",
       "woman         0       0         0     0      0     0       1     1       0   \n",
       "strong        0       0         0     0      0     1       0     0       0   \n",
       "princess      0       0         0     1      0     0       0     0       0   \n",
       "girl          0       0         1     0      1     0       0     0       0   \n",
       "queen         0       0         0     1      0     0       0     1       0   \n",
       "king          0       1         0     0      0     0       0     0       0   \n",
       "pretty        1       0         0     0      0     0       0     0       0   \n",
       "wise          1       0         0     0      1     0       0     0       0   \n",
       "prince        0       0         0     0      0     0       0     0       0   \n",
       "man           0       2         0     0      0     0       0     0       0   \n",
       "young         1       0         1     1      1     1       0     0       1   \n",
       "boy           0       0         0     0      0     1       0     0       1   \n",
       "\n",
       "          man  young  boy  \n",
       "woman       0      1    0  \n",
       "strong      2      0    0  \n",
       "princess    0      1    0  \n",
       "girl        0      1    0  \n",
       "queen       0      1    0  \n",
       "king        0      1    1  \n",
       "pretty      0      0    0  \n",
       "wise        0      0    0  \n",
       "prince      0      1    1  \n",
       "man         0      1    0  \n",
       "young       1      0    1  \n",
       "boy         0      1    0  "
      ]
     },
     "execution_count": 21,
     "metadata": {},
     "output_type": "execute_result"
    }
   ],
   "source": [
    "import pandas as pd\n",
    "\n",
    "pd.DataFrame(X, index=vocabulary, \n",
    "             columns=vocabulary, dtype=int)"
   ]
  },
  {
   "cell_type": "code",
   "execution_count": 22,
   "metadata": {},
   "outputs": [],
   "source": [
    "U, Sigma, V = np.linalg.svd(X, full_matrices=False)"
   ]
  },
  {
   "cell_type": "code",
   "execution_count": 23,
   "metadata": {},
   "outputs": [
    {
     "data": {
      "text/plain": [
       "array([[3.69381462, 0.        ],\n",
       "       [0.        , 3.01139938]])"
      ]
     },
     "execution_count": 23,
     "metadata": {},
     "output_type": "execute_result"
    }
   ],
   "source": [
    "_Sigma = np.diag(Sigma[:2])\n",
    "_Sigma"
   ]
  },
  {
   "cell_type": "code",
   "execution_count": 24,
   "metadata": {},
   "outputs": [],
   "source": [
    "US = U[:,:2].dot(_Sigma)\n",
    "SV = _Sigma.dot(V[:2])"
   ]
  },
  {
   "cell_type": "code",
   "execution_count": 25,
   "metadata": {},
   "outputs": [
    {
     "name": "stdout",
     "output_type": "stream",
     "text": [
      "woman [-0.76778117 -0.81011387]\n",
      "strong [-0.87555418  1.22298025]\n",
      "princess [-0.87691625 -0.50135907]\n",
      "girl [-1.09145195 -0.17128992]\n",
      "queen [-1.00699081 -0.6639009 ]\n",
      "king [-1.12313423 -0.9419351 ]\n",
      "pretty [-0.2078559   0.26901575]\n",
      "wise [-0.48047132  0.48947834]\n",
      "prince [-0.88610171 -0.53581818]\n",
      "man [-1.05550031 -1.37047342]\n",
      "young [-2.14771411  1.68108232]\n",
      "boy [-1.12538134 -0.06751978]\n"
     ]
    },
    {
     "data": {
      "image/png": "[encoded data removed]",
      "text/plain": [
       "<Figure size 432x288 with 1 Axes>"
      ]
     },
     "metadata": {
      "needs_background": "light"
     },
     "output_type": "display_data"
    }
   ],
   "source": [
    "prince = US[vocabulary.index('prince')]\n",
    "boy = US[vocabulary.index('boy')]\n",
    "girl = US[vocabulary.index('girl')]\n",
    "\n",
    "query = prince - boy + girl\n",
    "\n",
    "result = np.linalg.norm(US - np.repeat(query, len(vocabulary)).reshape(2, -1).T, axis=1)\n",
    "\n",
    "for t, point in zip(vocabulary, US):\n",
    "    plt.text(point[0], point[1], t, color='k')\n",
    "    print(t, point)\n",
    "    \n",
    "plt.text(query[0], query[1], '*', color='r')    \n",
    "plt.xlim(-2.2, .0)\n",
    "plt.ylim(-1.5, 1.8)\n",
    "plt.show()"
   ]
  },
  {
   "cell_type": "code",
   "execution_count": 26,
   "metadata": {},
   "outputs": [
    {
     "name": "stdout",
     "output_type": "stream",
     "text": [
      "woman 0.190265161275482\n",
      "strong 1.8627153168575024\n",
      "princess 0.14042643920783432\n",
      "queen 0.15671587984851987\n",
      "king 0.405997459665809\n",
      "pretty 1.1138693793791234\n",
      "wise 1.188677055870588\n",
      "man 0.7586404384776873\n",
      "young 2.6578075027492596\n"
     ]
    }
   ],
   "source": [
    "V = len(vocabulary)\n",
    "queryMat = np.repeat(query, V, axis=0).reshape(-1, V).T\n",
    "\n",
    "for t, dist in zip(vocabulary,\n",
    "                np.linalg.norm(US-queryMat, axis=1)):\n",
    "    if t not in ['prince', 'boy', 'girl']:\n",
    "        print(t, dist)"
   ]
  },
  {
   "cell_type": "code",
   "execution_count": 27,
   "metadata": {},
   "outputs": [
    {
     "data": {
      "text/plain": [
       "array([1., 0., 0., 0., 0., 0., 0., 0., 0., 0., 0., 0.])"
      ]
     },
     "execution_count": 27,
     "metadata": {},
     "output_type": "execute_result"
    }
   ],
   "source": [
    "onehot = np.diag(np.ones(V))\n",
    "onehot[0]"
   ]
  },
  {
   "cell_type": "code",
   "execution_count": 28,
   "metadata": {},
   "outputs": [],
   "source": [
    "word2idx = lambda t:vocabulary.index(t)\n",
    "idx2word = lambda i:vocabulary.index[i]\n",
    "idx2vec = lambda i:onehot[i]"
   ]
  },
  {
   "cell_type": "code",
   "execution_count": 29,
   "metadata": {},
   "outputs": [
    {
     "data": {
      "text/plain": [
       "(9, array([0., 0., 0., 0., 0., 0., 0., 0., 0., 1., 0., 0.]))"
      ]
     },
     "execution_count": 29,
     "metadata": {},
     "output_type": "execute_result"
    }
   ],
   "source": [
    "word2idx('man'), idx2vec(word2idx('man'))"
   ]
  },
  {
   "cell_type": "code",
   "execution_count": 30,
   "metadata": {},
   "outputs": [],
   "source": [
    "def getPair(D, W=2):\n",
    "    pairList = list()\n",
    "    for termList in D:\n",
    "        for i in range(len(termList)):\n",
    "            s = i - W\n",
    "            e = i + W + 1\n",
    "            for j in range(s,e):\n",
    "                if -1 < j < len(termList) and j != i:\n",
    "                    pairList.append((termList[j], termList[i]))\n",
    "    return pairList"
   ]
  },
  {
   "cell_type": "code",
   "execution_count": 31,
   "metadata": {},
   "outputs": [
    {
     "data": {
      "text/plain": [
       "['king', 'strong', 'man']"
      ]
     },
     "execution_count": 31,
     "metadata": {},
     "output_type": "execute_result"
    }
   ],
   "source": [
    "_documents[0]"
   ]
  },
  {
   "cell_type": "code",
   "execution_count": 32,
   "metadata": {},
   "outputs": [],
   "source": [
    "inputList = list()\n",
    "outputList = list()\n",
    "\n",
    "for pair in getPair(_documents, 2):\n",
    "    inputList.append(idx2vec(word2idx(pair[0])))\n",
    "    outputList.append(idx2vec(word2idx(pair[1])))"
   ]
  },
  {
   "cell_type": "code",
   "execution_count": 33,
   "metadata": {},
   "outputs": [
    {
     "data": {
      "text/plain": [
       "(52, 52)"
      ]
     },
     "execution_count": 33,
     "metadata": {},
     "output_type": "execute_result"
    }
   ],
   "source": [
    "len(inputList), len(outputList)"
   ]
  },
  {
   "cell_type": "code",
   "execution_count": 34,
   "metadata": {},
   "outputs": [
    {
     "data": {
      "text/plain": [
       "(52, 12)"
      ]
     },
     "execution_count": 34,
     "metadata": {},
     "output_type": "execute_result"
    }
   ],
   "source": [
    "np.array(inputList).shape"
   ]
  },
  {
   "cell_type": "code",
   "execution_count": null,
   "metadata": {},
   "outputs": [],
   "source": []
  }
 ],
 "metadata": {
  "kernelspec": {
   "display_name": "Python 3",
   "language": "python",
   "name": "python3"
  },
  "language_info": {
   "codemirror_mode": {
    "name": "ipython",
    "version": 3
   },
   "file_extension": ".py",
   "mimetype": "text/x-python",
   "name": "python",
   "nbconvert_exporter": "python",
   "pygments_lexer": "ipython3",
   "version": "3.6.6"
  }
 },
 "nbformat": 4,
 "nbformat_minor": 2
}
