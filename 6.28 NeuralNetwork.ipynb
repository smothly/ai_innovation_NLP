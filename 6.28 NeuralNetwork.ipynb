{
 "cells": [
  {
   "cell_type": "code",
   "execution_count": 1,
   "metadata": {},
   "outputs": [],
   "source": [
    "import tensorflow as tf"
   ]
  },
  {
   "cell_type": "code",
   "execution_count": null,
   "metadata": {},
   "outputs": [],
   "source": [
    "voca"
   ]
  },
  {
   "cell_type": "code",
   "execution_count": null,
   "metadata": {},
   "outputs": [],
   "source": [
    "DIM = 2\n",
    "V = len(Vocabulary)\n",
    "\n",
    "inputNodes = tf.placeholder(tf.float32, (None, V))\n",
    "ouputNodes = tf.placeholder(tf.float32, (None, V))\n",
    "\n",
    "weight1 = tf.Variable(tf.random_normal([V, DIM]))\n",
    "bias1 = tf.Variable(tf.random_normal([DIM]))\n",
    "\n",
    "hiddenLayer = tf.add(tf.matmul(inputNodes, wright1), bias1)\n",
    "\n",
    "weight2 = tf.Variable(tf.random_normal([DIM, V]))\n",
    "bias2 = tf.Variable(tf.random_normal([V]))\n",
    "\n",
    "outputLayer = tf.add(tf.matmul(hiddenLayer, weight2), bias2) \n",
    "softmaxLayer = tf.nn.softmax(outputLayer)\n",
    "\n",
    "loss = tf.reduce_mean(\n",
    "tf.reduce_sum(outputNodes * tf.log(softmaxLayer)),\n",
    "axis = 1\n",
    ")\n",
    "\n",
    "optimizer = tf.train.GradientDescentOptimizer(0.01).minimize(loss)"
   ]
  },
  {
   "cell_type": "code",
   "execution_count": null,
   "metadata": {},
   "outputs": [],
   "source": [
    "session = tf.Session()\n",
    "# 변수 초기화\n",
    "session.run(tf.global_variables_initializer())\n",
    "#\n",
    "for _ in range(100000):\n",
    "    session.run(optimizer, feed_dict={\n",
    "        inputNodes:inputVector, outputNodes:outputVector\n",
    "    })\n",
    "    if _%1000 == 0:\n",
    "        print(session.run(loss, feed_dict={\n",
    "            inputNodes:inputVector, outputNodes:outputVector\n",
    "        }))"
   ]
  },
  {
   "cell_type": "code",
   "execution_count": null,
   "metadata": {},
   "outputs": [],
   "source": [
    "embedding = session.run(weight1)\n",
    "\n",
    "for t, point in zip(Vocabulary, session.run(weidht1)):\n",
    "    print(t, point)\n",
    "    plt.text(point[0], point[1], t)\n",
    "plt.xlim(embedding[:, 0].min(), embedding[:, 0].max())\n",
    "plt.ylim(embedding[:, 1].min(), embedding[:, 1].max())\n",
    "plt.show()"
   ]
  },
  {
   "cell_type": "code",
   "execution_count": null,
   "metadata": {},
   "outputs": [],
   "source": [
    "embedding = session.run(weight2)\n",
    "\n",
    "for t, point in zip(Vocabulary, session.run(weidht1)):\n",
    "    print(t, point)\n",
    "    plt.text(point[0], point[1], t)\n",
    "plt.xlim(embedding[:, 0].min(), embedding[:, 0].max())\n",
    "plt.ylim(embedding[:, 1].min(), embedding[:, 1].max())\n",
    "plt.show()"
   ]
  },
  {
   "cell_type": "code",
   "execution_count": null,
   "metadata": {},
   "outputs": [],
   "source": []
  },
  {
   "cell_type": "code",
   "execution_count": null,
   "metadata": {},
   "outputs": [],
   "source": []
  },
  {
   "cell_type": "code",
   "execution_count": null,
   "metadata": {},
   "outputs": [],
   "source": []
  },
  {
   "cell_type": "code",
   "execution_count": null,
   "metadata": {},
   "outputs": [],
   "source": []
  },
  {
   "cell_type": "code",
   "execution_count": null,
   "metadata": {},
   "outputs": [],
   "source": [
    "from tensorflow.keras.models import Sequential\n",
    "from tensorflow.keras.layers import *\n",
    "\n",
    "ANN = Sequential()\n",
    "ANN.add(Dense(DIM, input_dim=V))\n",
    "ANN.add(Dense(V, activation=\"softmax\"))\n",
    "ANN.compile(loss=\"categorical_crossentropy\",\n",
    "            optimizer=\"adam\", metrics=[\"accuracy\"])"
   ]
  },
  {
   "cell_type": "code",
   "execution_count": null,
   "metadata": {},
   "outputs": [],
   "source": [
    "ANN.fit(inputVector, outputVector, epochs=1000, batch_size = 100)"
   ]
  }
 ],
 "metadata": {
  "kernelspec": {
   "display_name": "Python 3",
   "language": "python",
   "name": "python3"
  },
  "language_info": {
   "codemirror_mode": {
    "name": "ipython",
    "version": 3
   },
   "file_extension": ".py",
   "mimetype": "text/x-python",
   "name": "python",
   "nbconvert_exporter": "python",
   "pygments_lexer": "ipython3",
   "version": "3.6.6"
  }
 },
 "nbformat": 4,
 "nbformat_minor": 2
}
