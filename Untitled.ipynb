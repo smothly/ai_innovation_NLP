{
 "cells": [
  {
   "cell_type": "code",
   "execution_count": 3,
   "metadata": {},
   "outputs": [],
   "source": [
    "import pandas as pd\n",
    "\n",
    "reviews = pd.read_csv(\"./reviewData.csv\", header=None, names=[\"title\", \"point\", \"review\"], encoding=\"cp949\")\n",
    "reviews = reviews[reviews[\"review\"].notnull()]\n",
    "reviews = reviews.drop_duplicates()"
   ]
  },
  {
   "cell_type": "code",
   "execution_count": 4,
   "metadata": {},
   "outputs": [],
   "source": [
    "from konlpy.tag import Komoran\n",
    "\n",
    "ma = Komoran()\n",
    "documents = list()\n",
    "\n",
    "for review in reviews[\"review\"]:\n",
    "    documents.append([pos[0] for pos in ma.pos(review) if len(pos[0]) > 1 and pos[1] in [\"NNG\", \"NNP\"]])"
   ]
  },
  {
   "cell_type": "code",
   "execution_count": 5,
   "metadata": {},
   "outputs": [],
   "source": [
    "from random import randrange\n",
    "\n",
    "a = 0.1\n",
    "b = 0.1\n",
    "K = 5\n",
    "\n",
    "docTermTopicMat = list()\n",
    "Vocabulary = list()\n",
    "\n",
    "for doc in documents:\n",
    "    termTopic = list()\n",
    "    \n",
    "    for term in doc:\n",
    "        termTopic.append([term, randrange(K)])\n",
    "        Vocabulary.append(term)\n",
    "        \n",
    "    docTermTopicMat.append(termTopic)\n",
    "    \n",
    "Vocabulary = list(set(Vocabulary))\n",
    "\n",
    "M = len(docTermTopicMat)\n",
    "N = len(Vocabulary)"
   ]
  },
  {
   "cell_type": "code",
   "execution_count": 6,
   "metadata": {},
   "outputs": [],
   "source": [
    "from collections import defaultdict\n",
    "\n",
    "topicTermMatrix = defaultdict(lambda:defaultdict(int))\n",
    "docTopicMatrix = defaultdict(lambda:defaultdict(int))\n",
    "topicCount = defaultdict(int)\n",
    "\n",
    "for i, termTopic in enumerate(docTermTopicMat):\n",
    "    for row in termTopic:\n",
    "        topicTermMatrix[row[1]][row[0]] += 1\n",
    "        docTopicMatrix[i][row[1]] += 1\n",
    "        topicCount[row[1]] += 1"
   ]
  },
  {
   "cell_type": "code",
   "execution_count": 7,
   "metadata": {},
   "outputs": [],
   "source": [
    "from random import random, choices\n",
    "\n",
    "def topicLikelihood(k, l):\n",
    "    return (topicTermMatrix[k][l] + b) / (topicCount[k] + (b*N))#(sum(topicTermMatrix[k].values()) + (b*N))\n",
    "\n",
    "def docLikelihood(m, k):\n",
    "    return (docTopicMatrix[m][k] + a)\n",
    "\n",
    "def topicAssign(m, l):\n",
    "    probList = list()\n",
    "    for k in range(K):\n",
    "        probList.append(topicLikelihood(k, l) * docLikelihood(m, k))\n",
    "\n",
    "    return choices(range(K), probList, k=1)[0]"
   ]
  },
  {
   "cell_type": "code",
   "execution_count": null,
   "metadata": {},
   "outputs": [],
   "source": []
  }
 ],
 "metadata": {
  "kernelspec": {
   "display_name": "Python 3",
   "language": "python",
   "name": "python3"
  },
  "language_info": {
   "codemirror_mode": {
    "name": "ipython",
    "version": 3
   },
   "file_extension": ".py",
   "mimetype": "text/x-python",
   "name": "python",
   "nbconvert_exporter": "python",
   "pygments_lexer": "ipython3",
   "version": "3.6.6"
  }
 },
 "nbformat": 4,
 "nbformat_minor": 2
}
